{
 "cells": [
  {
   "cell_type": "markdown",
   "id": "3f82a4d9-36ac-4355-9dec-5fdccf60211c",
   "metadata": {},
   "source": [
    "# **LAB THREE: SELECTIVE EXCITATION**\n",
    "\n",
    "This lab covers..."
   ]
  },
  {
   "cell_type": "markdown",
   "id": "5c032817-f3ee-471a-ac42-fa95b2bf896a",
   "metadata": {},
   "source": [
    ">-------------------------------------------------------------------------------------------------------------------------------------------------------\n",
    "> #### **Setup Task: Run the Notebook**\n",
    "> \n",
    "> 1. Edit the cell below to set the `LAB_USER_NAME` variable to your name\n",
    "> 2. Click **Run->Run All Cells** in the in top menu bar of jupyterlab\n",
    "> 3. Open the Table of Contents side-bar on the left edge of jupyterlab to aid in navigation\n",
    "> \n",
    "> -------------------------------------------------------------------------------------------------------------------------------------------------------"
   ]
  },
  {
   "cell_type": "code",
   "execution_count": 6,
   "id": "16f05f60-40d9-4bec-8261-c48c94802a07",
   "metadata": {
    "tags": []
   },
   "outputs": [],
   "source": [
    "LAB_USER_NAME = 'Sharon'"
   ]
  },
  {
   "cell_type": "markdown",
   "id": "70b86f3b-239d-4b41-9233-498dbbc9f362",
   "metadata": {},
   "source": [
    "**Important**: To initialise this notebook, edit the cell above to set `LAB_USER_NAME` to your name, then click **Run->Run All Cells** in the top menu bar."
   ]
  },
  {
   "cell_type": "code",
   "execution_count": 7,
   "id": "179ea1b4-60c9-4514-8c4c-e78271824085",
   "metadata": {
    "jupyter": {
     "source_hidden": true
    },
    "tags": []
   },
   "outputs": [
    {
     "data": {
      "application/javascript": [
       "(function(root) {\n",
       "  function now() {\n",
       "    return new Date();\n",
       "  }\n",
       "\n",
       "  var force = true;\n",
       "\n",
       "  if (typeof root._bokeh_onload_callbacks === \"undefined\" || force === true) {\n",
       "    root._bokeh_onload_callbacks = [];\n",
       "    root._bokeh_is_loading = undefined;\n",
       "  }\n",
       "\n",
       "  if (typeof (root._bokeh_timeout) === \"undefined\" || force === true) {\n",
       "    root._bokeh_timeout = Date.now() + 5000;\n",
       "    root._bokeh_failed_load = false;\n",
       "  }\n",
       "\n",
       "  function run_callbacks() {\n",
       "    try {\n",
       "      root._bokeh_onload_callbacks.forEach(function(callback) {\n",
       "        if (callback != null)\n",
       "          callback();\n",
       "      });\n",
       "    } finally {\n",
       "      delete root._bokeh_onload_callbacks\n",
       "    }\n",
       "    console.debug(\"Bokeh: all callbacks have finished\");\n",
       "  }\n",
       "\n",
       "  function load_libs(css_urls, js_urls, js_modules, callback) {\n",
       "    if (css_urls == null) css_urls = [];\n",
       "    if (js_urls == null) js_urls = [];\n",
       "    if (js_modules == null) js_modules = [];\n",
       "\n",
       "    root._bokeh_onload_callbacks.push(callback);\n",
       "    if (root._bokeh_is_loading > 0) {\n",
       "      console.debug(\"Bokeh: BokehJS is being loaded, scheduling callback at\", now());\n",
       "      return null;\n",
       "    }\n",
       "    if (js_urls.length === 0 && js_modules.length === 0) {\n",
       "      run_callbacks();\n",
       "      return null;\n",
       "    }\n",
       "    console.debug(\"Bokeh: BokehJS not loaded, scheduling load and callback at\", now());\n",
       "\n",
       "    function on_load() {\n",
       "      root._bokeh_is_loading--;\n",
       "      if (root._bokeh_is_loading === 0) {\n",
       "        console.debug(\"Bokeh: all BokehJS libraries/stylesheets loaded\");\n",
       "        run_callbacks()\n",
       "      }\n",
       "    }\n",
       "\n",
       "    function on_error() {\n",
       "      console.error(\"failed to load \" + url);\n",
       "    }\n",
       "\n",
       "    for (var i = 0; i < css_urls.length; i++) {\n",
       "      var url = css_urls[i];\n",
       "      const element = document.createElement(\"link\");\n",
       "      element.onload = on_load;\n",
       "      element.onerror = on_error;\n",
       "      element.rel = \"stylesheet\";\n",
       "      element.type = \"text/css\";\n",
       "      element.href = url;\n",
       "      console.debug(\"Bokeh: injecting link tag for BokehJS stylesheet: \", url);\n",
       "      document.body.appendChild(element);\n",
       "    }\n",
       "\n",
       "    var skip = [];\n",
       "    if (window.requirejs) {\n",
       "      window.requirejs.config({'packages': {}, 'paths': {'gridstack': 'https://cdn.jsdelivr.net/npm/gridstack@4.2.5/dist/gridstack-h5', 'notyf': 'https://cdn.jsdelivr.net/npm/notyf@3/notyf.min'}, 'shim': {'gridstack': {'exports': 'GridStack'}}});\n",
       "      require([\"gridstack\"], function(GridStack) {\n",
       "\twindow.GridStack = GridStack\n",
       "\ton_load()\n",
       "      })\n",
       "      require([\"notyf\"], function() {\n",
       "\ton_load()\n",
       "      })\n",
       "      root._bokeh_is_loading = css_urls.length + 2;\n",
       "    } else {\n",
       "      root._bokeh_is_loading = css_urls.length + js_urls.length + js_modules.length;\n",
       "    }    if (((window['GridStack'] !== undefined) && (!(window['GridStack'] instanceof HTMLElement))) || window.requirejs) {\n",
       "      var urls = ['https://cdn.jsdelivr.net/npm/gridstack@4.2.5/dist/gridstack-h5.js'];\n",
       "      for (var i = 0; i < urls.length; i++) {\n",
       "        skip.push(urls[i])\n",
       "      }\n",
       "    }    if (((window['Notyf'] !== undefined) && (!(window['Notyf'] instanceof HTMLElement))) || window.requirejs) {\n",
       "      var urls = ['https://cdn.jsdelivr.net/npm/notyf@3/notyf.min.js'];\n",
       "      for (var i = 0; i < urls.length; i++) {\n",
       "        skip.push(urls[i])\n",
       "      }\n",
       "    }    for (var i = 0; i < js_urls.length; i++) {\n",
       "      var url = js_urls[i];\n",
       "      if (skip.indexOf(url) >= 0) {\n",
       "\tif (!window.requirejs) {\n",
       "\t  on_load();\n",
       "\t}\n",
       "\tcontinue;\n",
       "      }\n",
       "      var element = document.createElement('script');\n",
       "      element.onload = on_load;\n",
       "      element.onerror = on_error;\n",
       "      element.async = false;\n",
       "      element.src = url;\n",
       "      console.debug(\"Bokeh: injecting script tag for BokehJS library: \", url);\n",
       "      document.head.appendChild(element);\n",
       "    }\n",
       "    for (var i = 0; i < js_modules.length; i++) {\n",
       "      var url = js_modules[i];\n",
       "      if (skip.indexOf(url) >= 0) {\n",
       "\tif (!window.requirejs) {\n",
       "\t  on_load();\n",
       "\t}\n",
       "\tcontinue;\n",
       "      }\n",
       "      var element = document.createElement('script');\n",
       "      element.onload = on_load;\n",
       "      element.onerror = on_error;\n",
       "      element.async = false;\n",
       "      element.src = url;\n",
       "      element.type = \"module\";\n",
       "      console.debug(\"Bokeh: injecting script tag for BokehJS library: \", url);\n",
       "      document.head.appendChild(element);\n",
       "    }\n",
       "    if (!js_urls.length && !js_modules.length) {\n",
       "      on_load()\n",
       "    }\n",
       "  };\n",
       "\n",
       "  function inject_raw_css(css) {\n",
       "    const element = document.createElement(\"style\");\n",
       "    element.appendChild(document.createTextNode(css));\n",
       "    document.body.appendChild(element);\n",
       "  }\n",
       "\n",
       "  var js_urls = [\"https://cdn.bokeh.org/bokeh/release/bokeh-2.4.3.min.js\", \"https://cdn.bokeh.org/bokeh/release/bokeh-gl-2.4.3.min.js\", \"https://cdn.bokeh.org/bokeh/release/bokeh-widgets-2.4.3.min.js\", \"https://cdn.bokeh.org/bokeh/release/bokeh-tables-2.4.3.min.js\", \"https://cdn.bokeh.org/bokeh/release/bokeh-mathjax-2.4.3.min.js\", \"https://cdn.jsdelivr.net/npm/notyf@3/notyf.min.js\", \"https://unpkg.com/@holoviz/panel@0.13.1/dist/panel.min.js\"];\n",
       "  var js_modules = [];\n",
       "  var css_urls = [\"https://cdn.jsdelivr.net/npm/notyf@3/notyf.min.css\", \"https://cdnjs.cloudflare.com/ajax/libs/font-awesome/5.15.1/css/all.min.css\", \"https://unpkg.com/@holoviz/panel@0.13.1/dist/css/widgets.css\", \"https://unpkg.com/@holoviz/panel@0.13.1/dist/css/loading.css\", \"https://unpkg.com/@holoviz/panel@0.13.1/dist/css/markdown.css\", \"https://unpkg.com/@holoviz/panel@0.13.1/dist/css/alerts.css\", \"https://unpkg.com/@holoviz/panel@0.13.1/dist/css/json.css\", \"https://unpkg.com/@holoviz/panel@0.13.1/dist/css/dataframe.css\", \"https://unpkg.com/@holoviz/panel@0.13.1/dist/css/debugger.css\", \"https://unpkg.com/@holoviz/panel@0.13.1/dist/css/card.css\"];\n",
       "  var inline_js = [    function(Bokeh) {\n",
       "      inject_raw_css(\"\\n    .bk.pn-loading.arcs:before {\\n      background-image: url(\\\"data:image/svg+xml;base64,PHN2ZyB4bWxucz0iaHR0cDovL3d3dy53My5vcmcvMjAwMC9zdmciIHhtbG5zOnhsaW5rPSJodHRwOi8vd3d3LnczLm9yZy8xOTk5L3hsaW5rIiBzdHlsZT0ibWFyZ2luOiBhdXRvOyBiYWNrZ3JvdW5kOiBub25lOyBkaXNwbGF5OiBibG9jazsgc2hhcGUtcmVuZGVyaW5nOiBhdXRvOyIgdmlld0JveD0iMCAwIDEwMCAxMDAiIHByZXNlcnZlQXNwZWN0UmF0aW89InhNaWRZTWlkIj4gIDxjaXJjbGUgY3g9IjUwIiBjeT0iNTAiIHI9IjMyIiBzdHJva2Utd2lkdGg9IjgiIHN0cm9rZT0iI2MzYzNjMyIgc3Ryb2tlLWRhc2hhcnJheT0iNTAuMjY1NDgyNDU3NDM2NjkgNTAuMjY1NDgyNDU3NDM2NjkiIGZpbGw9Im5vbmUiIHN0cm9rZS1saW5lY2FwPSJyb3VuZCI+ICAgIDxhbmltYXRlVHJhbnNmb3JtIGF0dHJpYnV0ZU5hbWU9InRyYW5zZm9ybSIgdHlwZT0icm90YXRlIiByZXBlYXRDb3VudD0iaW5kZWZpbml0ZSIgZHVyPSIxcyIga2V5VGltZXM9IjA7MSIgdmFsdWVzPSIwIDUwIDUwOzM2MCA1MCA1MCI+PC9hbmltYXRlVHJhbnNmb3JtPiAgPC9jaXJjbGU+PC9zdmc+\\\");\\n      background-size: auto calc(min(50%, 400px));\\n    }\\n    \");\n",
       "    },    function(Bokeh) {\n",
       "      inject_raw_css(\"progress {margin: 0;}\");\n",
       "    },    function(Bokeh) {\n",
       "      inject_raw_css(\"progress {margin: 0;}\");\n",
       "    },    function(Bokeh) {\n",
       "      Bokeh.set_log_level(\"info\");\n",
       "    },\n",
       "function(Bokeh) {} // ensure no trailing comma for IE\n",
       "  ];\n",
       "\n",
       "  function run_inline_js() {\n",
       "    if ((root.Bokeh !== undefined) || (force === true)) {\n",
       "      for (var i = 0; i < inline_js.length; i++) {\n",
       "        inline_js[i].call(root, root.Bokeh);\n",
       "      }} else if (Date.now() < root._bokeh_timeout) {\n",
       "      setTimeout(run_inline_js, 100);\n",
       "    } else if (!root._bokeh_failed_load) {\n",
       "      console.log(\"Bokeh: BokehJS failed to load within specified timeout.\");\n",
       "      root._bokeh_failed_load = true;\n",
       "    }\n",
       "  }\n",
       "\n",
       "  if (root._bokeh_is_loading === 0) {\n",
       "    console.debug(\"Bokeh: BokehJS loaded, going straight to plotting\");\n",
       "    run_inline_js();\n",
       "  } else {\n",
       "    load_libs(css_urls, js_urls, js_modules, function() {\n",
       "      console.debug(\"Bokeh: BokehJS plotting callback run at\", now());\n",
       "      run_inline_js();\n",
       "    });\n",
       "  }\n",
       "}(window));"
      ],
      "application/vnd.holoviews_load.v0+json": "(function(root) {\n  function now() {\n    return new Date();\n  }\n\n  var force = true;\n\n  if (typeof root._bokeh_onload_callbacks === \"undefined\" || force === true) {\n    root._bokeh_onload_callbacks = [];\n    root._bokeh_is_loading = undefined;\n  }\n\n  if (typeof (root._bokeh_timeout) === \"undefined\" || force === true) {\n    root._bokeh_timeout = Date.now() + 5000;\n    root._bokeh_failed_load = false;\n  }\n\n  function run_callbacks() {\n    try {\n      root._bokeh_onload_callbacks.forEach(function(callback) {\n        if (callback != null)\n          callback();\n      });\n    } finally {\n      delete root._bokeh_onload_callbacks\n    }\n    console.debug(\"Bokeh: all callbacks have finished\");\n  }\n\n  function load_libs(css_urls, js_urls, js_modules, callback) {\n    if (css_urls == null) css_urls = [];\n    if (js_urls == null) js_urls = [];\n    if (js_modules == null) js_modules = [];\n\n    root._bokeh_onload_callbacks.push(callback);\n    if (root._bokeh_is_loading > 0) {\n      console.debug(\"Bokeh: BokehJS is being loaded, scheduling callback at\", now());\n      return null;\n    }\n    if (js_urls.length === 0 && js_modules.length === 0) {\n      run_callbacks();\n      return null;\n    }\n    console.debug(\"Bokeh: BokehJS not loaded, scheduling load and callback at\", now());\n\n    function on_load() {\n      root._bokeh_is_loading--;\n      if (root._bokeh_is_loading === 0) {\n        console.debug(\"Bokeh: all BokehJS libraries/stylesheets loaded\");\n        run_callbacks()\n      }\n    }\n\n    function on_error() {\n      console.error(\"failed to load \" + url);\n    }\n\n    for (var i = 0; i < css_urls.length; i++) {\n      var url = css_urls[i];\n      const element = document.createElement(\"link\");\n      element.onload = on_load;\n      element.onerror = on_error;\n      element.rel = \"stylesheet\";\n      element.type = \"text/css\";\n      element.href = url;\n      console.debug(\"Bokeh: injecting link tag for BokehJS stylesheet: \", url);\n      document.body.appendChild(element);\n    }\n\n    var skip = [];\n    if (window.requirejs) {\n      window.requirejs.config({'packages': {}, 'paths': {'gridstack': 'https://cdn.jsdelivr.net/npm/gridstack@4.2.5/dist/gridstack-h5', 'notyf': 'https://cdn.jsdelivr.net/npm/notyf@3/notyf.min'}, 'shim': {'gridstack': {'exports': 'GridStack'}}});\n      require([\"gridstack\"], function(GridStack) {\n\twindow.GridStack = GridStack\n\ton_load()\n      })\n      require([\"notyf\"], function() {\n\ton_load()\n      })\n      root._bokeh_is_loading = css_urls.length + 2;\n    } else {\n      root._bokeh_is_loading = css_urls.length + js_urls.length + js_modules.length;\n    }    if (((window['GridStack'] !== undefined) && (!(window['GridStack'] instanceof HTMLElement))) || window.requirejs) {\n      var urls = ['https://cdn.jsdelivr.net/npm/gridstack@4.2.5/dist/gridstack-h5.js'];\n      for (var i = 0; i < urls.length; i++) {\n        skip.push(urls[i])\n      }\n    }    if (((window['Notyf'] !== undefined) && (!(window['Notyf'] instanceof HTMLElement))) || window.requirejs) {\n      var urls = ['https://cdn.jsdelivr.net/npm/notyf@3/notyf.min.js'];\n      for (var i = 0; i < urls.length; i++) {\n        skip.push(urls[i])\n      }\n    }    for (var i = 0; i < js_urls.length; i++) {\n      var url = js_urls[i];\n      if (skip.indexOf(url) >= 0) {\n\tif (!window.requirejs) {\n\t  on_load();\n\t}\n\tcontinue;\n      }\n      var element = document.createElement('script');\n      element.onload = on_load;\n      element.onerror = on_error;\n      element.async = false;\n      element.src = url;\n      console.debug(\"Bokeh: injecting script tag for BokehJS library: \", url);\n      document.head.appendChild(element);\n    }\n    for (var i = 0; i < js_modules.length; i++) {\n      var url = js_modules[i];\n      if (skip.indexOf(url) >= 0) {\n\tif (!window.requirejs) {\n\t  on_load();\n\t}\n\tcontinue;\n      }\n      var element = document.createElement('script');\n      element.onload = on_load;\n      element.onerror = on_error;\n      element.async = false;\n      element.src = url;\n      element.type = \"module\";\n      console.debug(\"Bokeh: injecting script tag for BokehJS library: \", url);\n      document.head.appendChild(element);\n    }\n    if (!js_urls.length && !js_modules.length) {\n      on_load()\n    }\n  };\n\n  function inject_raw_css(css) {\n    const element = document.createElement(\"style\");\n    element.appendChild(document.createTextNode(css));\n    document.body.appendChild(element);\n  }\n\n  var js_urls = [\"https://cdn.bokeh.org/bokeh/release/bokeh-2.4.3.min.js\", \"https://cdn.bokeh.org/bokeh/release/bokeh-gl-2.4.3.min.js\", \"https://cdn.bokeh.org/bokeh/release/bokeh-widgets-2.4.3.min.js\", \"https://cdn.bokeh.org/bokeh/release/bokeh-tables-2.4.3.min.js\", \"https://cdn.bokeh.org/bokeh/release/bokeh-mathjax-2.4.3.min.js\", \"https://cdn.jsdelivr.net/npm/notyf@3/notyf.min.js\", \"https://unpkg.com/@holoviz/panel@0.13.1/dist/panel.min.js\"];\n  var js_modules = [];\n  var css_urls = [\"https://cdn.jsdelivr.net/npm/notyf@3/notyf.min.css\", \"https://cdnjs.cloudflare.com/ajax/libs/font-awesome/5.15.1/css/all.min.css\", \"https://unpkg.com/@holoviz/panel@0.13.1/dist/css/widgets.css\", \"https://unpkg.com/@holoviz/panel@0.13.1/dist/css/loading.css\", \"https://unpkg.com/@holoviz/panel@0.13.1/dist/css/markdown.css\", \"https://unpkg.com/@holoviz/panel@0.13.1/dist/css/alerts.css\", \"https://unpkg.com/@holoviz/panel@0.13.1/dist/css/json.css\", \"https://unpkg.com/@holoviz/panel@0.13.1/dist/css/dataframe.css\", \"https://unpkg.com/@holoviz/panel@0.13.1/dist/css/debugger.css\", \"https://unpkg.com/@holoviz/panel@0.13.1/dist/css/card.css\"];\n  var inline_js = [    function(Bokeh) {\n      inject_raw_css(\"\\n    .bk.pn-loading.arcs:before {\\n      background-image: url(\\\"data:image/svg+xml;base64,PHN2ZyB4bWxucz0iaHR0cDovL3d3dy53My5vcmcvMjAwMC9zdmciIHhtbG5zOnhsaW5rPSJodHRwOi8vd3d3LnczLm9yZy8xOTk5L3hsaW5rIiBzdHlsZT0ibWFyZ2luOiBhdXRvOyBiYWNrZ3JvdW5kOiBub25lOyBkaXNwbGF5OiBibG9jazsgc2hhcGUtcmVuZGVyaW5nOiBhdXRvOyIgdmlld0JveD0iMCAwIDEwMCAxMDAiIHByZXNlcnZlQXNwZWN0UmF0aW89InhNaWRZTWlkIj4gIDxjaXJjbGUgY3g9IjUwIiBjeT0iNTAiIHI9IjMyIiBzdHJva2Utd2lkdGg9IjgiIHN0cm9rZT0iI2MzYzNjMyIgc3Ryb2tlLWRhc2hhcnJheT0iNTAuMjY1NDgyNDU3NDM2NjkgNTAuMjY1NDgyNDU3NDM2NjkiIGZpbGw9Im5vbmUiIHN0cm9rZS1saW5lY2FwPSJyb3VuZCI+ICAgIDxhbmltYXRlVHJhbnNmb3JtIGF0dHJpYnV0ZU5hbWU9InRyYW5zZm9ybSIgdHlwZT0icm90YXRlIiByZXBlYXRDb3VudD0iaW5kZWZpbml0ZSIgZHVyPSIxcyIga2V5VGltZXM9IjA7MSIgdmFsdWVzPSIwIDUwIDUwOzM2MCA1MCA1MCI+PC9hbmltYXRlVHJhbnNmb3JtPiAgPC9jaXJjbGU+PC9zdmc+\\\");\\n      background-size: auto calc(min(50%, 400px));\\n    }\\n    \");\n    },    function(Bokeh) {\n      inject_raw_css(\"progress {margin: 0;}\");\n    },    function(Bokeh) {\n      inject_raw_css(\"progress {margin: 0;}\");\n    },    function(Bokeh) {\n      Bokeh.set_log_level(\"info\");\n    },\nfunction(Bokeh) {} // ensure no trailing comma for IE\n  ];\n\n  function run_inline_js() {\n    if ((root.Bokeh !== undefined) || (force === true)) {\n      for (var i = 0; i < inline_js.length; i++) {\n        inline_js[i].call(root, root.Bokeh);\n      }} else if (Date.now() < root._bokeh_timeout) {\n      setTimeout(run_inline_js, 100);\n    } else if (!root._bokeh_failed_load) {\n      console.log(\"Bokeh: BokehJS failed to load within specified timeout.\");\n      root._bokeh_failed_load = true;\n    }\n  }\n\n  if (root._bokeh_is_loading === 0) {\n    console.debug(\"Bokeh: BokehJS loaded, going straight to plotting\");\n    run_inline_js();\n  } else {\n    load_libs(css_urls, js_urls, js_modules, function() {\n      console.debug(\"Bokeh: BokehJS plotting callback run at\", now());\n      run_inline_js();\n    });\n  }\n}(window));"
     },
     "metadata": {},
     "output_type": "display_data"
    },
    {
     "data": {
      "application/javascript": [
       "\n",
       "if ((window.PyViz === undefined) || (window.PyViz instanceof HTMLElement)) {\n",
       "  window.PyViz = {comms: {}, comm_status:{}, kernels:{}, receivers: {}, plot_index: []}\n",
       "}\n",
       "\n",
       "\n",
       "    function JupyterCommManager() {\n",
       "    }\n",
       "\n",
       "    JupyterCommManager.prototype.register_target = function(plot_id, comm_id, msg_handler) {\n",
       "      if (window.comm_manager || ((window.Jupyter !== undefined) && (Jupyter.notebook.kernel != null))) {\n",
       "        var comm_manager = window.comm_manager || Jupyter.notebook.kernel.comm_manager;\n",
       "        comm_manager.register_target(comm_id, function(comm) {\n",
       "          comm.on_msg(msg_handler);\n",
       "        });\n",
       "      } else if ((plot_id in window.PyViz.kernels) && (window.PyViz.kernels[plot_id])) {\n",
       "        window.PyViz.kernels[plot_id].registerCommTarget(comm_id, function(comm) {\n",
       "          comm.onMsg = msg_handler;\n",
       "        });\n",
       "      } else if (typeof google != 'undefined' && google.colab.kernel != null) {\n",
       "        google.colab.kernel.comms.registerTarget(comm_id, (comm) => {\n",
       "          var messages = comm.messages[Symbol.asyncIterator]();\n",
       "          function processIteratorResult(result) {\n",
       "            var message = result.value;\n",
       "            console.log(message)\n",
       "            var content = {data: message.data, comm_id};\n",
       "            var buffers = []\n",
       "            for (var buffer of message.buffers || []) {\n",
       "              buffers.push(new DataView(buffer))\n",
       "            }\n",
       "            var metadata = message.metadata || {};\n",
       "            var msg = {content, buffers, metadata}\n",
       "            msg_handler(msg);\n",
       "            return messages.next().then(processIteratorResult);\n",
       "          }\n",
       "          return messages.next().then(processIteratorResult);\n",
       "        })\n",
       "      }\n",
       "    }\n",
       "\n",
       "    JupyterCommManager.prototype.get_client_comm = function(plot_id, comm_id, msg_handler) {\n",
       "      if (comm_id in window.PyViz.comms) {\n",
       "        return window.PyViz.comms[comm_id];\n",
       "      } else if (window.comm_manager || ((window.Jupyter !== undefined) && (Jupyter.notebook.kernel != null))) {\n",
       "        var comm_manager = window.comm_manager || Jupyter.notebook.kernel.comm_manager;\n",
       "        var comm = comm_manager.new_comm(comm_id, {}, {}, {}, comm_id);\n",
       "        if (msg_handler) {\n",
       "          comm.on_msg(msg_handler);\n",
       "        }\n",
       "      } else if ((plot_id in window.PyViz.kernels) && (window.PyViz.kernels[plot_id])) {\n",
       "        var comm = window.PyViz.kernels[plot_id].connectToComm(comm_id);\n",
       "        comm.open();\n",
       "        if (msg_handler) {\n",
       "          comm.onMsg = msg_handler;\n",
       "        }\n",
       "      } else if (typeof google != 'undefined' && google.colab.kernel != null) {\n",
       "        var comm_promise = google.colab.kernel.comms.open(comm_id)\n",
       "        comm_promise.then((comm) => {\n",
       "          window.PyViz.comms[comm_id] = comm;\n",
       "          if (msg_handler) {\n",
       "            var messages = comm.messages[Symbol.asyncIterator]();\n",
       "            function processIteratorResult(result) {\n",
       "              var message = result.value;\n",
       "              var content = {data: message.data};\n",
       "              var metadata = message.metadata || {comm_id};\n",
       "              var msg = {content, metadata}\n",
       "              msg_handler(msg);\n",
       "              return messages.next().then(processIteratorResult);\n",
       "            }\n",
       "            return messages.next().then(processIteratorResult);\n",
       "          }\n",
       "        }) \n",
       "        var sendClosure = (data, metadata, buffers, disposeOnDone) => {\n",
       "          return comm_promise.then((comm) => {\n",
       "            comm.send(data, metadata, buffers, disposeOnDone);\n",
       "          });\n",
       "        };\n",
       "        var comm = {\n",
       "          send: sendClosure\n",
       "        };\n",
       "      }\n",
       "      window.PyViz.comms[comm_id] = comm;\n",
       "      return comm;\n",
       "    }\n",
       "    window.PyViz.comm_manager = new JupyterCommManager();\n",
       "    \n",
       "\n",
       "\n",
       "var JS_MIME_TYPE = 'application/javascript';\n",
       "var HTML_MIME_TYPE = 'text/html';\n",
       "var EXEC_MIME_TYPE = 'application/vnd.holoviews_exec.v0+json';\n",
       "var CLASS_NAME = 'output';\n",
       "\n",
       "/**\n",
       " * Render data to the DOM node\n",
       " */\n",
       "function render(props, node) {\n",
       "  var div = document.createElement(\"div\");\n",
       "  var script = document.createElement(\"script\");\n",
       "  node.appendChild(div);\n",
       "  node.appendChild(script);\n",
       "}\n",
       "\n",
       "/**\n",
       " * Handle when a new output is added\n",
       " */\n",
       "function handle_add_output(event, handle) {\n",
       "  var output_area = handle.output_area;\n",
       "  var output = handle.output;\n",
       "  if ((output.data == undefined) || (!output.data.hasOwnProperty(EXEC_MIME_TYPE))) {\n",
       "    return\n",
       "  }\n",
       "  var id = output.metadata[EXEC_MIME_TYPE][\"id\"];\n",
       "  var toinsert = output_area.element.find(\".\" + CLASS_NAME.split(' ')[0]);\n",
       "  if (id !== undefined) {\n",
       "    var nchildren = toinsert.length;\n",
       "    var html_node = toinsert[nchildren-1].children[0];\n",
       "    html_node.innerHTML = output.data[HTML_MIME_TYPE];\n",
       "    var scripts = [];\n",
       "    var nodelist = html_node.querySelectorAll(\"script\");\n",
       "    for (var i in nodelist) {\n",
       "      if (nodelist.hasOwnProperty(i)) {\n",
       "        scripts.push(nodelist[i])\n",
       "      }\n",
       "    }\n",
       "\n",
       "    scripts.forEach( function (oldScript) {\n",
       "      var newScript = document.createElement(\"script\");\n",
       "      var attrs = [];\n",
       "      var nodemap = oldScript.attributes;\n",
       "      for (var j in nodemap) {\n",
       "        if (nodemap.hasOwnProperty(j)) {\n",
       "          attrs.push(nodemap[j])\n",
       "        }\n",
       "      }\n",
       "      attrs.forEach(function(attr) { newScript.setAttribute(attr.name, attr.value) });\n",
       "      newScript.appendChild(document.createTextNode(oldScript.innerHTML));\n",
       "      oldScript.parentNode.replaceChild(newScript, oldScript);\n",
       "    });\n",
       "    if (JS_MIME_TYPE in output.data) {\n",
       "      toinsert[nchildren-1].children[1].textContent = output.data[JS_MIME_TYPE];\n",
       "    }\n",
       "    output_area._hv_plot_id = id;\n",
       "    if ((window.Bokeh !== undefined) && (id in Bokeh.index)) {\n",
       "      window.PyViz.plot_index[id] = Bokeh.index[id];\n",
       "    } else {\n",
       "      window.PyViz.plot_index[id] = null;\n",
       "    }\n",
       "  } else if (output.metadata[EXEC_MIME_TYPE][\"server_id\"] !== undefined) {\n",
       "    var bk_div = document.createElement(\"div\");\n",
       "    bk_div.innerHTML = output.data[HTML_MIME_TYPE];\n",
       "    var script_attrs = bk_div.children[0].attributes;\n",
       "    for (var i = 0; i < script_attrs.length; i++) {\n",
       "      toinsert[toinsert.length - 1].childNodes[1].setAttribute(script_attrs[i].name, script_attrs[i].value);\n",
       "    }\n",
       "    // store reference to server id on output_area\n",
       "    output_area._bokeh_server_id = output.metadata[EXEC_MIME_TYPE][\"server_id\"];\n",
       "  }\n",
       "}\n",
       "\n",
       "/**\n",
       " * Handle when an output is cleared or removed\n",
       " */\n",
       "function handle_clear_output(event, handle) {\n",
       "  var id = handle.cell.output_area._hv_plot_id;\n",
       "  var server_id = handle.cell.output_area._bokeh_server_id;\n",
       "  if (((id === undefined) || !(id in PyViz.plot_index)) && (server_id !== undefined)) { return; }\n",
       "  var comm = window.PyViz.comm_manager.get_client_comm(\"hv-extension-comm\", \"hv-extension-comm\", function () {});\n",
       "  if (server_id !== null) {\n",
       "    comm.send({event_type: 'server_delete', 'id': server_id});\n",
       "    return;\n",
       "  } else if (comm !== null) {\n",
       "    comm.send({event_type: 'delete', 'id': id});\n",
       "  }\n",
       "  delete PyViz.plot_index[id];\n",
       "  if ((window.Bokeh !== undefined) & (id in window.Bokeh.index)) {\n",
       "    var doc = window.Bokeh.index[id].model.document\n",
       "    doc.clear();\n",
       "    const i = window.Bokeh.documents.indexOf(doc);\n",
       "    if (i > -1) {\n",
       "      window.Bokeh.documents.splice(i, 1);\n",
       "    }\n",
       "  }\n",
       "}\n",
       "\n",
       "/**\n",
       " * Handle kernel restart event\n",
       " */\n",
       "function handle_kernel_cleanup(event, handle) {\n",
       "  delete PyViz.comms[\"hv-extension-comm\"];\n",
       "  window.PyViz.plot_index = {}\n",
       "}\n",
       "\n",
       "/**\n",
       " * Handle update_display_data messages\n",
       " */\n",
       "function handle_update_output(event, handle) {\n",
       "  handle_clear_output(event, {cell: {output_area: handle.output_area}})\n",
       "  handle_add_output(event, handle)\n",
       "}\n",
       "\n",
       "function register_renderer(events, OutputArea) {\n",
       "  function append_mime(data, metadata, element) {\n",
       "    // create a DOM node to render to\n",
       "    var toinsert = this.create_output_subarea(\n",
       "    metadata,\n",
       "    CLASS_NAME,\n",
       "    EXEC_MIME_TYPE\n",
       "    );\n",
       "    this.keyboard_manager.register_events(toinsert);\n",
       "    // Render to node\n",
       "    var props = {data: data, metadata: metadata[EXEC_MIME_TYPE]};\n",
       "    render(props, toinsert[0]);\n",
       "    element.append(toinsert);\n",
       "    return toinsert\n",
       "  }\n",
       "\n",
       "  events.on('output_added.OutputArea', handle_add_output);\n",
       "  events.on('output_updated.OutputArea', handle_update_output);\n",
       "  events.on('clear_output.CodeCell', handle_clear_output);\n",
       "  events.on('delete.Cell', handle_clear_output);\n",
       "  events.on('kernel_ready.Kernel', handle_kernel_cleanup);\n",
       "\n",
       "  OutputArea.prototype.register_mime_type(EXEC_MIME_TYPE, append_mime, {\n",
       "    safe: true,\n",
       "    index: 0\n",
       "  });\n",
       "}\n",
       "\n",
       "if (window.Jupyter !== undefined) {\n",
       "  try {\n",
       "    var events = require('base/js/events');\n",
       "    var OutputArea = require('notebook/js/outputarea').OutputArea;\n",
       "    if (OutputArea.prototype.mime_types().indexOf(EXEC_MIME_TYPE) == -1) {\n",
       "      register_renderer(events, OutputArea);\n",
       "    }\n",
       "  } catch(err) {\n",
       "  }\n",
       "}\n"
      ],
      "application/vnd.holoviews_load.v0+json": "\nif ((window.PyViz === undefined) || (window.PyViz instanceof HTMLElement)) {\n  window.PyViz = {comms: {}, comm_status:{}, kernels:{}, receivers: {}, plot_index: []}\n}\n\n\n    function JupyterCommManager() {\n    }\n\n    JupyterCommManager.prototype.register_target = function(plot_id, comm_id, msg_handler) {\n      if (window.comm_manager || ((window.Jupyter !== undefined) && (Jupyter.notebook.kernel != null))) {\n        var comm_manager = window.comm_manager || Jupyter.notebook.kernel.comm_manager;\n        comm_manager.register_target(comm_id, function(comm) {\n          comm.on_msg(msg_handler);\n        });\n      } else if ((plot_id in window.PyViz.kernels) && (window.PyViz.kernels[plot_id])) {\n        window.PyViz.kernels[plot_id].registerCommTarget(comm_id, function(comm) {\n          comm.onMsg = msg_handler;\n        });\n      } else if (typeof google != 'undefined' && google.colab.kernel != null) {\n        google.colab.kernel.comms.registerTarget(comm_id, (comm) => {\n          var messages = comm.messages[Symbol.asyncIterator]();\n          function processIteratorResult(result) {\n            var message = result.value;\n            console.log(message)\n            var content = {data: message.data, comm_id};\n            var buffers = []\n            for (var buffer of message.buffers || []) {\n              buffers.push(new DataView(buffer))\n            }\n            var metadata = message.metadata || {};\n            var msg = {content, buffers, metadata}\n            msg_handler(msg);\n            return messages.next().then(processIteratorResult);\n          }\n          return messages.next().then(processIteratorResult);\n        })\n      }\n    }\n\n    JupyterCommManager.prototype.get_client_comm = function(plot_id, comm_id, msg_handler) {\n      if (comm_id in window.PyViz.comms) {\n        return window.PyViz.comms[comm_id];\n      } else if (window.comm_manager || ((window.Jupyter !== undefined) && (Jupyter.notebook.kernel != null))) {\n        var comm_manager = window.comm_manager || Jupyter.notebook.kernel.comm_manager;\n        var comm = comm_manager.new_comm(comm_id, {}, {}, {}, comm_id);\n        if (msg_handler) {\n          comm.on_msg(msg_handler);\n        }\n      } else if ((plot_id in window.PyViz.kernels) && (window.PyViz.kernels[plot_id])) {\n        var comm = window.PyViz.kernels[plot_id].connectToComm(comm_id);\n        comm.open();\n        if (msg_handler) {\n          comm.onMsg = msg_handler;\n        }\n      } else if (typeof google != 'undefined' && google.colab.kernel != null) {\n        var comm_promise = google.colab.kernel.comms.open(comm_id)\n        comm_promise.then((comm) => {\n          window.PyViz.comms[comm_id] = comm;\n          if (msg_handler) {\n            var messages = comm.messages[Symbol.asyncIterator]();\n            function processIteratorResult(result) {\n              var message = result.value;\n              var content = {data: message.data};\n              var metadata = message.metadata || {comm_id};\n              var msg = {content, metadata}\n              msg_handler(msg);\n              return messages.next().then(processIteratorResult);\n            }\n            return messages.next().then(processIteratorResult);\n          }\n        }) \n        var sendClosure = (data, metadata, buffers, disposeOnDone) => {\n          return comm_promise.then((comm) => {\n            comm.send(data, metadata, buffers, disposeOnDone);\n          });\n        };\n        var comm = {\n          send: sendClosure\n        };\n      }\n      window.PyViz.comms[comm_id] = comm;\n      return comm;\n    }\n    window.PyViz.comm_manager = new JupyterCommManager();\n    \n\n\nvar JS_MIME_TYPE = 'application/javascript';\nvar HTML_MIME_TYPE = 'text/html';\nvar EXEC_MIME_TYPE = 'application/vnd.holoviews_exec.v0+json';\nvar CLASS_NAME = 'output';\n\n/**\n * Render data to the DOM node\n */\nfunction render(props, node) {\n  var div = document.createElement(\"div\");\n  var script = document.createElement(\"script\");\n  node.appendChild(div);\n  node.appendChild(script);\n}\n\n/**\n * Handle when a new output is added\n */\nfunction handle_add_output(event, handle) {\n  var output_area = handle.output_area;\n  var output = handle.output;\n  if ((output.data == undefined) || (!output.data.hasOwnProperty(EXEC_MIME_TYPE))) {\n    return\n  }\n  var id = output.metadata[EXEC_MIME_TYPE][\"id\"];\n  var toinsert = output_area.element.find(\".\" + CLASS_NAME.split(' ')[0]);\n  if (id !== undefined) {\n    var nchildren = toinsert.length;\n    var html_node = toinsert[nchildren-1].children[0];\n    html_node.innerHTML = output.data[HTML_MIME_TYPE];\n    var scripts = [];\n    var nodelist = html_node.querySelectorAll(\"script\");\n    for (var i in nodelist) {\n      if (nodelist.hasOwnProperty(i)) {\n        scripts.push(nodelist[i])\n      }\n    }\n\n    scripts.forEach( function (oldScript) {\n      var newScript = document.createElement(\"script\");\n      var attrs = [];\n      var nodemap = oldScript.attributes;\n      for (var j in nodemap) {\n        if (nodemap.hasOwnProperty(j)) {\n          attrs.push(nodemap[j])\n        }\n      }\n      attrs.forEach(function(attr) { newScript.setAttribute(attr.name, attr.value) });\n      newScript.appendChild(document.createTextNode(oldScript.innerHTML));\n      oldScript.parentNode.replaceChild(newScript, oldScript);\n    });\n    if (JS_MIME_TYPE in output.data) {\n      toinsert[nchildren-1].children[1].textContent = output.data[JS_MIME_TYPE];\n    }\n    output_area._hv_plot_id = id;\n    if ((window.Bokeh !== undefined) && (id in Bokeh.index)) {\n      window.PyViz.plot_index[id] = Bokeh.index[id];\n    } else {\n      window.PyViz.plot_index[id] = null;\n    }\n  } else if (output.metadata[EXEC_MIME_TYPE][\"server_id\"] !== undefined) {\n    var bk_div = document.createElement(\"div\");\n    bk_div.innerHTML = output.data[HTML_MIME_TYPE];\n    var script_attrs = bk_div.children[0].attributes;\n    for (var i = 0; i < script_attrs.length; i++) {\n      toinsert[toinsert.length - 1].childNodes[1].setAttribute(script_attrs[i].name, script_attrs[i].value);\n    }\n    // store reference to server id on output_area\n    output_area._bokeh_server_id = output.metadata[EXEC_MIME_TYPE][\"server_id\"];\n  }\n}\n\n/**\n * Handle when an output is cleared or removed\n */\nfunction handle_clear_output(event, handle) {\n  var id = handle.cell.output_area._hv_plot_id;\n  var server_id = handle.cell.output_area._bokeh_server_id;\n  if (((id === undefined) || !(id in PyViz.plot_index)) && (server_id !== undefined)) { return; }\n  var comm = window.PyViz.comm_manager.get_client_comm(\"hv-extension-comm\", \"hv-extension-comm\", function () {});\n  if (server_id !== null) {\n    comm.send({event_type: 'server_delete', 'id': server_id});\n    return;\n  } else if (comm !== null) {\n    comm.send({event_type: 'delete', 'id': id});\n  }\n  delete PyViz.plot_index[id];\n  if ((window.Bokeh !== undefined) & (id in window.Bokeh.index)) {\n    var doc = window.Bokeh.index[id].model.document\n    doc.clear();\n    const i = window.Bokeh.documents.indexOf(doc);\n    if (i > -1) {\n      window.Bokeh.documents.splice(i, 1);\n    }\n  }\n}\n\n/**\n * Handle kernel restart event\n */\nfunction handle_kernel_cleanup(event, handle) {\n  delete PyViz.comms[\"hv-extension-comm\"];\n  window.PyViz.plot_index = {}\n}\n\n/**\n * Handle update_display_data messages\n */\nfunction handle_update_output(event, handle) {\n  handle_clear_output(event, {cell: {output_area: handle.output_area}})\n  handle_add_output(event, handle)\n}\n\nfunction register_renderer(events, OutputArea) {\n  function append_mime(data, metadata, element) {\n    // create a DOM node to render to\n    var toinsert = this.create_output_subarea(\n    metadata,\n    CLASS_NAME,\n    EXEC_MIME_TYPE\n    );\n    this.keyboard_manager.register_events(toinsert);\n    // Render to node\n    var props = {data: data, metadata: metadata[EXEC_MIME_TYPE]};\n    render(props, toinsert[0]);\n    element.append(toinsert);\n    return toinsert\n  }\n\n  events.on('output_added.OutputArea', handle_add_output);\n  events.on('output_updated.OutputArea', handle_update_output);\n  events.on('clear_output.CodeCell', handle_clear_output);\n  events.on('delete.Cell', handle_clear_output);\n  events.on('kernel_ready.Kernel', handle_kernel_cleanup);\n\n  OutputArea.prototype.register_mime_type(EXEC_MIME_TYPE, append_mime, {\n    safe: true,\n    index: 0\n  });\n}\n\nif (window.Jupyter !== undefined) {\n  try {\n    var events = require('base/js/events');\n    var OutputArea = require('notebook/js/outputarea').OutputArea;\n    if (OutputArea.prototype.mime_types().indexOf(EXEC_MIME_TYPE) == -1) {\n      register_renderer(events, OutputArea);\n    }\n  } catch(err) {\n  }\n}\n"
     },
     "metadata": {},
     "output_type": "display_data"
    },
    {
     "data": {
      "text/html": [
       "<style>.bk-root, .bk-root .bk:before, .bk-root .bk:after {\n",
       "  font-family: var(--jp-ui-font-size1);\n",
       "  font-size: var(--jp-ui-font-size1);\n",
       "  color: var(--jp-ui-font-color1);\n",
       "}\n",
       "</style>"
      ]
     },
     "metadata": {},
     "output_type": "display_data"
    },
    {
     "name": "stdout",
     "output_type": "stream",
     "text": [
      "User data directory: /home/data/Sharon\n"
     ]
    }
   ],
   "source": [
    "import panel as pn\n",
    "pn.extension(raw_css=['''progress {margin: 0;}''']) # raw_css setting is a workaround for panel issue 4112\n",
    "import sys\n",
    "import os\n",
    "import numpy as np\n",
    "\n",
    "# add inline dashboard libraries to path so they can be imported later\n",
    "sys.path.append('../../../dashboards-inline')\n",
    "\n",
    "LAB_DIR = os.path.join('/home/data/', LAB_USER_NAME)\n",
    "os.makedirs(LAB_DIR, exist_ok=True)\n",
    "print('User data directory:', LAB_DIR)"
   ]
  },
  {
   "cell_type": "markdown",
   "id": "ee50b355-8388-4fec-b8c6-e68f2a60137a",
   "metadata": {
    "tags": []
   },
   "source": [
    "## 1. Projection Images\n",
    "Thus far, the 2D image created in the labs have been projection images. These images are created using a rectangular RF-pulse (known as a hard pulse) and both frequency and phase encoding gradients (Fig.1,a). The frequency and phase encoding gradients allow the aquired signals to be sorted into 2D space to produce an image. The orientation of the image will depend on which axes that the frequency and phase gradients were applied along. Since there is no form of encoding in the third dimension of the sample, the signals along this axis will be summed in the 2D image.   \n",
    "\n",
    "<center><img src=\"Images/projection2.0.png\" width=\"1300\"></center>\n",
    "<center><figcaption style=\"width: 600px;\">Figure 1: Setting the frequency and phase encoding in the x and z axes produces a projection imagine where the varying signal components in the y direction are summed into average values.  </figcaption></center>"
   ]
  },
  {
   "cell_type": "markdown",
   "id": "96550157-5f1b-419b-a81c-0c19cc7b0fde",
   "metadata": {
    "tags": []
   },
   "source": [
    "> -------------------------------------------------------------------------------------------------------------------------------------------------------\n",
    "> #### **Task 1.1: Generate a Projection Image**\n",
    "> 1. Insert the mystery sample (ilumr sample) at the correct depth.\n",
    "> 2. Choose a the phase encoding and frequency encoding axes and start the experiment by pressing \"Run\". \n",
    ">\n",
    "> **Question:** Can you read the text located in the centre of the phantom?\n",
    "> \n",
    "> -------------------------------------------------------------------------------------------------------------------------------------------------------"
   ]
  },
  {
   "cell_type": "markdown",
   "id": "67dc08d4-9dc3-450a-9149-14fc3da98f14",
   "metadata": {},
   "source": [
    "TO DO: Insert a window that is 2D RARE without slice selection options."
   ]
  },
  {
   "cell_type": "markdown",
   "id": "ee33a334-bdff-4f90-92ba-a0d4ea540397",
   "metadata": {},
   "source": [
    "As you can see, projection images aren't always useful because summing a large amount of signal in the object's third dimension makes it almost impossible to see details that are only present in specific parts of the sample. If we want to see detail in a specific portion of the object we need to be able to limit the amount of signal that is being summed in one direction. This is done through slice selection."
   ]
  },
  {
   "cell_type": "markdown",
   "id": "5bf6917e-219e-4898-b3e5-eecdbabf45d0",
   "metadata": {},
   "source": [
    "## 2. Slice Selection\n",
    "In order to image a single slice rather than the entire sample, two main changes need to be made to the pulse sequence. \n",
    "\n",
    "1) A slice-select gradient must be added along the axis perpendicular to the plane of the desired slice. This causes the spins along the chosen axis to preccess at different frequencies making them frequency selectable. \n",
    "\n",
    "2) If we only want to excite a thin slice of the sample we will need a spacially selective RF-pulse. If the slice-select gradient were used with a hard pulse, all the spins would still be excited because a rectangular pulse contains the frequencies corresponding to all these spins' precession. To achieve a limited rectangular excitation profile in the frequency domain, we must apply a sinc shaped RF-pulse (known as a soft pulse) in the time domain (shown in Fig.2,a). \n",
    "\n",
    "Changing the parameters of the slice-select gradient and the sinc shaped soft pulse allows us to control the thickness of the slices and their position along the slice-select gradient axis.  \n",
    "\n",
    "<center><img src=\"Images/slice2.0.png\" width=\"1300\"></center>\n",
    "<center><figcaption style=\"width: 600px;\">Figure 2: Slicing along the y axis allows the sample to be imaged at a specific cross section index     </figcaption></center>"
   ]
  },
  {
   "cell_type": "markdown",
   "id": "d2511e57-bf64-4262-8c96-5660229fab0b",
   "metadata": {},
   "source": [
    "## 3. Controlling Slice Thickness\n",
    "Slices can not be infinitly thin because... Therefore, there will always be some level of summing and averaging along one axis when producing a 2D image. Choosing a slice thickness is a trade off between two main factors. A thicker slice will have more signal because there are more nuclear spins available for excitation. A thinner slice will have less averaging and therefore can show more detail. Adjusting thickness lets you find the optimal point for each application.\n",
    "\n",
    "The thickness of the slice ($\\Delta$z) is controlled by two main factors, the frequency range selected by the soft pulse ($\\Delta$F) and the slice-select gradient ($G_{ss}$). This relationship is governed by the following equation:\n",
    "\n",
    "$$\\Delta z = \\frac{\\Delta F}{\\gamma . G_{ss}} \\tag{1}$$\n",
    "\n",
    "where $\\gamma$ is the gyromagnetic ratio. \n",
    "\n",
    "The following sections illustrate the relationship between RF-pulse shape, slice-select gradient strength, and the thickness of a slice."
   ]
  },
  {
   "cell_type": "markdown",
   "id": "daca706e-5dfc-456a-829c-dd4cce5627ae",
   "metadata": {},
   "source": [
    "### 3.1 Soft Pulse Shape relationship to slice thickness\n",
    "The frequency range selected by the soft pulse ($\\Delta$F) is determined the the shape of the soft pulse. The shape of the soft pulse also affects the shape of the excitation profile. While ideally this shape is a perfect rectangle that evenly excites a specific band of frequencies and does not excite others, this is often not the case. (explain curves and weird shapes and how it affects image quality). \n",
    "\n",
    "Soft pulses are designed in many ways. In their most basic form they are a mathematical sinc. \n",
    "\n",
    "<center><img src=\"Images/soft_pulse_parameters.png\" width=\"800\"></center>\n",
    "<center><figcaption style=\"width: 300px;\">Figure x:  </figcaption></center>\n"
   ]
  },
  {
   "cell_type": "markdown",
   "id": "cfa28f33-cdbf-42c1-9517-e5211bae1fe3",
   "metadata": {
    "tags": []
   },
   "source": [
    "#### 3.1.1 Sinc Pulse\n",
    "Theoretically, a perfect rectangle can be created in the frequency domain when an infinite sinc pulse is applied in the time domain. However, due to hardware limitations, it is not possible to implement this kind of sinc pulse. Instead, steps must be taken such as limiting the number of nodes and applying gaussian filters to the shape of the sinc (explain why these are done and what effect they have). \n"
   ]
  },
  {
   "cell_type": "markdown",
   "id": "cb37e2b9-23a5-4419-b616-88a2e80c9b78",
   "metadata": {
    "tags": []
   },
   "source": [
    "> -------------------------------------------------------------------------------------------------------------------------------------------------------\n",
    "> #### **Task 3.1.1.1: Visualising Sinc Pulse Design**\n",
    ">The experiment below is designed to help you visualise how changing the parameters of a soft pulse changes the profile in the frequency domain.(explain what things cause issues e.g. ripples on the top of the spectrum and what this does to the final image).The Rf-Pulse you design will be used for the following experiments.\n",
    "> 1. Experiment with the three soft pulse parameters and observe how the shape of the RF-pulse and slice profile changes. \n",
    "> 2. **Question:**\n",
    "> 3. **Question:**\n",
    "> -------------------------------------------------------------------------------------------------------------------------------------------------------"
   ]
  },
  {
   "cell_type": "code",
   "execution_count": 8,
   "id": "11dbc1f8-eee0-4b53-ad17-c6901436f161",
   "metadata": {
    "jupyter": {
     "source_hidden": true
    },
    "tags": []
   },
   "outputs": [
    {
     "data": {},
     "metadata": {},
     "output_type": "display_data"
    },
    {
     "data": {
      "application/vnd.holoviews_exec.v0+json": "",
      "text/html": [
       "<div id='2252'>\n",
       "  <div class=\"bk-root\" id=\"347f4c7e-abf2-48a1-a72f-645f6b9641f5\" data-root-id=\"2252\"></div>\n",
       "</div>\n",
       "<script type=\"application/javascript\">(function(root) {\n",
       "  function embed_document(root) {\n",
       "    var docs_json = {\"0e550d6e-676f-4ef6-90ca-2ce7efd3c225\":{\"defs\":[{\"extends\":null,\"module\":null,\"name\":\"ReactiveHTML1\",\"overrides\":[],\"properties\":[]},{\"extends\":null,\"module\":null,\"name\":\"FlexBox1\",\"overrides\":[],\"properties\":[{\"default\":\"flex-start\",\"kind\":null,\"name\":\"align_content\"},{\"default\":\"flex-start\",\"kind\":null,\"name\":\"align_items\"},{\"default\":\"row\",\"kind\":null,\"name\":\"flex_direction\"},{\"default\":\"wrap\",\"kind\":null,\"name\":\"flex_wrap\"},{\"default\":\"flex-start\",\"kind\":null,\"name\":\"justify_content\"}]},{\"extends\":null,\"module\":null,\"name\":\"GridStack1\",\"overrides\":[],\"properties\":[{\"default\":\"warn\",\"kind\":null,\"name\":\"mode\"},{\"default\":null,\"kind\":null,\"name\":\"ncols\"},{\"default\":null,\"kind\":null,\"name\":\"nrows\"},{\"default\":true,\"kind\":null,\"name\":\"allow_resize\"},{\"default\":true,\"kind\":null,\"name\":\"allow_drag\"},{\"default\":[],\"kind\":null,\"name\":\"state\"}]},{\"extends\":null,\"module\":null,\"name\":\"click1\",\"overrides\":[],\"properties\":[{\"default\":\"\",\"kind\":null,\"name\":\"terminal_output\"},{\"default\":\"\",\"kind\":null,\"name\":\"debug_name\"},{\"default\":0,\"kind\":null,\"name\":\"clears\"}]},{\"extends\":null,\"module\":null,\"name\":\"NotificationAreaBase1\",\"overrides\":[],\"properties\":[{\"default\":\"bottom-right\",\"kind\":null,\"name\":\"position\"},{\"default\":0,\"kind\":null,\"name\":\"_clear\"}]},{\"extends\":null,\"module\":null,\"name\":\"NotificationArea1\",\"overrides\":[],\"properties\":[{\"default\":[],\"kind\":null,\"name\":\"notifications\"},{\"default\":\"bottom-right\",\"kind\":null,\"name\":\"position\"},{\"default\":0,\"kind\":null,\"name\":\"_clear\"},{\"default\":[{\"background\":\"#ffc107\",\"icon\":{\"className\":\"fas fa-exclamation-triangle\",\"color\":\"white\",\"tagName\":\"i\"},\"type\":\"warning\"},{\"background\":\"#007bff\",\"icon\":{\"className\":\"fas fa-info-circle\",\"color\":\"white\",\"tagName\":\"i\"},\"type\":\"info\"}],\"kind\":null,\"name\":\"types\"}]},{\"extends\":null,\"module\":null,\"name\":\"Notification\",\"overrides\":[],\"properties\":[{\"default\":null,\"kind\":null,\"name\":\"background\"},{\"default\":3000,\"kind\":null,\"name\":\"duration\"},{\"default\":null,\"kind\":null,\"name\":\"icon\"},{\"default\":\"\",\"kind\":null,\"name\":\"message\"},{\"default\":null,\"kind\":null,\"name\":\"notification_type\"},{\"default\":false,\"kind\":null,\"name\":\"_destroyed\"}]},{\"extends\":null,\"module\":null,\"name\":\"TemplateActions1\",\"overrides\":[],\"properties\":[{\"default\":0,\"kind\":null,\"name\":\"open_modal\"},{\"default\":0,\"kind\":null,\"name\":\"close_modal\"}]},{\"extends\":null,\"module\":null,\"name\":\"MaterialTemplateActions1\",\"overrides\":[],\"properties\":[{\"default\":0,\"kind\":null,\"name\":\"open_modal\"},{\"default\":0,\"kind\":null,\"name\":\"close_modal\"}]}],\"roots\":{\"references\":[{\"attributes\":{\"children\":[{\"id\":\"2254\"},{\"id\":\"2255\"},{\"id\":\"2256\"}],\"margin\":[0,0,0,0],\"name\":\"Column00171\"},\"id\":\"2253\",\"type\":\"Column\"},{\"attributes\":{\"high\":2000,\"low\":1,\"margin\":[5,10,5,10],\"min_width\":80,\"placeholder\":\"0\",\"step\":10,\"title\":\"width\",\"value\":400,\"value_throttled\":400,\"width\":80},\"id\":\"2254\",\"type\":\"Spinner\"},{\"attributes\":{\"line_alpha\":0.1,\"line_color\":\"blue\",\"x\":{\"field\":\"x\"},\"y\":{\"field\":\"real\"}},\"id\":\"2210\",\"type\":\"Line\"},{\"attributes\":{\"children\":[{\"id\":\"2090\"},{\"id\":\"2171\"}],\"margin\":[0,0,0,0],\"name\":\"Row00170\",\"sizing_mode\":\"stretch_width\"},\"id\":\"2257\",\"type\":\"Row\"},{\"attributes\":{\"source\":{\"id\":\"2126\"}},\"id\":\"2132\",\"type\":\"CDSView\"},{\"attributes\":{\"high\":100,\"low\":0,\"margin\":[5,10,5,10],\"min_width\":80,\"placeholder\":\"0\",\"title\":\"apodization\",\"value\":0,\"value_throttled\":0,\"width\":80},\"id\":\"2256\",\"type\":\"Spinner\"},{\"attributes\":{\"high\":100,\"low\":0,\"margin\":[5,10,5,10],\"min_width\":80,\"placeholder\":\"0\",\"title\":\"lobes\",\"value\":3,\"value_throttled\":3,\"width\":80},\"id\":\"2255\",\"type\":\"Spinner\"},{\"attributes\":{\"coordinates\":null,\"data_source\":{\"id\":\"2126\"},\"glyph\":{\"id\":\"2146\"},\"group\":null,\"hover_glyph\":null,\"muted_glyph\":{\"id\":\"2148\"},\"name\":\"imag\",\"nonselection_glyph\":{\"id\":\"2147\"},\"view\":{\"id\":\"2150\"}},\"id\":\"2149\",\"type\":\"GlyphRenderer\"},{\"attributes\":{\"label\":{\"value\":\"Imag\"},\"renderers\":[{\"id\":\"2230\"}]},\"id\":\"2242\",\"type\":\"LegendItem\"},{\"attributes\":{\"line_color\":\"blue\",\"x\":{\"field\":\"x\"},\"y\":{\"field\":\"real\"}},\"id\":\"2209\",\"type\":\"Line\"},{\"attributes\":{\"line_alpha\":0.2,\"line_color\":\"blue\",\"x\":{\"field\":\"x\"},\"y\":{\"field\":\"real\"}},\"id\":\"2211\",\"type\":\"Line\"},{\"attributes\":{\"source\":{\"id\":\"2207\"}},\"id\":\"2213\",\"type\":\"CDSView\"},{\"attributes\":{},\"id\":\"2093\",\"type\":\"DataRange1d\"},{\"attributes\":{\"coordinates\":null,\"group\":null,\"items\":[{\"id\":\"2225\"},{\"id\":\"2242\"}]},\"id\":\"2224\",\"type\":\"Legend\"},{\"attributes\":{\"data\":{\"imag\":{\"__ndarray__\":\"AAAAAAAAAAAAAAAAAAAAAAAAAAAAAAAAAAAAAAAAAAAAAAAAAAAAAAAAAAAAAAAAAAAAAAAAAAAAAAAAAAAAAAAAAAAAAAAAAAAAAAAAAAAAAAAAAAAAAAAAAAAAAAAAAAAAAAAAAAAAAAAAAAAAAAAAAAAAAAAAAAAAAAAAAAAAAAAAAAAAAAAAAAAAAAAAAAAAAAAAAAAAAAAAAAAAAAAAAAAAAAAAAAAAAAAAAAAAAAAAAAAAAAAAAAAAAAAAAAAAAAAAAAAAAAAAAAAAAAAAAAAAAAAAAAAAAAAAAAAAAAAAAAAAAAAAAAAAAAAAAAAAAAAAAAAAAAAAAAAAAAAAAAAAAAAAAAAAAAAAAAAAAAAAAAAAAAAAAAAAAAAAAAAAAAAAAAAAAAAAAAAAAAAAAAAAAAAAAAAAAAAAAAAAAAAAAAAAAAAAAAAAAAAAAAAAAAAAAAAAAAAAAAAAAAAAAAAAAAAAAAAAAAAAAAAAAAAAAAAAAAAAAAAAAAAAAAAAAAAAAAAAAAAAAAAAAAAAAAAAAAAAAAAAAAAAAAAAAAAAAAAAAAAAAAAAAAAAAAAAAAAAAAAAAAAAAAAAAAAAAAAAAAAAAAAAAAAAAAAAAAAAAAAAAAAAAAAAAAAAAAAAAAAAAAAAAAAAAAAAAAAAAAAAAAAAAAAAAAAAAAAAAAAAAAAAAAAAAAAAAAAAAAAAAAAAAAAAAAAAAAAAAAAAAAAAAAAAAAAAAAAAAAAAAAAAAAAAAAAAAAAAAAAAAAAAAAAAAAAAAAAAAAAAAAAAAAAAAAAAAAAAAAAAAAAAAAAAAAAAAAAAAAAAAAAAAAAAAAAAAAAAAAAAAAAAAAAAAAAAAAAAAAAAAAAAAAAAAAAAAAAAAAAAAAAAAAAAAAAAAAAAAAAAAAAAAAAAAAAAAAAAAAAAAAAAAAAAAAAAAAAAAAAAAAAAAAAAAAAAAAAAAAAAAAAAAAAAAAAAAAAAAAAAAAAAAAAAAAAAAAAAAAAAAAAAAAAAAAAAAAAAAAAAAAAAAAAAAAAAAAAAAAAAAAAAAAAAAAAAAAAAAAAAAAAAAAAAAAAAAAAAAAAAAAAAAAAAAAAAAAAAAAAAAAAAAAAAAAAAAAAAAAAAAAAAAAAAAAAAAAAAAAAAAAAAAAAAAAAAAAAAAAAAAAAAAAAAAAAAAAAAAAAAAAAAAAAAAAAAAAAAAAAAAAAAAAAAAAAAAAAAAAAAAAAAAAAAAAAAAAAAAAAAAAAAAAAAAAAAAAAAAAAAAAAAAAAAAAAAAAAAAAAAAAAAAAAAAAAAAAAAAAAAAAAAAAAAAAAAAAAAAAAAAAAAAAAAAAAAAAAAAAAAAAAAAAAAAAAAAAAAAAAAAAAAAAAAAAAAAAAAAAAAAAAAAAAAAAAAAAAAAAAAAAAAAAAAAAAAAAAAAAAAAAAAAAAAAAAAAAAAAAAAAAAAAAAAAAAAAAAAAAAAAAAAAAAAAAAAAAAAAAAAAAAAAAAAAAAAAAAAAAAAAAAAAAAAAAAAAAAAAAAAAAAAAAAAAAAAAAAAAAAAAAAAAAAAAAAAAAAAAAAAAAAAAAAAAAAAAAAAAAAAAAAAAAAAAAAAAAAAAAAAAAAAAAAAAAAAAAAAAAAAAAAAAAAAAAAAAAAAAAAAAAAAAAAAAAAAAAAAAAAAAAAAAAAAAAAAAAAAAAAAAAAAAAAAAAAAAAAAAAAAAAAAAAAAAAAAAAAAAAAAAAAAAAAAAAAAAAAAAAAAAAAAAAAAAAAAAAAAAAAAAAAAAAAAAAAAAAAAAAAAAAAAAAAAAAAAAAAAAAAAAAAAAAAAAAAAAAAAAAAAAAAAAAAAAAAAAAAAAAAAAAAAAAAAAAAAAAAAAAAAAAAAAAAAAAAAAAAAAAAAAAAAAAAAAAAAAAAAAAAAAAAAAAAAAAAAAAAAAAAAAAAAAAAAAAAAAAAAAAAAAAAAAAAAAAAAAAAAAAAAAAAAAAAAAAAAAAAAAAAAAAAAAAAAAAAAAAAAAAAAAAAAAAAAAAAAAAAAAAAAAAAAAAAAAAAAAAAAAAAAAAAAAAAAAAAAAAAAAAAAAAAAAAAAAAAAAAAAAAAAAAAAAAAAAAAAAAAAAAAAAAAAAAAAAAAAAAAAAAAAAAAAAAAAAAAAAAAAAAAAAAAAAAAAAAAAAAAAAAAAAAAAAAAAAAAAAAAAAAAAAAAAAAAAAAAAAAAAAAAAAAAAAAAAAAAAAAAAAAAAAAAAAAAAAAAAAAAAAAAAAAAAAAAAAAAAAAAAAAAAAAAAAAAAAAAAAAAAAAAAAAAAAAAAAAAAAAAAAAAAAAAAAAAAAAAAAAAAAAAAAAAAAAAAAAAAAAAAAAAAAAAAAAAAAAAAAAAAAAAAAAAAAAAAAAAAAAAAAAAAAAAAAAAAAAAAAAAAAAAAAAAAAAAAAAAAAAAAAAAAAAAAAAAAAAAAAAAAAAAAAAAAAAAAAAAAAAAAAAAAAAAAAAAAAAAAAAAAAAAAAAAAAAAAAAAAAAAAAAAAAAAAAAAAAAAAAAAAAAAAAAAAAAAAAAAAAAAAAAAAAAAAAAAAAAAAAAAAAAAAAAAAAAAAAAAAAAAAAAAAAAAAAAAAAAAAAAAAAAAAAAAAAAAAAAAAAAAAAAAAAAAAAAAAAAAAAAAAAAAAAAAAAAAAAAAAAAAAAAAAAAAAAAAAAAAAAAAAAAAAAAAAAAAAAAAAAAAAAAAAAAAAAAAAAAAAAAAAAAAAAAAAAAAAAAAAAAAAAAAAAAAAAAAAAAAAAAAAAAAAAAAAAAAAAAAAAAAAAAAAAAAAAAAAAAAAAAAAAAAAAAAAAAAAAAAAAAAAAAAAAAAAAAAAAAAAAAAAAAAAAAAAAAAAAAAAAAAAAAAAAAAAAAAAAAAAAAAAAAAAAAAAAAAAAAAAAAAAAAAAAAAAAAAAAAAAAAAAAAAAAAAAAAAAAAAAAAAAAAAAAAAAAAAAAAAAAAAAAAAAAAAAAAAAAAAAAAAAAAAAAAAAAAAAAAAAAAAAAAAAAAAAAAAAAAAAAAAAAAAAAAAAAAAAAAAAAAAAAAAAAAAAAAAAAAAAAAAAAAAAAAAAAAAAAAAAAAAAAAAAAAAAAAAAAAAAAAAAAAAAAAAAAAAAAAAAAAAAAAAAAAAAAAAAAAAAAAAAAAAAAAAAAAAAAAAAAAAAAAAAAAAAAAAAAAAAAAAAAAAAAAAAAAAAAAAAAAAAAAAAAAAAAAAAAAAAAAAAAAAAAAAAAAAAAAAAAAAAAAAAAAAAAAAAAAAAAAAAAAAAAAAAAAAAAAAAAAAAAAAAAAAAAAAAAAAAAAAAAAAAAAAAAAAAAAAAAAAAAAAAAAAAAAAAAAAAAAAAAAAAAAAAAAAAAAAAAAAAAAAAAAAAAAAAAAAAAAAAAAAAAAAAAAAAAAAAAAAAAAAAAAAAAAAAAAAAAAAAAAAAAAAAAAAAAAAAAAAAAAAAAAAAAAAAAAAAAAAAAAAAAAAAAAAAAAAAAAAAAAAAAAAAAAAAAAAAAAAAAAAAAAAAAAAAAAAAAAAAAAAAAAAAAAAAAAAAAAAAAAAAAAAAAAAAAAAAAAAAAAAAAAAAAAAAAAAAAAAAAAAAAAAAAAAAAAAAAAAAAAAAAAAAAAAAAAAAAAAAAAAAAAAAAAAAAAAAAAAAAAAAAAAAAAAAAAAAAAAAAAAAAAAAAAAAAAAAAAAAAAAAAAAAAAAAAAAAAAAAAAAAAAAAAAAAAAAAAAAAAAAAAAAAAAAAAAAAAAAAAAAAAAAAAAAAAAAAAAAAAAAAAAAAAAAAAAAAAAAAAAAAAAAAAAAAAAAAAAAAAAAAAAAAAAAAAAAAAAAAAAAAAAAAAAAAAAAAAAAAAAAAAAAAAAAAAAAAAAAAAAAAAAAAAAAAAAAAAAAAAAAAAAAAAAAAAAAAAAAAAAAAAAAAAAAAAAAAAAAAAAAAAAAAAAAAAAAAAAAAAAAAAAAAAAAAAAAAAAAAAAAAAAAAAAAAAAAAAAAAAAAAAAAAAAAAAAAAAAAAAAAAAAAAAAAAAAAAAAAAAAAAAAAAAAAAAAAAAAAAAAAAAAAAAAAAAAAAAAAAAAAAAAAAAAAAAAAAAAAAAAAAAAAAAAAAAAAAAAAAAAAAAAAAAAAAAAAAAAAAAAAAAAAAAAAAAAAAAAAAAAAAAAAAAAAAAAAAAAAAAAAAAAAAAAAAAAAAAAAAAAAAAAAAAAAAAAAAAAAAAAAAAAAAAAAAAAAAAAAAAAAAAAAAAAAAAAAAAAAAAAAAAAAAAAAAAAAAAAAAAAA=\",\"dtype\":\"float64\",\"order\":\"little\",\"shape\":[400]},\"real\":{\"__ndarray__\":\"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\",\"dtype\":\"float64\",\"order\":\"little\",\"shape\":[400]},\"x\":{\"__ndarray__\":\"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\",\"dtype\":\"float64\",\"order\":\"little\",\"shape\":[400]}},\"selected\":{\"id\":\"2141\"},\"selection_policy\":{\"id\":\"2140\"}},\"id\":\"2126\",\"type\":\"ColumnDataSource\"},{\"attributes\":{\"line_alpha\":0.1,\"line_color\":\"firebrick\",\"x\":{\"field\":\"x\"},\"y\":{\"field\":\"imag\"}},\"id\":\"2147\",\"type\":\"Line\"},{\"attributes\":{},\"id\":\"2141\",\"type\":\"Selection\"},{\"attributes\":{\"line_color\":\"blue\",\"x\":{\"field\":\"x\"},\"y\":{\"field\":\"real\"}},\"id\":\"2128\",\"type\":\"Line\"},{\"attributes\":{\"active_drag\":{\"id\":\"2109\"},\"active_scroll\":null,\"logo\":null,\"tools\":[{\"id\":\"2109\"},{\"id\":\"2110\"},{\"id\":\"2111\"},{\"id\":\"2112\"},{\"id\":\"2113\"},{\"id\":\"2114\"},{\"id\":\"2163\"},{\"id\":\"2165\"}]},\"id\":\"2116\",\"type\":\"Toolbar\"},{\"attributes\":{\"coordinates\":null,\"data_source\":{\"id\":\"2126\"},\"glyph\":{\"id\":\"2128\"},\"group\":null,\"hover_glyph\":null,\"muted_glyph\":{\"id\":\"2130\"},\"name\":\"real\",\"nonselection_glyph\":{\"id\":\"2129\"},\"view\":{\"id\":\"2132\"}},\"id\":\"2131\",\"type\":\"GlyphRenderer\"},{\"attributes\":{},\"id\":\"2113\",\"type\":\"ResetTool\"},{\"attributes\":{},\"id\":\"2114\",\"type\":\"SaveTool\"},{\"attributes\":{},\"id\":\"2217\",\"type\":\"AllLabels\"},{\"attributes\":{\"line_color\":\"firebrick\",\"x\":{\"field\":\"x\"},\"y\":{\"field\":\"imag\"}},\"id\":\"2146\",\"type\":\"Line\"},{\"attributes\":{\"line_alpha\":0.2,\"line_color\":\"blue\",\"x\":{\"field\":\"x\"},\"y\":{\"field\":\"real\"}},\"id\":\"2130\",\"type\":\"Line\"},{\"attributes\":{},\"id\":\"2220\",\"type\":\"AllLabels\"},{\"attributes\":{\"label\":{\"value\":\"Real\"},\"renderers\":[{\"id\":\"2131\"}]},\"id\":\"2144\",\"type\":\"LegendItem\"},{\"attributes\":{},\"id\":\"2097\",\"type\":\"LinearScale\"},{\"attributes\":{\"line_alpha\":0.2,\"line_color\":\"firebrick\",\"x\":{\"field\":\"x\"},\"y\":{\"field\":\"imag\"}},\"id\":\"2148\",\"type\":\"Line\"},{\"attributes\":{},\"id\":\"2095\",\"type\":\"DataRange1d\"},{\"attributes\":{},\"id\":\"2221\",\"type\":\"UnionRenderers\"},{\"attributes\":{},\"id\":\"2222\",\"type\":\"Selection\"},{\"attributes\":{\"coordinates\":null,\"group\":null,\"items\":[{\"id\":\"2144\"},{\"id\":\"2161\"}]},\"id\":\"2143\",\"type\":\"Legend\"},{\"attributes\":{},\"id\":\"2099\",\"type\":\"LinearScale\"},{\"attributes\":{},\"id\":\"2110\",\"type\":\"WheelZoomTool\"},{\"attributes\":{\"axis_label\":\"Amplitude\",\"coordinates\":null,\"formatter\":{\"id\":\"2168\"},\"group\":null,\"major_label_policy\":{\"id\":\"2136\"},\"ticker\":{\"id\":\"2106\"}},\"id\":\"2105\",\"type\":\"LinearAxis\"},{\"attributes\":{\"axis\":{\"id\":\"2105\"},\"coordinates\":null,\"dimension\":1,\"group\":null,\"ticker\":null},\"id\":\"2108\",\"type\":\"Grid\"},{\"attributes\":{\"label\":{\"value\":\"Imag\"},\"renderers\":[{\"id\":\"2149\"}]},\"id\":\"2161\",\"type\":\"LegendItem\"},{\"attributes\":{},\"id\":\"2112\",\"type\":\"CrosshairTool\"},{\"attributes\":{\"coordinates\":null,\"group\":null,\"text\":\"Waveform\"},\"id\":\"2091\",\"type\":\"Title\"},{\"attributes\":{\"source\":{\"id\":\"2126\"}},\"id\":\"2150\",\"type\":\"CDSView\"},{\"attributes\":{\"axis_label\":\"Time (ms)\",\"coordinates\":null,\"formatter\":{\"id\":\"2168\"},\"group\":null,\"major_label_policy\":{\"id\":\"2139\"},\"ticker\":{\"id\":\"2102\"}},\"id\":\"2101\",\"type\":\"LinearAxis\"},{\"attributes\":{\"overlay\":{\"id\":\"2115\"}},\"id\":\"2111\",\"type\":\"BoxZoomTool\"},{\"attributes\":{},\"id\":\"2106\",\"type\":\"BasicTicker\"},{\"attributes\":{},\"id\":\"2109\",\"type\":\"PanTool\"},{\"attributes\":{\"bottom_units\":\"screen\",\"coordinates\":null,\"fill_alpha\":0.5,\"fill_color\":\"lightgrey\",\"group\":null,\"left_units\":\"screen\",\"level\":\"overlay\",\"line_alpha\":1.0,\"line_color\":\"black\",\"line_dash\":[4,4],\"line_width\":2,\"right_units\":\"screen\",\"syncable\":false,\"top_units\":\"screen\"},\"id\":\"2115\",\"type\":\"BoxAnnotation\"},{\"attributes\":{\"axis\":{\"id\":\"2101\"},\"coordinates\":null,\"group\":null,\"ticker\":null},\"id\":\"2104\",\"type\":\"Grid\"},{\"attributes\":{\"line_alpha\":0.1,\"line_color\":\"blue\",\"x\":{\"field\":\"x\"},\"y\":{\"field\":\"real\"}},\"id\":\"2129\",\"type\":\"Line\"},{\"attributes\":{\"label\":{\"value\":\"Real\"},\"renderers\":[{\"id\":\"2212\"}]},\"id\":\"2225\",\"type\":\"LegendItem\"},{\"attributes\":{\"line_alpha\":0.1,\"line_color\":\"firebrick\",\"x\":{\"field\":\"x\"},\"y\":{\"field\":\"imag\"}},\"id\":\"2228\",\"type\":\"Line\"},{\"attributes\":{\"coordinates\":null,\"data_source\":{\"id\":\"2207\"},\"glyph\":{\"id\":\"2227\"},\"group\":null,\"hover_glyph\":null,\"muted_glyph\":{\"id\":\"2229\"},\"name\":\"imag\",\"nonselection_glyph\":{\"id\":\"2228\"},\"view\":{\"id\":\"2231\"}},\"id\":\"2230\",\"type\":\"GlyphRenderer\"},{\"attributes\":{\"callback\":null,\"formatters\":{\"@imag\":{\"id\":\"2162\"}},\"mode\":\"vline\",\"renderers\":[{\"id\":\"2149\"}],\"tooltips\":[[\"imag\",\"@imag{custom}\"]]},\"id\":\"2165\",\"type\":\"HoverTool\"},{\"attributes\":{\"children\":[{\"id\":\"2253\"},{\"id\":\"2257\"}],\"margin\":[0,0,0,0],\"name\":\"Row00172\",\"sizing_mode\":\"stretch_width\"},\"id\":\"2252\",\"type\":\"Row\"},{\"attributes\":{\"line_color\":\"firebrick\",\"x\":{\"field\":\"x\"},\"y\":{\"field\":\"imag\"}},\"id\":\"2227\",\"type\":\"Line\"},{\"attributes\":{\"line_alpha\":0.2,\"line_color\":\"firebrick\",\"x\":{\"field\":\"x\"},\"y\":{\"field\":\"imag\"}},\"id\":\"2229\",\"type\":\"Line\"},{\"attributes\":{\"code\":\"\\n    if (value == 0) return +value.toFixed(3)\\n    var SI_map = [[1e9, 'G'], [1e6, 'M'], [1e3, 'k'], [1, ''], [1e-3, 'm'], [1e-6, '\\u00b5'], [1e-9, 'n']]\\n    for (const el of SI_map) {\\n        if (value >= el[0] || value <= -el[0])\\n            return +(value/el[0]).toFixed(3) + el[1]\\n    }\\n    return +(value/SI_map[SI_map.length-1][0]).toFixed(3) + SI_map[SI_map.length-1][1]\\n    \"},\"id\":\"2162\",\"type\":\"CustomJSHover\"},{\"attributes\":{\"callback\":null,\"formatters\":{\"@real\":{\"id\":\"2162\"}},\"mode\":\"vline\",\"renderers\":[{\"id\":\"2131\"}],\"tooltips\":[[\"real\",\"@real{custom}\"]]},\"id\":\"2163\",\"type\":\"HoverTool\"},{\"attributes\":{\"code\":\"\\n    if (tick == 0) return +tick.toFixed(5)\\n    var SI_map = [[1e9, 'G'], [1e6, 'M'], [1e3, 'k'], [1, ''], [1e-3, 'm'], [1e-6, '\\u00b5'], [1e-9, 'n']]\\n    for (const el of SI_map) {\\n        if (tick >= el[0] || tick <= -el[0])\\n            return +(tick/el[0]).toFixed(5) + el[1]\\n    }\\n    return +(tick/SI_map[SI_map.length-1][0]).toFixed(5) + SI_map[SI_map.length-1][1]\\n    \"},\"id\":\"2168\",\"type\":\"FuncTickFormatter\"},{\"attributes\":{\"source\":{\"id\":\"2207\"}},\"id\":\"2231\",\"type\":\"CDSView\"},{\"attributes\":{},\"id\":\"2178\",\"type\":\"LinearScale\"},{\"attributes\":{},\"id\":\"2174\",\"type\":\"DataRange1d\"},{\"attributes\":{\"below\":[{\"id\":\"2182\"}],\"center\":[{\"id\":\"2185\"},{\"id\":\"2189\"},{\"id\":\"2224\"}],\"height\":400,\"left\":[{\"id\":\"2186\"}],\"renderers\":[{\"id\":\"2212\"},{\"id\":\"2230\"}],\"sizing_mode\":\"stretch_both\",\"title\":{\"id\":\"2172\"},\"toolbar\":{\"id\":\"2197\"},\"toolbar_location\":\"above\",\"x_range\":{\"id\":\"2174\"},\"x_scale\":{\"id\":\"2178\"},\"y_range\":{\"id\":\"2176\"},\"y_scale\":{\"id\":\"2180\"}},\"id\":\"2171\",\"subtype\":\"Figure\",\"type\":\"Plot\"},{\"attributes\":{\"coordinates\":null,\"group\":null,\"text\":\"Spectrum\"},\"id\":\"2172\",\"type\":\"Title\"},{\"attributes\":{\"data\":{\"imag\":{\"__ndarray__\":\"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\",\"dtype\":\"float64\",\"order\":\"little\",\"shape\":[400]},\"real\":{\"__ndarray__\":\"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\",\"dtype\":\"float64\",\"order\":\"little\",\"shape\":[400]},\"x\":{\"__ndarray__\":\"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\",\"dtype\":\"float64\",\"order\":\"little\",\"shape\":[400]}},\"selected\":{\"id\":\"2222\"},\"selection_policy\":{\"id\":\"2221\"}},\"id\":\"2207\",\"type\":\"ColumnDataSource\"},{\"attributes\":{},\"id\":\"2176\",\"type\":\"DataRange1d\"},{\"attributes\":{},\"id\":\"2180\",\"type\":\"LinearScale\"},{\"attributes\":{\"coordinates\":null,\"data_source\":{\"id\":\"2207\"},\"glyph\":{\"id\":\"2209\"},\"group\":null,\"hover_glyph\":null,\"muted_glyph\":{\"id\":\"2211\"},\"name\":\"real\",\"nonselection_glyph\":{\"id\":\"2210\"},\"view\":{\"id\":\"2213\"}},\"id\":\"2212\",\"type\":\"GlyphRenderer\"},{\"attributes\":{},\"id\":\"2191\",\"type\":\"WheelZoomTool\"},{\"attributes\":{},\"id\":\"2183\",\"type\":\"BasicTicker\"},{\"attributes\":{\"axis_label\":\"Frequency (kHz)\",\"coordinates\":null,\"formatter\":{\"id\":\"2249\"},\"group\":null,\"major_label_policy\":{\"id\":\"2220\"},\"ticker\":{\"id\":\"2183\"}},\"id\":\"2182\",\"type\":\"LinearAxis\"},{\"attributes\":{\"axis\":{\"id\":\"2182\"},\"coordinates\":null,\"group\":null,\"ticker\":null},\"id\":\"2185\",\"type\":\"Grid\"},{\"attributes\":{\"below\":[{\"id\":\"2101\"}],\"center\":[{\"id\":\"2104\"},{\"id\":\"2108\"},{\"id\":\"2143\"}],\"height\":400,\"left\":[{\"id\":\"2105\"}],\"renderers\":[{\"id\":\"2131\"},{\"id\":\"2149\"}],\"sizing_mode\":\"stretch_both\",\"title\":{\"id\":\"2091\"},\"toolbar\":{\"id\":\"2116\"},\"toolbar_location\":\"above\",\"x_range\":{\"id\":\"2093\"},\"x_scale\":{\"id\":\"2097\"},\"y_range\":{\"id\":\"2095\"},\"y_scale\":{\"id\":\"2099\"}},\"id\":\"2090\",\"subtype\":\"Figure\",\"type\":\"Plot\"},{\"attributes\":{\"axis_label\":\"Spectral Density\",\"coordinates\":null,\"formatter\":{\"id\":\"2249\"},\"group\":null,\"major_label_policy\":{\"id\":\"2217\"},\"ticker\":{\"id\":\"2187\"}},\"id\":\"2186\",\"type\":\"LinearAxis\"},{\"attributes\":{\"axis\":{\"id\":\"2186\"},\"coordinates\":null,\"dimension\":1,\"group\":null,\"ticker\":null},\"id\":\"2189\",\"type\":\"Grid\"},{\"attributes\":{\"callback\":null,\"formatters\":{\"@imag\":{\"id\":\"2243\"}},\"mode\":\"vline\",\"renderers\":[{\"id\":\"2230\"}],\"tooltips\":[[\"imag\",\"@imag{custom}\"]]},\"id\":\"2246\",\"type\":\"HoverTool\"},{\"attributes\":{},\"id\":\"2187\",\"type\":\"BasicTicker\"},{\"attributes\":{},\"id\":\"2136\",\"type\":\"AllLabels\"},{\"attributes\":{},\"id\":\"2195\",\"type\":\"SaveTool\"},{\"attributes\":{},\"id\":\"2190\",\"type\":\"PanTool\"},{\"attributes\":{\"code\":\"\\n    if (value == 0) return +value.toFixed(3)\\n    var SI_map = [[1e9, 'G'], [1e6, 'M'], [1e3, 'k'], [1, ''], [1e-3, 'm'], [1e-6, '\\u00b5'], [1e-9, 'n']]\\n    for (const el of SI_map) {\\n        if (value >= el[0] || value <= -el[0])\\n            return +(value/el[0]).toFixed(3) + el[1]\\n    }\\n    return +(value/SI_map[SI_map.length-1][0]).toFixed(3) + SI_map[SI_map.length-1][1]\\n    \"},\"id\":\"2243\",\"type\":\"CustomJSHover\"},{\"attributes\":{},\"id\":\"2139\",\"type\":\"AllLabels\"},{\"attributes\":{\"overlay\":{\"id\":\"2196\"}},\"id\":\"2192\",\"type\":\"BoxZoomTool\"},{\"attributes\":{},\"id\":\"2193\",\"type\":\"CrosshairTool\"},{\"attributes\":{},\"id\":\"2194\",\"type\":\"ResetTool\"},{\"attributes\":{\"callback\":null,\"formatters\":{\"@real\":{\"id\":\"2243\"}},\"mode\":\"vline\",\"renderers\":[{\"id\":\"2212\"}],\"tooltips\":[[\"real\",\"@real{custom}\"]]},\"id\":\"2244\",\"type\":\"HoverTool\"},{\"attributes\":{\"code\":\"\\n    if (tick == 0) return +tick.toFixed(5)\\n    var SI_map = [[1e9, 'G'], [1e6, 'M'], [1e3, 'k'], [1, ''], [1e-3, 'm'], [1e-6, '\\u00b5'], [1e-9, 'n']]\\n    for (const el of SI_map) {\\n        if (tick >= el[0] || tick <= -el[0])\\n            return +(tick/el[0]).toFixed(5) + el[1]\\n    }\\n    return +(tick/SI_map[SI_map.length-1][0]).toFixed(5) + SI_map[SI_map.length-1][1]\\n    \"},\"id\":\"2249\",\"type\":\"FuncTickFormatter\"},{\"attributes\":{\"client_comm_id\":\"5867edb7dd7e43bd8ac26e892b9926c7\",\"comm_id\":\"8db73d01affe4445b2fc0e4ef53e3656\",\"plot_id\":\"2252\"},\"id\":\"2338\",\"type\":\"panel.models.comm_manager.CommManager\"},{\"attributes\":{\"bottom_units\":\"screen\",\"coordinates\":null,\"fill_alpha\":0.5,\"fill_color\":\"lightgrey\",\"group\":null,\"left_units\":\"screen\",\"level\":\"overlay\",\"line_alpha\":1.0,\"line_color\":\"black\",\"line_dash\":[4,4],\"line_width\":2,\"right_units\":\"screen\",\"syncable\":false,\"top_units\":\"screen\"},\"id\":\"2196\",\"type\":\"BoxAnnotation\"},{\"attributes\":{},\"id\":\"2102\",\"type\":\"BasicTicker\"},{\"attributes\":{},\"id\":\"2140\",\"type\":\"UnionRenderers\"},{\"attributes\":{\"active_drag\":{\"id\":\"2190\"},\"active_scroll\":null,\"logo\":null,\"tools\":[{\"id\":\"2190\"},{\"id\":\"2191\"},{\"id\":\"2192\"},{\"id\":\"2193\"},{\"id\":\"2194\"},{\"id\":\"2195\"},{\"id\":\"2244\"},{\"id\":\"2246\"}]},\"id\":\"2197\",\"type\":\"Toolbar\"}],\"root_ids\":[\"2252\",\"2338\"]},\"title\":\"Bokeh Application\",\"version\":\"2.4.3\"}};\n",
       "    var render_items = [{\"docid\":\"0e550d6e-676f-4ef6-90ca-2ce7efd3c225\",\"root_ids\":[\"2252\"],\"roots\":{\"2252\":\"347f4c7e-abf2-48a1-a72f-645f6b9641f5\"}}];\n",
       "    root.Bokeh.embed.embed_items_notebook(docs_json, render_items);\n",
       "  }\n",
       "  if (root.Bokeh !== undefined && root.Bokeh.Panel !== undefined) {\n",
       "    embed_document(root);\n",
       "  } else {\n",
       "    var attempts = 0;\n",
       "    var timer = setInterval(function(root) {\n",
       "      if (root.Bokeh !== undefined && root.Bokeh.Panel !== undefined) {\n",
       "        clearInterval(timer);\n",
       "        embed_document(root);\n",
       "      } else if (document.readyState == \"complete\") {\n",
       "        attempts++;\n",
       "        if (attempts > 200) {\n",
       "          clearInterval(timer);\n",
       "          console.log(\"Bokeh: ERROR: Unable to run BokehJS code because BokehJS library is missing\");\n",
       "        }\n",
       "      }\n",
       "    }, 25, root)\n",
       "  }\n",
       "})(window);</script>"
      ],
      "text/plain": [
       "Row(sizing_mode='stretch_width')\n",
       "    [0] Column\n",
       "        [0] FloatInput(end=2000, name='width', start=1, step=10, value=400, width=80)\n",
       "        [1] FloatInput(end=100, name='lobes', start=0, step=1, value=3, width=80)\n",
       "        [2] FloatInput(end=100, name='apodization', start=0, step=1, width=80)\n",
       "    [1] Row(sizing_mode='stretch_width')\n",
       "        [0] Bokeh(Figure)\n",
       "        [1] Bokeh(Figure)"
      ]
     },
     "execution_count": 8,
     "metadata": {
      "application/vnd.holoviews_exec.v0+json": {
       "id": "2252"
      }
     },
     "output_type": "execute_result"
    }
   ],
   "source": [
    "from matipo.util.pulseshape import calc_soft_pulse\n",
    "from matipo.util.plots import SharedXPlot, ComplexPlot\n",
    "from scipy.fft import fft,fftfreq, fftshift, ifftshift\n",
    "from bokeh.plotting import figure\n",
    "\n",
    "width_input = pn.widgets.FloatInput(name=\"width\", start=1, end=2000, step=10, value=400, width=80)\n",
    "n_lobe_input = pn.widgets.FloatInput(name=\"lobes\", start=0, end=100, step=1, value=3, width=80)\n",
    "apodization_input = pn.widgets.FloatInput(name=\"apodization\", start=0, end=100, step=1, value=0, width=80)\n",
    "\n",
    "p1 = ComplexPlot(\n",
    "    title=\"Waveform\",\n",
    "    x_axis_label=\"Time (ms)\",\n",
    "    y_axis_label=\"Amplitude\",\n",
    "    height=400)\n",
    "\n",
    "p2 = ComplexPlot(\n",
    "    title=\"Spectrum\",\n",
    "    x_axis_label=\"Frequency (kHz)\",\n",
    "    y_axis_label=\"Spectral Density\",\n",
    "    height=400)\n",
    "\n",
    "plot_row = pn.Row(p1.figure, p2.figure, sizing_mode='stretch_width')\n",
    "\n",
    "global_shape = [1]\n",
    "global_width = 100e-6\n",
    "\n",
    "def update_plots(event):\n",
    "    global global_width, global_shape \n",
    "    width = width_input.value*1e-6\n",
    "    N = int(width / 1e-6)\n",
    "    if N > 1000:\n",
    "        N = 1000\n",
    "    dt = width / N\n",
    "    pts = np.sinc(np.linspace(-n_lobe_input.value, n_lobe_input.value,N)) \n",
    "    t = np.arange(N)*dt\n",
    "    t_0 = (width-dt)/2\n",
    "    pts*=np.exp(-apodization_input.value*(np.linspace(-1, 1, N)**2))\n",
    "    global_shape = pts\n",
    "    global_width = width\n",
    "    freq = fftfreq(N,dt)\n",
    "    spectrum = fft(pts)\n",
    "    spectrum *= np.exp(-1j*np.pi*(width+dt)*freq) # fix phase of spectrum plot due to time offset\n",
    "    freq = fftshift(freq)\n",
    "    spectrum = fftshift(spectrum)\n",
    "    p1.update_data(t, pts)\n",
    "    p2.update_data(freq, spectrum)\n",
    "    pn.io.push_notebook(plot_row)\n",
    "\n",
    "# update plot when any value is changed\n",
    "width_input.param.watch(update_plots, 'value')\n",
    "n_lobe_input.param.watch(update_plots, 'value')\n",
    "apodization_input.param.watch(update_plots, 'value')\n",
    "\n",
    "# manually trigger for first update\n",
    "width_input.param.trigger('value')\n",
    "\n",
    "app = pn.Row(\n",
    "    pn.Column(width_input, n_lobe_input, apodization_input),\n",
    "    plot_row,\n",
    "    sizing_mode='stretch_width')\n",
    "\n",
    "app"
   ]
  },
  {
   "cell_type": "markdown",
   "id": "dec4448b-9f8d-439b-81eb-08d2d446b8d9",
   "metadata": {},
   "source": [
    "> -------------------------------------------------------------------------------------------------------------------------------------------------------\n",
    "> #### **Task 3.1.1.2: 1D Slice Profile**\n",
    "> With the sinc pulse designed, we can now use it to create a 1D image of the slice profile. Later in the lab we will explore the effect the slice-select gradient has on the slice profile. For now, the gradient strength ($G_{ss}$) is fixed at 50% (add the actual value of this for calculations).    \n",
    "> 1. Based on this value and the frequency range ($\\Delta$F) of the sinc pulse you have designed, calculate the expected thickness of the slice profile.\n",
    "> 2. Insert the shim sample (make sure to centre the sample using the depth gauge).\n",
    "> 3. Run the experiment and check your answer against the results.\n",
    "> 4. Change the shape of the RF-pulse and observe how this changes the slice profile. **Question:** How does the overall shape on the slice profile compare to the shape of the shape of the excitation profile.\n",
    "> -------------------------------------------------------------------------------------------------------------------------------------------------------"
   ]
  },
  {
   "cell_type": "code",
   "execution_count": 9,
   "id": "3232bfae-93ee-44eb-aa9f-f4e18767af47",
   "metadata": {
    "jupyter": {
     "source_hidden": true
    },
    "tags": []
   },
   "outputs": [
    {
     "data": {},
     "metadata": {},
     "output_type": "display_data"
    },
    {
     "data": {
      "application/vnd.holoviews_exec.v0+json": "",
      "text/html": [
       "<div id='2619'>\n",
       "  <div class=\"bk-root\" id=\"2fe5f273-99d7-480d-8252-7113e8832b73\" data-root-id=\"2619\"></div>\n",
       "</div>\n",
       "<script type=\"application/javascript\">(function(root) {\n",
       "  function embed_document(root) {\n",
       "    var docs_json = {\"9d687438-419d-4158-b181-e792b42ff0e9\":{\"defs\":[{\"extends\":null,\"module\":null,\"name\":\"ReactiveHTML1\",\"overrides\":[],\"properties\":[]},{\"extends\":null,\"module\":null,\"name\":\"FlexBox1\",\"overrides\":[],\"properties\":[{\"default\":\"flex-start\",\"kind\":null,\"name\":\"align_content\"},{\"default\":\"flex-start\",\"kind\":null,\"name\":\"align_items\"},{\"default\":\"row\",\"kind\":null,\"name\":\"flex_direction\"},{\"default\":\"wrap\",\"kind\":null,\"name\":\"flex_wrap\"},{\"default\":\"flex-start\",\"kind\":null,\"name\":\"justify_content\"}]},{\"extends\":null,\"module\":null,\"name\":\"GridStack1\",\"overrides\":[],\"properties\":[{\"default\":\"warn\",\"kind\":null,\"name\":\"mode\"},{\"default\":null,\"kind\":null,\"name\":\"ncols\"},{\"default\":null,\"kind\":null,\"name\":\"nrows\"},{\"default\":true,\"kind\":null,\"name\":\"allow_resize\"},{\"default\":true,\"kind\":null,\"name\":\"allow_drag\"},{\"default\":[],\"kind\":null,\"name\":\"state\"}]},{\"extends\":null,\"module\":null,\"name\":\"click1\",\"overrides\":[],\"properties\":[{\"default\":\"\",\"kind\":null,\"name\":\"terminal_output\"},{\"default\":\"\",\"kind\":null,\"name\":\"debug_name\"},{\"default\":0,\"kind\":null,\"name\":\"clears\"}]},{\"extends\":null,\"module\":null,\"name\":\"NotificationAreaBase1\",\"overrides\":[],\"properties\":[{\"default\":\"bottom-right\",\"kind\":null,\"name\":\"position\"},{\"default\":0,\"kind\":null,\"name\":\"_clear\"}]},{\"extends\":null,\"module\":null,\"name\":\"NotificationArea1\",\"overrides\":[],\"properties\":[{\"default\":[],\"kind\":null,\"name\":\"notifications\"},{\"default\":\"bottom-right\",\"kind\":null,\"name\":\"position\"},{\"default\":0,\"kind\":null,\"name\":\"_clear\"},{\"default\":[{\"background\":\"#ffc107\",\"icon\":{\"className\":\"fas fa-exclamation-triangle\",\"color\":\"white\",\"tagName\":\"i\"},\"type\":\"warning\"},{\"background\":\"#007bff\",\"icon\":{\"className\":\"fas fa-info-circle\",\"color\":\"white\",\"tagName\":\"i\"},\"type\":\"info\"}],\"kind\":null,\"name\":\"types\"}]},{\"extends\":null,\"module\":null,\"name\":\"Notification\",\"overrides\":[],\"properties\":[{\"default\":null,\"kind\":null,\"name\":\"background\"},{\"default\":3000,\"kind\":null,\"name\":\"duration\"},{\"default\":null,\"kind\":null,\"name\":\"icon\"},{\"default\":\"\",\"kind\":null,\"name\":\"message\"},{\"default\":null,\"kind\":null,\"name\":\"notification_type\"},{\"default\":false,\"kind\":null,\"name\":\"_destroyed\"}]},{\"extends\":null,\"module\":null,\"name\":\"TemplateActions1\",\"overrides\":[],\"properties\":[{\"default\":0,\"kind\":null,\"name\":\"open_modal\"},{\"default\":0,\"kind\":null,\"name\":\"close_modal\"}]},{\"extends\":null,\"module\":null,\"name\":\"MaterialTemplateActions1\",\"overrides\":[],\"properties\":[{\"default\":0,\"kind\":null,\"name\":\"open_modal\"},{\"default\":0,\"kind\":null,\"name\":\"close_modal\"}]}],\"roots\":{\"references\":[{\"attributes\":{},\"id\":\"2568\",\"type\":\"AllLabels\"},{\"attributes\":{},\"id\":\"2569\",\"type\":\"UnionRenderers\"},{\"attributes\":{},\"id\":\"2570\",\"type\":\"Selection\"},{\"attributes\":{},\"id\":\"2465\",\"type\":\"AllLabels\"},{\"attributes\":{},\"id\":\"2468\",\"type\":\"AllLabels\"},{\"attributes\":{\"label\":{\"value\":\"Imag\"},\"renderers\":[{\"id\":\"2495\"}]},\"id\":\"2507\",\"type\":\"LegendItem\"},{\"attributes\":{\"align\":\"end\",\"button_type\":\"danger\",\"icon\":null,\"label\":\"Abort\",\"margin\":[5,10,5,10],\"sizing_mode\":\"stretch_width\",\"subscribed_events\":[\"button_click\"]},\"id\":\"2657\",\"type\":\"Button\"},{\"attributes\":{\"bar_color\":\"success\",\"height\":31,\"margin\":[5,10,5,10],\"sizing_mode\":\"stretch_width\",\"value\":0},\"id\":\"2658\",\"type\":\"panel.models.widgets.Progress\"},{\"attributes\":{},\"id\":\"2469\",\"type\":\"UnionRenderers\"},{\"attributes\":{},\"id\":\"2470\",\"type\":\"Selection\"},{\"attributes\":{\"align\":\"end\",\"disabled\":true,\"margin\":[5,10,5,10],\"max_length\":5000,\"sizing_mode\":\"stretch_width\",\"value\":\"Idle\"},\"id\":\"2659\",\"type\":\"TextInput\"},{\"attributes\":{\"callback\":null,\"formatters\":{\"@real\":{\"id\":\"2508\"}},\"mode\":\"vline\",\"renderers\":[{\"id\":\"2478\"}],\"tooltips\":[[\"real\",\"@real{custom}\"]]},\"id\":\"2511\",\"type\":\"HoverTool\"},{\"attributes\":{\"label\":{\"value\":\"Real\"},\"renderers\":[{\"id\":\"2578\"}]},\"id\":\"2590\",\"type\":\"LegendItem\"},{\"attributes\":{\"line_alpha\":0.1,\"line_color\":\"blue\",\"x\":{\"field\":\"x\"},\"y\":{\"field\":\"real\"}},\"id\":\"2576\",\"type\":\"Line\"},{\"attributes\":{\"coordinates\":null,\"data_source\":{\"id\":\"2555\"},\"glyph\":{\"id\":\"2575\"},\"group\":null,\"hover_glyph\":null,\"muted_glyph\":{\"id\":\"2577\"},\"name\":\"real\",\"nonselection_glyph\":{\"id\":\"2576\"},\"view\":{\"id\":\"2579\"}},\"id\":\"2578\",\"type\":\"GlyphRenderer\"},{\"attributes\":{\"code\":\"\\n    if (value == 0) return +value.toFixed(3)\\n    var SI_map = [[1e9, 'G'], [1e6, 'M'], [1e3, 'k'], [1, ''], [1e-3, 'm'], [1e-6, '\\u00b5'], [1e-9, 'n']]\\n    for (const el of SI_map) {\\n        if (value >= el[0] || value <= -el[0])\\n            return +(value/el[0]).toFixed(3) + el[1]\\n    }\\n    return +(value/SI_map[SI_map.length-1][0]).toFixed(3) + SI_map[SI_map.length-1][1]\\n    \"},\"id\":\"2508\",\"type\":\"CustomJSHover\"},{\"attributes\":{\"callback\":null,\"formatters\":{\"@mag\":{\"id\":\"2508\"}},\"mode\":\"vline\",\"renderers\":[{\"id\":\"2460\"}],\"tooltips\":[[\"mag\",\"@mag{custom}\"]]},\"id\":\"2509\",\"type\":\"HoverTool\"},{\"attributes\":{\"code\":\"\\n    if (tick == 0) return +tick.toFixed(5)\\n    var SI_map = [[1e9, 'G'], [1e6, 'M'], [1e3, 'k'], [1, ''], [1e-3, 'm'], [1e-6, '\\u00b5'], [1e-9, 'n']]\\n    for (const el of SI_map) {\\n        if (tick >= el[0] || tick <= -el[0])\\n            return +(tick/el[0]).toFixed(5) + el[1]\\n    }\\n    return +(tick/SI_map[SI_map.length-1][0]).toFixed(5) + SI_map[SI_map.length-1][1]\\n    \"},\"id\":\"2516\",\"type\":\"FuncTickFormatter\"},{\"attributes\":{\"line_alpha\":0.1,\"line_color\":\"orange\",\"x\":{\"field\":\"x\"},\"y\":{\"field\":\"mag\"}},\"id\":\"2558\",\"type\":\"Line\"},{\"attributes\":{\"line_color\":\"blue\",\"x\":{\"field\":\"x\"},\"y\":{\"field\":\"real\"}},\"id\":\"2575\",\"type\":\"Line\"},{\"attributes\":{\"line_alpha\":0.2,\"line_color\":\"blue\",\"x\":{\"field\":\"x\"},\"y\":{\"field\":\"real\"}},\"id\":\"2577\",\"type\":\"Line\"},{\"attributes\":{\"coordinates\":null,\"group\":null,\"text\":\"Spectrum\"},\"id\":\"2520\",\"type\":\"Title\"},{\"attributes\":{\"label\":{\"value\":\"Imag\"},\"renderers\":[{\"id\":\"2595\"}]},\"id\":\"2607\",\"type\":\"LegendItem\"},{\"attributes\":{\"source\":{\"id\":\"2555\"}},\"id\":\"2579\",\"type\":\"CDSView\"},{\"attributes\":{\"callback\":null,\"formatters\":{\"@imag\":{\"id\":\"2508\"}},\"mode\":\"vline\",\"renderers\":[{\"id\":\"2495\"}],\"tooltips\":[[\"imag\",\"@imag{custom}\"]]},\"id\":\"2513\",\"type\":\"HoverTool\"},{\"attributes\":{\"data\":{\"imag\":{\"__ndarray__\":\"AAAAAA==\",\"dtype\":\"float32\",\"order\":\"little\",\"shape\":[1]},\"mag\":{\"__ndarray__\":\"AAAAAA==\",\"dtype\":\"float32\",\"order\":\"little\",\"shape\":[1]},\"real\":{\"__ndarray__\":\"AAAAAA==\",\"dtype\":\"float32\",\"order\":\"little\",\"shape\":[1]},\"x\":{\"__ndarray__\":\"AAAAAAAAAAA=\",\"dtype\":\"float64\",\"order\":\"little\",\"shape\":[1]}},\"selected\":{\"id\":\"2570\"},\"selection_policy\":{\"id\":\"2569\"}},\"id\":\"2555\",\"type\":\"ColumnDataSource\"},{\"attributes\":{\"below\":[{\"id\":\"2530\"}],\"center\":[{\"id\":\"2533\"},{\"id\":\"2537\"},{\"id\":\"2572\"}],\"height\":400,\"left\":[{\"id\":\"2534\"}],\"renderers\":[{\"id\":\"2560\"},{\"id\":\"2578\"},{\"id\":\"2595\"}],\"sizing_mode\":\"stretch_both\",\"title\":{\"id\":\"2520\"},\"toolbar\":{\"id\":\"2545\"},\"toolbar_location\":\"above\",\"x_range\":{\"id\":\"2522\"},\"x_scale\":{\"id\":\"2526\"},\"y_range\":{\"id\":\"2524\"},\"y_scale\":{\"id\":\"2528\"}},\"id\":\"2519\",\"subtype\":\"Figure\",\"type\":\"Plot\"},{\"attributes\":{},\"id\":\"2528\",\"type\":\"LinearScale\"},{\"attributes\":{},\"id\":\"2522\",\"type\":\"DataRange1d\"},{\"attributes\":{},\"id\":\"2524\",\"type\":\"DataRange1d\"},{\"attributes\":{},\"id\":\"2531\",\"type\":\"BasicTicker\"},{\"attributes\":{\"axis\":{\"id\":\"2530\"},\"coordinates\":null,\"group\":null,\"ticker\":null},\"id\":\"2533\",\"type\":\"Grid\"},{\"attributes\":{},\"id\":\"2526\",\"type\":\"LinearScale\"},{\"attributes\":{\"axis_label\":\"relative frequency (Hz)\",\"coordinates\":null,\"formatter\":{\"id\":\"2616\"},\"group\":null,\"major_label_policy\":{\"id\":\"2568\"},\"ticker\":{\"id\":\"2531\"}},\"id\":\"2530\",\"type\":\"LinearAxis\"},{\"attributes\":{\"line_alpha\":0.1,\"line_color\":\"blue\",\"x\":{\"field\":\"x\"},\"y\":{\"field\":\"real\"}},\"id\":\"2476\",\"type\":\"Line\"},{\"attributes\":{},\"id\":\"2539\",\"type\":\"WheelZoomTool\"},{\"attributes\":{\"axis_label\":\"spectral density (V/kHz)\",\"coordinates\":null,\"formatter\":{\"id\":\"2616\"},\"group\":null,\"major_label_policy\":{\"id\":\"2565\"},\"ticker\":{\"id\":\"2535\"}},\"id\":\"2534\",\"type\":\"LinearAxis\"},{\"attributes\":{\"axis\":{\"id\":\"2534\"},\"coordinates\":null,\"dimension\":1,\"group\":null,\"ticker\":null},\"id\":\"2537\",\"type\":\"Grid\"},{\"attributes\":{\"line_alpha\":0.1,\"line_color\":\"firebrick\",\"x\":{\"field\":\"x\"},\"y\":{\"field\":\"imag\"}},\"id\":\"2593\",\"type\":\"Line\"},{\"attributes\":{},\"id\":\"2535\",\"type\":\"BasicTicker\"},{\"attributes\":{\"label\":{\"value\":\"Real\"},\"renderers\":[{\"id\":\"2478\"}]},\"id\":\"2490\",\"type\":\"LegendItem\"},{\"attributes\":{\"coordinates\":null,\"data_source\":{\"id\":\"2455\"},\"glyph\":{\"id\":\"2475\"},\"group\":null,\"hover_glyph\":null,\"muted_glyph\":{\"id\":\"2477\"},\"name\":\"real\",\"nonselection_glyph\":{\"id\":\"2476\"},\"view\":{\"id\":\"2479\"}},\"id\":\"2478\",\"type\":\"GlyphRenderer\"},{\"attributes\":{\"coordinates\":null,\"data_source\":{\"id\":\"2555\"},\"glyph\":{\"id\":\"2592\"},\"group\":null,\"hover_glyph\":null,\"muted_glyph\":{\"id\":\"2594\"},\"name\":\"imag\",\"nonselection_glyph\":{\"id\":\"2593\"},\"view\":{\"id\":\"2596\"}},\"id\":\"2595\",\"type\":\"GlyphRenderer\"},{\"attributes\":{},\"id\":\"2543\",\"type\":\"SaveTool\"},{\"attributes\":{\"data\":{\"imag\":{\"__ndarray__\":\"AAAAAA==\",\"dtype\":\"float32\",\"order\":\"little\",\"shape\":[1]},\"mag\":{\"__ndarray__\":\"AAAAAA==\",\"dtype\":\"float32\",\"order\":\"little\",\"shape\":[1]},\"real\":{\"__ndarray__\":\"AAAAAA==\",\"dtype\":\"float32\",\"order\":\"little\",\"shape\":[1]},\"x\":{\"__ndarray__\":\"AAAAAAAAAAA=\",\"dtype\":\"float64\",\"order\":\"little\",\"shape\":[1]}},\"selected\":{\"id\":\"2470\"},\"selection_policy\":{\"id\":\"2469\"}},\"id\":\"2455\",\"type\":\"ColumnDataSource\"},{\"attributes\":{\"below\":[{\"id\":\"2430\"}],\"center\":[{\"id\":\"2433\"},{\"id\":\"2437\"},{\"id\":\"2472\"}],\"height\":400,\"left\":[{\"id\":\"2434\"}],\"renderers\":[{\"id\":\"2460\"},{\"id\":\"2478\"},{\"id\":\"2495\"}],\"sizing_mode\":\"stretch_both\",\"title\":{\"id\":\"2420\"},\"toolbar\":{\"id\":\"2445\"},\"toolbar_location\":\"above\",\"x_range\":{\"id\":\"2422\"},\"x_scale\":{\"id\":\"2426\"},\"y_range\":{\"id\":\"2424\"},\"y_scale\":{\"id\":\"2428\"}},\"id\":\"2419\",\"subtype\":\"Figure\",\"type\":\"Plot\"},{\"attributes\":{},\"id\":\"2538\",\"type\":\"PanTool\"},{\"attributes\":{},\"id\":\"2424\",\"type\":\"DataRange1d\"},{\"attributes\":{},\"id\":\"2428\",\"type\":\"LinearScale\"},{\"attributes\":{\"line_color\":\"firebrick\",\"x\":{\"field\":\"x\"},\"y\":{\"field\":\"imag\"}},\"id\":\"2592\",\"type\":\"Line\"},{\"attributes\":{},\"id\":\"2431\",\"type\":\"BasicTicker\"},{\"attributes\":{},\"id\":\"2422\",\"type\":\"DataRange1d\"},{\"attributes\":{\"line_alpha\":0.2,\"line_color\":\"firebrick\",\"x\":{\"field\":\"x\"},\"y\":{\"field\":\"imag\"}},\"id\":\"2594\",\"type\":\"Line\"},{\"attributes\":{\"source\":{\"id\":\"2555\"}},\"id\":\"2596\",\"type\":\"CDSView\"},{\"attributes\":{\"coordinates\":null,\"group\":null,\"text\":\"Signal\"},\"id\":\"2420\",\"type\":\"Title\"},{\"attributes\":{},\"id\":\"2541\",\"type\":\"CrosshairTool\"},{\"attributes\":{\"axis\":{\"id\":\"2430\"},\"coordinates\":null,\"group\":null,\"ticker\":null},\"id\":\"2433\",\"type\":\"Grid\"},{\"attributes\":{},\"id\":\"2426\",\"type\":\"LinearScale\"},{\"attributes\":{\"bottom_units\":\"screen\",\"coordinates\":null,\"fill_alpha\":0.5,\"fill_color\":\"lightgrey\",\"group\":null,\"left_units\":\"screen\",\"level\":\"overlay\",\"line_alpha\":1.0,\"line_color\":\"black\",\"line_dash\":[4,4],\"line_width\":2,\"right_units\":\"screen\",\"syncable\":false,\"top_units\":\"screen\"},\"id\":\"2544\",\"type\":\"BoxAnnotation\"},{\"attributes\":{\"axis_label\":\"time (s)\",\"coordinates\":null,\"formatter\":{\"id\":\"2516\"},\"group\":null,\"major_label_policy\":{\"id\":\"2468\"},\"ticker\":{\"id\":\"2431\"}},\"id\":\"2430\",\"type\":\"LinearAxis\"},{\"attributes\":{\"line_color\":\"orange\",\"x\":{\"field\":\"x\"},\"y\":{\"field\":\"mag\"}},\"id\":\"2557\",\"type\":\"Line\"},{\"attributes\":{\"source\":{\"id\":\"2455\"}},\"id\":\"2479\",\"type\":\"CDSView\"},{\"attributes\":{},\"id\":\"2439\",\"type\":\"WheelZoomTool\"},{\"attributes\":{\"coordinates\":null,\"data_source\":{\"id\":\"2455\"},\"glyph\":{\"id\":\"2492\"},\"group\":null,\"hover_glyph\":null,\"muted_glyph\":{\"id\":\"2494\"},\"name\":\"imag\",\"nonselection_glyph\":{\"id\":\"2493\"},\"view\":{\"id\":\"2496\"}},\"id\":\"2495\",\"type\":\"GlyphRenderer\"},{\"attributes\":{\"axis_label\":\"signal (V)\",\"coordinates\":null,\"formatter\":{\"id\":\"2516\"},\"group\":null,\"major_label_policy\":{\"id\":\"2465\"},\"ticker\":{\"id\":\"2435\"}},\"id\":\"2434\",\"type\":\"LinearAxis\"},{\"attributes\":{\"axis\":{\"id\":\"2434\"},\"coordinates\":null,\"dimension\":1,\"group\":null,\"ticker\":null},\"id\":\"2437\",\"type\":\"Grid\"},{\"attributes\":{},\"id\":\"2435\",\"type\":\"BasicTicker\"},{\"attributes\":{\"line_alpha\":0.2,\"line_color\":\"firebrick\",\"x\":{\"field\":\"x\"},\"y\":{\"field\":\"imag\"}},\"id\":\"2494\",\"type\":\"Line\"},{\"attributes\":{\"line_color\":\"blue\",\"x\":{\"field\":\"x\"},\"y\":{\"field\":\"real\"}},\"id\":\"2475\",\"type\":\"Line\"},{\"attributes\":{},\"id\":\"2443\",\"type\":\"SaveTool\"},{\"attributes\":{},\"id\":\"2438\",\"type\":\"PanTool\"},{\"attributes\":{\"overlay\":{\"id\":\"2444\"}},\"id\":\"2440\",\"type\":\"BoxZoomTool\"},{\"attributes\":{\"line_alpha\":0.2,\"line_color\":\"blue\",\"x\":{\"field\":\"x\"},\"y\":{\"field\":\"real\"}},\"id\":\"2477\",\"type\":\"Line\"},{\"attributes\":{},\"id\":\"2441\",\"type\":\"CrosshairTool\"},{\"attributes\":{},\"id\":\"2442\",\"type\":\"ResetTool\"},{\"attributes\":{\"callback\":null,\"formatters\":{\"@real\":{\"id\":\"2608\"}},\"mode\":\"vline\",\"renderers\":[{\"id\":\"2578\"}],\"tooltips\":[[\"real\",\"@real{custom}\"]]},\"id\":\"2611\",\"type\":\"HoverTool\"},{\"attributes\":{\"code\":\"\\n    if (value == 0) return +value.toFixed(3)\\n    var SI_map = [[1e9, 'G'], [1e6, 'M'], [1e3, 'k'], [1, ''], [1e-3, 'm'], [1e-6, '\\u00b5'], [1e-9, 'n']]\\n    for (const el of SI_map) {\\n        if (value >= el[0] || value <= -el[0])\\n            return +(value/el[0]).toFixed(3) + el[1]\\n    }\\n    return +(value/SI_map[SI_map.length-1][0]).toFixed(3) + SI_map[SI_map.length-1][1]\\n    \"},\"id\":\"2608\",\"type\":\"CustomJSHover\"},{\"attributes\":{\"bottom_units\":\"screen\",\"coordinates\":null,\"fill_alpha\":0.5,\"fill_color\":\"lightgrey\",\"group\":null,\"left_units\":\"screen\",\"level\":\"overlay\",\"line_alpha\":1.0,\"line_color\":\"black\",\"line_dash\":[4,4],\"line_width\":2,\"right_units\":\"screen\",\"syncable\":false,\"top_units\":\"screen\"},\"id\":\"2444\",\"type\":\"BoxAnnotation\"},{\"attributes\":{\"callback\":null,\"formatters\":{\"@mag\":{\"id\":\"2608\"}},\"mode\":\"vline\",\"renderers\":[{\"id\":\"2560\"}],\"tooltips\":[[\"mag\",\"@mag{custom}\"]]},\"id\":\"2609\",\"type\":\"HoverTool\"},{\"attributes\":{\"line_alpha\":0.1,\"line_color\":\"orange\",\"x\":{\"field\":\"x\"},\"y\":{\"field\":\"mag\"}},\"id\":\"2458\",\"type\":\"Line\"},{\"attributes\":{\"code\":\"\\n    if (tick == 0) return +tick.toFixed(5)\\n    var SI_map = [[1e9, 'G'], [1e6, 'M'], [1e3, 'k'], [1, ''], [1e-3, 'm'], [1e-6, '\\u00b5'], [1e-9, 'n']]\\n    for (const el of SI_map) {\\n        if (tick >= el[0] || tick <= -el[0])\\n            return +(tick/el[0]).toFixed(5) + el[1]\\n    }\\n    return +(tick/SI_map[SI_map.length-1][0]).toFixed(5) + SI_map[SI_map.length-1][1]\\n    \"},\"id\":\"2616\",\"type\":\"FuncTickFormatter\"},{\"attributes\":{\"coordinates\":null,\"data_source\":{\"id\":\"2555\"},\"glyph\":{\"id\":\"2557\"},\"group\":null,\"hover_glyph\":null,\"muted_glyph\":{\"id\":\"2559\"},\"name\":\"mag\",\"nonselection_glyph\":{\"id\":\"2558\"},\"view\":{\"id\":\"2561\"}},\"id\":\"2560\",\"type\":\"GlyphRenderer\"},{\"attributes\":{\"label\":{\"value\":\"Magnitude\"},\"renderers\":[{\"id\":\"2560\"}]},\"id\":\"2573\",\"type\":\"LegendItem\"},{\"attributes\":{\"active_drag\":{\"id\":\"2538\"},\"active_scroll\":null,\"logo\":null,\"tools\":[{\"id\":\"2538\"},{\"id\":\"2539\"},{\"id\":\"2540\"},{\"id\":\"2541\"},{\"id\":\"2542\"},{\"id\":\"2543\"},{\"id\":\"2609\"},{\"id\":\"2611\"},{\"id\":\"2613\"}]},\"id\":\"2545\",\"type\":\"Toolbar\"},{\"attributes\":{\"callback\":null,\"formatters\":{\"@imag\":{\"id\":\"2608\"}},\"mode\":\"vline\",\"renderers\":[{\"id\":\"2595\"}],\"tooltips\":[[\"imag\",\"@imag{custom}\"]]},\"id\":\"2613\",\"type\":\"HoverTool\"},{\"attributes\":{\"line_alpha\":0.2,\"line_color\":\"orange\",\"x\":{\"field\":\"x\"},\"y\":{\"field\":\"mag\"}},\"id\":\"2559\",\"type\":\"Line\"},{\"attributes\":{\"source\":{\"id\":\"2455\"}},\"id\":\"2496\",\"type\":\"CDSView\"},{\"attributes\":{\"source\":{\"id\":\"2555\"}},\"id\":\"2561\",\"type\":\"CDSView\"},{\"attributes\":{\"line_color\":\"firebrick\",\"x\":{\"field\":\"x\"},\"y\":{\"field\":\"imag\"}},\"id\":\"2492\",\"type\":\"Line\"},{\"attributes\":{\"coordinates\":null,\"group\":null,\"items\":[{\"id\":\"2573\"},{\"id\":\"2590\"},{\"id\":\"2607\"}]},\"id\":\"2572\",\"type\":\"Legend\"},{\"attributes\":{\"coordinates\":null,\"data_source\":{\"id\":\"2455\"},\"glyph\":{\"id\":\"2457\"},\"group\":null,\"hover_glyph\":null,\"muted_glyph\":{\"id\":\"2459\"},\"name\":\"mag\",\"nonselection_glyph\":{\"id\":\"2458\"},\"view\":{\"id\":\"2461\"}},\"id\":\"2460\",\"type\":\"GlyphRenderer\"},{\"attributes\":{\"label\":{\"value\":\"Magnitude\"},\"renderers\":[{\"id\":\"2460\"}]},\"id\":\"2473\",\"type\":\"LegendItem\"},{\"attributes\":{\"active_drag\":{\"id\":\"2438\"},\"active_scroll\":null,\"logo\":null,\"tools\":[{\"id\":\"2438\"},{\"id\":\"2439\"},{\"id\":\"2440\"},{\"id\":\"2441\"},{\"id\":\"2442\"},{\"id\":\"2443\"},{\"id\":\"2509\"},{\"id\":\"2511\"},{\"id\":\"2513\"}]},\"id\":\"2445\",\"type\":\"Toolbar\"},{\"attributes\":{\"children\":[{\"id\":\"2620\"}],\"margin\":[0,0,0,0],\"name\":\"Column00195\",\"sizing_mode\":\"stretch_width\"},\"id\":\"2619\",\"type\":\"Column\"},{\"attributes\":{\"overlay\":{\"id\":\"2544\"}},\"id\":\"2540\",\"type\":\"BoxZoomTool\"},{\"attributes\":{\"line_alpha\":0.1,\"line_color\":\"firebrick\",\"x\":{\"field\":\"x\"},\"y\":{\"field\":\"imag\"}},\"id\":\"2493\",\"type\":\"Line\"},{\"attributes\":{\"line_color\":\"orange\",\"x\":{\"field\":\"x\"},\"y\":{\"field\":\"mag\"}},\"id\":\"2457\",\"type\":\"Line\"},{\"attributes\":{\"client_comm_id\":\"ef76f92b3e1347d5bcc22c7a15c5c29e\",\"comm_id\":\"1121fbc1fb18474ba8279ca28422ada5\",\"plot_id\":\"2619\"},\"id\":\"2708\",\"type\":\"panel.models.comm_manager.CommManager\"},{\"attributes\":{\"children\":[{\"id\":\"2621\"},{\"id\":\"2654\"}],\"margin\":[0,0,0,0],\"name\":\"Column00194\",\"sizing_mode\":\"stretch_both\"},\"id\":\"2620\",\"type\":\"Column\"},{\"attributes\":{\"line_alpha\":0.2,\"line_color\":\"orange\",\"x\":{\"field\":\"x\"},\"y\":{\"field\":\"mag\"}},\"id\":\"2459\",\"type\":\"Line\"},{\"attributes\":{\"children\":[{\"id\":\"2419\"},{\"id\":\"2519\"}],\"margin\":[0,0,0,0],\"name\":\"Row00193\",\"sizing_mode\":\"stretch_both\"},\"id\":\"2621\",\"type\":\"Row\"},{\"attributes\":{\"align\":\"end\",\"button_type\":\"success\",\"icon\":null,\"label\":\"Run\",\"margin\":[5,10,5,10],\"sizing_mode\":\"stretch_width\",\"subscribed_events\":[\"button_click\"]},\"id\":\"2655\",\"type\":\"Button\"},{\"attributes\":{\"source\":{\"id\":\"2455\"}},\"id\":\"2461\",\"type\":\"CDSView\"},{\"attributes\":{\"children\":[{\"id\":\"2655\"},{\"id\":\"2656\"},{\"id\":\"2657\"},{\"id\":\"2658\"},{\"id\":\"2659\"}],\"margin\":[0,0,0,0],\"name\":\"Row00186\",\"sizing_mode\":\"stretch_width\"},\"id\":\"2654\",\"type\":\"Row\"},{\"attributes\":{},\"id\":\"2542\",\"type\":\"ResetTool\"},{\"attributes\":{\"coordinates\":null,\"group\":null,\"items\":[{\"id\":\"2473\"},{\"id\":\"2490\"},{\"id\":\"2507\"}]},\"id\":\"2472\",\"type\":\"Legend\"},{\"attributes\":{\"align\":\"end\",\"button_type\":\"success\",\"icon\":null,\"label\":\"Run Loop\",\"margin\":[5,10,5,10],\"sizing_mode\":\"stretch_width\",\"subscribed_events\":[\"button_click\"]},\"id\":\"2656\",\"type\":\"Button\"},{\"attributes\":{},\"id\":\"2565\",\"type\":\"AllLabels\"}],\"root_ids\":[\"2619\",\"2708\"]},\"title\":\"Bokeh Application\",\"version\":\"2.4.3\"}};\n",
       "    var render_items = [{\"docid\":\"9d687438-419d-4158-b181-e792b42ff0e9\",\"root_ids\":[\"2619\"],\"roots\":{\"2619\":\"2fe5f273-99d7-480d-8252-7113e8832b73\"}}];\n",
       "    root.Bokeh.embed.embed_items_notebook(docs_json, render_items);\n",
       "  }\n",
       "  if (root.Bokeh !== undefined && root.Bokeh.Panel !== undefined) {\n",
       "    embed_document(root);\n",
       "  } else {\n",
       "    var attempts = 0;\n",
       "    var timer = setInterval(function(root) {\n",
       "      if (root.Bokeh !== undefined && root.Bokeh.Panel !== undefined) {\n",
       "        clearInterval(timer);\n",
       "        embed_document(root);\n",
       "      } else if (document.readyState == \"complete\") {\n",
       "        attempts++;\n",
       "        if (attempts > 200) {\n",
       "          clearInterval(timer);\n",
       "          console.log(\"Bokeh: ERROR: Unable to run BokehJS code because BokehJS library is missing\");\n",
       "        }\n",
       "      }\n",
       "    }, 25, root)\n",
       "  }\n",
       "})(window);</script>"
      ],
      "text/plain": [
       "Column(sizing_mode='stretch_width')\n",
       "    [0] Column(sizing_mode='stretch_both')\n",
       "        [0] Row(sizing_mode='stretch_both')\n",
       "            [0] Bokeh(Figure)\n",
       "            [1] Bokeh(Figure)\n",
       "        [1] Row(sizing_mode='stretch_width')\n",
       "            [0] Button(align='end', button_type='success', name='Run', sizing_mode='stretch_width')\n",
       "            [1] Button(align='end', button_type='success', name='Run Loop', sizing_mode='stretch_width')\n",
       "            [2] Button(align='end', button_type='danger', name='Abort', sizing_mode='stretch_width')\n",
       "            [3] Progress(height=31, sizing_mode='stretch_width', value=0)\n",
       "            [4] TextInput(align='end', disabled=True, sizing_mode='stretch_width', value='Idle')"
      ]
     },
     "execution_count": 9,
     "metadata": {
      "application/vnd.holoviews_exec.v0+json": {
       "id": "2619"
      }
     },
     "output_type": "execute_result"
    }
   ],
   "source": [
    "from custom_pulse_SE_app import CustomPulseSEApp # from dashboards-inline directory that was added to sys.path\n",
    "\n",
    "def estimate_a_90():\n",
    "    shape_area = np.mean(global_shape)*global_width\n",
    "    target_area = 0.3*32e-6\n",
    "    return min(1, abs(target_area/shape_area))\n",
    "\n",
    "# set some parameters directly\n",
    "override_pars = dict(\n",
    "    a_90=estimate_a_90,\n",
    "    t_90=lambda: global_width,\n",
    "    shape_90=lambda: global_shape,\n",
    "    g_slice=(0,0,-0.5),\n",
    "    g_read=(0,0,0.5),\n",
    "    n_scans=2,\n",
    "    n_samples=200,\n",
    "    t_dw=10e-6, # using a long dwell time for narrow bandwith to more easily see the spectrum shape\n",
    "    t_end=0.5\n",
    ")\n",
    "\n",
    "# create dashboard app\n",
    "exp1_app = CustomPulseSEApp(\n",
    "    override_pars=override_pars,\n",
    "    show_magnitude=True,\n",
    "    show_complex=True,\n",
    "    enable_run_loop=True,\n",
    "    flat_filter = True\n",
    ")\n",
    "\n",
    "exp1_app.plot1.figure.height=400\n",
    "exp1_app.plot2.figure.height=400\n",
    "\n",
    "# display layout\n",
    "pn.Column(\n",
    "    exp1_app.main(),\n",
    "    sizing_mode='stretch_width'\n",
    ")"
   ]
  },
  {
   "cell_type": "markdown",
   "id": "f034bffd-db05-4b73-8448-236f98d0f8f2",
   "metadata": {
    "tags": []
   },
   "source": [
    "TO DO: add a part explaining the prephasing gradient \n",
    "\n",
    "Notice the twisting in the imaginery components of the spectrum. This is due to dephasing. The application of the slice-select gradient during the soft pulse causes the spins to accumulate different amounts of phase based on their position along the the gradient's axis. This phase dispersion of the transverse magnetization will result in a loss of signal. Since the dephasing that occurs is linear, the phase effects can be cancelled by applying a gradient in the opposite direction. This is done using a rephasing gradient. In general, the area of the rephasing gradient is half that of the slice-select gradient. This is done under the assumption that the majority of the spins are tipped into the transverse plane at the centre of the 90-degree pulse and, therefore, phase dispersion primarily occurs during the second half of the slice select gradient. While this assumption is a good starting point, the size of the refocusing gradient needs to be calculated based on the soft pulse design if the phase effects are to be cancelled perfectly.\n",
    "\n",
    "<center><img src=\"Images/refocusing_gradient.png\" width=\"1300\"></center>\n",
    "<center><figcaption style=\"width: 300px;\">Figure x:  </figcaption></center>"
   ]
  },
  {
   "cell_type": "markdown",
   "id": "230a1d4b-2418-49df-8710-66d9b8d3d856",
   "metadata": {},
   "source": [
    "> -------------------------------------------------------------------------------------------------------------------------------------------------------\n",
    "> #### **Task 3.1.1.3: Refocusing Gradient**\n",
    "> 1. Run the experiment.\n",
    "> 2. Select the refocusing option and run again. Notice how the imaginary component of the spectrum changes. \n",
    "> 3. The rephasing gradient for this experiment is half the area of the slice-select gradient. Notice how this doesn't perfectly cancel all the phase effects. Try altering the sinc pulse design in **Task 3.1.1.1** then run **Task 3.1.1.3** again. See how increasing the duration of the sinc pulse effects how well the 50% refocusing gradient performs.\n",
    "> -------------------------------------------------------------------------------------------------------------------------------------------------------"
   ]
  },
  {
   "cell_type": "code",
   "execution_count": 10,
   "id": "103c634f-bade-4c4c-bdfb-a8844bffc6b1",
   "metadata": {
    "jupyter": {
     "source_hidden": true
    },
    "tags": []
   },
   "outputs": [
    {
     "data": {},
     "metadata": {},
     "output_type": "display_data"
    },
    {
     "data": {
      "application/vnd.holoviews_exec.v0+json": "",
      "text/html": [
       "<div id='2989'>\n",
       "  <div class=\"bk-root\" id=\"3ebc6ae0-893d-4039-a672-c51297d31814\" data-root-id=\"2989\"></div>\n",
       "</div>\n",
       "<script type=\"application/javascript\">(function(root) {\n",
       "  function embed_document(root) {\n",
       "    var docs_json = {\"7fb3a4d3-fdce-4b18-8f8f-233853644ae0\":{\"defs\":[{\"extends\":null,\"module\":null,\"name\":\"ReactiveHTML1\",\"overrides\":[],\"properties\":[]},{\"extends\":null,\"module\":null,\"name\":\"FlexBox1\",\"overrides\":[],\"properties\":[{\"default\":\"flex-start\",\"kind\":null,\"name\":\"align_content\"},{\"default\":\"flex-start\",\"kind\":null,\"name\":\"align_items\"},{\"default\":\"row\",\"kind\":null,\"name\":\"flex_direction\"},{\"default\":\"wrap\",\"kind\":null,\"name\":\"flex_wrap\"},{\"default\":\"flex-start\",\"kind\":null,\"name\":\"justify_content\"}]},{\"extends\":null,\"module\":null,\"name\":\"GridStack1\",\"overrides\":[],\"properties\":[{\"default\":\"warn\",\"kind\":null,\"name\":\"mode\"},{\"default\":null,\"kind\":null,\"name\":\"ncols\"},{\"default\":null,\"kind\":null,\"name\":\"nrows\"},{\"default\":true,\"kind\":null,\"name\":\"allow_resize\"},{\"default\":true,\"kind\":null,\"name\":\"allow_drag\"},{\"default\":[],\"kind\":null,\"name\":\"state\"}]},{\"extends\":null,\"module\":null,\"name\":\"click1\",\"overrides\":[],\"properties\":[{\"default\":\"\",\"kind\":null,\"name\":\"terminal_output\"},{\"default\":\"\",\"kind\":null,\"name\":\"debug_name\"},{\"default\":0,\"kind\":null,\"name\":\"clears\"}]},{\"extends\":null,\"module\":null,\"name\":\"NotificationAreaBase1\",\"overrides\":[],\"properties\":[{\"default\":\"bottom-right\",\"kind\":null,\"name\":\"position\"},{\"default\":0,\"kind\":null,\"name\":\"_clear\"}]},{\"extends\":null,\"module\":null,\"name\":\"NotificationArea1\",\"overrides\":[],\"properties\":[{\"default\":[],\"kind\":null,\"name\":\"notifications\"},{\"default\":\"bottom-right\",\"kind\":null,\"name\":\"position\"},{\"default\":0,\"kind\":null,\"name\":\"_clear\"},{\"default\":[{\"background\":\"#ffc107\",\"icon\":{\"className\":\"fas fa-exclamation-triangle\",\"color\":\"white\",\"tagName\":\"i\"},\"type\":\"warning\"},{\"background\":\"#007bff\",\"icon\":{\"className\":\"fas fa-info-circle\",\"color\":\"white\",\"tagName\":\"i\"},\"type\":\"info\"}],\"kind\":null,\"name\":\"types\"}]},{\"extends\":null,\"module\":null,\"name\":\"Notification\",\"overrides\":[],\"properties\":[{\"default\":null,\"kind\":null,\"name\":\"background\"},{\"default\":3000,\"kind\":null,\"name\":\"duration\"},{\"default\":null,\"kind\":null,\"name\":\"icon\"},{\"default\":\"\",\"kind\":null,\"name\":\"message\"},{\"default\":null,\"kind\":null,\"name\":\"notification_type\"},{\"default\":false,\"kind\":null,\"name\":\"_destroyed\"}]},{\"extends\":null,\"module\":null,\"name\":\"TemplateActions1\",\"overrides\":[],\"properties\":[{\"default\":0,\"kind\":null,\"name\":\"open_modal\"},{\"default\":0,\"kind\":null,\"name\":\"close_modal\"}]},{\"extends\":null,\"module\":null,\"name\":\"MaterialTemplateActions1\",\"overrides\":[],\"properties\":[{\"default\":0,\"kind\":null,\"name\":\"open_modal\"},{\"default\":0,\"kind\":null,\"name\":\"close_modal\"}]}],\"roots\":{\"references\":[{\"attributes\":{\"coordinates\":null,\"group\":null,\"items\":[{\"id\":\"2843\"},{\"id\":\"2860\"},{\"id\":\"2877\"}]},\"id\":\"2842\",\"type\":\"Legend\"},{\"attributes\":{},\"id\":\"2935\",\"type\":\"AllLabels\"},{\"attributes\":{\"align\":\"end\",\"button_type\":\"success\",\"icon\":null,\"label\":\"Run Loop\",\"margin\":[5,10,5,10],\"sizing_mode\":\"stretch_width\",\"subscribed_events\":[\"button_click\"]},\"id\":\"3027\",\"type\":\"Button\"},{\"attributes\":{\"label\":{\"value\":\"Magnitude\"},\"renderers\":[{\"id\":\"2830\"}]},\"id\":\"2843\",\"type\":\"LegendItem\"},{\"attributes\":{\"align\":\"end\",\"button_type\":\"success\",\"icon\":null,\"label\":\"Run\",\"margin\":[5,10,5,10],\"sizing_mode\":\"stretch_width\",\"subscribed_events\":[\"button_click\"]},\"id\":\"3026\",\"type\":\"Button\"},{\"attributes\":{\"label\":{\"value\":\"Real\"},\"renderers\":[{\"id\":\"2848\"}]},\"id\":\"2860\",\"type\":\"LegendItem\"},{\"attributes\":{},\"id\":\"2798\",\"type\":\"LinearScale\"},{\"attributes\":{},\"id\":\"2938\",\"type\":\"AllLabels\"},{\"attributes\":{\"line_alpha\":0.1,\"line_color\":\"blue\",\"x\":{\"field\":\"x\"},\"y\":{\"field\":\"real\"}},\"id\":\"2846\",\"type\":\"Line\"},{\"attributes\":{\"coordinates\":null,\"data_source\":{\"id\":\"2825\"},\"glyph\":{\"id\":\"2845\"},\"group\":null,\"hover_glyph\":null,\"muted_glyph\":{\"id\":\"2847\"},\"name\":\"real\",\"nonselection_glyph\":{\"id\":\"2846\"},\"view\":{\"id\":\"2849\"}},\"id\":\"2848\",\"type\":\"GlyphRenderer\"},{\"attributes\":{},\"id\":\"2801\",\"type\":\"BasicTicker\"},{\"attributes\":{\"line_color\":\"blue\",\"x\":{\"field\":\"x\"},\"y\":{\"field\":\"real\"}},\"id\":\"2845\",\"type\":\"Line\"},{\"attributes\":{\"line_alpha\":0.2,\"line_color\":\"blue\",\"x\":{\"field\":\"x\"},\"y\":{\"field\":\"real\"}},\"id\":\"2847\",\"type\":\"Line\"},{\"attributes\":{\"label\":{\"value\":\"Imag\"},\"renderers\":[{\"id\":\"2865\"}]},\"id\":\"2877\",\"type\":\"LegendItem\"},{\"attributes\":{\"source\":{\"id\":\"2825\"}},\"id\":\"2849\",\"type\":\"CDSView\"},{\"attributes\":{},\"id\":\"2939\",\"type\":\"UnionRenderers\"},{\"attributes\":{},\"id\":\"2940\",\"type\":\"Selection\"},{\"attributes\":{\"axis_label\":\"time (s)\",\"coordinates\":null,\"formatter\":{\"id\":\"2886\"},\"group\":null,\"major_label_policy\":{\"id\":\"2838\"},\"ticker\":{\"id\":\"2801\"}},\"id\":\"2800\",\"type\":\"LinearAxis\"},{\"attributes\":{\"axis\":{\"id\":\"2800\"},\"coordinates\":null,\"group\":null,\"ticker\":null},\"id\":\"2803\",\"type\":\"Grid\"},{\"attributes\":{},\"id\":\"2809\",\"type\":\"WheelZoomTool\"},{\"attributes\":{\"axis\":{\"id\":\"2804\"},\"coordinates\":null,\"dimension\":1,\"group\":null,\"ticker\":null},\"id\":\"2807\",\"type\":\"Grid\"},{\"attributes\":{},\"id\":\"2805\",\"type\":\"BasicTicker\"},{\"attributes\":{\"axis_label\":\"signal (V)\",\"coordinates\":null,\"formatter\":{\"id\":\"2886\"},\"group\":null,\"major_label_policy\":{\"id\":\"2835\"},\"ticker\":{\"id\":\"2805\"}},\"id\":\"2804\",\"type\":\"LinearAxis\"},{\"attributes\":{},\"id\":\"2811\",\"type\":\"CrosshairTool\"},{\"attributes\":{},\"id\":\"2812\",\"type\":\"ResetTool\"},{\"attributes\":{},\"id\":\"2796\",\"type\":\"LinearScale\"},{\"attributes\":{\"line_alpha\":0.1,\"line_color\":\"firebrick\",\"x\":{\"field\":\"x\"},\"y\":{\"field\":\"imag\"}},\"id\":\"2863\",\"type\":\"Line\"},{\"attributes\":{},\"id\":\"2808\",\"type\":\"PanTool\"},{\"attributes\":{\"overlay\":{\"id\":\"2814\"}},\"id\":\"2810\",\"type\":\"BoxZoomTool\"},{\"attributes\":{},\"id\":\"2813\",\"type\":\"SaveTool\"},{\"attributes\":{\"coordinates\":null,\"data_source\":{\"id\":\"2825\"},\"glyph\":{\"id\":\"2862\"},\"group\":null,\"hover_glyph\":null,\"muted_glyph\":{\"id\":\"2864\"},\"name\":\"imag\",\"nonselection_glyph\":{\"id\":\"2863\"},\"view\":{\"id\":\"2866\"}},\"id\":\"2865\",\"type\":\"GlyphRenderer\"},{\"attributes\":{\"align\":\"end\",\"button_type\":\"danger\",\"icon\":null,\"label\":\"Abort\",\"margin\":[5,10,5,10],\"sizing_mode\":\"stretch_width\",\"subscribed_events\":[\"button_click\"]},\"id\":\"3028\",\"type\":\"Button\"},{\"attributes\":{\"active_drag\":{\"id\":\"2808\"},\"active_scroll\":null,\"logo\":null,\"tools\":[{\"id\":\"2808\"},{\"id\":\"2809\"},{\"id\":\"2810\"},{\"id\":\"2811\"},{\"id\":\"2812\"},{\"id\":\"2813\"},{\"id\":\"2879\"},{\"id\":\"2881\"},{\"id\":\"2883\"}]},\"id\":\"2815\",\"type\":\"Toolbar\"},{\"attributes\":{\"line_color\":\"firebrick\",\"x\":{\"field\":\"x\"},\"y\":{\"field\":\"imag\"}},\"id\":\"2862\",\"type\":\"Line\"},{\"attributes\":{\"line_alpha\":0.2,\"line_color\":\"firebrick\",\"x\":{\"field\":\"x\"},\"y\":{\"field\":\"imag\"}},\"id\":\"2864\",\"type\":\"Line\"},{\"attributes\":{\"bottom_units\":\"screen\",\"coordinates\":null,\"fill_alpha\":0.5,\"fill_color\":\"lightgrey\",\"group\":null,\"left_units\":\"screen\",\"level\":\"overlay\",\"line_alpha\":1.0,\"line_color\":\"black\",\"line_dash\":[4,4],\"line_width\":2,\"right_units\":\"screen\",\"syncable\":false,\"top_units\":\"screen\"},\"id\":\"2814\",\"type\":\"BoxAnnotation\"},{\"attributes\":{\"bar_color\":\"success\",\"height\":31,\"margin\":[5,10,5,10],\"sizing_mode\":\"stretch_width\",\"value\":0},\"id\":\"3029\",\"type\":\"panel.models.widgets.Progress\"},{\"attributes\":{\"source\":{\"id\":\"2825\"}},\"id\":\"2866\",\"type\":\"CDSView\"},{\"attributes\":{\"data\":{\"imag\":{\"__ndarray__\":\"AAAAAA==\",\"dtype\":\"float32\",\"order\":\"little\",\"shape\":[1]},\"mag\":{\"__ndarray__\":\"AAAAAA==\",\"dtype\":\"float32\",\"order\":\"little\",\"shape\":[1]},\"real\":{\"__ndarray__\":\"AAAAAA==\",\"dtype\":\"float32\",\"order\":\"little\",\"shape\":[1]},\"x\":{\"__ndarray__\":\"AAAAAAAAAAA=\",\"dtype\":\"float64\",\"order\":\"little\",\"shape\":[1]}},\"selected\":{\"id\":\"2840\"},\"selection_policy\":{\"id\":\"2839\"}},\"id\":\"2825\",\"type\":\"ColumnDataSource\"},{\"attributes\":{\"align\":\"end\",\"disabled\":true,\"margin\":[5,10,5,10],\"max_length\":5000,\"sizing_mode\":\"stretch_width\",\"value\":\"Idle\"},\"id\":\"3030\",\"type\":\"TextInput\"},{\"attributes\":{\"callback\":null,\"formatters\":{\"@real\":{\"id\":\"2878\"}},\"mode\":\"vline\",\"renderers\":[{\"id\":\"2848\"}],\"tooltips\":[[\"real\",\"@real{custom}\"]]},\"id\":\"2881\",\"type\":\"HoverTool\"},{\"attributes\":{\"label\":{\"value\":\"Real\"},\"renderers\":[{\"id\":\"2948\"}]},\"id\":\"2960\",\"type\":\"LegendItem\"},{\"attributes\":{\"line_alpha\":0.1,\"line_color\":\"blue\",\"x\":{\"field\":\"x\"},\"y\":{\"field\":\"real\"}},\"id\":\"2946\",\"type\":\"Line\"},{\"attributes\":{\"coordinates\":null,\"data_source\":{\"id\":\"2925\"},\"glyph\":{\"id\":\"2945\"},\"group\":null,\"hover_glyph\":null,\"muted_glyph\":{\"id\":\"2947\"},\"name\":\"real\",\"nonselection_glyph\":{\"id\":\"2946\"},\"view\":{\"id\":\"2949\"}},\"id\":\"2948\",\"type\":\"GlyphRenderer\"},{\"attributes\":{\"code\":\"\\n    if (value == 0) return +value.toFixed(3)\\n    var SI_map = [[1e9, 'G'], [1e6, 'M'], [1e3, 'k'], [1, ''], [1e-3, 'm'], [1e-6, '\\u00b5'], [1e-9, 'n']]\\n    for (const el of SI_map) {\\n        if (value >= el[0] || value <= -el[0])\\n            return +(value/el[0]).toFixed(3) + el[1]\\n    }\\n    return +(value/SI_map[SI_map.length-1][0]).toFixed(3) + SI_map[SI_map.length-1][1]\\n    \"},\"id\":\"2878\",\"type\":\"CustomJSHover\"},{\"attributes\":{\"callback\":null,\"formatters\":{\"@mag\":{\"id\":\"2878\"}},\"mode\":\"vline\",\"renderers\":[{\"id\":\"2830\"}],\"tooltips\":[[\"mag\",\"@mag{custom}\"]]},\"id\":\"2879\",\"type\":\"HoverTool\"},{\"attributes\":{\"code\":\"\\n    if (tick == 0) return +tick.toFixed(5)\\n    var SI_map = [[1e9, 'G'], [1e6, 'M'], [1e3, 'k'], [1, ''], [1e-3, 'm'], [1e-6, '\\u00b5'], [1e-9, 'n']]\\n    for (const el of SI_map) {\\n        if (tick >= el[0] || tick <= -el[0])\\n            return +(tick/el[0]).toFixed(5) + el[1]\\n    }\\n    return +(tick/SI_map[SI_map.length-1][0]).toFixed(5) + SI_map[SI_map.length-1][1]\\n    \"},\"id\":\"2886\",\"type\":\"FuncTickFormatter\"},{\"attributes\":{\"line_color\":\"blue\",\"x\":{\"field\":\"x\"},\"y\":{\"field\":\"real\"}},\"id\":\"2945\",\"type\":\"Line\"},{\"attributes\":{\"line_alpha\":0.2,\"line_color\":\"blue\",\"x\":{\"field\":\"x\"},\"y\":{\"field\":\"real\"}},\"id\":\"2947\",\"type\":\"Line\"},{\"attributes\":{\"line_alpha\":0.1,\"line_color\":\"orange\",\"x\":{\"field\":\"x\"},\"y\":{\"field\":\"mag\"}},\"id\":\"2928\",\"type\":\"Line\"},{\"attributes\":{\"label\":{\"value\":\"Imag\"},\"renderers\":[{\"id\":\"2965\"}]},\"id\":\"2977\",\"type\":\"LegendItem\"},{\"attributes\":{\"source\":{\"id\":\"2925\"}},\"id\":\"2949\",\"type\":\"CDSView\"},{\"attributes\":{\"coordinates\":null,\"group\":null,\"text\":\"Spectrum\"},\"id\":\"2890\",\"type\":\"Title\"},{\"attributes\":{\"below\":[{\"id\":\"2800\"}],\"center\":[{\"id\":\"2803\"},{\"id\":\"2807\"},{\"id\":\"2842\"}],\"height\":400,\"left\":[{\"id\":\"2804\"}],\"renderers\":[{\"id\":\"2830\"},{\"id\":\"2848\"},{\"id\":\"2865\"}],\"sizing_mode\":\"stretch_both\",\"title\":{\"id\":\"2790\"},\"toolbar\":{\"id\":\"2815\"},\"toolbar_location\":\"above\",\"x_range\":{\"id\":\"2792\"},\"x_scale\":{\"id\":\"2796\"},\"y_range\":{\"id\":\"2794\"},\"y_scale\":{\"id\":\"2798\"}},\"id\":\"2789\",\"subtype\":\"Figure\",\"type\":\"Plot\"},{\"attributes\":{\"callback\":null,\"formatters\":{\"@imag\":{\"id\":\"2878\"}},\"mode\":\"vline\",\"renderers\":[{\"id\":\"2865\"}],\"tooltips\":[[\"imag\",\"@imag{custom}\"]]},\"id\":\"2883\",\"type\":\"HoverTool\"},{\"attributes\":{\"data\":{\"imag\":{\"__ndarray__\":\"AAAAAA==\",\"dtype\":\"float32\",\"order\":\"little\",\"shape\":[1]},\"mag\":{\"__ndarray__\":\"AAAAAA==\",\"dtype\":\"float32\",\"order\":\"little\",\"shape\":[1]},\"real\":{\"__ndarray__\":\"AAAAAA==\",\"dtype\":\"float32\",\"order\":\"little\",\"shape\":[1]},\"x\":{\"__ndarray__\":\"AAAAAAAAAAA=\",\"dtype\":\"float64\",\"order\":\"little\",\"shape\":[1]}},\"selected\":{\"id\":\"2940\"},\"selection_policy\":{\"id\":\"2939\"}},\"id\":\"2925\",\"type\":\"ColumnDataSource\"},{\"attributes\":{\"below\":[{\"id\":\"2900\"}],\"center\":[{\"id\":\"2903\"},{\"id\":\"2907\"},{\"id\":\"2942\"}],\"height\":400,\"left\":[{\"id\":\"2904\"}],\"renderers\":[{\"id\":\"2930\"},{\"id\":\"2948\"},{\"id\":\"2965\"}],\"sizing_mode\":\"stretch_both\",\"title\":{\"id\":\"2890\"},\"toolbar\":{\"id\":\"2915\"},\"toolbar_location\":\"above\",\"x_range\":{\"id\":\"2892\"},\"x_scale\":{\"id\":\"2896\"},\"y_range\":{\"id\":\"2894\"},\"y_scale\":{\"id\":\"2898\"}},\"id\":\"2889\",\"subtype\":\"Figure\",\"type\":\"Plot\"},{\"attributes\":{},\"id\":\"2898\",\"type\":\"LinearScale\"},{\"attributes\":{},\"id\":\"2892\",\"type\":\"DataRange1d\"},{\"attributes\":{},\"id\":\"2894\",\"type\":\"DataRange1d\"},{\"attributes\":{},\"id\":\"2901\",\"type\":\"BasicTicker\"},{\"attributes\":{\"axis\":{\"id\":\"2900\"},\"coordinates\":null,\"group\":null,\"ticker\":null},\"id\":\"2903\",\"type\":\"Grid\"},{\"attributes\":{},\"id\":\"2896\",\"type\":\"LinearScale\"},{\"attributes\":{\"axis_label\":\"relative frequency (Hz)\",\"coordinates\":null,\"formatter\":{\"id\":\"2986\"},\"group\":null,\"major_label_policy\":{\"id\":\"2938\"},\"ticker\":{\"id\":\"2901\"}},\"id\":\"2900\",\"type\":\"LinearAxis\"},{\"attributes\":{},\"id\":\"2909\",\"type\":\"WheelZoomTool\"},{\"attributes\":{\"line_alpha\":0.1,\"line_color\":\"firebrick\",\"x\":{\"field\":\"x\"},\"y\":{\"field\":\"imag\"}},\"id\":\"2963\",\"type\":\"Line\"},{\"attributes\":{\"axis_label\":\"spectral density (V/kHz)\",\"coordinates\":null,\"formatter\":{\"id\":\"2986\"},\"group\":null,\"major_label_policy\":{\"id\":\"2935\"},\"ticker\":{\"id\":\"2905\"}},\"id\":\"2904\",\"type\":\"LinearAxis\"},{\"attributes\":{\"axis\":{\"id\":\"2904\"},\"coordinates\":null,\"dimension\":1,\"group\":null,\"ticker\":null},\"id\":\"2907\",\"type\":\"Grid\"},{\"attributes\":{},\"id\":\"2905\",\"type\":\"BasicTicker\"},{\"attributes\":{\"coordinates\":null,\"data_source\":{\"id\":\"2925\"},\"glyph\":{\"id\":\"2962\"},\"group\":null,\"hover_glyph\":null,\"muted_glyph\":{\"id\":\"2964\"},\"name\":\"imag\",\"nonselection_glyph\":{\"id\":\"2963\"},\"view\":{\"id\":\"2966\"}},\"id\":\"2965\",\"type\":\"GlyphRenderer\"},{\"attributes\":{},\"id\":\"2913\",\"type\":\"SaveTool\"},{\"attributes\":{},\"id\":\"2908\",\"type\":\"PanTool\"},{\"attributes\":{\"overlay\":{\"id\":\"2914\"}},\"id\":\"2910\",\"type\":\"BoxZoomTool\"},{\"attributes\":{\"line_color\":\"firebrick\",\"x\":{\"field\":\"x\"},\"y\":{\"field\":\"imag\"}},\"id\":\"2962\",\"type\":\"Line\"},{\"attributes\":{},\"id\":\"2911\",\"type\":\"CrosshairTool\"},{\"attributes\":{},\"id\":\"2912\",\"type\":\"ResetTool\"},{\"attributes\":{\"line_alpha\":0.2,\"line_color\":\"firebrick\",\"x\":{\"field\":\"x\"},\"y\":{\"field\":\"imag\"}},\"id\":\"2964\",\"type\":\"Line\"},{\"attributes\":{\"source\":{\"id\":\"2925\"}},\"id\":\"2966\",\"type\":\"CDSView\"},{\"attributes\":{\"bottom_units\":\"screen\",\"coordinates\":null,\"fill_alpha\":0.5,\"fill_color\":\"lightgrey\",\"group\":null,\"left_units\":\"screen\",\"level\":\"overlay\",\"line_alpha\":1.0,\"line_color\":\"black\",\"line_dash\":[4,4],\"line_width\":2,\"right_units\":\"screen\",\"syncable\":false,\"top_units\":\"screen\"},\"id\":\"2914\",\"type\":\"BoxAnnotation\"},{\"attributes\":{\"line_color\":\"orange\",\"x\":{\"field\":\"x\"},\"y\":{\"field\":\"mag\"}},\"id\":\"2927\",\"type\":\"Line\"},{\"attributes\":{},\"id\":\"2835\",\"type\":\"AllLabels\"},{\"attributes\":{},\"id\":\"2838\",\"type\":\"AllLabels\"},{\"attributes\":{\"callback\":null,\"formatters\":{\"@real\":{\"id\":\"2978\"}},\"mode\":\"vline\",\"renderers\":[{\"id\":\"2948\"}],\"tooltips\":[[\"real\",\"@real{custom}\"]]},\"id\":\"2981\",\"type\":\"HoverTool\"},{\"attributes\":{\"code\":\"\\n    if (value == 0) return +value.toFixed(3)\\n    var SI_map = [[1e9, 'G'], [1e6, 'M'], [1e3, 'k'], [1, ''], [1e-3, 'm'], [1e-6, '\\u00b5'], [1e-9, 'n']]\\n    for (const el of SI_map) {\\n        if (value >= el[0] || value <= -el[0])\\n            return +(value/el[0]).toFixed(3) + el[1]\\n    }\\n    return +(value/SI_map[SI_map.length-1][0]).toFixed(3) + SI_map[SI_map.length-1][1]\\n    \"},\"id\":\"2978\",\"type\":\"CustomJSHover\"},{\"attributes\":{},\"id\":\"2794\",\"type\":\"DataRange1d\"},{\"attributes\":{\"callback\":null,\"formatters\":{\"@mag\":{\"id\":\"2978\"}},\"mode\":\"vline\",\"renderers\":[{\"id\":\"2930\"}],\"tooltips\":[[\"mag\",\"@mag{custom}\"]]},\"id\":\"2979\",\"type\":\"HoverTool\"},{\"attributes\":{\"code\":\"\\n    if (tick == 0) return +tick.toFixed(5)\\n    var SI_map = [[1e9, 'G'], [1e6, 'M'], [1e3, 'k'], [1, ''], [1e-3, 'm'], [1e-6, '\\u00b5'], [1e-9, 'n']]\\n    for (const el of SI_map) {\\n        if (tick >= el[0] || tick <= -el[0])\\n            return +(tick/el[0]).toFixed(5) + el[1]\\n    }\\n    return +(tick/SI_map[SI_map.length-1][0]).toFixed(5) + SI_map[SI_map.length-1][1]\\n    \"},\"id\":\"2986\",\"type\":\"FuncTickFormatter\"},{\"attributes\":{},\"id\":\"2839\",\"type\":\"UnionRenderers\"},{\"attributes\":{\"coordinates\":null,\"data_source\":{\"id\":\"2925\"},\"glyph\":{\"id\":\"2927\"},\"group\":null,\"hover_glyph\":null,\"muted_glyph\":{\"id\":\"2929\"},\"name\":\"mag\",\"nonselection_glyph\":{\"id\":\"2928\"},\"view\":{\"id\":\"2931\"}},\"id\":\"2930\",\"type\":\"GlyphRenderer\"},{\"attributes\":{},\"id\":\"2840\",\"type\":\"Selection\"},{\"attributes\":{\"active_drag\":{\"id\":\"2908\"},\"active_scroll\":null,\"logo\":null,\"tools\":[{\"id\":\"2908\"},{\"id\":\"2909\"},{\"id\":\"2910\"},{\"id\":\"2911\"},{\"id\":\"2912\"},{\"id\":\"2913\"},{\"id\":\"2979\"},{\"id\":\"2981\"},{\"id\":\"2983\"}]},\"id\":\"2915\",\"type\":\"Toolbar\"},{\"attributes\":{},\"id\":\"2792\",\"type\":\"DataRange1d\"},{\"attributes\":{\"callback\":null,\"formatters\":{\"@imag\":{\"id\":\"2978\"}},\"mode\":\"vline\",\"renderers\":[{\"id\":\"2965\"}],\"tooltips\":[[\"imag\",\"@imag{custom}\"]]},\"id\":\"2983\",\"type\":\"HoverTool\"},{\"attributes\":{\"label\":{\"value\":\"Magnitude\"},\"renderers\":[{\"id\":\"2930\"}]},\"id\":\"2943\",\"type\":\"LegendItem\"},{\"attributes\":{\"line_alpha\":0.2,\"line_color\":\"orange\",\"x\":{\"field\":\"x\"},\"y\":{\"field\":\"mag\"}},\"id\":\"2929\",\"type\":\"Line\"},{\"attributes\":{\"source\":{\"id\":\"2925\"}},\"id\":\"2931\",\"type\":\"CDSView\"},{\"attributes\":{\"coordinates\":null,\"group\":null,\"items\":[{\"id\":\"2943\"},{\"id\":\"2960\"},{\"id\":\"2977\"}]},\"id\":\"2942\",\"type\":\"Legend\"},{\"attributes\":{\"coordinates\":null,\"group\":null,\"text\":\"Signal\"},\"id\":\"2790\",\"type\":\"Title\"},{\"attributes\":{\"source\":{\"id\":\"2825\"}},\"id\":\"2831\",\"type\":\"CDSView\"},{\"attributes\":{\"children\":[{\"id\":\"2990\"},{\"id\":\"2991\"}],\"margin\":[0,0,0,0],\"name\":\"Column00219\",\"sizing_mode\":\"stretch_width\"},\"id\":\"2989\",\"type\":\"Column\"},{\"attributes\":{\"client_comm_id\":\"f87f54358ec8446bb5acb73b62b56d37\",\"comm_id\":\"563e4f84b1594c43a7b5f17fde2e8705\",\"plot_id\":\"2989\"},\"id\":\"3079\",\"type\":\"panel.models.comm_manager.CommManager\"},{\"attributes\":{\"labels\":[\"Refocusing\"],\"margin\":[5,10,5,10]},\"id\":\"2990\",\"type\":\"CheckboxGroup\"},{\"attributes\":{\"coordinates\":null,\"data_source\":{\"id\":\"2825\"},\"glyph\":{\"id\":\"2827\"},\"group\":null,\"hover_glyph\":null,\"muted_glyph\":{\"id\":\"2829\"},\"name\":\"mag\",\"nonselection_glyph\":{\"id\":\"2828\"},\"view\":{\"id\":\"2831\"}},\"id\":\"2830\",\"type\":\"GlyphRenderer\"},{\"attributes\":{\"children\":[{\"id\":\"3026\"},{\"id\":\"3027\"},{\"id\":\"3028\"},{\"id\":\"3029\"},{\"id\":\"3030\"}],\"margin\":[0,0,0,0],\"name\":\"Row00210\",\"sizing_mode\":\"stretch_width\"},\"id\":\"3025\",\"type\":\"Row\"},{\"attributes\":{\"children\":[{\"id\":\"2992\"},{\"id\":\"3025\"}],\"margin\":[0,0,0,0],\"name\":\"Column00218\",\"sizing_mode\":\"stretch_both\"},\"id\":\"2991\",\"type\":\"Column\"},{\"attributes\":{\"children\":[{\"id\":\"2789\"},{\"id\":\"2889\"}],\"margin\":[0,0,0,0],\"name\":\"Row00217\",\"sizing_mode\":\"stretch_both\"},\"id\":\"2992\",\"type\":\"Row\"},{\"attributes\":{\"line_alpha\":0.1,\"line_color\":\"orange\",\"x\":{\"field\":\"x\"},\"y\":{\"field\":\"mag\"}},\"id\":\"2828\",\"type\":\"Line\"},{\"attributes\":{\"line_color\":\"orange\",\"x\":{\"field\":\"x\"},\"y\":{\"field\":\"mag\"}},\"id\":\"2827\",\"type\":\"Line\"},{\"attributes\":{\"line_alpha\":0.2,\"line_color\":\"orange\",\"x\":{\"field\":\"x\"},\"y\":{\"field\":\"mag\"}},\"id\":\"2829\",\"type\":\"Line\"}],\"root_ids\":[\"2989\",\"3079\"]},\"title\":\"Bokeh Application\",\"version\":\"2.4.3\"}};\n",
       "    var render_items = [{\"docid\":\"7fb3a4d3-fdce-4b18-8f8f-233853644ae0\",\"root_ids\":[\"2989\"],\"roots\":{\"2989\":\"3ebc6ae0-893d-4039-a672-c51297d31814\"}}];\n",
       "    root.Bokeh.embed.embed_items_notebook(docs_json, render_items);\n",
       "  }\n",
       "  if (root.Bokeh !== undefined && root.Bokeh.Panel !== undefined) {\n",
       "    embed_document(root);\n",
       "  } else {\n",
       "    var attempts = 0;\n",
       "    var timer = setInterval(function(root) {\n",
       "      if (root.Bokeh !== undefined && root.Bokeh.Panel !== undefined) {\n",
       "        clearInterval(timer);\n",
       "        embed_document(root);\n",
       "      } else if (document.readyState == \"complete\") {\n",
       "        attempts++;\n",
       "        if (attempts > 200) {\n",
       "          clearInterval(timer);\n",
       "          console.log(\"Bokeh: ERROR: Unable to run BokehJS code because BokehJS library is missing\");\n",
       "        }\n",
       "      }\n",
       "    }, 25, root)\n",
       "  }\n",
       "})(window);</script>"
      ],
      "text/plain": [
       "Column(sizing_mode='stretch_width')\n",
       "    [0] Checkbox(name='Refocusing')\n",
       "    [1] Column(sizing_mode='stretch_both')\n",
       "        [0] Row(sizing_mode='stretch_both')\n",
       "            [0] Bokeh(Figure)\n",
       "            [1] Bokeh(Figure)\n",
       "        [1] Row(sizing_mode='stretch_width')\n",
       "            [0] Button(align='end', button_type='success', name='Run', sizing_mode='stretch_width')\n",
       "            [1] Button(align='end', button_type='success', name='Run Loop', sizing_mode='stretch_width')\n",
       "            [2] Button(align='end', button_type='danger', name='Abort', sizing_mode='stretch_width')\n",
       "            [3] Progress(height=31, sizing_mode='stretch_width', value=0)\n",
       "            [4] TextInput(align='end', disabled=True, sizing_mode='stretch_width', value='Idle')"
      ]
     },
     "execution_count": 10,
     "metadata": {
      "application/vnd.holoviews_exec.v0+json": {
       "id": "2989"
      }
     },
     "output_type": "execute_result"
    }
   ],
   "source": [
    "from custom_pulse_SE_refocusing_app import CustomPulseSEApp # from dashboards-inline directory that was added to sys.path\n",
    "\n",
    "input_refocusing = pn.widgets.Checkbox(name='Refocusing')\n",
    "\n",
    "def estimate_a_90():\n",
    "    shape_area = np.mean(global_shape)*global_width\n",
    "    target_area = 0.3*32e-6\n",
    "    return min(1, abs(target_area/shape_area))\n",
    "\n",
    "# set some parameters directly\n",
    "override_pars = dict(\n",
    "    a_90=estimate_a_90,\n",
    "    t_90=lambda: global_width,\n",
    "    shape_90=lambda: global_shape,\n",
    "    g_slice=(0,0,-0.5),\n",
    "    g_read=(0,0,0.5),\n",
    "    n_scans=2,\n",
    "    n_samples=200,\n",
    "    t_dw=10e-6, # using a long dwell time for narrow bandwith to more easily see the spectrum shape\n",
    "    t_end=0.5, \n",
    "    enable_refocusing = input_refocusing\n",
    ")\n",
    "\n",
    "# create dashboard app\n",
    "exp2_app = CustomPulseSEApp(\n",
    "    override_pars=override_pars,\n",
    "    show_magnitude=True,\n",
    "    show_complex=True,\n",
    "    enable_run_loop=True,\n",
    "    flat_filter = True\n",
    ")\n",
    "\n",
    "exp2_app.plot1.figure.height=400\n",
    "exp2_app.plot2.figure.height=400\n",
    "\n",
    "# display layout\n",
    "pn.Column(\n",
    "    input_refocusing,\n",
    "    exp2_app.main(),\n",
    "    sizing_mode='stretch_width'\n",
    ")"
   ]
  },
  {
   "cell_type": "markdown",
   "id": "94485f62-5360-4032-a05e-b9ca2ec26ef0",
   "metadata": {},
   "source": [
    "TO DO: \n",
    "- Talk about non linearity and why it matters - does this relate to bloch equations?\n",
    "- fix the calibration of the amplitude in the experiment "
   ]
  },
  {
   "cell_type": "markdown",
   "id": "04abfe24-e0e6-48bd-97f7-faa418f00805",
   "metadata": {
    "tags": []
   },
   "source": [
    "> -------------------------------------------------------------------------------------------------------------------------------------------------------\n",
    "> #### **Task 3.1.1.3: Non Linearity of Sinc Pulse**\n",
    "> 1. Insert the shim sample\n",
    "> 2. Run the experiment \n",
    "> 3. Change the amplitude of the soft pulse. Notice how the spectrum changes. **Question:** What happens to the spectrum once you reach a flip angle of 180-degrees.\n",
    "> -------------------------------------------------------------------------------------------------------------------------------------------------------"
   ]
  },
  {
   "cell_type": "code",
   "execution_count": 11,
   "id": "68031151-e6d5-4244-83de-6d07601b2135",
   "metadata": {
    "jupyter": {
     "source_hidden": true
    },
    "tags": []
   },
   "outputs": [
    {
     "data": {},
     "metadata": {},
     "output_type": "display_data"
    },
    {
     "data": {
      "application/vnd.holoviews_exec.v0+json": "",
      "text/html": [
       "<div id='3360'>\n",
       "  <div class=\"bk-root\" id=\"daaf4119-7d4b-404a-982f-300055675860\" data-root-id=\"3360\"></div>\n",
       "</div>\n",
       "<script type=\"application/javascript\">(function(root) {\n",
       "  function embed_document(root) {\n",
       "    var docs_json = {\"5e34816b-4959-4c7b-a92a-a9b946602cb6\":{\"defs\":[{\"extends\":null,\"module\":null,\"name\":\"ReactiveHTML1\",\"overrides\":[],\"properties\":[]},{\"extends\":null,\"module\":null,\"name\":\"FlexBox1\",\"overrides\":[],\"properties\":[{\"default\":\"flex-start\",\"kind\":null,\"name\":\"align_content\"},{\"default\":\"flex-start\",\"kind\":null,\"name\":\"align_items\"},{\"default\":\"row\",\"kind\":null,\"name\":\"flex_direction\"},{\"default\":\"wrap\",\"kind\":null,\"name\":\"flex_wrap\"},{\"default\":\"flex-start\",\"kind\":null,\"name\":\"justify_content\"}]},{\"extends\":null,\"module\":null,\"name\":\"GridStack1\",\"overrides\":[],\"properties\":[{\"default\":\"warn\",\"kind\":null,\"name\":\"mode\"},{\"default\":null,\"kind\":null,\"name\":\"ncols\"},{\"default\":null,\"kind\":null,\"name\":\"nrows\"},{\"default\":true,\"kind\":null,\"name\":\"allow_resize\"},{\"default\":true,\"kind\":null,\"name\":\"allow_drag\"},{\"default\":[],\"kind\":null,\"name\":\"state\"}]},{\"extends\":null,\"module\":null,\"name\":\"click1\",\"overrides\":[],\"properties\":[{\"default\":\"\",\"kind\":null,\"name\":\"terminal_output\"},{\"default\":\"\",\"kind\":null,\"name\":\"debug_name\"},{\"default\":0,\"kind\":null,\"name\":\"clears\"}]},{\"extends\":null,\"module\":null,\"name\":\"NotificationAreaBase1\",\"overrides\":[],\"properties\":[{\"default\":\"bottom-right\",\"kind\":null,\"name\":\"position\"},{\"default\":0,\"kind\":null,\"name\":\"_clear\"}]},{\"extends\":null,\"module\":null,\"name\":\"NotificationArea1\",\"overrides\":[],\"properties\":[{\"default\":[],\"kind\":null,\"name\":\"notifications\"},{\"default\":\"bottom-right\",\"kind\":null,\"name\":\"position\"},{\"default\":0,\"kind\":null,\"name\":\"_clear\"},{\"default\":[{\"background\":\"#ffc107\",\"icon\":{\"className\":\"fas fa-exclamation-triangle\",\"color\":\"white\",\"tagName\":\"i\"},\"type\":\"warning\"},{\"background\":\"#007bff\",\"icon\":{\"className\":\"fas fa-info-circle\",\"color\":\"white\",\"tagName\":\"i\"},\"type\":\"info\"}],\"kind\":null,\"name\":\"types\"}]},{\"extends\":null,\"module\":null,\"name\":\"Notification\",\"overrides\":[],\"properties\":[{\"default\":null,\"kind\":null,\"name\":\"background\"},{\"default\":3000,\"kind\":null,\"name\":\"duration\"},{\"default\":null,\"kind\":null,\"name\":\"icon\"},{\"default\":\"\",\"kind\":null,\"name\":\"message\"},{\"default\":null,\"kind\":null,\"name\":\"notification_type\"},{\"default\":false,\"kind\":null,\"name\":\"_destroyed\"}]},{\"extends\":null,\"module\":null,\"name\":\"TemplateActions1\",\"overrides\":[],\"properties\":[{\"default\":0,\"kind\":null,\"name\":\"open_modal\"},{\"default\":0,\"kind\":null,\"name\":\"close_modal\"}]},{\"extends\":null,\"module\":null,\"name\":\"MaterialTemplateActions1\",\"overrides\":[],\"properties\":[{\"default\":0,\"kind\":null,\"name\":\"open_modal\"},{\"default\":0,\"kind\":null,\"name\":\"close_modal\"}]}],\"roots\":{\"references\":[{\"attributes\":{},\"id\":\"3280\",\"type\":\"WheelZoomTool\"},{\"attributes\":{\"line_alpha\":0.1,\"line_color\":\"firebrick\",\"x\":{\"field\":\"x\"},\"y\":{\"field\":\"imag\"}},\"id\":\"3334\",\"type\":\"Line\"},{\"attributes\":{\"line_color\":\"firebrick\",\"x\":{\"field\":\"x\"},\"y\":{\"field\":\"imag\"}},\"id\":\"3333\",\"type\":\"Line\"},{\"attributes\":{},\"id\":\"3180\",\"type\":\"WheelZoomTool\"},{\"attributes\":{\"callback\":null,\"formatters\":{\"@real\":{\"id\":\"3349\"}},\"mode\":\"vline\",\"renderers\":[{\"id\":\"3319\"}],\"tooltips\":[[\"real\",\"@real{custom}\"]]},\"id\":\"3352\",\"type\":\"HoverTool\"},{\"attributes\":{\"axis_label\":\"spectral density (V/kHz)\",\"coordinates\":null,\"formatter\":{\"id\":\"3357\"},\"group\":null,\"major_label_policy\":{\"id\":\"3306\"},\"ticker\":{\"id\":\"3276\"}},\"id\":\"3275\",\"type\":\"LinearAxis\"},{\"attributes\":{\"axis\":{\"id\":\"3175\"},\"coordinates\":null,\"dimension\":1,\"group\":null,\"ticker\":null},\"id\":\"3178\",\"type\":\"Grid\"},{\"attributes\":{},\"id\":\"3176\",\"type\":\"BasicTicker\"},{\"attributes\":{\"callback\":null,\"formatters\":{\"@mag\":{\"id\":\"3349\"}},\"mode\":\"vline\",\"renderers\":[{\"id\":\"3301\"}],\"tooltips\":[[\"mag\",\"@mag{custom}\"]]},\"id\":\"3350\",\"type\":\"HoverTool\"},{\"attributes\":{},\"id\":\"3184\",\"type\":\"SaveTool\"},{\"attributes\":{},\"id\":\"3179\",\"type\":\"PanTool\"},{\"attributes\":{\"code\":\"\\n    if (tick == 0) return +tick.toFixed(5)\\n    var SI_map = [[1e9, 'G'], [1e6, 'M'], [1e3, 'k'], [1, ''], [1e-3, 'm'], [1e-6, '\\u00b5'], [1e-9, 'n']]\\n    for (const el of SI_map) {\\n        if (tick >= el[0] || tick <= -el[0])\\n            return +(tick/el[0]).toFixed(5) + el[1]\\n    }\\n    return +(tick/SI_map[SI_map.length-1][0]).toFixed(5) + SI_map[SI_map.length-1][1]\\n    \"},\"id\":\"3357\",\"type\":\"FuncTickFormatter\"},{\"attributes\":{\"overlay\":{\"id\":\"3185\"}},\"id\":\"3181\",\"type\":\"BoxZoomTool\"},{\"attributes\":{},\"id\":\"3182\",\"type\":\"CrosshairTool\"},{\"attributes\":{\"code\":\"\\n    if (value == 0) return +value.toFixed(3)\\n    var SI_map = [[1e9, 'G'], [1e6, 'M'], [1e3, 'k'], [1, ''], [1e-3, 'm'], [1e-6, '\\u00b5'], [1e-9, 'n']]\\n    for (const el of SI_map) {\\n        if (value >= el[0] || value <= -el[0])\\n            return +(value/el[0]).toFixed(3) + el[1]\\n    }\\n    return +(value/SI_map[SI_map.length-1][0]).toFixed(3) + SI_map[SI_map.length-1][1]\\n    \"},\"id\":\"3349\",\"type\":\"CustomJSHover\"},{\"attributes\":{},\"id\":\"3183\",\"type\":\"ResetTool\"},{\"attributes\":{\"label\":{\"value\":\"Real\"},\"renderers\":[{\"id\":\"3319\"}]},\"id\":\"3331\",\"type\":\"LegendItem\"},{\"attributes\":{\"line_alpha\":0.1,\"line_color\":\"firebrick\",\"x\":{\"field\":\"x\"},\"y\":{\"field\":\"imag\"}},\"id\":\"3234\",\"type\":\"Line\"},{\"attributes\":{\"axis\":{\"id\":\"3275\"},\"coordinates\":null,\"dimension\":1,\"group\":null,\"ticker\":null},\"id\":\"3278\",\"type\":\"Grid\"},{\"attributes\":{},\"id\":\"3276\",\"type\":\"BasicTicker\"},{\"attributes\":{\"children\":[{\"id\":\"3160\"},{\"id\":\"3260\"}],\"margin\":[0,0,0,0],\"name\":\"Row00241\",\"sizing_mode\":\"stretch_both\"},\"id\":\"3363\",\"type\":\"Row\"},{\"attributes\":{\"line_color\":\"orange\",\"x\":{\"field\":\"x\"},\"y\":{\"field\":\"mag\"}},\"id\":\"3298\",\"type\":\"Line\"},{\"attributes\":{\"callback\":null,\"formatters\":{\"@imag\":{\"id\":\"3349\"}},\"mode\":\"vline\",\"renderers\":[{\"id\":\"3336\"}],\"tooltips\":[[\"imag\",\"@imag{custom}\"]]},\"id\":\"3354\",\"type\":\"HoverTool\"},{\"attributes\":{\"line_alpha\":0.1,\"line_color\":\"orange\",\"x\":{\"field\":\"x\"},\"y\":{\"field\":\"mag\"}},\"id\":\"3199\",\"type\":\"Line\"},{\"attributes\":{\"line_alpha\":0.1,\"line_color\":\"orange\",\"x\":{\"field\":\"x\"},\"y\":{\"field\":\"mag\"}},\"id\":\"3299\",\"type\":\"Line\"},{\"attributes\":{\"bottom_units\":\"screen\",\"coordinates\":null,\"fill_alpha\":0.5,\"fill_color\":\"lightgrey\",\"group\":null,\"left_units\":\"screen\",\"level\":\"overlay\",\"line_alpha\":1.0,\"line_color\":\"black\",\"line_dash\":[4,4],\"line_width\":2,\"right_units\":\"screen\",\"syncable\":false,\"top_units\":\"screen\"},\"id\":\"3185\",\"type\":\"BoxAnnotation\"},{\"attributes\":{\"line_alpha\":0.2,\"line_color\":\"orange\",\"x\":{\"field\":\"x\"},\"y\":{\"field\":\"mag\"}},\"id\":\"3300\",\"type\":\"Line\"},{\"attributes\":{\"align\":\"end\",\"button_type\":\"success\",\"icon\":null,\"label\":\"Run Loop\",\"margin\":[5,10,5,10],\"sizing_mode\":\"stretch_width\",\"subscribed_events\":[\"button_click\"]},\"id\":\"3398\",\"type\":\"Button\"},{\"attributes\":{\"source\":{\"id\":\"3296\"}},\"id\":\"3302\",\"type\":\"CDSView\"},{\"attributes\":{\"align\":\"end\",\"button_type\":\"success\",\"icon\":null,\"label\":\"Run\",\"margin\":[5,10,5,10],\"sizing_mode\":\"stretch_width\",\"subscribed_events\":[\"button_click\"]},\"id\":\"3397\",\"type\":\"Button\"},{\"attributes\":{\"coordinates\":null,\"group\":null,\"items\":[{\"id\":\"3314\"},{\"id\":\"3331\"},{\"id\":\"3348\"}]},\"id\":\"3313\",\"type\":\"Legend\"},{\"attributes\":{\"label\":{\"value\":\"Imag\"},\"renderers\":[{\"id\":\"3236\"}]},\"id\":\"3248\",\"type\":\"LegendItem\"},{\"attributes\":{\"children\":[{\"id\":\"3397\"},{\"id\":\"3398\"},{\"id\":\"3399\"},{\"id\":\"3400\"},{\"id\":\"3401\"}],\"margin\":[0,0,0,0],\"name\":\"Row00234\",\"sizing_mode\":\"stretch_width\"},\"id\":\"3396\",\"type\":\"Row\"},{\"attributes\":{\"active_drag\":{\"id\":\"3179\"},\"active_scroll\":null,\"logo\":null,\"tools\":[{\"id\":\"3179\"},{\"id\":\"3180\"},{\"id\":\"3181\"},{\"id\":\"3182\"},{\"id\":\"3183\"},{\"id\":\"3184\"},{\"id\":\"3250\"},{\"id\":\"3252\"},{\"id\":\"3254\"}]},\"id\":\"3186\",\"type\":\"Toolbar\"},{\"attributes\":{\"coordinates\":null,\"data_source\":{\"id\":\"3196\"},\"glyph\":{\"id\":\"3198\"},\"group\":null,\"hover_glyph\":null,\"muted_glyph\":{\"id\":\"3200\"},\"name\":\"mag\",\"nonselection_glyph\":{\"id\":\"3199\"},\"view\":{\"id\":\"3202\"}},\"id\":\"3201\",\"type\":\"GlyphRenderer\"},{\"attributes\":{\"line_color\":\"orange\",\"x\":{\"field\":\"x\"},\"y\":{\"field\":\"mag\"}},\"id\":\"3198\",\"type\":\"Line\"},{\"attributes\":{\"line_alpha\":0.2,\"line_color\":\"orange\",\"x\":{\"field\":\"x\"},\"y\":{\"field\":\"mag\"}},\"id\":\"3200\",\"type\":\"Line\"},{\"attributes\":{\"source\":{\"id\":\"3196\"}},\"id\":\"3202\",\"type\":\"CDSView\"},{\"attributes\":{},\"id\":\"3306\",\"type\":\"AllLabels\"},{\"attributes\":{\"coordinates\":null,\"group\":null,\"items\":[{\"id\":\"3214\"},{\"id\":\"3231\"},{\"id\":\"3248\"}]},\"id\":\"3213\",\"type\":\"Legend\"},{\"attributes\":{},\"id\":\"3309\",\"type\":\"AllLabels\"},{\"attributes\":{},\"id\":\"3310\",\"type\":\"UnionRenderers\"},{\"attributes\":{\"children\":[{\"id\":\"3361\"},{\"id\":\"3362\"}],\"margin\":[0,0,0,0],\"name\":\"Column00243\",\"sizing_mode\":\"stretch_width\"},\"id\":\"3360\",\"type\":\"Column\"},{\"attributes\":{},\"id\":\"3311\",\"type\":\"Selection\"},{\"attributes\":{\"bottom_units\":\"screen\",\"coordinates\":null,\"fill_alpha\":0.5,\"fill_color\":\"lightgrey\",\"group\":null,\"left_units\":\"screen\",\"level\":\"overlay\",\"line_alpha\":1.0,\"line_color\":\"black\",\"line_dash\":[4,4],\"line_width\":2,\"right_units\":\"screen\",\"syncable\":false,\"top_units\":\"screen\"},\"id\":\"3285\",\"type\":\"BoxAnnotation\"},{\"attributes\":{\"align\":\"end\",\"button_type\":\"danger\",\"icon\":null,\"label\":\"Abort\",\"margin\":[5,10,5,10],\"sizing_mode\":\"stretch_width\",\"subscribed_events\":[\"button_click\"]},\"id\":\"3399\",\"type\":\"Button\"},{\"attributes\":{\"below\":[{\"id\":\"3171\"}],\"center\":[{\"id\":\"3174\"},{\"id\":\"3178\"},{\"id\":\"3213\"}],\"height\":400,\"left\":[{\"id\":\"3175\"}],\"renderers\":[{\"id\":\"3201\"},{\"id\":\"3219\"},{\"id\":\"3236\"}],\"sizing_mode\":\"stretch_both\",\"title\":{\"id\":\"3161\"},\"toolbar\":{\"id\":\"3186\"},\"toolbar_location\":\"above\",\"x_range\":{\"id\":\"3163\"},\"x_scale\":{\"id\":\"3167\"},\"y_range\":{\"id\":\"3165\"},\"y_scale\":{\"id\":\"3169\"}},\"id\":\"3160\",\"subtype\":\"Figure\",\"type\":\"Plot\"},{\"attributes\":{},\"id\":\"3206\",\"type\":\"AllLabels\"},{\"attributes\":{\"bar_color\":\"success\",\"height\":31,\"margin\":[5,10,5,10],\"sizing_mode\":\"stretch_width\",\"value\":0},\"id\":\"3400\",\"type\":\"panel.models.widgets.Progress\"},{\"attributes\":{\"overlay\":{\"id\":\"3285\"}},\"id\":\"3281\",\"type\":\"BoxZoomTool\"},{\"attributes\":{\"align\":\"end\",\"disabled\":true,\"margin\":[5,10,5,10],\"max_length\":5000,\"sizing_mode\":\"stretch_width\",\"value\":\"Idle\"},\"id\":\"3401\",\"type\":\"TextInput\"},{\"attributes\":{},\"id\":\"3209\",\"type\":\"AllLabels\"},{\"attributes\":{},\"id\":\"3163\",\"type\":\"DataRange1d\"},{\"attributes\":{\"data\":{\"imag\":{\"__ndarray__\":\"AAAAAA==\",\"dtype\":\"float32\",\"order\":\"little\",\"shape\":[1]},\"mag\":{\"__ndarray__\":\"AAAAAA==\",\"dtype\":\"float32\",\"order\":\"little\",\"shape\":[1]},\"real\":{\"__ndarray__\":\"AAAAAA==\",\"dtype\":\"float32\",\"order\":\"little\",\"shape\":[1]},\"x\":{\"__ndarray__\":\"AAAAAAAAAAA=\",\"dtype\":\"float64\",\"order\":\"little\",\"shape\":[1]}},\"selected\":{\"id\":\"3211\"},\"selection_policy\":{\"id\":\"3210\"}},\"id\":\"3196\",\"type\":\"ColumnDataSource\"},{\"attributes\":{},\"id\":\"3169\",\"type\":\"LinearScale\"},{\"attributes\":{},\"id\":\"3210\",\"type\":\"UnionRenderers\"},{\"attributes\":{},\"id\":\"3279\",\"type\":\"PanTool\"},{\"attributes\":{},\"id\":\"3165\",\"type\":\"DataRange1d\"},{\"attributes\":{},\"id\":\"3211\",\"type\":\"Selection\"},{\"attributes\":{\"line_color\":\"firebrick\",\"x\":{\"field\":\"x\"},\"y\":{\"field\":\"imag\"}},\"id\":\"3233\",\"type\":\"Line\"},{\"attributes\":{},\"id\":\"3172\",\"type\":\"BasicTicker\"},{\"attributes\":{\"line_alpha\":0.2,\"line_color\":\"firebrick\",\"x\":{\"field\":\"x\"},\"y\":{\"field\":\"imag\"}},\"id\":\"3235\",\"type\":\"Line\"},{\"attributes\":{\"coordinates\":null,\"group\":null,\"text\":\"Signal\"},\"id\":\"3161\",\"type\":\"Title\"},{\"attributes\":{},\"id\":\"3167\",\"type\":\"LinearScale\"},{\"attributes\":{\"source\":{\"id\":\"3196\"}},\"id\":\"3237\",\"type\":\"CDSView\"},{\"attributes\":{\"axis_label\":\"time (s)\",\"coordinates\":null,\"formatter\":{\"id\":\"3257\"},\"group\":null,\"major_label_policy\":{\"id\":\"3209\"},\"ticker\":{\"id\":\"3172\"}},\"id\":\"3171\",\"type\":\"LinearAxis\"},{\"attributes\":{\"client_comm_id\":\"4ca510597496419b9c7fea50de9e9ea2\",\"comm_id\":\"6d6ef617cce946469c8ee12a5c5ece7d\",\"plot_id\":\"3360\"},\"id\":\"3450\",\"type\":\"panel.models.comm_manager.CommManager\"},{\"attributes\":{\"axis\":{\"id\":\"3171\"},\"coordinates\":null,\"group\":null,\"ticker\":null},\"id\":\"3174\",\"type\":\"Grid\"},{\"attributes\":{\"axis_label\":\"signal (V)\",\"coordinates\":null,\"formatter\":{\"id\":\"3257\"},\"group\":null,\"major_label_policy\":{\"id\":\"3206\"},\"ticker\":{\"id\":\"3176\"}},\"id\":\"3175\",\"type\":\"LinearAxis\"},{\"attributes\":{\"active_drag\":{\"id\":\"3279\"},\"active_scroll\":null,\"logo\":null,\"tools\":[{\"id\":\"3279\"},{\"id\":\"3280\"},{\"id\":\"3281\"},{\"id\":\"3282\"},{\"id\":\"3283\"},{\"id\":\"3284\"},{\"id\":\"3350\"},{\"id\":\"3352\"},{\"id\":\"3354\"}]},\"id\":\"3286\",\"type\":\"Toolbar\"},{\"attributes\":{\"source\":{\"id\":\"3296\"}},\"id\":\"3337\",\"type\":\"CDSView\"},{\"attributes\":{\"label\":{\"value\":\"Magnitude\"},\"renderers\":[{\"id\":\"3301\"}]},\"id\":\"3314\",\"type\":\"LegendItem\"},{\"attributes\":{\"line_alpha\":0.1,\"line_color\":\"blue\",\"x\":{\"field\":\"x\"},\"y\":{\"field\":\"real\"}},\"id\":\"3317\",\"type\":\"Line\"},{\"attributes\":{\"callback\":null,\"formatters\":{\"@real\":{\"id\":\"3249\"}},\"mode\":\"vline\",\"renderers\":[{\"id\":\"3219\"}],\"tooltips\":[[\"real\",\"@real{custom}\"]]},\"id\":\"3252\",\"type\":\"HoverTool\"},{\"attributes\":{\"coordinates\":null,\"data_source\":{\"id\":\"3296\"},\"glyph\":{\"id\":\"3316\"},\"group\":null,\"hover_glyph\":null,\"muted_glyph\":{\"id\":\"3318\"},\"name\":\"real\",\"nonselection_glyph\":{\"id\":\"3317\"},\"view\":{\"id\":\"3320\"}},\"id\":\"3319\",\"type\":\"GlyphRenderer\"},{\"attributes\":{\"code\":\"\\n    if (value == 0) return +value.toFixed(3)\\n    var SI_map = [[1e9, 'G'], [1e6, 'M'], [1e3, 'k'], [1, ''], [1e-3, 'm'], [1e-6, '\\u00b5'], [1e-9, 'n']]\\n    for (const el of SI_map) {\\n        if (value >= el[0] || value <= -el[0])\\n            return +(value/el[0]).toFixed(3) + el[1]\\n    }\\n    return +(value/SI_map[SI_map.length-1][0]).toFixed(3) + SI_map[SI_map.length-1][1]\\n    \"},\"id\":\"3249\",\"type\":\"CustomJSHover\"},{\"attributes\":{\"label\":{\"value\":\"Imag\"},\"renderers\":[{\"id\":\"3336\"}]},\"id\":\"3348\",\"type\":\"LegendItem\"},{\"attributes\":{\"callback\":null,\"formatters\":{\"@mag\":{\"id\":\"3249\"}},\"mode\":\"vline\",\"renderers\":[{\"id\":\"3201\"}],\"tooltips\":[[\"mag\",\"@mag{custom}\"]]},\"id\":\"3250\",\"type\":\"HoverTool\"},{\"attributes\":{\"line_color\":\"blue\",\"x\":{\"field\":\"x\"},\"y\":{\"field\":\"real\"}},\"id\":\"3316\",\"type\":\"Line\"},{\"attributes\":{\"line_alpha\":0.2,\"line_color\":\"blue\",\"x\":{\"field\":\"x\"},\"y\":{\"field\":\"real\"}},\"id\":\"3318\",\"type\":\"Line\"},{\"attributes\":{\"code\":\"\\n    if (tick == 0) return +tick.toFixed(5)\\n    var SI_map = [[1e9, 'G'], [1e6, 'M'], [1e3, 'k'], [1, ''], [1e-3, 'm'], [1e-6, '\\u00b5'], [1e-9, 'n']]\\n    for (const el of SI_map) {\\n        if (tick >= el[0] || tick <= -el[0])\\n            return +(tick/el[0]).toFixed(5) + el[1]\\n    }\\n    return +(tick/SI_map[SI_map.length-1][0]).toFixed(5) + SI_map[SI_map.length-1][1]\\n    \"},\"id\":\"3257\",\"type\":\"FuncTickFormatter\"},{\"attributes\":{\"line_alpha\":0.2,\"line_color\":\"firebrick\",\"x\":{\"field\":\"x\"},\"y\":{\"field\":\"imag\"}},\"id\":\"3335\",\"type\":\"Line\"},{\"attributes\":{\"source\":{\"id\":\"3296\"}},\"id\":\"3320\",\"type\":\"CDSView\"},{\"attributes\":{},\"id\":\"3282\",\"type\":\"CrosshairTool\"},{\"attributes\":{},\"id\":\"3283\",\"type\":\"ResetTool\"},{\"attributes\":{\"coordinates\":null,\"data_source\":{\"id\":\"3296\"},\"glyph\":{\"id\":\"3298\"},\"group\":null,\"hover_glyph\":null,\"muted_glyph\":{\"id\":\"3300\"},\"name\":\"mag\",\"nonselection_glyph\":{\"id\":\"3299\"},\"view\":{\"id\":\"3302\"}},\"id\":\"3301\",\"type\":\"GlyphRenderer\"},{\"attributes\":{\"coordinates\":null,\"group\":null,\"text\":\"Spectrum\"},\"id\":\"3261\",\"type\":\"Title\"},{\"attributes\":{\"callback\":null,\"formatters\":{\"@imag\":{\"id\":\"3249\"}},\"mode\":\"vline\",\"renderers\":[{\"id\":\"3236\"}],\"tooltips\":[[\"imag\",\"@imag{custom}\"]]},\"id\":\"3254\",\"type\":\"HoverTool\"},{\"attributes\":{\"data\":{\"imag\":{\"__ndarray__\":\"AAAAAA==\",\"dtype\":\"float32\",\"order\":\"little\",\"shape\":[1]},\"mag\":{\"__ndarray__\":\"AAAAAA==\",\"dtype\":\"float32\",\"order\":\"little\",\"shape\":[1]},\"real\":{\"__ndarray__\":\"AAAAAA==\",\"dtype\":\"float32\",\"order\":\"little\",\"shape\":[1]},\"x\":{\"__ndarray__\":\"AAAAAAAAAAA=\",\"dtype\":\"float64\",\"order\":\"little\",\"shape\":[1]}},\"selected\":{\"id\":\"3311\"},\"selection_policy\":{\"id\":\"3310\"}},\"id\":\"3296\",\"type\":\"ColumnDataSource\"},{\"attributes\":{\"below\":[{\"id\":\"3271\"}],\"center\":[{\"id\":\"3274\"},{\"id\":\"3278\"},{\"id\":\"3313\"}],\"height\":400,\"left\":[{\"id\":\"3275\"}],\"renderers\":[{\"id\":\"3301\"},{\"id\":\"3319\"},{\"id\":\"3336\"}],\"sizing_mode\":\"stretch_both\",\"title\":{\"id\":\"3261\"},\"toolbar\":{\"id\":\"3286\"},\"toolbar_location\":\"above\",\"x_range\":{\"id\":\"3263\"},\"x_scale\":{\"id\":\"3267\"},\"y_range\":{\"id\":\"3265\"},\"y_scale\":{\"id\":\"3269\"}},\"id\":\"3260\",\"subtype\":\"Figure\",\"type\":\"Plot\"},{\"attributes\":{\"children\":[{\"id\":\"3363\"},{\"id\":\"3396\"}],\"margin\":[0,0,0,0],\"name\":\"Column00242\",\"sizing_mode\":\"stretch_both\"},\"id\":\"3362\",\"type\":\"Column\"},{\"attributes\":{},\"id\":\"3269\",\"type\":\"LinearScale\"},{\"attributes\":{},\"id\":\"3263\",\"type\":\"DataRange1d\"},{\"attributes\":{\"coordinates\":null,\"data_source\":{\"id\":\"3296\"},\"glyph\":{\"id\":\"3333\"},\"group\":null,\"hover_glyph\":null,\"muted_glyph\":{\"id\":\"3335\"},\"name\":\"imag\",\"nonselection_glyph\":{\"id\":\"3334\"},\"view\":{\"id\":\"3337\"}},\"id\":\"3336\",\"type\":\"GlyphRenderer\"},{\"attributes\":{},\"id\":\"3265\",\"type\":\"DataRange1d\"},{\"attributes\":{\"label\":{\"value\":\"Magnitude\"},\"renderers\":[{\"id\":\"3201\"}]},\"id\":\"3214\",\"type\":\"LegendItem\"},{\"attributes\":{\"line_alpha\":0.1,\"line_color\":\"blue\",\"x\":{\"field\":\"x\"},\"y\":{\"field\":\"real\"}},\"id\":\"3217\",\"type\":\"Line\"},{\"attributes\":{},\"id\":\"3272\",\"type\":\"BasicTicker\"},{\"attributes\":{\"coordinates\":null,\"data_source\":{\"id\":\"3196\"},\"glyph\":{\"id\":\"3216\"},\"group\":null,\"hover_glyph\":null,\"muted_glyph\":{\"id\":\"3218\"},\"name\":\"real\",\"nonselection_glyph\":{\"id\":\"3217\"},\"view\":{\"id\":\"3220\"}},\"id\":\"3219\",\"type\":\"GlyphRenderer\"},{\"attributes\":{\"axis\":{\"id\":\"3271\"},\"coordinates\":null,\"group\":null,\"ticker\":null},\"id\":\"3274\",\"type\":\"Grid\"},{\"attributes\":{\"high\":360,\"low\":1,\"margin\":[5,10,5,10],\"min_width\":80,\"placeholder\":\"0\",\"step\":10,\"title\":\"Amplitude\",\"value\":90,\"value_throttled\":90,\"width\":80},\"id\":\"3361\",\"type\":\"Spinner\"},{\"attributes\":{\"source\":{\"id\":\"3196\"}},\"id\":\"3220\",\"type\":\"CDSView\"},{\"attributes\":{},\"id\":\"3284\",\"type\":\"SaveTool\"},{\"attributes\":{},\"id\":\"3267\",\"type\":\"LinearScale\"},{\"attributes\":{\"line_color\":\"blue\",\"x\":{\"field\":\"x\"},\"y\":{\"field\":\"real\"}},\"id\":\"3216\",\"type\":\"Line\"},{\"attributes\":{\"line_alpha\":0.2,\"line_color\":\"blue\",\"x\":{\"field\":\"x\"},\"y\":{\"field\":\"real\"}},\"id\":\"3218\",\"type\":\"Line\"},{\"attributes\":{\"axis_label\":\"relative frequency (Hz)\",\"coordinates\":null,\"formatter\":{\"id\":\"3357\"},\"group\":null,\"major_label_policy\":{\"id\":\"3309\"},\"ticker\":{\"id\":\"3272\"}},\"id\":\"3271\",\"type\":\"LinearAxis\"},{\"attributes\":{\"coordinates\":null,\"data_source\":{\"id\":\"3196\"},\"glyph\":{\"id\":\"3233\"},\"group\":null,\"hover_glyph\":null,\"muted_glyph\":{\"id\":\"3235\"},\"name\":\"imag\",\"nonselection_glyph\":{\"id\":\"3234\"},\"view\":{\"id\":\"3237\"}},\"id\":\"3236\",\"type\":\"GlyphRenderer\"},{\"attributes\":{\"label\":{\"value\":\"Real\"},\"renderers\":[{\"id\":\"3219\"}]},\"id\":\"3231\",\"type\":\"LegendItem\"}],\"root_ids\":[\"3360\",\"3450\"]},\"title\":\"Bokeh Application\",\"version\":\"2.4.3\"}};\n",
       "    var render_items = [{\"docid\":\"5e34816b-4959-4c7b-a92a-a9b946602cb6\",\"root_ids\":[\"3360\"],\"roots\":{\"3360\":\"daaf4119-7d4b-404a-982f-300055675860\"}}];\n",
       "    root.Bokeh.embed.embed_items_notebook(docs_json, render_items);\n",
       "  }\n",
       "  if (root.Bokeh !== undefined && root.Bokeh.Panel !== undefined) {\n",
       "    embed_document(root);\n",
       "  } else {\n",
       "    var attempts = 0;\n",
       "    var timer = setInterval(function(root) {\n",
       "      if (root.Bokeh !== undefined && root.Bokeh.Panel !== undefined) {\n",
       "        clearInterval(timer);\n",
       "        embed_document(root);\n",
       "      } else if (document.readyState == \"complete\") {\n",
       "        attempts++;\n",
       "        if (attempts > 200) {\n",
       "          clearInterval(timer);\n",
       "          console.log(\"Bokeh: ERROR: Unable to run BokehJS code because BokehJS library is missing\");\n",
       "        }\n",
       "      }\n",
       "    }, 25, root)\n",
       "  }\n",
       "})(window);</script>"
      ],
      "text/plain": [
       "Column(sizing_mode='stretch_width')\n",
       "    [0] FloatInput(end=360, name='Amplitude', start=1, step=10, value=90, width=80)\n",
       "    [1] Column(sizing_mode='stretch_both')\n",
       "        [0] Row(sizing_mode='stretch_both')\n",
       "            [0] Bokeh(Figure)\n",
       "            [1] Bokeh(Figure)\n",
       "        [1] Row(sizing_mode='stretch_width')\n",
       "            [0] Button(align='end', button_type='success', name='Run', sizing_mode='stretch_width')\n",
       "            [1] Button(align='end', button_type='success', name='Run Loop', sizing_mode='stretch_width')\n",
       "            [2] Button(align='end', button_type='danger', name='Abort', sizing_mode='stretch_width')\n",
       "            [3] Progress(height=31, sizing_mode='stretch_width', value=0)\n",
       "            [4] TextInput(align='end', disabled=True, sizing_mode='stretch_width', value='Idle')"
      ]
     },
     "execution_count": 11,
     "metadata": {
      "application/vnd.holoviews_exec.v0+json": {
       "id": "3360"
      }
     },
     "output_type": "execute_result"
    }
   ],
   "source": [
    "from custom_pulse_SE_app import CustomPulseSEApp # from dashboards-inline directory that was added to sys.path\n",
    "\n",
    "amplitude_input = pn.widgets.FloatInput(name=\"Amplitude\", start=1, end=360, step=10, value=90, width=80)\n",
    "\n",
    "def estimate_a_90():\n",
    "    shape_area = np.mean(global_shape)*global_width\n",
    "    target_area = 0.3*32e-6\n",
    "    return min(1, abs(target_area/shape_area))\n",
    "\n",
    "# set some parameters directly\n",
    "override_pars = dict(\n",
    "    a_90=lambda: (amplitude_input.value/90)*estimate_a_90(),\n",
    "    t_90=lambda: global_width,\n",
    "    shape_90=lambda: global_shape,\n",
    "    g_slice=(0,0,-0.5),\n",
    "    g_read=(0,0,0.5),\n",
    "    n_scans=2,\n",
    "    n_samples=200,\n",
    "    t_dw=10e-6, # using a long dwell time for narrow bandwith to more easily see the spectrum shape\n",
    "    t_end=0.5\n",
    ")\n",
    "\n",
    "# create dashboard app\n",
    "exp3_app = CustomPulseSEApp(\n",
    "    override_pars=override_pars,\n",
    "    show_magnitude=True,\n",
    "    show_complex=True,\n",
    "    enable_run_loop=True,\n",
    "    flat_filter = True\n",
    ")\n",
    "\n",
    "exp3_app.plot1.figure.height=400\n",
    "exp3_app.plot2.figure.height=400\n",
    "\n",
    "# display layout\n",
    "pn.Column(\n",
    "    amplitude_input,\n",
    "    exp3_app.main(),\n",
    "    sizing_mode='stretch_width'\n",
    ")"
   ]
  },
  {
   "cell_type": "markdown",
   "id": "8964fb57-a9ca-4f5c-86fc-84a190e9fc20",
   "metadata": {},
   "source": [
    "#### 3.1.2 SLR Pulse Design\n",
    "TO DO: Explain why based on the last exercises that optimised pulses are better than sinc pulses for what we're doing. Talk about the differences between them. \n"
   ]
  },
  {
   "cell_type": "markdown",
   "id": "29969d31-c50c-4de6-a16d-908337f7b59d",
   "metadata": {},
   "source": [
    "> -------------------------------------------------------------------------------------------------------------------------------------------------------\n",
    "> #### **Task 3.1.2.1: SLR Pulse Calibration**\n",
    "> TO DO: Insert a window that runs a pulse sequence and plots the slice profile. Amplitude of the RF pulse can be altered to show how the shape of the slice profile changes based on the amplitude of the pulse. \n",
    "> 1. Use\n",
    "> -------------------------------------------------------------------------------------------------------------------------------------------------------"
   ]
  },
  {
   "cell_type": "markdown",
   "id": "b3254433-7ebb-4e51-b4f2-2e9bad392c0d",
   "metadata": {},
   "source": [
    "### 3.2 Slice Select Gradient relationship to slice thickness"
   ]
  },
  {
   "cell_type": "markdown",
   "id": "6fd2ceb5-0908-497d-851f-86bdd3fac4b7",
   "metadata": {},
   "source": [
    "The thickness of the slice that is selected is also affected by the strength of the gradient. \n",
    "\n",
    "Fig.x illustrates how three identical RF-pulses can result in different slice thicknesses when the gradients are changed.\n",
    "\n",
    "<center><img src=\"Images/slice_thickness.png\" width=\"1400\"></center>\n",
    "<center><figcaption style=\"width: 300px;\">Figure x:  </figcaption></center>"
   ]
  },
  {
   "cell_type": "markdown",
   "id": "8c3288e3-ab07-4fe9-8fc8-c463c2e13b5f",
   "metadata": {},
   "source": [
    "> -------------------------------------------------------------------------------------------------------------------------------------------------------\n",
    "> #### **Task 3.2.1: ???**\n",
    "> TO DO: Insert 2D RARE that is set to show just the width of the slice. Have adjustable bandwidth and gradient parameters so they can see the slice width change as the parameters are changed.\n",
    "> Relate this part to the actual units - create a desired thickness in mm based on gradient and bandwidth\n",
    "> 1. Change the...\n",
    "> -------------------------------------------------------------------------------------------------------------------------------------------------------"
   ]
  },
  {
   "cell_type": "markdown",
   "id": "aeff3bfa-1858-4de8-836d-afa8f86b75ea",
   "metadata": {},
   "source": [
    "In many of ilumr's dashboards you can select the desired slice thickness and the bandwidth and gradient will both be automatically adjusted to allow for this thickness. This is done by... "
   ]
  },
  {
   "cell_type": "markdown",
   "id": "710503d7-75b2-4b5d-b186-814f4cd5bed8",
   "metadata": {},
   "source": [
    "## 4. Controlling Slice Position\n",
    "TO DO: Explain centre frequency and how this is controlled. Maybe an equation \n",
    "\n",
    "$$F_{c} = \\gamma(B_0 + z.G_{ss})$$"
   ]
  },
  {
   "cell_type": "markdown",
   "id": "e87adc23-352b-4a7e-93e1-4993b7fdab43",
   "metadata": {},
   "source": [
    "> -------------------------------------------------------------------------------------------------------------------------------------------------------\n",
    "> #### **Task 4.2: Locating the Hidden Text**\n",
    "> TO DO: insert a standard 2D RARE dashboard where they can play around with slice selection in different axes to find the ilumr text in the ilumr phantom\n",
    "> 1. Change the...\n",
    "> -------------------------------------------------------------------------------------------------------------------------------------------------------"
   ]
  },
  {
   "cell_type": "markdown",
   "id": "a24e1abd-7d96-44d2-9f64-9e0b26a3b6f2",
   "metadata": {},
   "source": [
    "Things to add:\n",
    "- Need to add a section talking about center frequency for the slice selection pulse and how this allows you to slice at different points in the sample\n",
    "- Changing the direction/axis of slice selection\n",
    "- Non-linearity of Bloch equations (talk about distortion in slice profile once go past a certain point)\n",
    "- How the pulse calibration dashboard works \n",
    "- Calibration methods\n",
    "- Tying everything to physical measurements - how does the actual gradient strength and B1 relate to physical slice thickness. How to calculate this."
   ]
  },
  {
   "cell_type": "code",
   "execution_count": null,
   "id": "b5cf3a5f-d37c-4cec-96cf-1522022ea44a",
   "metadata": {},
   "outputs": [],
   "source": []
  }
 ],
 "metadata": {
  "kernelspec": {
   "display_name": "Python 3 (ipykernel)",
   "language": "python",
   "name": "python3"
  },
  "language_info": {
   "codemirror_mode": {
    "name": "ipython",
    "version": 3
   },
   "file_extension": ".py",
   "mimetype": "text/x-python",
   "name": "python",
   "nbconvert_exporter": "python",
   "pygments_lexer": "ipython3",
   "version": "3.10.7"
  },
  "widgets": {
   "application/vnd.jupyter.widget-state+json": {
    "state": {},
    "version_major": 2,
    "version_minor": 0
   }
  }
 },
 "nbformat": 4,
 "nbformat_minor": 5
}
