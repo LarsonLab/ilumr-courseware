{
 "cells": [
  {
   "cell_type": "code",
   "execution_count": 19,
   "id": "12fe24a6-7a3c-4981-bd40-2c7c7fd390bf",
   "metadata": {
    "tags": []
   },
   "outputs": [],
   "source": [
    "LAB_USER_NAME = 'DEMO'"
   ]
  },
  {
   "cell_type": "markdown",
   "id": "cddb0019-74db-4e0b-828d-bc79417a2c01",
   "metadata": {
    "tags": []
   },
   "source": [
    "**Important**: To initialise this notebook, edit the cell above to set `LAB_USER_NAME` to your name, then click **Run->Run All Cells** in the top menu bar"
   ]
  },
  {
   "cell_type": "code",
   "execution_count": 20,
   "id": "ec29cfe5-e2c8-4485-8877-f43bb0d496fa",
   "metadata": {
    "tags": []
   },
   "outputs": [
    {
     "data": {
      "application/javascript": [
       "(function(root) {\n",
       "  function now() {\n",
       "    return new Date();\n",
       "  }\n",
       "\n",
       "  var force = true;\n",
       "\n",
       "  if (typeof root._bokeh_onload_callbacks === \"undefined\" || force === true) {\n",
       "    root._bokeh_onload_callbacks = [];\n",
       "    root._bokeh_is_loading = undefined;\n",
       "  }\n",
       "\n",
       "  if (typeof (root._bokeh_timeout) === \"undefined\" || force === true) {\n",
       "    root._bokeh_timeout = Date.now() + 5000;\n",
       "    root._bokeh_failed_load = false;\n",
       "  }\n",
       "\n",
       "  function run_callbacks() {\n",
       "    try {\n",
       "      root._bokeh_onload_callbacks.forEach(function(callback) {\n",
       "        if (callback != null)\n",
       "          callback();\n",
       "      });\n",
       "    } finally {\n",
       "      delete root._bokeh_onload_callbacks\n",
       "    }\n",
       "    console.debug(\"Bokeh: all callbacks have finished\");\n",
       "  }\n",
       "\n",
       "  function load_libs(css_urls, js_urls, js_modules, callback) {\n",
       "    if (css_urls == null) css_urls = [];\n",
       "    if (js_urls == null) js_urls = [];\n",
       "    if (js_modules == null) js_modules = [];\n",
       "\n",
       "    root._bokeh_onload_callbacks.push(callback);\n",
       "    if (root._bokeh_is_loading > 0) {\n",
       "      console.debug(\"Bokeh: BokehJS is being loaded, scheduling callback at\", now());\n",
       "      return null;\n",
       "    }\n",
       "    if (js_urls.length === 0 && js_modules.length === 0) {\n",
       "      run_callbacks();\n",
       "      return null;\n",
       "    }\n",
       "    console.debug(\"Bokeh: BokehJS not loaded, scheduling load and callback at\", now());\n",
       "\n",
       "    function on_load() {\n",
       "      root._bokeh_is_loading--;\n",
       "      if (root._bokeh_is_loading === 0) {\n",
       "        console.debug(\"Bokeh: all BokehJS libraries/stylesheets loaded\");\n",
       "        run_callbacks()\n",
       "      }\n",
       "    }\n",
       "\n",
       "    function on_error() {\n",
       "      console.error(\"failed to load \" + url);\n",
       "    }\n",
       "\n",
       "    for (var i = 0; i < css_urls.length; i++) {\n",
       "      var url = css_urls[i];\n",
       "      const element = document.createElement(\"link\");\n",
       "      element.onload = on_load;\n",
       "      element.onerror = on_error;\n",
       "      element.rel = \"stylesheet\";\n",
       "      element.type = \"text/css\";\n",
       "      element.href = url;\n",
       "      console.debug(\"Bokeh: injecting link tag for BokehJS stylesheet: \", url);\n",
       "      document.body.appendChild(element);\n",
       "    }\n",
       "\n",
       "    var skip = [];\n",
       "    if (window.requirejs) {\n",
       "      window.requirejs.config({'packages': {}, 'paths': {'gridstack': 'https://cdn.jsdelivr.net/npm/gridstack@4.2.5/dist/gridstack-h5', 'notyf': 'https://cdn.jsdelivr.net/npm/notyf@3/notyf.min'}, 'shim': {'gridstack': {'exports': 'GridStack'}}});\n",
       "      require([\"gridstack\"], function(GridStack) {\n",
       "\twindow.GridStack = GridStack\n",
       "\ton_load()\n",
       "      })\n",
       "      require([\"notyf\"], function() {\n",
       "\ton_load()\n",
       "      })\n",
       "      root._bokeh_is_loading = css_urls.length + 2;\n",
       "    } else {\n",
       "      root._bokeh_is_loading = css_urls.length + js_urls.length + js_modules.length;\n",
       "    }    if (((window['GridStack'] !== undefined) && (!(window['GridStack'] instanceof HTMLElement))) || window.requirejs) {\n",
       "      var urls = ['https://cdn.jsdelivr.net/npm/gridstack@4.2.5/dist/gridstack-h5.js'];\n",
       "      for (var i = 0; i < urls.length; i++) {\n",
       "        skip.push(urls[i])\n",
       "      }\n",
       "    }    if (((window['Notyf'] !== undefined) && (!(window['Notyf'] instanceof HTMLElement))) || window.requirejs) {\n",
       "      var urls = ['https://cdn.jsdelivr.net/npm/notyf@3/notyf.min.js'];\n",
       "      for (var i = 0; i < urls.length; i++) {\n",
       "        skip.push(urls[i])\n",
       "      }\n",
       "    }    for (var i = 0; i < js_urls.length; i++) {\n",
       "      var url = js_urls[i];\n",
       "      if (skip.indexOf(url) >= 0) {\n",
       "\tif (!window.requirejs) {\n",
       "\t  on_load();\n",
       "\t}\n",
       "\tcontinue;\n",
       "      }\n",
       "      var element = document.createElement('script');\n",
       "      element.onload = on_load;\n",
       "      element.onerror = on_error;\n",
       "      element.async = false;\n",
       "      element.src = url;\n",
       "      console.debug(\"Bokeh: injecting script tag for BokehJS library: \", url);\n",
       "      document.head.appendChild(element);\n",
       "    }\n",
       "    for (var i = 0; i < js_modules.length; i++) {\n",
       "      var url = js_modules[i];\n",
       "      if (skip.indexOf(url) >= 0) {\n",
       "\tif (!window.requirejs) {\n",
       "\t  on_load();\n",
       "\t}\n",
       "\tcontinue;\n",
       "      }\n",
       "      var element = document.createElement('script');\n",
       "      element.onload = on_load;\n",
       "      element.onerror = on_error;\n",
       "      element.async = false;\n",
       "      element.src = url;\n",
       "      element.type = \"module\";\n",
       "      console.debug(\"Bokeh: injecting script tag for BokehJS library: \", url);\n",
       "      document.head.appendChild(element);\n",
       "    }\n",
       "    if (!js_urls.length && !js_modules.length) {\n",
       "      on_load()\n",
       "    }\n",
       "  };\n",
       "\n",
       "  function inject_raw_css(css) {\n",
       "    const element = document.createElement(\"style\");\n",
       "    element.appendChild(document.createTextNode(css));\n",
       "    document.body.appendChild(element);\n",
       "  }\n",
       "\n",
       "  var js_urls = [\"https://cdn.bokeh.org/bokeh/release/bokeh-2.4.3.min.js\", \"https://cdn.bokeh.org/bokeh/release/bokeh-gl-2.4.3.min.js\", \"https://cdn.bokeh.org/bokeh/release/bokeh-widgets-2.4.3.min.js\", \"https://cdn.bokeh.org/bokeh/release/bokeh-tables-2.4.3.min.js\", \"https://cdn.bokeh.org/bokeh/release/bokeh-mathjax-2.4.3.min.js\", \"https://cdn.jsdelivr.net/npm/notyf@3/notyf.min.js\", \"https://unpkg.com/@holoviz/panel@0.13.1/dist/panel.min.js\"];\n",
       "  var js_modules = [];\n",
       "  var css_urls = [\"https://cdn.jsdelivr.net/npm/notyf@3/notyf.min.css\", \"https://cdnjs.cloudflare.com/ajax/libs/font-awesome/5.15.1/css/all.min.css\", \"https://unpkg.com/@holoviz/panel@0.13.1/dist/css/widgets.css\", \"https://unpkg.com/@holoviz/panel@0.13.1/dist/css/loading.css\", \"https://unpkg.com/@holoviz/panel@0.13.1/dist/css/markdown.css\", \"https://unpkg.com/@holoviz/panel@0.13.1/dist/css/alerts.css\", \"https://unpkg.com/@holoviz/panel@0.13.1/dist/css/json.css\", \"https://unpkg.com/@holoviz/panel@0.13.1/dist/css/dataframe.css\", \"https://unpkg.com/@holoviz/panel@0.13.1/dist/css/debugger.css\", \"https://unpkg.com/@holoviz/panel@0.13.1/dist/css/card.css\"];\n",
       "  var inline_js = [    function(Bokeh) {\n",
       "      inject_raw_css(\"\\n    .bk.pn-loading.arcs:before {\\n      background-image: url(\\\"data:image/svg+xml;base64,PHN2ZyB4bWxucz0iaHR0cDovL3d3dy53My5vcmcvMjAwMC9zdmciIHhtbG5zOnhsaW5rPSJodHRwOi8vd3d3LnczLm9yZy8xOTk5L3hsaW5rIiBzdHlsZT0ibWFyZ2luOiBhdXRvOyBiYWNrZ3JvdW5kOiBub25lOyBkaXNwbGF5OiBibG9jazsgc2hhcGUtcmVuZGVyaW5nOiBhdXRvOyIgdmlld0JveD0iMCAwIDEwMCAxMDAiIHByZXNlcnZlQXNwZWN0UmF0aW89InhNaWRZTWlkIj4gIDxjaXJjbGUgY3g9IjUwIiBjeT0iNTAiIHI9IjMyIiBzdHJva2Utd2lkdGg9IjgiIHN0cm9rZT0iI2MzYzNjMyIgc3Ryb2tlLWRhc2hhcnJheT0iNTAuMjY1NDgyNDU3NDM2NjkgNTAuMjY1NDgyNDU3NDM2NjkiIGZpbGw9Im5vbmUiIHN0cm9rZS1saW5lY2FwPSJyb3VuZCI+ICAgIDxhbmltYXRlVHJhbnNmb3JtIGF0dHJpYnV0ZU5hbWU9InRyYW5zZm9ybSIgdHlwZT0icm90YXRlIiByZXBlYXRDb3VudD0iaW5kZWZpbml0ZSIgZHVyPSIxcyIga2V5VGltZXM9IjA7MSIgdmFsdWVzPSIwIDUwIDUwOzM2MCA1MCA1MCI+PC9hbmltYXRlVHJhbnNmb3JtPiAgPC9jaXJjbGU+PC9zdmc+\\\");\\n      background-size: auto calc(min(50%, 400px));\\n    }\\n    \");\n",
       "    },    function(Bokeh) {\n",
       "      Bokeh.set_log_level(\"info\");\n",
       "    },\n",
       "function(Bokeh) {} // ensure no trailing comma for IE\n",
       "  ];\n",
       "\n",
       "  function run_inline_js() {\n",
       "    if ((root.Bokeh !== undefined) || (force === true)) {\n",
       "      for (var i = 0; i < inline_js.length; i++) {\n",
       "        inline_js[i].call(root, root.Bokeh);\n",
       "      }} else if (Date.now() < root._bokeh_timeout) {\n",
       "      setTimeout(run_inline_js, 100);\n",
       "    } else if (!root._bokeh_failed_load) {\n",
       "      console.log(\"Bokeh: BokehJS failed to load within specified timeout.\");\n",
       "      root._bokeh_failed_load = true;\n",
       "    }\n",
       "  }\n",
       "\n",
       "  if (root._bokeh_is_loading === 0) {\n",
       "    console.debug(\"Bokeh: BokehJS loaded, going straight to plotting\");\n",
       "    run_inline_js();\n",
       "  } else {\n",
       "    load_libs(css_urls, js_urls, js_modules, function() {\n",
       "      console.debug(\"Bokeh: BokehJS plotting callback run at\", now());\n",
       "      run_inline_js();\n",
       "    });\n",
       "  }\n",
       "}(window));"
      ],
      "application/vnd.holoviews_load.v0+json": "(function(root) {\n  function now() {\n    return new Date();\n  }\n\n  var force = true;\n\n  if (typeof root._bokeh_onload_callbacks === \"undefined\" || force === true) {\n    root._bokeh_onload_callbacks = [];\n    root._bokeh_is_loading = undefined;\n  }\n\n  if (typeof (root._bokeh_timeout) === \"undefined\" || force === true) {\n    root._bokeh_timeout = Date.now() + 5000;\n    root._bokeh_failed_load = false;\n  }\n\n  function run_callbacks() {\n    try {\n      root._bokeh_onload_callbacks.forEach(function(callback) {\n        if (callback != null)\n          callback();\n      });\n    } finally {\n      delete root._bokeh_onload_callbacks\n    }\n    console.debug(\"Bokeh: all callbacks have finished\");\n  }\n\n  function load_libs(css_urls, js_urls, js_modules, callback) {\n    if (css_urls == null) css_urls = [];\n    if (js_urls == null) js_urls = [];\n    if (js_modules == null) js_modules = [];\n\n    root._bokeh_onload_callbacks.push(callback);\n    if (root._bokeh_is_loading > 0) {\n      console.debug(\"Bokeh: BokehJS is being loaded, scheduling callback at\", now());\n      return null;\n    }\n    if (js_urls.length === 0 && js_modules.length === 0) {\n      run_callbacks();\n      return null;\n    }\n    console.debug(\"Bokeh: BokehJS not loaded, scheduling load and callback at\", now());\n\n    function on_load() {\n      root._bokeh_is_loading--;\n      if (root._bokeh_is_loading === 0) {\n        console.debug(\"Bokeh: all BokehJS libraries/stylesheets loaded\");\n        run_callbacks()\n      }\n    }\n\n    function on_error() {\n      console.error(\"failed to load \" + url);\n    }\n\n    for (var i = 0; i < css_urls.length; i++) {\n      var url = css_urls[i];\n      const element = document.createElement(\"link\");\n      element.onload = on_load;\n      element.onerror = on_error;\n      element.rel = \"stylesheet\";\n      element.type = \"text/css\";\n      element.href = url;\n      console.debug(\"Bokeh: injecting link tag for BokehJS stylesheet: \", url);\n      document.body.appendChild(element);\n    }\n\n    var skip = [];\n    if (window.requirejs) {\n      window.requirejs.config({'packages': {}, 'paths': {'gridstack': 'https://cdn.jsdelivr.net/npm/gridstack@4.2.5/dist/gridstack-h5', 'notyf': 'https://cdn.jsdelivr.net/npm/notyf@3/notyf.min'}, 'shim': {'gridstack': {'exports': 'GridStack'}}});\n      require([\"gridstack\"], function(GridStack) {\n\twindow.GridStack = GridStack\n\ton_load()\n      })\n      require([\"notyf\"], function() {\n\ton_load()\n      })\n      root._bokeh_is_loading = css_urls.length + 2;\n    } else {\n      root._bokeh_is_loading = css_urls.length + js_urls.length + js_modules.length;\n    }    if (((window['GridStack'] !== undefined) && (!(window['GridStack'] instanceof HTMLElement))) || window.requirejs) {\n      var urls = ['https://cdn.jsdelivr.net/npm/gridstack@4.2.5/dist/gridstack-h5.js'];\n      for (var i = 0; i < urls.length; i++) {\n        skip.push(urls[i])\n      }\n    }    if (((window['Notyf'] !== undefined) && (!(window['Notyf'] instanceof HTMLElement))) || window.requirejs) {\n      var urls = ['https://cdn.jsdelivr.net/npm/notyf@3/notyf.min.js'];\n      for (var i = 0; i < urls.length; i++) {\n        skip.push(urls[i])\n      }\n    }    for (var i = 0; i < js_urls.length; i++) {\n      var url = js_urls[i];\n      if (skip.indexOf(url) >= 0) {\n\tif (!window.requirejs) {\n\t  on_load();\n\t}\n\tcontinue;\n      }\n      var element = document.createElement('script');\n      element.onload = on_load;\n      element.onerror = on_error;\n      element.async = false;\n      element.src = url;\n      console.debug(\"Bokeh: injecting script tag for BokehJS library: \", url);\n      document.head.appendChild(element);\n    }\n    for (var i = 0; i < js_modules.length; i++) {\n      var url = js_modules[i];\n      if (skip.indexOf(url) >= 0) {\n\tif (!window.requirejs) {\n\t  on_load();\n\t}\n\tcontinue;\n      }\n      var element = document.createElement('script');\n      element.onload = on_load;\n      element.onerror = on_error;\n      element.async = false;\n      element.src = url;\n      element.type = \"module\";\n      console.debug(\"Bokeh: injecting script tag for BokehJS library: \", url);\n      document.head.appendChild(element);\n    }\n    if (!js_urls.length && !js_modules.length) {\n      on_load()\n    }\n  };\n\n  function inject_raw_css(css) {\n    const element = document.createElement(\"style\");\n    element.appendChild(document.createTextNode(css));\n    document.body.appendChild(element);\n  }\n\n  var js_urls = [\"https://cdn.bokeh.org/bokeh/release/bokeh-2.4.3.min.js\", \"https://cdn.bokeh.org/bokeh/release/bokeh-gl-2.4.3.min.js\", \"https://cdn.bokeh.org/bokeh/release/bokeh-widgets-2.4.3.min.js\", \"https://cdn.bokeh.org/bokeh/release/bokeh-tables-2.4.3.min.js\", \"https://cdn.bokeh.org/bokeh/release/bokeh-mathjax-2.4.3.min.js\", \"https://cdn.jsdelivr.net/npm/notyf@3/notyf.min.js\", \"https://unpkg.com/@holoviz/panel@0.13.1/dist/panel.min.js\"];\n  var js_modules = [];\n  var css_urls = [\"https://cdn.jsdelivr.net/npm/notyf@3/notyf.min.css\", \"https://cdnjs.cloudflare.com/ajax/libs/font-awesome/5.15.1/css/all.min.css\", \"https://unpkg.com/@holoviz/panel@0.13.1/dist/css/widgets.css\", \"https://unpkg.com/@holoviz/panel@0.13.1/dist/css/loading.css\", \"https://unpkg.com/@holoviz/panel@0.13.1/dist/css/markdown.css\", \"https://unpkg.com/@holoviz/panel@0.13.1/dist/css/alerts.css\", \"https://unpkg.com/@holoviz/panel@0.13.1/dist/css/json.css\", \"https://unpkg.com/@holoviz/panel@0.13.1/dist/css/dataframe.css\", \"https://unpkg.com/@holoviz/panel@0.13.1/dist/css/debugger.css\", \"https://unpkg.com/@holoviz/panel@0.13.1/dist/css/card.css\"];\n  var inline_js = [    function(Bokeh) {\n      inject_raw_css(\"\\n    .bk.pn-loading.arcs:before {\\n      background-image: url(\\\"data:image/svg+xml;base64,PHN2ZyB4bWxucz0iaHR0cDovL3d3dy53My5vcmcvMjAwMC9zdmciIHhtbG5zOnhsaW5rPSJodHRwOi8vd3d3LnczLm9yZy8xOTk5L3hsaW5rIiBzdHlsZT0ibWFyZ2luOiBhdXRvOyBiYWNrZ3JvdW5kOiBub25lOyBkaXNwbGF5OiBibG9jazsgc2hhcGUtcmVuZGVyaW5nOiBhdXRvOyIgdmlld0JveD0iMCAwIDEwMCAxMDAiIHByZXNlcnZlQXNwZWN0UmF0aW89InhNaWRZTWlkIj4gIDxjaXJjbGUgY3g9IjUwIiBjeT0iNTAiIHI9IjMyIiBzdHJva2Utd2lkdGg9IjgiIHN0cm9rZT0iI2MzYzNjMyIgc3Ryb2tlLWRhc2hhcnJheT0iNTAuMjY1NDgyNDU3NDM2NjkgNTAuMjY1NDgyNDU3NDM2NjkiIGZpbGw9Im5vbmUiIHN0cm9rZS1saW5lY2FwPSJyb3VuZCI+ICAgIDxhbmltYXRlVHJhbnNmb3JtIGF0dHJpYnV0ZU5hbWU9InRyYW5zZm9ybSIgdHlwZT0icm90YXRlIiByZXBlYXRDb3VudD0iaW5kZWZpbml0ZSIgZHVyPSIxcyIga2V5VGltZXM9IjA7MSIgdmFsdWVzPSIwIDUwIDUwOzM2MCA1MCA1MCI+PC9hbmltYXRlVHJhbnNmb3JtPiAgPC9jaXJjbGU+PC9zdmc+\\\");\\n      background-size: auto calc(min(50%, 400px));\\n    }\\n    \");\n    },    function(Bokeh) {\n      Bokeh.set_log_level(\"info\");\n    },\nfunction(Bokeh) {} // ensure no trailing comma for IE\n  ];\n\n  function run_inline_js() {\n    if ((root.Bokeh !== undefined) || (force === true)) {\n      for (var i = 0; i < inline_js.length; i++) {\n        inline_js[i].call(root, root.Bokeh);\n      }} else if (Date.now() < root._bokeh_timeout) {\n      setTimeout(run_inline_js, 100);\n    } else if (!root._bokeh_failed_load) {\n      console.log(\"Bokeh: BokehJS failed to load within specified timeout.\");\n      root._bokeh_failed_load = true;\n    }\n  }\n\n  if (root._bokeh_is_loading === 0) {\n    console.debug(\"Bokeh: BokehJS loaded, going straight to plotting\");\n    run_inline_js();\n  } else {\n    load_libs(css_urls, js_urls, js_modules, function() {\n      console.debug(\"Bokeh: BokehJS plotting callback run at\", now());\n      run_inline_js();\n    });\n  }\n}(window));"
     },
     "metadata": {},
     "output_type": "display_data"
    },
    {
     "data": {
      "application/javascript": [
       "\n",
       "if ((window.PyViz === undefined) || (window.PyViz instanceof HTMLElement)) {\n",
       "  window.PyViz = {comms: {}, comm_status:{}, kernels:{}, receivers: {}, plot_index: []}\n",
       "}\n",
       "\n",
       "\n",
       "    function JupyterCommManager() {\n",
       "    }\n",
       "\n",
       "    JupyterCommManager.prototype.register_target = function(plot_id, comm_id, msg_handler) {\n",
       "      if (window.comm_manager || ((window.Jupyter !== undefined) && (Jupyter.notebook.kernel != null))) {\n",
       "        var comm_manager = window.comm_manager || Jupyter.notebook.kernel.comm_manager;\n",
       "        comm_manager.register_target(comm_id, function(comm) {\n",
       "          comm.on_msg(msg_handler);\n",
       "        });\n",
       "      } else if ((plot_id in window.PyViz.kernels) && (window.PyViz.kernels[plot_id])) {\n",
       "        window.PyViz.kernels[plot_id].registerCommTarget(comm_id, function(comm) {\n",
       "          comm.onMsg = msg_handler;\n",
       "        });\n",
       "      } else if (typeof google != 'undefined' && google.colab.kernel != null) {\n",
       "        google.colab.kernel.comms.registerTarget(comm_id, (comm) => {\n",
       "          var messages = comm.messages[Symbol.asyncIterator]();\n",
       "          function processIteratorResult(result) {\n",
       "            var message = result.value;\n",
       "            console.log(message)\n",
       "            var content = {data: message.data, comm_id};\n",
       "            var buffers = []\n",
       "            for (var buffer of message.buffers || []) {\n",
       "              buffers.push(new DataView(buffer))\n",
       "            }\n",
       "            var metadata = message.metadata || {};\n",
       "            var msg = {content, buffers, metadata}\n",
       "            msg_handler(msg);\n",
       "            return messages.next().then(processIteratorResult);\n",
       "          }\n",
       "          return messages.next().then(processIteratorResult);\n",
       "        })\n",
       "      }\n",
       "    }\n",
       "\n",
       "    JupyterCommManager.prototype.get_client_comm = function(plot_id, comm_id, msg_handler) {\n",
       "      if (comm_id in window.PyViz.comms) {\n",
       "        return window.PyViz.comms[comm_id];\n",
       "      } else if (window.comm_manager || ((window.Jupyter !== undefined) && (Jupyter.notebook.kernel != null))) {\n",
       "        var comm_manager = window.comm_manager || Jupyter.notebook.kernel.comm_manager;\n",
       "        var comm = comm_manager.new_comm(comm_id, {}, {}, {}, comm_id);\n",
       "        if (msg_handler) {\n",
       "          comm.on_msg(msg_handler);\n",
       "        }\n",
       "      } else if ((plot_id in window.PyViz.kernels) && (window.PyViz.kernels[plot_id])) {\n",
       "        var comm = window.PyViz.kernels[plot_id].connectToComm(comm_id);\n",
       "        comm.open();\n",
       "        if (msg_handler) {\n",
       "          comm.onMsg = msg_handler;\n",
       "        }\n",
       "      } else if (typeof google != 'undefined' && google.colab.kernel != null) {\n",
       "        var comm_promise = google.colab.kernel.comms.open(comm_id)\n",
       "        comm_promise.then((comm) => {\n",
       "          window.PyViz.comms[comm_id] = comm;\n",
       "          if (msg_handler) {\n",
       "            var messages = comm.messages[Symbol.asyncIterator]();\n",
       "            function processIteratorResult(result) {\n",
       "              var message = result.value;\n",
       "              var content = {data: message.data};\n",
       "              var metadata = message.metadata || {comm_id};\n",
       "              var msg = {content, metadata}\n",
       "              msg_handler(msg);\n",
       "              return messages.next().then(processIteratorResult);\n",
       "            }\n",
       "            return messages.next().then(processIteratorResult);\n",
       "          }\n",
       "        }) \n",
       "        var sendClosure = (data, metadata, buffers, disposeOnDone) => {\n",
       "          return comm_promise.then((comm) => {\n",
       "            comm.send(data, metadata, buffers, disposeOnDone);\n",
       "          });\n",
       "        };\n",
       "        var comm = {\n",
       "          send: sendClosure\n",
       "        };\n",
       "      }\n",
       "      window.PyViz.comms[comm_id] = comm;\n",
       "      return comm;\n",
       "    }\n",
       "    window.PyViz.comm_manager = new JupyterCommManager();\n",
       "    \n",
       "\n",
       "\n",
       "var JS_MIME_TYPE = 'application/javascript';\n",
       "var HTML_MIME_TYPE = 'text/html';\n",
       "var EXEC_MIME_TYPE = 'application/vnd.holoviews_exec.v0+json';\n",
       "var CLASS_NAME = 'output';\n",
       "\n",
       "/**\n",
       " * Render data to the DOM node\n",
       " */\n",
       "function render(props, node) {\n",
       "  var div = document.createElement(\"div\");\n",
       "  var script = document.createElement(\"script\");\n",
       "  node.appendChild(div);\n",
       "  node.appendChild(script);\n",
       "}\n",
       "\n",
       "/**\n",
       " * Handle when a new output is added\n",
       " */\n",
       "function handle_add_output(event, handle) {\n",
       "  var output_area = handle.output_area;\n",
       "  var output = handle.output;\n",
       "  if ((output.data == undefined) || (!output.data.hasOwnProperty(EXEC_MIME_TYPE))) {\n",
       "    return\n",
       "  }\n",
       "  var id = output.metadata[EXEC_MIME_TYPE][\"id\"];\n",
       "  var toinsert = output_area.element.find(\".\" + CLASS_NAME.split(' ')[0]);\n",
       "  if (id !== undefined) {\n",
       "    var nchildren = toinsert.length;\n",
       "    var html_node = toinsert[nchildren-1].children[0];\n",
       "    html_node.innerHTML = output.data[HTML_MIME_TYPE];\n",
       "    var scripts = [];\n",
       "    var nodelist = html_node.querySelectorAll(\"script\");\n",
       "    for (var i in nodelist) {\n",
       "      if (nodelist.hasOwnProperty(i)) {\n",
       "        scripts.push(nodelist[i])\n",
       "      }\n",
       "    }\n",
       "\n",
       "    scripts.forEach( function (oldScript) {\n",
       "      var newScript = document.createElement(\"script\");\n",
       "      var attrs = [];\n",
       "      var nodemap = oldScript.attributes;\n",
       "      for (var j in nodemap) {\n",
       "        if (nodemap.hasOwnProperty(j)) {\n",
       "          attrs.push(nodemap[j])\n",
       "        }\n",
       "      }\n",
       "      attrs.forEach(function(attr) { newScript.setAttribute(attr.name, attr.value) });\n",
       "      newScript.appendChild(document.createTextNode(oldScript.innerHTML));\n",
       "      oldScript.parentNode.replaceChild(newScript, oldScript);\n",
       "    });\n",
       "    if (JS_MIME_TYPE in output.data) {\n",
       "      toinsert[nchildren-1].children[1].textContent = output.data[JS_MIME_TYPE];\n",
       "    }\n",
       "    output_area._hv_plot_id = id;\n",
       "    if ((window.Bokeh !== undefined) && (id in Bokeh.index)) {\n",
       "      window.PyViz.plot_index[id] = Bokeh.index[id];\n",
       "    } else {\n",
       "      window.PyViz.plot_index[id] = null;\n",
       "    }\n",
       "  } else if (output.metadata[EXEC_MIME_TYPE][\"server_id\"] !== undefined) {\n",
       "    var bk_div = document.createElement(\"div\");\n",
       "    bk_div.innerHTML = output.data[HTML_MIME_TYPE];\n",
       "    var script_attrs = bk_div.children[0].attributes;\n",
       "    for (var i = 0; i < script_attrs.length; i++) {\n",
       "      toinsert[toinsert.length - 1].childNodes[1].setAttribute(script_attrs[i].name, script_attrs[i].value);\n",
       "    }\n",
       "    // store reference to server id on output_area\n",
       "    output_area._bokeh_server_id = output.metadata[EXEC_MIME_TYPE][\"server_id\"];\n",
       "  }\n",
       "}\n",
       "\n",
       "/**\n",
       " * Handle when an output is cleared or removed\n",
       " */\n",
       "function handle_clear_output(event, handle) {\n",
       "  var id = handle.cell.output_area._hv_plot_id;\n",
       "  var server_id = handle.cell.output_area._bokeh_server_id;\n",
       "  if (((id === undefined) || !(id in PyViz.plot_index)) && (server_id !== undefined)) { return; }\n",
       "  var comm = window.PyViz.comm_manager.get_client_comm(\"hv-extension-comm\", \"hv-extension-comm\", function () {});\n",
       "  if (server_id !== null) {\n",
       "    comm.send({event_type: 'server_delete', 'id': server_id});\n",
       "    return;\n",
       "  } else if (comm !== null) {\n",
       "    comm.send({event_type: 'delete', 'id': id});\n",
       "  }\n",
       "  delete PyViz.plot_index[id];\n",
       "  if ((window.Bokeh !== undefined) & (id in window.Bokeh.index)) {\n",
       "    var doc = window.Bokeh.index[id].model.document\n",
       "    doc.clear();\n",
       "    const i = window.Bokeh.documents.indexOf(doc);\n",
       "    if (i > -1) {\n",
       "      window.Bokeh.documents.splice(i, 1);\n",
       "    }\n",
       "  }\n",
       "}\n",
       "\n",
       "/**\n",
       " * Handle kernel restart event\n",
       " */\n",
       "function handle_kernel_cleanup(event, handle) {\n",
       "  delete PyViz.comms[\"hv-extension-comm\"];\n",
       "  window.PyViz.plot_index = {}\n",
       "}\n",
       "\n",
       "/**\n",
       " * Handle update_display_data messages\n",
       " */\n",
       "function handle_update_output(event, handle) {\n",
       "  handle_clear_output(event, {cell: {output_area: handle.output_area}})\n",
       "  handle_add_output(event, handle)\n",
       "}\n",
       "\n",
       "function register_renderer(events, OutputArea) {\n",
       "  function append_mime(data, metadata, element) {\n",
       "    // create a DOM node to render to\n",
       "    var toinsert = this.create_output_subarea(\n",
       "    metadata,\n",
       "    CLASS_NAME,\n",
       "    EXEC_MIME_TYPE\n",
       "    );\n",
       "    this.keyboard_manager.register_events(toinsert);\n",
       "    // Render to node\n",
       "    var props = {data: data, metadata: metadata[EXEC_MIME_TYPE]};\n",
       "    render(props, toinsert[0]);\n",
       "    element.append(toinsert);\n",
       "    return toinsert\n",
       "  }\n",
       "\n",
       "  events.on('output_added.OutputArea', handle_add_output);\n",
       "  events.on('output_updated.OutputArea', handle_update_output);\n",
       "  events.on('clear_output.CodeCell', handle_clear_output);\n",
       "  events.on('delete.Cell', handle_clear_output);\n",
       "  events.on('kernel_ready.Kernel', handle_kernel_cleanup);\n",
       "\n",
       "  OutputArea.prototype.register_mime_type(EXEC_MIME_TYPE, append_mime, {\n",
       "    safe: true,\n",
       "    index: 0\n",
       "  });\n",
       "}\n",
       "\n",
       "if (window.Jupyter !== undefined) {\n",
       "  try {\n",
       "    var events = require('base/js/events');\n",
       "    var OutputArea = require('notebook/js/outputarea').OutputArea;\n",
       "    if (OutputArea.prototype.mime_types().indexOf(EXEC_MIME_TYPE) == -1) {\n",
       "      register_renderer(events, OutputArea);\n",
       "    }\n",
       "  } catch(err) {\n",
       "  }\n",
       "}\n"
      ],
      "application/vnd.holoviews_load.v0+json": "\nif ((window.PyViz === undefined) || (window.PyViz instanceof HTMLElement)) {\n  window.PyViz = {comms: {}, comm_status:{}, kernels:{}, receivers: {}, plot_index: []}\n}\n\n\n    function JupyterCommManager() {\n    }\n\n    JupyterCommManager.prototype.register_target = function(plot_id, comm_id, msg_handler) {\n      if (window.comm_manager || ((window.Jupyter !== undefined) && (Jupyter.notebook.kernel != null))) {\n        var comm_manager = window.comm_manager || Jupyter.notebook.kernel.comm_manager;\n        comm_manager.register_target(comm_id, function(comm) {\n          comm.on_msg(msg_handler);\n        });\n      } else if ((plot_id in window.PyViz.kernels) && (window.PyViz.kernels[plot_id])) {\n        window.PyViz.kernels[plot_id].registerCommTarget(comm_id, function(comm) {\n          comm.onMsg = msg_handler;\n        });\n      } else if (typeof google != 'undefined' && google.colab.kernel != null) {\n        google.colab.kernel.comms.registerTarget(comm_id, (comm) => {\n          var messages = comm.messages[Symbol.asyncIterator]();\n          function processIteratorResult(result) {\n            var message = result.value;\n            console.log(message)\n            var content = {data: message.data, comm_id};\n            var buffers = []\n            for (var buffer of message.buffers || []) {\n              buffers.push(new DataView(buffer))\n            }\n            var metadata = message.metadata || {};\n            var msg = {content, buffers, metadata}\n            msg_handler(msg);\n            return messages.next().then(processIteratorResult);\n          }\n          return messages.next().then(processIteratorResult);\n        })\n      }\n    }\n\n    JupyterCommManager.prototype.get_client_comm = function(plot_id, comm_id, msg_handler) {\n      if (comm_id in window.PyViz.comms) {\n        return window.PyViz.comms[comm_id];\n      } else if (window.comm_manager || ((window.Jupyter !== undefined) && (Jupyter.notebook.kernel != null))) {\n        var comm_manager = window.comm_manager || Jupyter.notebook.kernel.comm_manager;\n        var comm = comm_manager.new_comm(comm_id, {}, {}, {}, comm_id);\n        if (msg_handler) {\n          comm.on_msg(msg_handler);\n        }\n      } else if ((plot_id in window.PyViz.kernels) && (window.PyViz.kernels[plot_id])) {\n        var comm = window.PyViz.kernels[plot_id].connectToComm(comm_id);\n        comm.open();\n        if (msg_handler) {\n          comm.onMsg = msg_handler;\n        }\n      } else if (typeof google != 'undefined' && google.colab.kernel != null) {\n        var comm_promise = google.colab.kernel.comms.open(comm_id)\n        comm_promise.then((comm) => {\n          window.PyViz.comms[comm_id] = comm;\n          if (msg_handler) {\n            var messages = comm.messages[Symbol.asyncIterator]();\n            function processIteratorResult(result) {\n              var message = result.value;\n              var content = {data: message.data};\n              var metadata = message.metadata || {comm_id};\n              var msg = {content, metadata}\n              msg_handler(msg);\n              return messages.next().then(processIteratorResult);\n            }\n            return messages.next().then(processIteratorResult);\n          }\n        }) \n        var sendClosure = (data, metadata, buffers, disposeOnDone) => {\n          return comm_promise.then((comm) => {\n            comm.send(data, metadata, buffers, disposeOnDone);\n          });\n        };\n        var comm = {\n          send: sendClosure\n        };\n      }\n      window.PyViz.comms[comm_id] = comm;\n      return comm;\n    }\n    window.PyViz.comm_manager = new JupyterCommManager();\n    \n\n\nvar JS_MIME_TYPE = 'application/javascript';\nvar HTML_MIME_TYPE = 'text/html';\nvar EXEC_MIME_TYPE = 'application/vnd.holoviews_exec.v0+json';\nvar CLASS_NAME = 'output';\n\n/**\n * Render data to the DOM node\n */\nfunction render(props, node) {\n  var div = document.createElement(\"div\");\n  var script = document.createElement(\"script\");\n  node.appendChild(div);\n  node.appendChild(script);\n}\n\n/**\n * Handle when a new output is added\n */\nfunction handle_add_output(event, handle) {\n  var output_area = handle.output_area;\n  var output = handle.output;\n  if ((output.data == undefined) || (!output.data.hasOwnProperty(EXEC_MIME_TYPE))) {\n    return\n  }\n  var id = output.metadata[EXEC_MIME_TYPE][\"id\"];\n  var toinsert = output_area.element.find(\".\" + CLASS_NAME.split(' ')[0]);\n  if (id !== undefined) {\n    var nchildren = toinsert.length;\n    var html_node = toinsert[nchildren-1].children[0];\n    html_node.innerHTML = output.data[HTML_MIME_TYPE];\n    var scripts = [];\n    var nodelist = html_node.querySelectorAll(\"script\");\n    for (var i in nodelist) {\n      if (nodelist.hasOwnProperty(i)) {\n        scripts.push(nodelist[i])\n      }\n    }\n\n    scripts.forEach( function (oldScript) {\n      var newScript = document.createElement(\"script\");\n      var attrs = [];\n      var nodemap = oldScript.attributes;\n      for (var j in nodemap) {\n        if (nodemap.hasOwnProperty(j)) {\n          attrs.push(nodemap[j])\n        }\n      }\n      attrs.forEach(function(attr) { newScript.setAttribute(attr.name, attr.value) });\n      newScript.appendChild(document.createTextNode(oldScript.innerHTML));\n      oldScript.parentNode.replaceChild(newScript, oldScript);\n    });\n    if (JS_MIME_TYPE in output.data) {\n      toinsert[nchildren-1].children[1].textContent = output.data[JS_MIME_TYPE];\n    }\n    output_area._hv_plot_id = id;\n    if ((window.Bokeh !== undefined) && (id in Bokeh.index)) {\n      window.PyViz.plot_index[id] = Bokeh.index[id];\n    } else {\n      window.PyViz.plot_index[id] = null;\n    }\n  } else if (output.metadata[EXEC_MIME_TYPE][\"server_id\"] !== undefined) {\n    var bk_div = document.createElement(\"div\");\n    bk_div.innerHTML = output.data[HTML_MIME_TYPE];\n    var script_attrs = bk_div.children[0].attributes;\n    for (var i = 0; i < script_attrs.length; i++) {\n      toinsert[toinsert.length - 1].childNodes[1].setAttribute(script_attrs[i].name, script_attrs[i].value);\n    }\n    // store reference to server id on output_area\n    output_area._bokeh_server_id = output.metadata[EXEC_MIME_TYPE][\"server_id\"];\n  }\n}\n\n/**\n * Handle when an output is cleared or removed\n */\nfunction handle_clear_output(event, handle) {\n  var id = handle.cell.output_area._hv_plot_id;\n  var server_id = handle.cell.output_area._bokeh_server_id;\n  if (((id === undefined) || !(id in PyViz.plot_index)) && (server_id !== undefined)) { return; }\n  var comm = window.PyViz.comm_manager.get_client_comm(\"hv-extension-comm\", \"hv-extension-comm\", function () {});\n  if (server_id !== null) {\n    comm.send({event_type: 'server_delete', 'id': server_id});\n    return;\n  } else if (comm !== null) {\n    comm.send({event_type: 'delete', 'id': id});\n  }\n  delete PyViz.plot_index[id];\n  if ((window.Bokeh !== undefined) & (id in window.Bokeh.index)) {\n    var doc = window.Bokeh.index[id].model.document\n    doc.clear();\n    const i = window.Bokeh.documents.indexOf(doc);\n    if (i > -1) {\n      window.Bokeh.documents.splice(i, 1);\n    }\n  }\n}\n\n/**\n * Handle kernel restart event\n */\nfunction handle_kernel_cleanup(event, handle) {\n  delete PyViz.comms[\"hv-extension-comm\"];\n  window.PyViz.plot_index = {}\n}\n\n/**\n * Handle update_display_data messages\n */\nfunction handle_update_output(event, handle) {\n  handle_clear_output(event, {cell: {output_area: handle.output_area}})\n  handle_add_output(event, handle)\n}\n\nfunction register_renderer(events, OutputArea) {\n  function append_mime(data, metadata, element) {\n    // create a DOM node to render to\n    var toinsert = this.create_output_subarea(\n    metadata,\n    CLASS_NAME,\n    EXEC_MIME_TYPE\n    );\n    this.keyboard_manager.register_events(toinsert);\n    // Render to node\n    var props = {data: data, metadata: metadata[EXEC_MIME_TYPE]};\n    render(props, toinsert[0]);\n    element.append(toinsert);\n    return toinsert\n  }\n\n  events.on('output_added.OutputArea', handle_add_output);\n  events.on('output_updated.OutputArea', handle_update_output);\n  events.on('clear_output.CodeCell', handle_clear_output);\n  events.on('delete.Cell', handle_clear_output);\n  events.on('kernel_ready.Kernel', handle_kernel_cleanup);\n\n  OutputArea.prototype.register_mime_type(EXEC_MIME_TYPE, append_mime, {\n    safe: true,\n    index: 0\n  });\n}\n\nif (window.Jupyter !== undefined) {\n  try {\n    var events = require('base/js/events');\n    var OutputArea = require('notebook/js/outputarea').OutputArea;\n    if (OutputArea.prototype.mime_types().indexOf(EXEC_MIME_TYPE) == -1) {\n      register_renderer(events, OutputArea);\n    }\n  } catch(err) {\n  }\n}\n"
     },
     "metadata": {},
     "output_type": "display_data"
    },
    {
     "data": {
      "text/html": [
       "<style>.bk-root, .bk-root .bk:before, .bk-root .bk:after {\n",
       "  font-family: var(--jp-ui-font-size1);\n",
       "  font-size: var(--jp-ui-font-size1);\n",
       "  color: var(--jp-ui-font-color1);\n",
       "}\n",
       "</style>"
      ]
     },
     "metadata": {},
     "output_type": "display_data"
    },
    {
     "name": "stdout",
     "output_type": "stream",
     "text": [
      "Data will be saved to /home/data/DEMO\n"
     ]
    }
   ],
   "source": [
    "import panel as pn\n",
    "pn.extension()\n",
    "import sys\n",
    "import os\n",
    "sys.path.append('/home/notebooks/dashboards-inline')\n",
    "LAB_DIR = os.path.join('/home/data/', LAB_USER_NAME)\n",
    "os.makedirs(LAB_DIR, exist_ok=True)\n",
    "print('Data will be saved to', LAB_DIR)"
   ]
  },
  {
   "cell_type": "markdown",
   "id": "ddb4d484-06bb-4662-b2c6-f823673c677e",
   "metadata": {
    "tags": []
   },
   "source": [
    "## Part One: The MRI Prescan"
   ]
  },
  {
   "cell_type": "markdown",
   "id": "15c5b3d2-c346-4c8e-8b44-2508f147cebc",
   "metadata": {
    "tags": []
   },
   "source": [
    "### 1. Background Theory on RF Probes\n",
    "The $B_1$ field is generated by an RF coil in parallel with a capacitor which functions as a simple RLC resonator circuit. The resonant frequency of an RLC circuit is as follows:\n",
    "\n",
    "$$f_0 = \\frac{1}{2\\pi\\sqrt{LC}}$$\n",
    "\n",
    "Adjusting the *Tune* capacitor on the probe changes the value of $C$. The RLC resonator circuit also needs to be impedance matched to the RF transmit amplifier and receive preamplifier, which have a characteristic impedance of 50 Ohms. This is accomplished with a *Match* capacitor.\n",
    "\n",
    "The Wobble tool plots the $S_{11}$ curve of the RF coil, which indicates the tune and match of the RF coil. An $S_{11}$ plots the reflected signal of the the coil as a function of frequency. The position of the dip in the $S_{11}$ curve is mostly controlled by the *Tune* capacitor, while the depth of the dip is mostly controlled by the *Match* capacitor, though there is some overlap in effect. Power will be transfered to the coil most efficiently when the amount of reflected power measured by $S_{11}$ is minimised."
   ]
  },
  {
   "cell_type": "markdown",
   "id": "3ecb73eb-0b8e-4f64-939b-febf8582ab55",
   "metadata": {
    "tags": []
   },
   "source": [
    "### 2. Setting up the System Variables\n",
    "#### **Step One: Calculating the Larmor Frequency**\n",
    "Calculate the desired frequency of the system knowning that $^1\\mathrm{H}$ nucleus has a gyromagnetic ratio of 42.576 MHz/T and a system field strength of about 0.3425 T. Include the calculation in your lab report. Enter your calculated value in Hz below (scientific notation will work, e.g. \"5.5e6\"):"
   ]
  },
  {
   "cell_type": "code",
   "execution_count": 21,
   "id": "926ae25d-a76a-4c77-ae72-b7f4310532ca",
   "metadata": {
    "jupyter": {
     "source_hidden": true
    },
    "tags": []
   },
   "outputs": [
    {
     "data": {},
     "metadata": {},
     "output_type": "display_data"
    },
    {
     "data": {
      "application/vnd.holoviews_exec.v0+json": "",
      "text/html": [
       "<div id='3675'>\n",
       "  <div class=\"bk-root\" id=\"6358c235-f202-44f2-b9f1-99d8b6bcf1f6\" data-root-id=\"3675\"></div>\n",
       "</div>\n",
       "<script type=\"application/javascript\">(function(root) {\n",
       "  function embed_document(root) {\n",
       "    var docs_json = {\"ddd92e0f-ef33-4308-b34f-48720344c4be\":{\"defs\":[{\"extends\":null,\"module\":null,\"name\":\"ReactiveHTML1\",\"overrides\":[],\"properties\":[]},{\"extends\":null,\"module\":null,\"name\":\"FlexBox1\",\"overrides\":[],\"properties\":[{\"default\":\"flex-start\",\"kind\":null,\"name\":\"align_content\"},{\"default\":\"flex-start\",\"kind\":null,\"name\":\"align_items\"},{\"default\":\"row\",\"kind\":null,\"name\":\"flex_direction\"},{\"default\":\"wrap\",\"kind\":null,\"name\":\"flex_wrap\"},{\"default\":\"flex-start\",\"kind\":null,\"name\":\"justify_content\"}]},{\"extends\":null,\"module\":null,\"name\":\"GridStack1\",\"overrides\":[],\"properties\":[{\"default\":\"warn\",\"kind\":null,\"name\":\"mode\"},{\"default\":null,\"kind\":null,\"name\":\"ncols\"},{\"default\":null,\"kind\":null,\"name\":\"nrows\"},{\"default\":true,\"kind\":null,\"name\":\"allow_resize\"},{\"default\":true,\"kind\":null,\"name\":\"allow_drag\"},{\"default\":[],\"kind\":null,\"name\":\"state\"}]},{\"extends\":null,\"module\":null,\"name\":\"click1\",\"overrides\":[],\"properties\":[{\"default\":\"\",\"kind\":null,\"name\":\"terminal_output\"},{\"default\":\"\",\"kind\":null,\"name\":\"debug_name\"},{\"default\":0,\"kind\":null,\"name\":\"clears\"}]},{\"extends\":null,\"module\":null,\"name\":\"NotificationAreaBase1\",\"overrides\":[],\"properties\":[{\"default\":\"bottom-right\",\"kind\":null,\"name\":\"position\"},{\"default\":0,\"kind\":null,\"name\":\"_clear\"}]},{\"extends\":null,\"module\":null,\"name\":\"NotificationArea1\",\"overrides\":[],\"properties\":[{\"default\":[],\"kind\":null,\"name\":\"notifications\"},{\"default\":\"bottom-right\",\"kind\":null,\"name\":\"position\"},{\"default\":0,\"kind\":null,\"name\":\"_clear\"},{\"default\":[{\"background\":\"#ffc107\",\"icon\":{\"className\":\"fas fa-exclamation-triangle\",\"color\":\"white\",\"tagName\":\"i\"},\"type\":\"warning\"},{\"background\":\"#007bff\",\"icon\":{\"className\":\"fas fa-info-circle\",\"color\":\"white\",\"tagName\":\"i\"},\"type\":\"info\"}],\"kind\":null,\"name\":\"types\"}]},{\"extends\":null,\"module\":null,\"name\":\"Notification\",\"overrides\":[],\"properties\":[{\"default\":null,\"kind\":null,\"name\":\"background\"},{\"default\":3000,\"kind\":null,\"name\":\"duration\"},{\"default\":null,\"kind\":null,\"name\":\"icon\"},{\"default\":\"\",\"kind\":null,\"name\":\"message\"},{\"default\":null,\"kind\":null,\"name\":\"notification_type\"},{\"default\":false,\"kind\":null,\"name\":\"_destroyed\"}]},{\"extends\":null,\"module\":null,\"name\":\"TemplateActions1\",\"overrides\":[],\"properties\":[{\"default\":0,\"kind\":null,\"name\":\"open_modal\"},{\"default\":0,\"kind\":null,\"name\":\"close_modal\"}]},{\"extends\":null,\"module\":null,\"name\":\"MaterialTemplateActions1\",\"overrides\":[],\"properties\":[{\"default\":0,\"kind\":null,\"name\":\"open_modal\"},{\"default\":0,\"kind\":null,\"name\":\"close_modal\"}]}],\"roots\":{\"references\":[{\"attributes\":{\"low\":0,\"margin\":[5,10,5,10],\"placeholder\":\"0\",\"step\":1000,\"title\":\"Frequency (Hz)\",\"value\":0,\"value_throttled\":0},\"id\":\"3675\",\"type\":\"Spinner\"},{\"attributes\":{\"client_comm_id\":\"881d2d0e35db4397aa53a13d350cfa7b\",\"comm_id\":\"7aea8180aac24b429f247353e0e9612d\",\"plot_id\":\"3675\"},\"id\":\"3676\",\"type\":\"panel.models.comm_manager.CommManager\"}],\"root_ids\":[\"3675\",\"3676\"]},\"title\":\"Bokeh Application\",\"version\":\"2.4.3\"}};\n",
       "    var render_items = [{\"docid\":\"ddd92e0f-ef33-4308-b34f-48720344c4be\",\"root_ids\":[\"3675\"],\"roots\":{\"3675\":\"6358c235-f202-44f2-b9f1-99d8b6bcf1f6\"}}];\n",
       "    root.Bokeh.embed.embed_items_notebook(docs_json, render_items);\n",
       "  }\n",
       "  if (root.Bokeh !== undefined && root.Bokeh.Panel !== undefined) {\n",
       "    embed_document(root);\n",
       "  } else {\n",
       "    var attempts = 0;\n",
       "    var timer = setInterval(function(root) {\n",
       "      if (root.Bokeh !== undefined && root.Bokeh.Panel !== undefined) {\n",
       "        clearInterval(timer);\n",
       "        embed_document(root);\n",
       "      } else if (document.readyState == \"complete\") {\n",
       "        attempts++;\n",
       "        if (attempts > 200) {\n",
       "          clearInterval(timer);\n",
       "          console.log(\"Bokeh: ERROR: Unable to run BokehJS code because BokehJS library is missing\");\n",
       "        }\n",
       "      }\n",
       "    }, 25, root)\n",
       "  }\n",
       "})(window);</script>"
      ],
      "text/plain": [
       "FloatInput(name='Frequency (Hz)', start=0, step=1000)"
      ]
     },
     "execution_count": 21,
     "metadata": {
      "application/vnd.holoviews_exec.v0+json": {
       "id": "3675"
      }
     },
     "output_type": "execute_result"
    }
   ],
   "source": [
    "frequency = pn.widgets.FloatInput(name='Frequency (Hz)', start=0, step=1000)\n",
    "frequency"
   ]
  },
  {
   "cell_type": "markdown",
   "id": "82a63a39-e2f9-4798-86ce-470dd3f554c5",
   "metadata": {
    "tags": []
   },
   "source": [
    "#### **Step Two: Tuning the Probe**\n",
    "Using the **Wobble** tool below in loop mode, adjust the variable capacitors with the provided screwdriver to tune and match the RF coil to your calculated Larmor frequency (Note: the dotted line on the plot corresponds to the desired frequency). Include the dB measurement of your coil tune - this will require a simple calculation. Can also use this step to show how \"loading\" a coil will affect both the tune and match of the coil.\n",
    "\n"
   ]
  },
  {
   "cell_type": "code",
   "execution_count": 22,
   "id": "89ad5e40-0db4-4dc2-a563-b1b5288e4dc8",
   "metadata": {
    "jupyter": {
     "source_hidden": true
    },
    "tags": []
   },
   "outputs": [
    {
     "data": {},
     "metadata": {},
     "output_type": "display_data"
    },
    {
     "data": {
      "application/vnd.holoviews_exec.v0+json": "",
      "text/html": [
       "<div id='3730'>\n",
       "  <div class=\"bk-root\" id=\"dc117e42-1e4c-438e-bf4a-cf20bc81876a\" data-root-id=\"3730\"></div>\n",
       "</div>\n",
       "<script type=\"application/javascript\">(function(root) {\n",
       "  function embed_document(root) {\n",
       "    var docs_json = {\"a3bba14c-b4a4-40c7-bb59-135b84916fa5\":{\"defs\":[{\"extends\":null,\"module\":null,\"name\":\"ReactiveHTML1\",\"overrides\":[],\"properties\":[]},{\"extends\":null,\"module\":null,\"name\":\"FlexBox1\",\"overrides\":[],\"properties\":[{\"default\":\"flex-start\",\"kind\":null,\"name\":\"align_content\"},{\"default\":\"flex-start\",\"kind\":null,\"name\":\"align_items\"},{\"default\":\"row\",\"kind\":null,\"name\":\"flex_direction\"},{\"default\":\"wrap\",\"kind\":null,\"name\":\"flex_wrap\"},{\"default\":\"flex-start\",\"kind\":null,\"name\":\"justify_content\"}]},{\"extends\":null,\"module\":null,\"name\":\"GridStack1\",\"overrides\":[],\"properties\":[{\"default\":\"warn\",\"kind\":null,\"name\":\"mode\"},{\"default\":null,\"kind\":null,\"name\":\"ncols\"},{\"default\":null,\"kind\":null,\"name\":\"nrows\"},{\"default\":true,\"kind\":null,\"name\":\"allow_resize\"},{\"default\":true,\"kind\":null,\"name\":\"allow_drag\"},{\"default\":[],\"kind\":null,\"name\":\"state\"}]},{\"extends\":null,\"module\":null,\"name\":\"click1\",\"overrides\":[],\"properties\":[{\"default\":\"\",\"kind\":null,\"name\":\"terminal_output\"},{\"default\":\"\",\"kind\":null,\"name\":\"debug_name\"},{\"default\":0,\"kind\":null,\"name\":\"clears\"}]},{\"extends\":null,\"module\":null,\"name\":\"NotificationAreaBase1\",\"overrides\":[],\"properties\":[{\"default\":\"bottom-right\",\"kind\":null,\"name\":\"position\"},{\"default\":0,\"kind\":null,\"name\":\"_clear\"}]},{\"extends\":null,\"module\":null,\"name\":\"NotificationArea1\",\"overrides\":[],\"properties\":[{\"default\":[],\"kind\":null,\"name\":\"notifications\"},{\"default\":\"bottom-right\",\"kind\":null,\"name\":\"position\"},{\"default\":0,\"kind\":null,\"name\":\"_clear\"},{\"default\":[{\"background\":\"#ffc107\",\"icon\":{\"className\":\"fas fa-exclamation-triangle\",\"color\":\"white\",\"tagName\":\"i\"},\"type\":\"warning\"},{\"background\":\"#007bff\",\"icon\":{\"className\":\"fas fa-info-circle\",\"color\":\"white\",\"tagName\":\"i\"},\"type\":\"info\"}],\"kind\":null,\"name\":\"types\"}]},{\"extends\":null,\"module\":null,\"name\":\"Notification\",\"overrides\":[],\"properties\":[{\"default\":null,\"kind\":null,\"name\":\"background\"},{\"default\":3000,\"kind\":null,\"name\":\"duration\"},{\"default\":null,\"kind\":null,\"name\":\"icon\"},{\"default\":\"\",\"kind\":null,\"name\":\"message\"},{\"default\":null,\"kind\":null,\"name\":\"notification_type\"},{\"default\":false,\"kind\":null,\"name\":\"_destroyed\"}]},{\"extends\":null,\"module\":null,\"name\":\"TemplateActions1\",\"overrides\":[],\"properties\":[{\"default\":0,\"kind\":null,\"name\":\"open_modal\"},{\"default\":0,\"kind\":null,\"name\":\"close_modal\"}]},{\"extends\":null,\"module\":null,\"name\":\"MaterialTemplateActions1\",\"overrides\":[],\"properties\":[{\"default\":0,\"kind\":null,\"name\":\"open_modal\"},{\"default\":0,\"kind\":null,\"name\":\"close_modal\"}]}],\"roots\":{\"references\":[{\"attributes\":{\"children\":[{\"id\":\"3731\"},{\"id\":\"3748\"}],\"margin\":[0,0,0,0],\"name\":\"Column00325\",\"sizing_mode\":\"stretch_both\"},\"id\":\"3730\",\"type\":\"Column\"},{\"attributes\":{\"client_comm_id\":\"990ceefd90614f1b80f93a5811044d37\",\"comm_id\":\"206fa9eb8b3349f89bf6c58e67f67fcd\",\"plot_id\":\"3730\"},\"id\":\"3777\",\"type\":\"panel.models.comm_manager.CommManager\"},{\"attributes\":{\"children\":[{\"id\":\"3677\"}],\"margin\":[0,0,0,0],\"name\":\"Row00323\",\"sizing_mode\":\"stretch_both\"},\"id\":\"3731\",\"type\":\"Row\"},{\"attributes\":{\"align\":\"end\",\"button_type\":\"success\",\"icon\":null,\"label\":\"Run\",\"margin\":[5,10,5,10],\"sizing_mode\":\"stretch_width\",\"subscribed_events\":[\"button_click\"]},\"id\":\"3749\",\"type\":\"Button\"},{\"attributes\":{\"align\":\"end\",\"button_type\":\"success\",\"icon\":null,\"label\":\"Run Loop\",\"margin\":[5,10,5,10],\"sizing_mode\":\"stretch_width\",\"subscribed_events\":[\"button_click\"]},\"id\":\"3750\",\"type\":\"Button\"},{\"attributes\":{\"children\":[{\"id\":\"3749\"},{\"id\":\"3750\"},{\"id\":\"3751\"},{\"id\":\"3752\"}],\"margin\":[0,0,0,0],\"name\":\"Row00324\",\"sizing_mode\":\"stretch_width\"},\"id\":\"3748\",\"type\":\"Row\"},{\"attributes\":{\"align\":\"end\",\"disabled\":true,\"margin\":[5,10,5,10],\"max_length\":5000,\"sizing_mode\":\"stretch_width\",\"value\":\"Idle\"},\"id\":\"3752\",\"type\":\"TextInput\"},{\"attributes\":{\"align\":\"end\",\"button_type\":\"danger\",\"icon\":null,\"label\":\"Abort\",\"margin\":[5,10,5,10],\"sizing_mode\":\"stretch_width\",\"subscribed_events\":[\"button_click\"]},\"id\":\"3751\",\"type\":\"Button\"},{\"attributes\":{\"data\":{\"x\":{\"__ndarray__\":\"AAAAAAAAAAA=\",\"dtype\":\"float64\",\"order\":\"little\",\"shape\":[1]},\"y\":{\"__ndarray__\":\"AAAAAAAAAAA=\",\"dtype\":\"float64\",\"order\":\"little\",\"shape\":[1]}},\"selected\":{\"id\":\"3738\"},\"selection_policy\":{\"id\":\"3737\"}},\"id\":\"3715\",\"type\":\"ColumnDataSource\"},{\"attributes\":{\"below\":[{\"id\":\"3688\"}],\"center\":[{\"id\":\"3691\"},{\"id\":\"3695\"},{\"id\":\"3722\"}],\"left\":[{\"id\":\"3692\"}],\"renderers\":[{\"id\":\"3720\"}],\"sizing_mode\":\"stretch_both\",\"title\":{\"id\":\"3678\"},\"toolbar\":{\"id\":\"3704\"},\"toolbar_location\":\"above\",\"x_range\":{\"id\":\"3680\"},\"x_scale\":{\"id\":\"3684\"},\"y_range\":{\"id\":\"3682\"},\"y_scale\":{\"id\":\"3686\"}},\"id\":\"3677\",\"subtype\":\"Figure\",\"type\":\"Plot\"},{\"attributes\":{\"coordinates\":null,\"data_source\":{\"id\":\"3715\"},\"glyph\":{\"id\":\"3717\"},\"group\":null,\"hover_glyph\":null,\"muted_glyph\":{\"id\":\"3719\"},\"nonselection_glyph\":{\"id\":\"3718\"},\"view\":{\"id\":\"3721\"}},\"id\":\"3720\",\"type\":\"GlyphRenderer\"},{\"attributes\":{},\"id\":\"3734\",\"type\":\"AllLabels\"},{\"attributes\":{},\"id\":\"3680\",\"type\":\"DataRange1d\"},{\"attributes\":{},\"id\":\"3682\",\"type\":\"DataRange1d\"},{\"attributes\":{\"coordinates\":null,\"group\":null,\"text\":\"Reflected Signal\"},\"id\":\"3678\",\"type\":\"Title\"},{\"attributes\":{},\"id\":\"3686\",\"type\":\"LogScale\"},{\"attributes\":{},\"id\":\"3736\",\"type\":\"AllLabels\"},{\"attributes\":{},\"id\":\"3689\",\"type\":\"BasicTicker\"},{\"attributes\":{\"axis\":{\"id\":\"3688\"},\"coordinates\":null,\"group\":null,\"ticker\":null},\"id\":\"3691\",\"type\":\"Grid\"},{\"attributes\":{},\"id\":\"3684\",\"type\":\"LinearScale\"},{\"attributes\":{\"axis_label\":\"frequency (Hz)\",\"coordinates\":null,\"formatter\":{\"id\":\"3726\"},\"group\":null,\"major_label_policy\":{\"id\":\"3736\"},\"ticker\":{\"id\":\"3689\"}},\"id\":\"3688\",\"type\":\"LinearAxis\"},{\"attributes\":{},\"id\":\"3697\",\"type\":\"WheelZoomTool\"},{\"attributes\":{\"code\":\"\\n    if (tick == 0) return +tick.toFixed(5)\\n    var SI_map = [[1e9, 'G'], [1e6, 'M'], [1e3, 'k'], [1, ''], [1e-3, 'm'], [1e-6, '\\u00b5'], [1e-9, 'n']]\\n    for (const el of SI_map) {\\n        if (tick >= el[0] || tick <= -el[0])\\n            return +(tick/el[0]).toFixed(5) + el[1]\\n    }\\n    return +(tick/SI_map[SI_map.length-1][0]).toFixed(5) + SI_map[SI_map.length-1][1]\\n    \"},\"id\":\"3726\",\"type\":\"FuncTickFormatter\"},{\"attributes\":{\"line_alpha\":0.1,\"line_color\":\"blue\",\"x\":{\"field\":\"x\"},\"y\":{\"field\":\"y\"}},\"id\":\"3718\",\"type\":\"Line\"},{\"attributes\":{\"coordinates\":null,\"formatter\":{\"id\":\"3726\"},\"group\":null,\"major_label_policy\":{\"id\":\"3734\"},\"ticker\":{\"id\":\"3693\"}},\"id\":\"3692\",\"type\":\"LogAxis\"},{\"attributes\":{\"coordinates\":null,\"dimension\":\"height\",\"group\":null,\"line_dash\":[6],\"location\":0},\"id\":\"3722\",\"type\":\"Span\"},{\"attributes\":{\"axis\":{\"id\":\"3692\"},\"coordinates\":null,\"dimension\":1,\"group\":null,\"ticker\":null},\"id\":\"3695\",\"type\":\"Grid\"},{\"attributes\":{\"num_minor_ticks\":10},\"id\":\"3693\",\"type\":\"LogTicker\"},{\"attributes\":{\"line_color\":\"blue\",\"x\":{\"field\":\"x\"},\"y\":{\"field\":\"y\"}},\"id\":\"3717\",\"type\":\"Line\"},{\"attributes\":{\"line_alpha\":0.2,\"line_color\":\"blue\",\"x\":{\"field\":\"x\"},\"y\":{\"field\":\"y\"}},\"id\":\"3719\",\"type\":\"Line\"},{\"attributes\":{},\"id\":\"3701\",\"type\":\"ResetTool\"},{\"attributes\":{},\"id\":\"3696\",\"type\":\"PanTool\"},{\"attributes\":{\"source\":{\"id\":\"3715\"}},\"id\":\"3721\",\"type\":\"CDSView\"},{\"attributes\":{\"overlay\":{\"id\":\"3703\"}},\"id\":\"3698\",\"type\":\"BoxZoomTool\"},{\"attributes\":{},\"id\":\"3699\",\"type\":\"CrosshairTool\"},{\"attributes\":{},\"id\":\"3737\",\"type\":\"UnionRenderers\"},{\"attributes\":{\"callback\":null,\"mode\":\"vline\",\"tooltips\":[[\"\",\"(@x, @y)\"]]},\"id\":\"3700\",\"type\":\"HoverTool\"},{\"attributes\":{},\"id\":\"3702\",\"type\":\"SaveTool\"},{\"attributes\":{},\"id\":\"3738\",\"type\":\"Selection\"},{\"attributes\":{\"bottom_units\":\"screen\",\"coordinates\":null,\"fill_alpha\":0.5,\"fill_color\":\"lightgrey\",\"group\":null,\"left_units\":\"screen\",\"level\":\"overlay\",\"line_alpha\":1.0,\"line_color\":\"black\",\"line_dash\":[4,4],\"line_width\":2,\"right_units\":\"screen\",\"syncable\":false,\"top_units\":\"screen\"},\"id\":\"3703\",\"type\":\"BoxAnnotation\"},{\"attributes\":{\"active_drag\":{\"id\":\"3696\"},\"active_scroll\":null,\"logo\":null,\"tools\":[{\"id\":\"3696\"},{\"id\":\"3697\"},{\"id\":\"3698\"},{\"id\":\"3699\"},{\"id\":\"3700\"},{\"id\":\"3701\"},{\"id\":\"3702\"}]},\"id\":\"3704\",\"type\":\"Toolbar\"}],\"root_ids\":[\"3730\",\"3777\"]},\"title\":\"Bokeh Application\",\"version\":\"2.4.3\"}};\n",
       "    var render_items = [{\"docid\":\"a3bba14c-b4a4-40c7-bb59-135b84916fa5\",\"root_ids\":[\"3730\"],\"roots\":{\"3730\":\"dc117e42-1e4c-438e-bf4a-cf20bc81876a\"}}];\n",
       "    root.Bokeh.embed.embed_items_notebook(docs_json, render_items);\n",
       "  }\n",
       "  if (root.Bokeh !== undefined && root.Bokeh.Panel !== undefined) {\n",
       "    embed_document(root);\n",
       "  } else {\n",
       "    var attempts = 0;\n",
       "    var timer = setInterval(function(root) {\n",
       "      if (root.Bokeh !== undefined && root.Bokeh.Panel !== undefined) {\n",
       "        clearInterval(timer);\n",
       "        embed_document(root);\n",
       "      } else if (document.readyState == \"complete\") {\n",
       "        attempts++;\n",
       "        if (attempts > 200) {\n",
       "          clearInterval(timer);\n",
       "          console.log(\"Bokeh: ERROR: Unable to run BokehJS code because BokehJS library is missing\");\n",
       "        }\n",
       "      }\n",
       "    }, 25, root)\n",
       "  }\n",
       "})(window);</script>"
      ],
      "text/plain": [
       "Column(sizing_mode='stretch_both')\n",
       "    [0] Row(sizing_mode='stretch_both')\n",
       "        [0] Bokeh(Figure)\n",
       "    [1] Row(sizing_mode='stretch_width')\n",
       "        [0] Button(align='end', button_type='success', name='Run', sizing_mode='stretch_width')\n",
       "        [1] Button(align='end', button_type='success', name='Run Loop', sizing_mode='stretch_width')\n",
       "        [2] Button(align='end', button_type='danger', name='Abort', sizing_mode='stretch_width')\n",
       "        [3] TextInput(align='end', disabled=True, sizing_mode='stretch_width', value='Idle')"
      ]
     },
     "execution_count": 22,
     "metadata": {
      "application/vnd.holoviews_exec.v0+json": {
       "id": "3730"
      }
     },
     "output_type": "execute_result"
    }
   ],
   "source": [
    "from Wobble import WobbleApp # from dashboards-inline directory that was added to sys.path\n",
    "wobble = WobbleApp(\n",
    "    override_pars=dict(\n",
    "        f=frequency, # use value of fequency from the user input\n",
    "        f_bw=2e6 # fix bandwidth at 2 MHz\n",
    "    )\n",
    ")\n",
    "wobble.main()"
   ]
  },
  {
   "cell_type": "markdown",
   "id": "f2bfbc1f-a4b4-4e87-9555-430806577055",
   "metadata": {
    "tags": []
   },
   "source": [
    "NOTE: If using **Run Loop**, click abort before continuing\n",
    "\n",
    "#### **Step Three: Measuring the Larmor Frequency**\n",
    "First ensure the **shim sample** is loaded at the correct depth. Then run the **FID** tool below, with your calulated frequency and a starting RF amplitude guess of $0.5$ (half of maximum). The spectrum plot on the right side displays the FFT for the FID signal. The x-axis displays the relative frequency of the signal - where 0 Hz is the $f_0$ of the RF pulse. Does your acquired signal peak correspond to your calculated Larmor frequency - why or why not?\n",
    "\n",
    "Measure the relative frequency offset of the **Spectrum** peak (try the zoom tools at the top right of the plot) and add it to your calculated frequency, then enter the new value into the frequency input and rerun the **FID** tool to check the spectrum peak is now centered. Record this value for your report.\n",
    "\n",
    "Open the **Find Frequency** dashboard from the **Dashboard Apps** sidebar and run it. How does the frequency you found compare?\n",
    "\n",
    "Now that the correct frequency has been measured, go back to **Step Two**, rerun wobble, and retune the probe if necessary."
   ]
  },
  {
   "cell_type": "code",
   "execution_count": 23,
   "id": "c7f84e31-16a9-4d62-b6e9-5e44f80a251d",
   "metadata": {
    "tags": []
   },
   "outputs": [
    {
     "data": {},
     "metadata": {},
     "output_type": "display_data"
    },
    {
     "data": {
      "application/vnd.holoviews_exec.v0+json": "",
      "text/html": [
       "<div id='3818'>\n",
       "  <div class=\"bk-root\" id=\"9f822682-6d42-483e-b6ec-3753583d920e\" data-root-id=\"3818\"></div>\n",
       "</div>\n",
       "<script type=\"application/javascript\">(function(root) {\n",
       "  function embed_document(root) {\n",
       "    var docs_json = {\"c517b4e0-4f9d-4fa9-a71a-951ea15d746b\":{\"defs\":[{\"extends\":null,\"module\":null,\"name\":\"ReactiveHTML1\",\"overrides\":[],\"properties\":[]},{\"extends\":null,\"module\":null,\"name\":\"FlexBox1\",\"overrides\":[],\"properties\":[{\"default\":\"flex-start\",\"kind\":null,\"name\":\"align_content\"},{\"default\":\"flex-start\",\"kind\":null,\"name\":\"align_items\"},{\"default\":\"row\",\"kind\":null,\"name\":\"flex_direction\"},{\"default\":\"wrap\",\"kind\":null,\"name\":\"flex_wrap\"},{\"default\":\"flex-start\",\"kind\":null,\"name\":\"justify_content\"}]},{\"extends\":null,\"module\":null,\"name\":\"GridStack1\",\"overrides\":[],\"properties\":[{\"default\":\"warn\",\"kind\":null,\"name\":\"mode\"},{\"default\":null,\"kind\":null,\"name\":\"ncols\"},{\"default\":null,\"kind\":null,\"name\":\"nrows\"},{\"default\":true,\"kind\":null,\"name\":\"allow_resize\"},{\"default\":true,\"kind\":null,\"name\":\"allow_drag\"},{\"default\":[],\"kind\":null,\"name\":\"state\"}]},{\"extends\":null,\"module\":null,\"name\":\"click1\",\"overrides\":[],\"properties\":[{\"default\":\"\",\"kind\":null,\"name\":\"terminal_output\"},{\"default\":\"\",\"kind\":null,\"name\":\"debug_name\"},{\"default\":0,\"kind\":null,\"name\":\"clears\"}]},{\"extends\":null,\"module\":null,\"name\":\"NotificationAreaBase1\",\"overrides\":[],\"properties\":[{\"default\":\"bottom-right\",\"kind\":null,\"name\":\"position\"},{\"default\":0,\"kind\":null,\"name\":\"_clear\"}]},{\"extends\":null,\"module\":null,\"name\":\"NotificationArea1\",\"overrides\":[],\"properties\":[{\"default\":[],\"kind\":null,\"name\":\"notifications\"},{\"default\":\"bottom-right\",\"kind\":null,\"name\":\"position\"},{\"default\":0,\"kind\":null,\"name\":\"_clear\"},{\"default\":[{\"background\":\"#ffc107\",\"icon\":{\"className\":\"fas fa-exclamation-triangle\",\"color\":\"white\",\"tagName\":\"i\"},\"type\":\"warning\"},{\"background\":\"#007bff\",\"icon\":{\"className\":\"fas fa-info-circle\",\"color\":\"white\",\"tagName\":\"i\"},\"type\":\"info\"}],\"kind\":null,\"name\":\"types\"}]},{\"extends\":null,\"module\":null,\"name\":\"Notification\",\"overrides\":[],\"properties\":[{\"default\":null,\"kind\":null,\"name\":\"background\"},{\"default\":3000,\"kind\":null,\"name\":\"duration\"},{\"default\":null,\"kind\":null,\"name\":\"icon\"},{\"default\":\"\",\"kind\":null,\"name\":\"message\"},{\"default\":null,\"kind\":null,\"name\":\"notification_type\"},{\"default\":false,\"kind\":null,\"name\":\"_destroyed\"}]},{\"extends\":null,\"module\":null,\"name\":\"TemplateActions1\",\"overrides\":[],\"properties\":[{\"default\":0,\"kind\":null,\"name\":\"open_modal\"},{\"default\":0,\"kind\":null,\"name\":\"close_modal\"}]},{\"extends\":null,\"module\":null,\"name\":\"MaterialTemplateActions1\",\"overrides\":[],\"properties\":[{\"default\":0,\"kind\":null,\"name\":\"open_modal\"},{\"default\":0,\"kind\":null,\"name\":\"close_modal\"}]}],\"roots\":{\"references\":[{\"attributes\":{\"children\":[{\"id\":\"3819\"},{\"id\":\"3820\"}],\"margin\":[0,0,0,0],\"name\":\"Row00329\"},\"id\":\"3818\",\"type\":\"Row\"},{\"attributes\":{\"high\":1,\"low\":0,\"margin\":[5,10,5,10],\"placeholder\":\"0\",\"step\":0.1,\"title\":\"RF Amplitude (fraction of maximum)\",\"value\":0.5,\"value_throttled\":0.5},\"id\":\"3820\",\"type\":\"Spinner\"},{\"attributes\":{\"low\":0,\"margin\":[5,10,5,10],\"placeholder\":\"0\",\"step\":1000,\"title\":\"Frequency (Hz)\",\"value\":0,\"value_throttled\":0},\"id\":\"3819\",\"type\":\"Spinner\"},{\"attributes\":{\"client_comm_id\":\"455f4254d87043358798e1075dc3a612\",\"comm_id\":\"b136d82ecd7a4848ba9d28a6f86337c9\",\"plot_id\":\"3818\"},\"id\":\"3821\",\"type\":\"panel.models.comm_manager.CommManager\"}],\"root_ids\":[\"3818\",\"3821\"]},\"title\":\"Bokeh Application\",\"version\":\"2.4.3\"}};\n",
       "    var render_items = [{\"docid\":\"c517b4e0-4f9d-4fa9-a71a-951ea15d746b\",\"root_ids\":[\"3818\"],\"roots\":{\"3818\":\"9f822682-6d42-483e-b6ec-3753583d920e\"}}];\n",
       "    root.Bokeh.embed.embed_items_notebook(docs_json, render_items);\n",
       "  }\n",
       "  if (root.Bokeh !== undefined && root.Bokeh.Panel !== undefined) {\n",
       "    embed_document(root);\n",
       "  } else {\n",
       "    var attempts = 0;\n",
       "    var timer = setInterval(function(root) {\n",
       "      if (root.Bokeh !== undefined && root.Bokeh.Panel !== undefined) {\n",
       "        clearInterval(timer);\n",
       "        embed_document(root);\n",
       "      } else if (document.readyState == \"complete\") {\n",
       "        attempts++;\n",
       "        if (attempts > 200) {\n",
       "          clearInterval(timer);\n",
       "          console.log(\"Bokeh: ERROR: Unable to run BokehJS code because BokehJS library is missing\");\n",
       "        }\n",
       "      }\n",
       "    }, 25, root)\n",
       "  }\n",
       "})(window);</script>"
      ],
      "text/plain": [
       "Row\n",
       "    [0] FloatInput(name='Frequency (Hz)', start=0, step=1000)\n",
       "    [1] FloatInput(end=1, name='RF Amplitude (..., start=0, value=0.5)"
      ]
     },
     "execution_count": 23,
     "metadata": {
      "application/vnd.holoviews_exec.v0+json": {
       "id": "3818"
      }
     },
     "output_type": "execute_result"
    }
   ],
   "source": [
    "rf_amp = pn.widgets.FloatInput(name='RF Amplitude (fraction of maximum)', start=0, end=1, step=0.1, value=0.5)\n",
    "# Also display frequency again, as FID uses it\n",
    "pn.Row(frequency, rf_amp)"
   ]
  },
  {
   "cell_type": "code",
   "execution_count": 24,
   "id": "d129a2c7-a073-4f9f-989c-dae0d54a3817",
   "metadata": {
    "jupyter": {
     "source_hidden": true
    },
    "tags": []
   },
   "outputs": [
    {
     "data": {},
     "metadata": {},
     "output_type": "display_data"
    },
    {
     "data": {
      "application/vnd.holoviews_exec.v0+json": "",
      "text/html": [
       "<div id='3984'>\n",
       "  <div class=\"bk-root\" id=\"c9abd147-ebea-4e92-9e2f-db7db8ee9608\" data-root-id=\"3984\"></div>\n",
       "</div>\n",
       "<script type=\"application/javascript\">(function(root) {\n",
       "  function embed_document(root) {\n",
       "    var docs_json = {\"b31ecf73-8dff-4a2c-989d-7d84df16684f\":{\"defs\":[{\"extends\":null,\"module\":null,\"name\":\"ReactiveHTML1\",\"overrides\":[],\"properties\":[]},{\"extends\":null,\"module\":null,\"name\":\"FlexBox1\",\"overrides\":[],\"properties\":[{\"default\":\"flex-start\",\"kind\":null,\"name\":\"align_content\"},{\"default\":\"flex-start\",\"kind\":null,\"name\":\"align_items\"},{\"default\":\"row\",\"kind\":null,\"name\":\"flex_direction\"},{\"default\":\"wrap\",\"kind\":null,\"name\":\"flex_wrap\"},{\"default\":\"flex-start\",\"kind\":null,\"name\":\"justify_content\"}]},{\"extends\":null,\"module\":null,\"name\":\"GridStack1\",\"overrides\":[],\"properties\":[{\"default\":\"warn\",\"kind\":null,\"name\":\"mode\"},{\"default\":null,\"kind\":null,\"name\":\"ncols\"},{\"default\":null,\"kind\":null,\"name\":\"nrows\"},{\"default\":true,\"kind\":null,\"name\":\"allow_resize\"},{\"default\":true,\"kind\":null,\"name\":\"allow_drag\"},{\"default\":[],\"kind\":null,\"name\":\"state\"}]},{\"extends\":null,\"module\":null,\"name\":\"click1\",\"overrides\":[],\"properties\":[{\"default\":\"\",\"kind\":null,\"name\":\"terminal_output\"},{\"default\":\"\",\"kind\":null,\"name\":\"debug_name\"},{\"default\":0,\"kind\":null,\"name\":\"clears\"}]},{\"extends\":null,\"module\":null,\"name\":\"NotificationAreaBase1\",\"overrides\":[],\"properties\":[{\"default\":\"bottom-right\",\"kind\":null,\"name\":\"position\"},{\"default\":0,\"kind\":null,\"name\":\"_clear\"}]},{\"extends\":null,\"module\":null,\"name\":\"NotificationArea1\",\"overrides\":[],\"properties\":[{\"default\":[],\"kind\":null,\"name\":\"notifications\"},{\"default\":\"bottom-right\",\"kind\":null,\"name\":\"position\"},{\"default\":0,\"kind\":null,\"name\":\"_clear\"},{\"default\":[{\"background\":\"#ffc107\",\"icon\":{\"className\":\"fas fa-exclamation-triangle\",\"color\":\"white\",\"tagName\":\"i\"},\"type\":\"warning\"},{\"background\":\"#007bff\",\"icon\":{\"className\":\"fas fa-info-circle\",\"color\":\"white\",\"tagName\":\"i\"},\"type\":\"info\"}],\"kind\":null,\"name\":\"types\"}]},{\"extends\":null,\"module\":null,\"name\":\"Notification\",\"overrides\":[],\"properties\":[{\"default\":null,\"kind\":null,\"name\":\"background\"},{\"default\":3000,\"kind\":null,\"name\":\"duration\"},{\"default\":null,\"kind\":null,\"name\":\"icon\"},{\"default\":\"\",\"kind\":null,\"name\":\"message\"},{\"default\":null,\"kind\":null,\"name\":\"notification_type\"},{\"default\":false,\"kind\":null,\"name\":\"_destroyed\"}]},{\"extends\":null,\"module\":null,\"name\":\"TemplateActions1\",\"overrides\":[],\"properties\":[{\"default\":0,\"kind\":null,\"name\":\"open_modal\"},{\"default\":0,\"kind\":null,\"name\":\"close_modal\"}]},{\"extends\":null,\"module\":null,\"name\":\"MaterialTemplateActions1\",\"overrides\":[],\"properties\":[{\"default\":0,\"kind\":null,\"name\":\"open_modal\"},{\"default\":0,\"kind\":null,\"name\":\"close_modal\"}]}],\"roots\":{\"references\":[{\"attributes\":{\"coordinates\":null,\"group\":null,\"text\":\"Spectrum\"},\"id\":\"3904\",\"type\":\"Title\"},{\"attributes\":{},\"id\":\"3915\",\"type\":\"BasicTicker\"},{\"attributes\":{\"axis\":{\"id\":\"3914\"},\"coordinates\":null,\"group\":null,\"ticker\":null},\"id\":\"3917\",\"type\":\"Grid\"},{\"attributes\":{\"line_alpha\":0.1,\"line_color\":\"blue\",\"x\":{\"field\":\"x\"},\"y\":{\"field\":\"real\"}},\"id\":\"3942\",\"type\":\"Line\"},{\"attributes\":{\"axis_label\":\"relative frequency (Hz)\",\"coordinates\":null,\"formatter\":{\"id\":\"3981\"},\"group\":null,\"major_label_policy\":{\"id\":\"3952\"},\"ticker\":{\"id\":\"3915\"}},\"id\":\"3914\",\"type\":\"LinearAxis\"},{\"attributes\":{},\"id\":\"3912\",\"type\":\"LinearScale\"},{\"attributes\":{},\"id\":\"3868\",\"type\":\"AllLabels\"},{\"attributes\":{},\"id\":\"3923\",\"type\":\"WheelZoomTool\"},{\"attributes\":{\"children\":[{\"id\":\"4019\"},{\"id\":\"4020\"},{\"id\":\"4021\"},{\"id\":\"4022\"}],\"margin\":[0,0,0,0],\"name\":\"Row00343\",\"sizing_mode\":\"stretch_width\"},\"id\":\"4018\",\"type\":\"Row\"},{\"attributes\":{\"axis_label\":\"spectral density (V/kHz)\",\"coordinates\":null,\"formatter\":{\"id\":\"3981\"},\"group\":null,\"major_label_policy\":{\"id\":\"3949\"},\"ticker\":{\"id\":\"3919\"}},\"id\":\"3918\",\"type\":\"LinearAxis\"},{\"attributes\":{\"axis\":{\"id\":\"3918\"},\"coordinates\":null,\"dimension\":1,\"group\":null,\"ticker\":null},\"id\":\"3921\",\"type\":\"Grid\"},{\"attributes\":{},\"id\":\"3919\",\"type\":\"BasicTicker\"},{\"attributes\":{},\"id\":\"3871\",\"type\":\"AllLabels\"},{\"attributes\":{},\"id\":\"3927\",\"type\":\"SaveTool\"},{\"attributes\":{\"children\":[{\"id\":\"3822\"},{\"id\":\"3903\"}],\"margin\":[0,0,0,0],\"name\":\"Row00350\",\"sizing_mode\":\"stretch_both\"},\"id\":\"3985\",\"type\":\"Row\"},{\"attributes\":{\"align\":\"end\",\"button_type\":\"danger\",\"icon\":null,\"label\":\"Abort\",\"margin\":[5,10,5,10],\"sizing_mode\":\"stretch_width\",\"subscribed_events\":[\"button_click\"]},\"id\":\"4020\",\"type\":\"Button\"},{\"attributes\":{},\"id\":\"3922\",\"type\":\"PanTool\"},{\"attributes\":{\"overlay\":{\"id\":\"3928\"}},\"id\":\"3924\",\"type\":\"BoxZoomTool\"},{\"attributes\":{},\"id\":\"3925\",\"type\":\"CrosshairTool\"},{\"attributes\":{},\"id\":\"3926\",\"type\":\"ResetTool\"},{\"attributes\":{\"align\":\"end\",\"button_type\":\"success\",\"icon\":null,\"label\":\"Run\",\"margin\":[5,10,5,10],\"sizing_mode\":\"stretch_width\",\"subscribed_events\":[\"button_click\"]},\"id\":\"4019\",\"type\":\"Button\"},{\"attributes\":{\"children\":[{\"id\":\"3985\"},{\"id\":\"4018\"}],\"margin\":[0,0,0,0],\"name\":\"Column00351\",\"sizing_mode\":\"stretch_both\"},\"id\":\"3984\",\"type\":\"Column\"},{\"attributes\":{},\"id\":\"3872\",\"type\":\"UnionRenderers\"},{\"attributes\":{\"bar_color\":\"success\",\"height\":31,\"margin\":[5,10,5,10],\"sizing_mode\":\"stretch_width\",\"value\":0},\"id\":\"4021\",\"type\":\"panel.models.widgets.Progress\"},{\"attributes\":{\"bottom_units\":\"screen\",\"coordinates\":null,\"fill_alpha\":0.5,\"fill_color\":\"lightgrey\",\"group\":null,\"left_units\":\"screen\",\"level\":\"overlay\",\"line_alpha\":1.0,\"line_color\":\"black\",\"line_dash\":[4,4],\"line_width\":2,\"right_units\":\"screen\",\"syncable\":false,\"top_units\":\"screen\"},\"id\":\"3928\",\"type\":\"BoxAnnotation\"},{\"attributes\":{\"label\":{\"value\":\"Imag\"},\"renderers\":[{\"id\":\"3962\"}]},\"id\":\"3974\",\"type\":\"LegendItem\"},{\"attributes\":{},\"id\":\"3873\",\"type\":\"Selection\"},{\"attributes\":{},\"id\":\"3949\",\"type\":\"AllLabels\"},{\"attributes\":{},\"id\":\"3953\",\"type\":\"UnionRenderers\"},{\"attributes\":{\"below\":[{\"id\":\"3914\"}],\"center\":[{\"id\":\"3917\"},{\"id\":\"3921\"},{\"id\":\"3956\"}],\"left\":[{\"id\":\"3918\"}],\"renderers\":[{\"id\":\"3944\"},{\"id\":\"3962\"}],\"sizing_mode\":\"stretch_both\",\"title\":{\"id\":\"3904\"},\"toolbar\":{\"id\":\"3929\"},\"toolbar_location\":\"above\",\"x_range\":{\"id\":\"3906\"},\"x_scale\":{\"id\":\"3910\"},\"y_range\":{\"id\":\"3908\"},\"y_scale\":{\"id\":\"3912\"}},\"id\":\"3903\",\"subtype\":\"Figure\",\"type\":\"Plot\"},{\"attributes\":{\"line_color\":\"blue\",\"x\":{\"field\":\"x\"},\"y\":{\"field\":\"real\"}},\"id\":\"3941\",\"type\":\"Line\"},{\"attributes\":{\"active_drag\":{\"id\":\"3922\"},\"active_scroll\":null,\"logo\":null,\"tools\":[{\"id\":\"3922\"},{\"id\":\"3923\"},{\"id\":\"3924\"},{\"id\":\"3925\"},{\"id\":\"3926\"},{\"id\":\"3927\"},{\"id\":\"3976\"},{\"id\":\"3978\"}]},\"id\":\"3929\",\"type\":\"Toolbar\"},{\"attributes\":{\"coordinates\":null,\"data_source\":{\"id\":\"3939\"},\"glyph\":{\"id\":\"3941\"},\"group\":null,\"hover_glyph\":null,\"muted_glyph\":{\"id\":\"3943\"},\"name\":\"real\",\"nonselection_glyph\":{\"id\":\"3942\"},\"view\":{\"id\":\"3945\"}},\"id\":\"3944\",\"type\":\"GlyphRenderer\"},{\"attributes\":{\"line_alpha\":0.2,\"line_color\":\"blue\",\"x\":{\"field\":\"x\"},\"y\":{\"field\":\"real\"}},\"id\":\"3943\",\"type\":\"Line\"},{\"attributes\":{\"source\":{\"id\":\"3939\"}},\"id\":\"3945\",\"type\":\"CDSView\"},{\"attributes\":{\"align\":\"end\",\"disabled\":true,\"margin\":[5,10,5,10],\"max_length\":5000,\"sizing_mode\":\"stretch_width\",\"value\":\"Idle\"},\"id\":\"4022\",\"type\":\"TextInput\"},{\"attributes\":{\"coordinates\":null,\"group\":null,\"items\":[{\"id\":\"3957\"},{\"id\":\"3974\"}]},\"id\":\"3956\",\"type\":\"Legend\"},{\"attributes\":{\"label\":{\"value\":\"Imag\"},\"renderers\":[{\"id\":\"3881\"}]},\"id\":\"3893\",\"type\":\"LegendItem\"},{\"attributes\":{\"line_alpha\":0.1,\"line_color\":\"firebrick\",\"x\":{\"field\":\"x\"},\"y\":{\"field\":\"imag\"}},\"id\":\"3879\",\"type\":\"Line\"},{\"attributes\":{\"coordinates\":null,\"data_source\":{\"id\":\"3858\"},\"glyph\":{\"id\":\"3878\"},\"group\":null,\"hover_glyph\":null,\"muted_glyph\":{\"id\":\"3880\"},\"name\":\"imag\",\"nonselection_glyph\":{\"id\":\"3879\"},\"view\":{\"id\":\"3882\"}},\"id\":\"3881\",\"type\":\"GlyphRenderer\"},{\"attributes\":{\"line_color\":\"firebrick\",\"x\":{\"field\":\"x\"},\"y\":{\"field\":\"imag\"}},\"id\":\"3878\",\"type\":\"Line\"},{\"attributes\":{},\"id\":\"3825\",\"type\":\"DataRange1d\"},{\"attributes\":{\"data\":{\"imag\":{\"__ndarray__\":\"AAAAAA==\",\"dtype\":\"float32\",\"order\":\"little\",\"shape\":[1]},\"real\":{\"__ndarray__\":\"AAAAAA==\",\"dtype\":\"float32\",\"order\":\"little\",\"shape\":[1]},\"x\":{\"__ndarray__\":\"AAAAAAAAAAA=\",\"dtype\":\"float64\",\"order\":\"little\",\"shape\":[1]}},\"selected\":{\"id\":\"3873\"},\"selection_policy\":{\"id\":\"3872\"}},\"id\":\"3858\",\"type\":\"ColumnDataSource\"},{\"attributes\":{\"line_alpha\":0.2,\"line_color\":\"firebrick\",\"x\":{\"field\":\"x\"},\"y\":{\"field\":\"imag\"}},\"id\":\"3880\",\"type\":\"Line\"},{\"attributes\":{\"below\":[{\"id\":\"3833\"}],\"center\":[{\"id\":\"3836\"},{\"id\":\"3840\"},{\"id\":\"3875\"}],\"left\":[{\"id\":\"3837\"}],\"renderers\":[{\"id\":\"3863\"},{\"id\":\"3881\"}],\"sizing_mode\":\"stretch_both\",\"title\":{\"id\":\"3823\"},\"toolbar\":{\"id\":\"3848\"},\"toolbar_location\":\"above\",\"x_range\":{\"id\":\"3825\"},\"x_scale\":{\"id\":\"3829\"},\"y_range\":{\"id\":\"3827\"},\"y_scale\":{\"id\":\"3831\"}},\"id\":\"3822\",\"subtype\":\"Figure\",\"type\":\"Plot\"},{\"attributes\":{\"coordinates\":null,\"group\":null,\"text\":\"Signal\"},\"id\":\"3823\",\"type\":\"Title\"},{\"attributes\":{},\"id\":\"3827\",\"type\":\"DataRange1d\"},{\"attributes\":{},\"id\":\"3831\",\"type\":\"LinearScale\"},{\"attributes\":{},\"id\":\"3834\",\"type\":\"BasicTicker\"},{\"attributes\":{\"axis\":{\"id\":\"3833\"},\"coordinates\":null,\"group\":null,\"ticker\":null},\"id\":\"3836\",\"type\":\"Grid\"},{\"attributes\":{},\"id\":\"3829\",\"type\":\"LinearScale\"},{\"attributes\":{\"axis_label\":\"time (s)\",\"coordinates\":null,\"formatter\":{\"id\":\"3900\"},\"group\":null,\"major_label_policy\":{\"id\":\"3871\"},\"ticker\":{\"id\":\"3834\"}},\"id\":\"3833\",\"type\":\"LinearAxis\"},{\"attributes\":{},\"id\":\"3954\",\"type\":\"Selection\"},{\"attributes\":{},\"id\":\"3842\",\"type\":\"WheelZoomTool\"},{\"attributes\":{\"axis_label\":\"signal (V)\",\"coordinates\":null,\"formatter\":{\"id\":\"3900\"},\"group\":null,\"major_label_policy\":{\"id\":\"3868\"},\"ticker\":{\"id\":\"3838\"}},\"id\":\"3837\",\"type\":\"LinearAxis\"},{\"attributes\":{\"axis\":{\"id\":\"3837\"},\"coordinates\":null,\"dimension\":1,\"group\":null,\"ticker\":null},\"id\":\"3840\",\"type\":\"Grid\"},{\"attributes\":{},\"id\":\"3838\",\"type\":\"BasicTicker\"},{\"attributes\":{},\"id\":\"3846\",\"type\":\"SaveTool\"},{\"attributes\":{},\"id\":\"3841\",\"type\":\"PanTool\"},{\"attributes\":{\"overlay\":{\"id\":\"3847\"}},\"id\":\"3843\",\"type\":\"BoxZoomTool\"},{\"attributes\":{},\"id\":\"3844\",\"type\":\"CrosshairTool\"},{\"attributes\":{},\"id\":\"3845\",\"type\":\"ResetTool\"},{\"attributes\":{\"bottom_units\":\"screen\",\"coordinates\":null,\"fill_alpha\":0.5,\"fill_color\":\"lightgrey\",\"group\":null,\"left_units\":\"screen\",\"level\":\"overlay\",\"line_alpha\":1.0,\"line_color\":\"black\",\"line_dash\":[4,4],\"line_width\":2,\"right_units\":\"screen\",\"syncable\":false,\"top_units\":\"screen\"},\"id\":\"3847\",\"type\":\"BoxAnnotation\"},{\"attributes\":{\"line_alpha\":0.1,\"line_color\":\"blue\",\"x\":{\"field\":\"x\"},\"y\":{\"field\":\"real\"}},\"id\":\"3861\",\"type\":\"Line\"},{\"attributes\":{\"client_comm_id\":\"663b32d85b1846d3a2740af939ce4c7c\",\"comm_id\":\"a42a014208124639a7edceae515039c0\",\"plot_id\":\"3984\"},\"id\":\"4071\",\"type\":\"panel.models.comm_manager.CommManager\"},{\"attributes\":{\"coordinates\":null,\"data_source\":{\"id\":\"3858\"},\"glyph\":{\"id\":\"3860\"},\"group\":null,\"hover_glyph\":null,\"muted_glyph\":{\"id\":\"3862\"},\"name\":\"real\",\"nonselection_glyph\":{\"id\":\"3861\"},\"view\":{\"id\":\"3864\"}},\"id\":\"3863\",\"type\":\"GlyphRenderer\"},{\"attributes\":{\"source\":{\"id\":\"3858\"}},\"id\":\"3882\",\"type\":\"CDSView\"},{\"attributes\":{\"line_color\":\"blue\",\"x\":{\"field\":\"x\"},\"y\":{\"field\":\"real\"}},\"id\":\"3860\",\"type\":\"Line\"},{\"attributes\":{\"active_drag\":{\"id\":\"3841\"},\"active_scroll\":null,\"logo\":null,\"tools\":[{\"id\":\"3841\"},{\"id\":\"3842\"},{\"id\":\"3843\"},{\"id\":\"3844\"},{\"id\":\"3845\"},{\"id\":\"3846\"},{\"id\":\"3895\"},{\"id\":\"3897\"}]},\"id\":\"3848\",\"type\":\"Toolbar\"},{\"attributes\":{\"label\":{\"value\":\"Real\"},\"renderers\":[{\"id\":\"3944\"}]},\"id\":\"3957\",\"type\":\"LegendItem\"},{\"attributes\":{\"line_alpha\":0.1,\"line_color\":\"firebrick\",\"x\":{\"field\":\"x\"},\"y\":{\"field\":\"imag\"}},\"id\":\"3960\",\"type\":\"Line\"},{\"attributes\":{\"coordinates\":null,\"data_source\":{\"id\":\"3939\"},\"glyph\":{\"id\":\"3959\"},\"group\":null,\"hover_glyph\":null,\"muted_glyph\":{\"id\":\"3961\"},\"name\":\"imag\",\"nonselection_glyph\":{\"id\":\"3960\"},\"view\":{\"id\":\"3963\"}},\"id\":\"3962\",\"type\":\"GlyphRenderer\"},{\"attributes\":{\"label\":{\"value\":\"Real\"},\"renderers\":[{\"id\":\"3863\"}]},\"id\":\"3876\",\"type\":\"LegendItem\"},{\"attributes\":{\"line_color\":\"firebrick\",\"x\":{\"field\":\"x\"},\"y\":{\"field\":\"imag\"}},\"id\":\"3959\",\"type\":\"Line\"},{\"attributes\":{\"line_alpha\":0.2,\"line_color\":\"blue\",\"x\":{\"field\":\"x\"},\"y\":{\"field\":\"real\"}},\"id\":\"3862\",\"type\":\"Line\"},{\"attributes\":{\"line_alpha\":0.2,\"line_color\":\"firebrick\",\"x\":{\"field\":\"x\"},\"y\":{\"field\":\"imag\"}},\"id\":\"3961\",\"type\":\"Line\"},{\"attributes\":{\"code\":\"\\n    if (tick == 0) return +tick.toFixed(5)\\n    var SI_map = [[1e9, 'G'], [1e6, 'M'], [1e3, 'k'], [1, ''], [1e-3, 'm'], [1e-6, '\\u00b5'], [1e-9, 'n']]\\n    for (const el of SI_map) {\\n        if (tick >= el[0] || tick <= -el[0])\\n            return +(tick/el[0]).toFixed(5) + el[1]\\n    }\\n    return +(tick/SI_map[SI_map.length-1][0]).toFixed(5) + SI_map[SI_map.length-1][1]\\n    \"},\"id\":\"3981\",\"type\":\"FuncTickFormatter\"},{\"attributes\":{\"source\":{\"id\":\"3858\"}},\"id\":\"3864\",\"type\":\"CDSView\"},{\"attributes\":{\"source\":{\"id\":\"3939\"}},\"id\":\"3963\",\"type\":\"CDSView\"},{\"attributes\":{\"coordinates\":null,\"group\":null,\"items\":[{\"id\":\"3876\"},{\"id\":\"3893\"}]},\"id\":\"3875\",\"type\":\"Legend\"},{\"attributes\":{\"callback\":null,\"formatters\":{\"@imag\":{\"id\":\"3975\"}},\"mode\":\"vline\",\"renderers\":[{\"id\":\"3962\"}],\"tooltips\":[[\"imag\",\"@imag{custom}\"]]},\"id\":\"3978\",\"type\":\"HoverTool\"},{\"attributes\":{\"callback\":null,\"formatters\":{\"@imag\":{\"id\":\"3894\"}},\"mode\":\"vline\",\"renderers\":[{\"id\":\"3881\"}],\"tooltips\":[[\"imag\",\"@imag{custom}\"]]},\"id\":\"3897\",\"type\":\"HoverTool\"},{\"attributes\":{\"code\":\"\\n    if (value == 0) return +value.toFixed(3)\\n    var SI_map = [[1e9, 'G'], [1e6, 'M'], [1e3, 'k'], [1, ''], [1e-3, 'm'], [1e-6, '\\u00b5'], [1e-9, 'n']]\\n    for (const el of SI_map) {\\n        if (value >= el[0] || value <= -el[0])\\n            return +(value/el[0]).toFixed(3) + el[1]\\n    }\\n    return +(value/SI_map[SI_map.length-1][0]).toFixed(3) + SI_map[SI_map.length-1][1]\\n    \"},\"id\":\"3894\",\"type\":\"CustomJSHover\"},{\"attributes\":{\"callback\":null,\"formatters\":{\"@real\":{\"id\":\"3894\"}},\"mode\":\"vline\",\"renderers\":[{\"id\":\"3863\"}],\"tooltips\":[[\"real\",\"@real{custom}\"]]},\"id\":\"3895\",\"type\":\"HoverTool\"},{\"attributes\":{\"code\":\"\\n    if (tick == 0) return +tick.toFixed(5)\\n    var SI_map = [[1e9, 'G'], [1e6, 'M'], [1e3, 'k'], [1, ''], [1e-3, 'm'], [1e-6, '\\u00b5'], [1e-9, 'n']]\\n    for (const el of SI_map) {\\n        if (tick >= el[0] || tick <= -el[0])\\n            return +(tick/el[0]).toFixed(5) + el[1]\\n    }\\n    return +(tick/SI_map[SI_map.length-1][0]).toFixed(5) + SI_map[SI_map.length-1][1]\\n    \"},\"id\":\"3900\",\"type\":\"FuncTickFormatter\"},{\"attributes\":{},\"id\":\"3910\",\"type\":\"LinearScale\"},{\"attributes\":{\"data\":{\"imag\":{\"__ndarray__\":\"AAAAAA==\",\"dtype\":\"float32\",\"order\":\"little\",\"shape\":[1]},\"real\":{\"__ndarray__\":\"AAAAAA==\",\"dtype\":\"float32\",\"order\":\"little\",\"shape\":[1]},\"x\":{\"__ndarray__\":\"AAAAAAAAAAA=\",\"dtype\":\"float64\",\"order\":\"little\",\"shape\":[1]}},\"selected\":{\"id\":\"3954\"},\"selection_policy\":{\"id\":\"3953\"}},\"id\":\"3939\",\"type\":\"ColumnDataSource\"},{\"attributes\":{},\"id\":\"3908\",\"type\":\"DataRange1d\"},{\"attributes\":{\"callback\":null,\"formatters\":{\"@real\":{\"id\":\"3975\"}},\"mode\":\"vline\",\"renderers\":[{\"id\":\"3944\"}],\"tooltips\":[[\"real\",\"@real{custom}\"]]},\"id\":\"3976\",\"type\":\"HoverTool\"},{\"attributes\":{},\"id\":\"3906\",\"type\":\"DataRange1d\"},{\"attributes\":{\"code\":\"\\n    if (value == 0) return +value.toFixed(3)\\n    var SI_map = [[1e9, 'G'], [1e6, 'M'], [1e3, 'k'], [1, ''], [1e-3, 'm'], [1e-6, '\\u00b5'], [1e-9, 'n']]\\n    for (const el of SI_map) {\\n        if (value >= el[0] || value <= -el[0])\\n            return +(value/el[0]).toFixed(3) + el[1]\\n    }\\n    return +(value/SI_map[SI_map.length-1][0]).toFixed(3) + SI_map[SI_map.length-1][1]\\n    \"},\"id\":\"3975\",\"type\":\"CustomJSHover\"},{\"attributes\":{},\"id\":\"3952\",\"type\":\"AllLabels\"}],\"root_ids\":[\"3984\",\"4071\"]},\"title\":\"Bokeh Application\",\"version\":\"2.4.3\"}};\n",
       "    var render_items = [{\"docid\":\"b31ecf73-8dff-4a2c-989d-7d84df16684f\",\"root_ids\":[\"3984\"],\"roots\":{\"3984\":\"c9abd147-ebea-4e92-9e2f-db7db8ee9608\"}}];\n",
       "    root.Bokeh.embed.embed_items_notebook(docs_json, render_items);\n",
       "  }\n",
       "  if (root.Bokeh !== undefined && root.Bokeh.Panel !== undefined) {\n",
       "    embed_document(root);\n",
       "  } else {\n",
       "    var attempts = 0;\n",
       "    var timer = setInterval(function(root) {\n",
       "      if (root.Bokeh !== undefined && root.Bokeh.Panel !== undefined) {\n",
       "        clearInterval(timer);\n",
       "        embed_document(root);\n",
       "      } else if (document.readyState == \"complete\") {\n",
       "        attempts++;\n",
       "        if (attempts > 200) {\n",
       "          clearInterval(timer);\n",
       "          console.log(\"Bokeh: ERROR: Unable to run BokehJS code because BokehJS library is missing\");\n",
       "        }\n",
       "      }\n",
       "    }, 25, root)\n",
       "  }\n",
       "})(window);</script>"
      ],
      "text/plain": [
       "Column(sizing_mode='stretch_both')\n",
       "    [0] Row(sizing_mode='stretch_both')\n",
       "        [0] Bokeh(Figure)\n",
       "        [1] Bokeh(Figure)\n",
       "    [1] Row(sizing_mode='stretch_width')\n",
       "        [0] Button(align='end', button_type='success', name='Run', sizing_mode='stretch_width')\n",
       "        [1] Button(align='end', button_type='danger', name='Abort', sizing_mode='stretch_width')\n",
       "        [2] Progress(height=31, sizing_mode='stretch_width', value=0)\n",
       "        [3] TextInput(align='end', disabled=True, sizing_mode='stretch_width', value='Idle')"
      ]
     },
     "execution_count": 24,
     "metadata": {
      "application/vnd.holoviews_exec.v0+json": {
       "id": "3984"
      }
     },
     "output_type": "execute_result"
    }
   ],
   "source": [
    "from FID import FIDApp # from dashboards-inline directory that was added to sys.path\n",
    "\n",
    "# setup user shims file\n",
    "import yaml\n",
    "SHIM_FILE = os.path.join(LAB_DIR, 'shims.yaml')\n",
    "DEFAULT_SHIMS = dict(\n",
    "    shim_x=0,\n",
    "    shim_y=0,\n",
    "    shim_z=0,\n",
    "    shim_z2=0,\n",
    "    shim_zx=0,\n",
    "    shim_zy=0,\n",
    "    shim_xy=0,\n",
    "    shim_x2y2=0)\n",
    "if not os.path.isfile(SHIM_FILE):\n",
    "    with open(SHIM_FILE, 'w') as f:\n",
    "        yaml.dump(DEFAULT_SHIMS, f)\n",
    "\n",
    "# create FID experiment using user shims, frequency, and RF amplitude\n",
    "fid = FIDApp(\n",
    "    override_par_files=[\n",
    "        SHIM_FILE\n",
    "    ],\n",
    "    override_pars=dict(\n",
    "        f=frequency, # use value of frequency from the user input\n",
    "        a_90=rf_amp, # use rf amplitude from the user input\n",
    "        t_90=32e-6,\n",
    "        n_scans=1,\n",
    "        n_samples=10000,\n",
    "        t_dw=0.5e-6,\n",
    "        t_acqdelay=50e-6,\n",
    "        t_end=0.5\n",
    "    )\n",
    ")\n",
    "fid.main()"
   ]
  },
  {
   "cell_type": "markdown",
   "id": "637b5f40-0db7-4689-99f9-981725a488ab",
   "metadata": {
    "tags": []
   },
   "source": [
    "#### **Step Four: Pulse Calibration**\n",
    "With the system tuned, it is time to determine the RF pulse amplitude necessary to achieve a $90^\\circ$ tip of the magnetization. Try changing the RF Amplitude above and observing the effect on the initial value of the real part of the **Signal** plot. Roughly what RF Amplitude maximises the signal?\n",
    "\n",
    "Open the **Pulse Calibration** dashboard from the **Dashboard Apps** sidebar and run it. With **Pulse Calibration** dashboard tool the pulse amplitude for a given pulse length is found to maximize signal - giving the pulse size for a $90^\\circ$ tip. Make sure *soft pulse* is **deselected** and the *pulse width* is $32\\mathrm{\\mu s}$. When the pulse calibration is finished, the results will be automatically saved to the system global variables, and the amplitude value can also be read off the $x$ axis at the position of the dashed line (Note: the axis tick labels use SI prefixes, so 100m means 0.1)."
   ]
  },
  {
   "cell_type": "markdown",
   "id": "4e83ad68-ead4-41b4-adfe-dc9f3bb47c94",
   "metadata": {
    "tags": []
   },
   "source": [
    "#### **Step Five: Shimming**\n",
    "\n",
    "Once the centre frequency has been established and the system set-up to excite and receive signals of that frequency, the system must be shimmed in order to maximize the homogeneity of the magnetic field. Run the **Autoshim** tool below with the **Coarse** setting to shim the system. The *Coarse* setting will start by resetting all the shims to zero and uses a wide bandwidth, whereas the *Quick* setting loads the saved values and uses a narrow bandwidth; it is suitable for retuning the system once everything is set up. The shims will be saved to `shims.yaml` in your `LAB_DIR`, to be used by the FID experiment above.\n",
    "\n",
    "This shim tool uses the Nelder-Mead simplex method to optimise the sum of squares of the FID signal by varying the current in eight shim coils designed to produce magnetic fields which are spherical harmonics; three first order ($x$, $y$, $z$) and five second order ($z^2$, $zx$, $zy$, $xy$, $x^2-y^2$)."
   ]
  },
  {
   "cell_type": "code",
   "execution_count": 25,
   "id": "5163d76f-8603-4fad-b1c9-bdd2131085e7",
   "metadata": {
    "jupyter": {
     "source_hidden": true
    },
    "tags": []
   },
   "outputs": [
    {
     "data": {},
     "metadata": {},
     "output_type": "display_data"
    },
    {
     "data": {
      "application/vnd.holoviews_exec.v0+json": "",
      "text/html": [
       "<div id='4152'>\n",
       "  <div class=\"bk-root\" id=\"1b7d5430-1e67-4a3e-af21-6a1c298f15c1\" data-root-id=\"4152\"></div>\n",
       "</div>\n",
       "<script type=\"application/javascript\">(function(root) {\n",
       "  function embed_document(root) {\n",
       "    var docs_json = {\"7a745f9a-b608-468d-b0bf-edb864bc15b9\":{\"defs\":[{\"extends\":null,\"module\":null,\"name\":\"ReactiveHTML1\",\"overrides\":[],\"properties\":[]},{\"extends\":null,\"module\":null,\"name\":\"FlexBox1\",\"overrides\":[],\"properties\":[{\"default\":\"flex-start\",\"kind\":null,\"name\":\"align_content\"},{\"default\":\"flex-start\",\"kind\":null,\"name\":\"align_items\"},{\"default\":\"row\",\"kind\":null,\"name\":\"flex_direction\"},{\"default\":\"wrap\",\"kind\":null,\"name\":\"flex_wrap\"},{\"default\":\"flex-start\",\"kind\":null,\"name\":\"justify_content\"}]},{\"extends\":null,\"module\":null,\"name\":\"GridStack1\",\"overrides\":[],\"properties\":[{\"default\":\"warn\",\"kind\":null,\"name\":\"mode\"},{\"default\":null,\"kind\":null,\"name\":\"ncols\"},{\"default\":null,\"kind\":null,\"name\":\"nrows\"},{\"default\":true,\"kind\":null,\"name\":\"allow_resize\"},{\"default\":true,\"kind\":null,\"name\":\"allow_drag\"},{\"default\":[],\"kind\":null,\"name\":\"state\"}]},{\"extends\":null,\"module\":null,\"name\":\"click1\",\"overrides\":[],\"properties\":[{\"default\":\"\",\"kind\":null,\"name\":\"terminal_output\"},{\"default\":\"\",\"kind\":null,\"name\":\"debug_name\"},{\"default\":0,\"kind\":null,\"name\":\"clears\"}]},{\"extends\":null,\"module\":null,\"name\":\"NotificationAreaBase1\",\"overrides\":[],\"properties\":[{\"default\":\"bottom-right\",\"kind\":null,\"name\":\"position\"},{\"default\":0,\"kind\":null,\"name\":\"_clear\"}]},{\"extends\":null,\"module\":null,\"name\":\"NotificationArea1\",\"overrides\":[],\"properties\":[{\"default\":[],\"kind\":null,\"name\":\"notifications\"},{\"default\":\"bottom-right\",\"kind\":null,\"name\":\"position\"},{\"default\":0,\"kind\":null,\"name\":\"_clear\"},{\"default\":[{\"background\":\"#ffc107\",\"icon\":{\"className\":\"fas fa-exclamation-triangle\",\"color\":\"white\",\"tagName\":\"i\"},\"type\":\"warning\"},{\"background\":\"#007bff\",\"icon\":{\"className\":\"fas fa-info-circle\",\"color\":\"white\",\"tagName\":\"i\"},\"type\":\"info\"}],\"kind\":null,\"name\":\"types\"}]},{\"extends\":null,\"module\":null,\"name\":\"Notification\",\"overrides\":[],\"properties\":[{\"default\":null,\"kind\":null,\"name\":\"background\"},{\"default\":3000,\"kind\":null,\"name\":\"duration\"},{\"default\":null,\"kind\":null,\"name\":\"icon\"},{\"default\":\"\",\"kind\":null,\"name\":\"message\"},{\"default\":null,\"kind\":null,\"name\":\"notification_type\"},{\"default\":false,\"kind\":null,\"name\":\"_destroyed\"}]},{\"extends\":null,\"module\":null,\"name\":\"TemplateActions1\",\"overrides\":[],\"properties\":[{\"default\":0,\"kind\":null,\"name\":\"open_modal\"},{\"default\":0,\"kind\":null,\"name\":\"close_modal\"}]},{\"extends\":null,\"module\":null,\"name\":\"MaterialTemplateActions1\",\"overrides\":[],\"properties\":[{\"default\":0,\"kind\":null,\"name\":\"open_modal\"},{\"default\":0,\"kind\":null,\"name\":\"close_modal\"}]}],\"roots\":{\"references\":[{\"attributes\":{\"low\":0,\"margin\":[5,10,5,10],\"placeholder\":\"0\",\"step\":1000,\"title\":\"Frequency (Hz)\",\"value\":0,\"value_throttled\":0},\"id\":\"4153\",\"type\":\"Spinner\"},{\"attributes\":{\"children\":[{\"id\":\"4153\"},{\"id\":\"4154\"}],\"margin\":[0,0,0,0],\"name\":\"Row00354\"},\"id\":\"4152\",\"type\":\"Row\"},{\"attributes\":{\"client_comm_id\":\"974373c9f4144896821fbed5dfec88c0\",\"comm_id\":\"265d11919c204f0daabec80b6f5b747d\",\"plot_id\":\"4152\"},\"id\":\"4155\",\"type\":\"panel.models.comm_manager.CommManager\"},{\"attributes\":{\"high\":1,\"low\":0,\"margin\":[5,10,5,10],\"placeholder\":\"0\",\"step\":0.1,\"title\":\"RF Amplitude (fraction of maximum)\",\"value\":0.5,\"value_throttled\":0.5},\"id\":\"4154\",\"type\":\"Spinner\"}],\"root_ids\":[\"4152\",\"4155\"]},\"title\":\"Bokeh Application\",\"version\":\"2.4.3\"}};\n",
       "    var render_items = [{\"docid\":\"7a745f9a-b608-468d-b0bf-edb864bc15b9\",\"root_ids\":[\"4152\"],\"roots\":{\"4152\":\"1b7d5430-1e67-4a3e-af21-6a1c298f15c1\"}}];\n",
       "    root.Bokeh.embed.embed_items_notebook(docs_json, render_items);\n",
       "  }\n",
       "  if (root.Bokeh !== undefined && root.Bokeh.Panel !== undefined) {\n",
       "    embed_document(root);\n",
       "  } else {\n",
       "    var attempts = 0;\n",
       "    var timer = setInterval(function(root) {\n",
       "      if (root.Bokeh !== undefined && root.Bokeh.Panel !== undefined) {\n",
       "        clearInterval(timer);\n",
       "        embed_document(root);\n",
       "      } else if (document.readyState == \"complete\") {\n",
       "        attempts++;\n",
       "        if (attempts > 200) {\n",
       "          clearInterval(timer);\n",
       "          console.log(\"Bokeh: ERROR: Unable to run BokehJS code because BokehJS library is missing\");\n",
       "        }\n",
       "      }\n",
       "    }, 25, root)\n",
       "  }\n",
       "})(window);</script>"
      ],
      "text/plain": [
       "Row\n",
       "    [0] FloatInput(name='Frequency (Hz)', start=0, step=1000)\n",
       "    [1] FloatInput(end=1, name='RF Amplitude (..., start=0, value=0.5)"
      ]
     },
     "execution_count": 25,
     "metadata": {
      "application/vnd.holoviews_exec.v0+json": {
       "id": "4152"
      }
     },
     "output_type": "execute_result"
    }
   ],
   "source": [
    "# display frequency and rf_amp again as they are used by Autoshim\n",
    "pn.Row(frequency, rf_amp)"
   ]
  },
  {
   "cell_type": "code",
   "execution_count": 26,
   "id": "2360b000-862a-405c-9248-73dafe7be62a",
   "metadata": {
    "jupyter": {
     "source_hidden": true
    },
    "tags": []
   },
   "outputs": [
    {
     "data": {},
     "metadata": {},
     "output_type": "display_data"
    },
    {
     "data": {
      "application/vnd.holoviews_exec.v0+json": "",
      "text/html": [
       "<div id='4239'>\n",
       "  <div class=\"bk-root\" id=\"b2ab9558-c6a5-4fdc-946d-ac78b02dfa1e\" data-root-id=\"4239\"></div>\n",
       "</div>\n",
       "<script type=\"application/javascript\">(function(root) {\n",
       "  function embed_document(root) {\n",
       "    var docs_json = {\"9ce38eea-813d-4499-8d09-8b7ff3c349a8\":{\"defs\":[{\"extends\":null,\"module\":null,\"name\":\"ReactiveHTML1\",\"overrides\":[],\"properties\":[]},{\"extends\":null,\"module\":null,\"name\":\"FlexBox1\",\"overrides\":[],\"properties\":[{\"default\":\"flex-start\",\"kind\":null,\"name\":\"align_content\"},{\"default\":\"flex-start\",\"kind\":null,\"name\":\"align_items\"},{\"default\":\"row\",\"kind\":null,\"name\":\"flex_direction\"},{\"default\":\"wrap\",\"kind\":null,\"name\":\"flex_wrap\"},{\"default\":\"flex-start\",\"kind\":null,\"name\":\"justify_content\"}]},{\"extends\":null,\"module\":null,\"name\":\"GridStack1\",\"overrides\":[],\"properties\":[{\"default\":\"warn\",\"kind\":null,\"name\":\"mode\"},{\"default\":null,\"kind\":null,\"name\":\"ncols\"},{\"default\":null,\"kind\":null,\"name\":\"nrows\"},{\"default\":true,\"kind\":null,\"name\":\"allow_resize\"},{\"default\":true,\"kind\":null,\"name\":\"allow_drag\"},{\"default\":[],\"kind\":null,\"name\":\"state\"}]},{\"extends\":null,\"module\":null,\"name\":\"click1\",\"overrides\":[],\"properties\":[{\"default\":\"\",\"kind\":null,\"name\":\"terminal_output\"},{\"default\":\"\",\"kind\":null,\"name\":\"debug_name\"},{\"default\":0,\"kind\":null,\"name\":\"clears\"}]},{\"extends\":null,\"module\":null,\"name\":\"NotificationAreaBase1\",\"overrides\":[],\"properties\":[{\"default\":\"bottom-right\",\"kind\":null,\"name\":\"position\"},{\"default\":0,\"kind\":null,\"name\":\"_clear\"}]},{\"extends\":null,\"module\":null,\"name\":\"NotificationArea1\",\"overrides\":[],\"properties\":[{\"default\":[],\"kind\":null,\"name\":\"notifications\"},{\"default\":\"bottom-right\",\"kind\":null,\"name\":\"position\"},{\"default\":0,\"kind\":null,\"name\":\"_clear\"},{\"default\":[{\"background\":\"#ffc107\",\"icon\":{\"className\":\"fas fa-exclamation-triangle\",\"color\":\"white\",\"tagName\":\"i\"},\"type\":\"warning\"},{\"background\":\"#007bff\",\"icon\":{\"className\":\"fas fa-info-circle\",\"color\":\"white\",\"tagName\":\"i\"},\"type\":\"info\"}],\"kind\":null,\"name\":\"types\"}]},{\"extends\":null,\"module\":null,\"name\":\"Notification\",\"overrides\":[],\"properties\":[{\"default\":null,\"kind\":null,\"name\":\"background\"},{\"default\":3000,\"kind\":null,\"name\":\"duration\"},{\"default\":null,\"kind\":null,\"name\":\"icon\"},{\"default\":\"\",\"kind\":null,\"name\":\"message\"},{\"default\":null,\"kind\":null,\"name\":\"notification_type\"},{\"default\":false,\"kind\":null,\"name\":\"_destroyed\"}]},{\"extends\":null,\"module\":null,\"name\":\"TemplateActions1\",\"overrides\":[],\"properties\":[{\"default\":0,\"kind\":null,\"name\":\"open_modal\"},{\"default\":0,\"kind\":null,\"name\":\"close_modal\"}]},{\"extends\":null,\"module\":null,\"name\":\"MaterialTemplateActions1\",\"overrides\":[],\"properties\":[{\"default\":0,\"kind\":null,\"name\":\"open_modal\"},{\"default\":0,\"kind\":null,\"name\":\"close_modal\"}]}],\"roots\":{\"references\":[{\"attributes\":{\"children\":[{\"id\":\"4240\"},{\"id\":\"4265\"}],\"margin\":[0,0,0,0],\"name\":\"Column00378\",\"sizing_mode\":\"stretch_both\"},\"id\":\"4239\",\"type\":\"Column\"},{\"attributes\":{\"client_comm_id\":\"034d8109832b4f2899b56e1a56574ed3\",\"comm_id\":\"a493f1c7a7f64faa89fb70c8522fc412\",\"plot_id\":\"4239\"},\"id\":\"4307\",\"type\":\"panel.models.comm_manager.CommManager\"},{\"attributes\":{\"bottom_units\":\"screen\",\"coordinates\":null,\"fill_alpha\":0.5,\"fill_color\":\"lightgrey\",\"group\":null,\"left_units\":\"screen\",\"level\":\"overlay\",\"line_alpha\":1.0,\"line_color\":\"black\",\"line_dash\":[4,4],\"line_width\":2,\"right_units\":\"screen\",\"syncable\":false,\"top_units\":\"screen\"},\"id\":\"4181\",\"type\":\"BoxAnnotation\"},{\"attributes\":{\"active_drag\":{\"id\":\"4216\"},\"active_scroll\":null,\"logo\":null,\"tools\":[{\"id\":\"4216\"},{\"id\":\"4217\"},{\"id\":\"4218\"},{\"id\":\"4219\"},{\"id\":\"4220\"},{\"id\":\"4221\"}]},\"id\":\"4223\",\"type\":\"Toolbar\"},{\"attributes\":{},\"id\":\"4255\",\"type\":\"AllLabels\"},{\"attributes\":{},\"id\":\"4204\",\"type\":\"LinearScale\"},{\"attributes\":{},\"id\":\"4257\",\"type\":\"AllLabels\"},{\"attributes\":{\"active_drag\":{\"id\":\"4175\"},\"active_scroll\":null,\"logo\":null,\"tools\":[{\"id\":\"4175\"},{\"id\":\"4176\"},{\"id\":\"4177\"},{\"id\":\"4178\"},{\"id\":\"4179\"},{\"id\":\"4180\"}]},\"id\":\"4182\",\"type\":\"Toolbar\"},{\"attributes\":{\"children\":[{\"id\":\"4198\"},{\"id\":\"4156\"}],\"margin\":[0,0,0,0],\"name\":\"Column00375\",\"sizing_mode\":\"stretch_both\"},\"id\":\"4240\",\"type\":\"Column\"},{\"attributes\":{\"below\":[{\"id\":\"4208\"}],\"center\":[{\"id\":\"4211\"},{\"id\":\"4215\"}],\"height\":300,\"left\":[{\"id\":\"4212\"}],\"sizing_mode\":\"stretch_both\",\"title\":{\"id\":\"4199\"},\"toolbar\":{\"id\":\"4223\"},\"toolbar_location\":\"above\",\"x_range\":{\"id\":\"4159\"},\"x_scale\":{\"id\":\"4204\"},\"y_range\":{\"id\":\"4202\"},\"y_scale\":{\"id\":\"4206\"}},\"id\":\"4198\",\"subtype\":\"Figure\",\"type\":\"Plot\"},{\"attributes\":{\"height\":31,\"margin\":[5,10,5,10],\"options\":[\"Quick\",\"Fine\",\"Coarse\"],\"sizing_mode\":\"stretch_width\",\"value\":\"Coarse\"},\"id\":\"4266\",\"type\":\"panel.models.widgets.CustomSelect\"},{\"attributes\":{\"axis_label\":\"Iteration\",\"coordinates\":null,\"formatter\":{\"id\":\"4236\"},\"group\":null,\"major_label_policy\":{\"id\":\"4245\"},\"ticker\":{\"id\":\"4209\"}},\"id\":\"4208\",\"type\":\"LinearAxis\"},{\"attributes\":{},\"id\":\"4202\",\"type\":\"DataRange1d\"},{\"attributes\":{\"coordinates\":null,\"group\":null,\"text\":\"Shim Values\"},\"id\":\"4199\",\"type\":\"Title\"},{\"attributes\":{},\"id\":\"4206\",\"type\":\"LinearScale\"},{\"attributes\":{\"align\":\"end\",\"button_type\":\"success\",\"icon\":null,\"label\":\"Run\",\"margin\":[5,10,5,10],\"sizing_mode\":\"stretch_width\",\"subscribed_events\":[\"button_click\"]},\"id\":\"4267\",\"type\":\"Button\"},{\"attributes\":{},\"id\":\"4209\",\"type\":\"BasicTicker\"},{\"attributes\":{\"children\":[{\"id\":\"4266\"},{\"id\":\"4267\"},{\"id\":\"4268\"},{\"id\":\"4269\"},{\"id\":\"4270\"}],\"margin\":[0,0,0,0],\"name\":\"Row00377\",\"sizing_mode\":\"stretch_width\"},\"id\":\"4265\",\"type\":\"Row\"},{\"attributes\":{\"axis_label\":\"Shim Value (% of max)\",\"coordinates\":null,\"formatter\":{\"id\":\"4236\"},\"group\":null,\"major_label_policy\":{\"id\":\"4243\"},\"ticker\":{\"id\":\"4213\"}},\"id\":\"4212\",\"type\":\"LinearAxis\"},{\"attributes\":{\"axis\":{\"id\":\"4208\"},\"coordinates\":null,\"group\":null,\"ticker\":null},\"id\":\"4211\",\"type\":\"Grid\"},{\"attributes\":{},\"id\":\"4243\",\"type\":\"AllLabels\"},{\"attributes\":{},\"id\":\"4217\",\"type\":\"WheelZoomTool\"},{\"attributes\":{\"axis\":{\"id\":\"4212\"},\"coordinates\":null,\"dimension\":1,\"group\":null,\"ticker\":null},\"id\":\"4215\",\"type\":\"Grid\"},{\"attributes\":{},\"id\":\"4213\",\"type\":\"BasicTicker\"},{\"attributes\":{},\"id\":\"4245\",\"type\":\"AllLabels\"},{\"attributes\":{},\"id\":\"4159\",\"type\":\"DataRange1d\"},{\"attributes\":{},\"id\":\"4221\",\"type\":\"SaveTool\"},{\"attributes\":{},\"id\":\"4216\",\"type\":\"PanTool\"},{\"attributes\":{\"overlay\":{\"id\":\"4222\"}},\"id\":\"4218\",\"type\":\"BoxZoomTool\"},{\"attributes\":{},\"id\":\"4219\",\"type\":\"CrosshairTool\"},{\"attributes\":{},\"id\":\"4161\",\"type\":\"DataRange1d\"},{\"attributes\":{},\"id\":\"4220\",\"type\":\"ResetTool\"},{\"attributes\":{\"axis_label\":\"Signal Sum of Squares (V\\u00b2)\",\"coordinates\":null,\"formatter\":{\"id\":\"4195\"},\"group\":null,\"major_label_policy\":{\"id\":\"4255\"},\"ticker\":{\"id\":\"4172\"}},\"id\":\"4171\",\"type\":\"LinearAxis\"},{\"attributes\":{},\"id\":\"4176\",\"type\":\"WheelZoomTool\"},{\"attributes\":{},\"id\":\"4168\",\"type\":\"BasicTicker\"},{\"attributes\":{\"axis\":{\"id\":\"4167\"},\"coordinates\":null,\"group\":null,\"ticker\":null},\"id\":\"4170\",\"type\":\"Grid\"},{\"attributes\":{\"coordinates\":null,\"group\":null,\"text\":\"Shim Quality\"},\"id\":\"4157\",\"type\":\"Title\"},{\"attributes\":{},\"id\":\"4163\",\"type\":\"LinearScale\"},{\"attributes\":{\"align\":\"end\",\"disabled\":true,\"margin\":[5,10,5,10],\"max_length\":5000,\"sizing_mode\":\"stretch_width\",\"value\":\"Idle\"},\"id\":\"4270\",\"type\":\"TextInput\"},{\"attributes\":{\"bottom_units\":\"screen\",\"coordinates\":null,\"fill_alpha\":0.5,\"fill_color\":\"lightgrey\",\"group\":null,\"left_units\":\"screen\",\"level\":\"overlay\",\"line_alpha\":1.0,\"line_color\":\"black\",\"line_dash\":[4,4],\"line_width\":2,\"right_units\":\"screen\",\"syncable\":false,\"top_units\":\"screen\"},\"id\":\"4222\",\"type\":\"BoxAnnotation\"},{\"attributes\":{},\"id\":\"4165\",\"type\":\"LinearScale\"},{\"attributes\":{\"bar_color\":\"success\",\"height\":31,\"margin\":[5,10,5,10],\"sizing_mode\":\"stretch_width\",\"value\":0},\"id\":\"4269\",\"type\":\"panel.models.widgets.Progress\"},{\"attributes\":{\"align\":\"end\",\"button_type\":\"danger\",\"icon\":null,\"label\":\"Abort\",\"margin\":[5,10,5,10],\"sizing_mode\":\"stretch_width\",\"subscribed_events\":[\"button_click\"]},\"id\":\"4268\",\"type\":\"Button\"},{\"attributes\":{\"code\":\"\\n    if (tick == 0) return +tick.toFixed(5)\\n    var SI_map = [[1e9, 'G'], [1e6, 'M'], [1e3, 'k'], [1, ''], [1e-3, 'm'], [1e-6, '\\u00b5'], [1e-9, 'n']]\\n    for (const el of SI_map) {\\n        if (tick >= el[0] || tick <= -el[0])\\n            return +(tick/el[0]).toFixed(5) + el[1]\\n    }\\n    return +(tick/SI_map[SI_map.length-1][0]).toFixed(5) + SI_map[SI_map.length-1][1]\\n    \"},\"id\":\"4236\",\"type\":\"FuncTickFormatter\"},{\"attributes\":{\"below\":[{\"id\":\"4167\"}],\"center\":[{\"id\":\"4170\"},{\"id\":\"4174\"}],\"height\":300,\"left\":[{\"id\":\"4171\"}],\"sizing_mode\":\"stretch_both\",\"title\":{\"id\":\"4157\"},\"toolbar\":{\"id\":\"4182\"},\"toolbar_location\":\"above\",\"x_range\":{\"id\":\"4159\"},\"x_scale\":{\"id\":\"4163\"},\"y_range\":{\"id\":\"4161\"},\"y_scale\":{\"id\":\"4165\"}},\"id\":\"4156\",\"subtype\":\"Figure\",\"type\":\"Plot\"},{\"attributes\":{\"code\":\"\\n    if (tick == 0) return +tick.toFixed(5)\\n    var SI_map = [[1e9, 'G'], [1e6, 'M'], [1e3, 'k'], [1, ''], [1e-3, 'm'], [1e-6, '\\u00b5'], [1e-9, 'n']]\\n    for (const el of SI_map) {\\n        if (tick >= el[0] || tick <= -el[0])\\n            return +(tick/el[0]).toFixed(5) + el[1]\\n    }\\n    return +(tick/SI_map[SI_map.length-1][0]).toFixed(5) + SI_map[SI_map.length-1][1]\\n    \"},\"id\":\"4195\",\"type\":\"FuncTickFormatter\"},{\"attributes\":{\"axis\":{\"id\":\"4171\"},\"coordinates\":null,\"dimension\":1,\"group\":null,\"ticker\":null},\"id\":\"4174\",\"type\":\"Grid\"},{\"attributes\":{},\"id\":\"4172\",\"type\":\"BasicTicker\"},{\"attributes\":{\"axis_label\":\"Iteration\",\"coordinates\":null,\"formatter\":{\"id\":\"4195\"},\"group\":null,\"major_label_policy\":{\"id\":\"4257\"},\"ticker\":{\"id\":\"4168\"}},\"id\":\"4167\",\"type\":\"LinearAxis\"},{\"attributes\":{},\"id\":\"4180\",\"type\":\"SaveTool\"},{\"attributes\":{},\"id\":\"4175\",\"type\":\"PanTool\"},{\"attributes\":{\"overlay\":{\"id\":\"4181\"}},\"id\":\"4177\",\"type\":\"BoxZoomTool\"},{\"attributes\":{},\"id\":\"4178\",\"type\":\"CrosshairTool\"},{\"attributes\":{},\"id\":\"4179\",\"type\":\"ResetTool\"}],\"root_ids\":[\"4239\",\"4307\"]},\"title\":\"Bokeh Application\",\"version\":\"2.4.3\"}};\n",
       "    var render_items = [{\"docid\":\"9ce38eea-813d-4499-8d09-8b7ff3c349a8\",\"root_ids\":[\"4239\"],\"roots\":{\"4239\":\"b2ab9558-c6a5-4fdc-946d-ac78b02dfa1e\"}}];\n",
       "    root.Bokeh.embed.embed_items_notebook(docs_json, render_items);\n",
       "  }\n",
       "  if (root.Bokeh !== undefined && root.Bokeh.Panel !== undefined) {\n",
       "    embed_document(root);\n",
       "  } else {\n",
       "    var attempts = 0;\n",
       "    var timer = setInterval(function(root) {\n",
       "      if (root.Bokeh !== undefined && root.Bokeh.Panel !== undefined) {\n",
       "        clearInterval(timer);\n",
       "        embed_document(root);\n",
       "      } else if (document.readyState == \"complete\") {\n",
       "        attempts++;\n",
       "        if (attempts > 200) {\n",
       "          clearInterval(timer);\n",
       "          console.log(\"Bokeh: ERROR: Unable to run BokehJS code because BokehJS library is missing\");\n",
       "        }\n",
       "      }\n",
       "    }, 25, root)\n",
       "  }\n",
       "})(window);</script>"
      ],
      "text/plain": [
       "Column(sizing_mode='stretch_both')\n",
       "    [0] Column(sizing_mode='stretch_both')\n",
       "        [0] Bokeh(Figure)\n",
       "        [1] Bokeh(Figure)\n",
       "    [1] Row(sizing_mode='stretch_width')\n",
       "        [0] Select(height=31, options=['Quick', 'Fine', ...], sizing_mode='stretch_width', value='Coarse')\n",
       "        [1] Button(align='end', button_type='success', name='Run', sizing_mode='stretch_width')\n",
       "        [2] Button(align='end', button_type='danger', name='Abort', sizing_mode='stretch_width')\n",
       "        [3] Progress(height=31, sizing_mode='stretch_width', value=0)\n",
       "        [4] TextInput(align='end', disabled=True, sizing_mode='stretch_width', value='Idle')"
      ]
     },
     "execution_count": 26,
     "metadata": {
      "application/vnd.holoviews_exec.v0+json": {
       "id": "4239"
      }
     },
     "output_type": "execute_result"
    }
   ],
   "source": [
    "from Autoshim import AutoshimApp # from dashboards-inline directory that was added to sys.path\n",
    "\n",
    "autoshim = AutoshimApp(\n",
    "    output_dir=LAB_DIR,\n",
    "    override_pars=dict(\n",
    "        f=frequency, # use value of frequency from the user input\n",
    "        a_90=rf_amp, # use rf amplitude from the user input\n",
    "        t_90=32e-6,\n",
    "    )\n",
    ")\n",
    "autoshim.main()"
   ]
  },
  {
   "cell_type": "markdown",
   "id": "ab2974f6-1e45-42a0-8675-c21fb2056f0e",
   "metadata": {
    "tags": []
   },
   "source": [
    "#### **Step Six: Final Check**\n",
    "Rerun the FID experiment using the tool below and make note of how the amplitude and decay of the signal has changed compared to without shims in **Step Three**. With a good shim there should still be significant signal at 5 ms."
   ]
  },
  {
   "cell_type": "code",
   "execution_count": 27,
   "id": "e30931af-ccc1-4907-b8a7-bc80515861cc",
   "metadata": {
    "jupyter": {
     "source_hidden": true
    },
    "tags": []
   },
   "outputs": [
    {
     "data": {},
     "metadata": {},
     "output_type": "display_data"
    },
    {
     "data": {
      "application/vnd.holoviews_exec.v0+json": "",
      "text/html": [
       "<div id='4530'>\n",
       "  <div class=\"bk-root\" id=\"4f6c75fb-2e55-412a-95bc-3c1a496ab5d3\" data-root-id=\"4530\"></div>\n",
       "</div>\n",
       "<script type=\"application/javascript\">(function(root) {\n",
       "  function embed_document(root) {\n",
       "    var docs_json = {\"927099e8-dca4-46e0-a634-2e0f623c1cd7\":{\"defs\":[{\"extends\":null,\"module\":null,\"name\":\"ReactiveHTML1\",\"overrides\":[],\"properties\":[]},{\"extends\":null,\"module\":null,\"name\":\"FlexBox1\",\"overrides\":[],\"properties\":[{\"default\":\"flex-start\",\"kind\":null,\"name\":\"align_content\"},{\"default\":\"flex-start\",\"kind\":null,\"name\":\"align_items\"},{\"default\":\"row\",\"kind\":null,\"name\":\"flex_direction\"},{\"default\":\"wrap\",\"kind\":null,\"name\":\"flex_wrap\"},{\"default\":\"flex-start\",\"kind\":null,\"name\":\"justify_content\"}]},{\"extends\":null,\"module\":null,\"name\":\"GridStack1\",\"overrides\":[],\"properties\":[{\"default\":\"warn\",\"kind\":null,\"name\":\"mode\"},{\"default\":null,\"kind\":null,\"name\":\"ncols\"},{\"default\":null,\"kind\":null,\"name\":\"nrows\"},{\"default\":true,\"kind\":null,\"name\":\"allow_resize\"},{\"default\":true,\"kind\":null,\"name\":\"allow_drag\"},{\"default\":[],\"kind\":null,\"name\":\"state\"}]},{\"extends\":null,\"module\":null,\"name\":\"click1\",\"overrides\":[],\"properties\":[{\"default\":\"\",\"kind\":null,\"name\":\"terminal_output\"},{\"default\":\"\",\"kind\":null,\"name\":\"debug_name\"},{\"default\":0,\"kind\":null,\"name\":\"clears\"}]},{\"extends\":null,\"module\":null,\"name\":\"NotificationAreaBase1\",\"overrides\":[],\"properties\":[{\"default\":\"bottom-right\",\"kind\":null,\"name\":\"position\"},{\"default\":0,\"kind\":null,\"name\":\"_clear\"}]},{\"extends\":null,\"module\":null,\"name\":\"NotificationArea1\",\"overrides\":[],\"properties\":[{\"default\":[],\"kind\":null,\"name\":\"notifications\"},{\"default\":\"bottom-right\",\"kind\":null,\"name\":\"position\"},{\"default\":0,\"kind\":null,\"name\":\"_clear\"},{\"default\":[{\"background\":\"#ffc107\",\"icon\":{\"className\":\"fas fa-exclamation-triangle\",\"color\":\"white\",\"tagName\":\"i\"},\"type\":\"warning\"},{\"background\":\"#007bff\",\"icon\":{\"className\":\"fas fa-info-circle\",\"color\":\"white\",\"tagName\":\"i\"},\"type\":\"info\"}],\"kind\":null,\"name\":\"types\"}]},{\"extends\":null,\"module\":null,\"name\":\"Notification\",\"overrides\":[],\"properties\":[{\"default\":null,\"kind\":null,\"name\":\"background\"},{\"default\":3000,\"kind\":null,\"name\":\"duration\"},{\"default\":null,\"kind\":null,\"name\":\"icon\"},{\"default\":\"\",\"kind\":null,\"name\":\"message\"},{\"default\":null,\"kind\":null,\"name\":\"notification_type\"},{\"default\":false,\"kind\":null,\"name\":\"_destroyed\"}]},{\"extends\":null,\"module\":null,\"name\":\"TemplateActions1\",\"overrides\":[],\"properties\":[{\"default\":0,\"kind\":null,\"name\":\"open_modal\"},{\"default\":0,\"kind\":null,\"name\":\"close_modal\"}]},{\"extends\":null,\"module\":null,\"name\":\"MaterialTemplateActions1\",\"overrides\":[],\"properties\":[{\"default\":0,\"kind\":null,\"name\":\"open_modal\"},{\"default\":0,\"kind\":null,\"name\":\"close_modal\"}]}],\"roots\":{\"references\":[{\"attributes\":{\"callback\":null,\"formatters\":{\"@imag\":{\"id\":\"4440\"}},\"mode\":\"vline\",\"renderers\":[{\"id\":\"4427\"}],\"tooltips\":[[\"imag\",\"@imag{custom}\"]]},\"id\":\"4443\",\"type\":\"HoverTool\"},{\"attributes\":{\"callback\":null,\"formatters\":{\"@real\":{\"id\":\"4440\"}},\"mode\":\"vline\",\"renderers\":[{\"id\":\"4409\"}],\"tooltips\":[[\"real\",\"@real{custom}\"]]},\"id\":\"4441\",\"type\":\"HoverTool\"},{\"attributes\":{\"code\":\"\\n    if (tick == 0) return +tick.toFixed(5)\\n    var SI_map = [[1e9, 'G'], [1e6, 'M'], [1e3, 'k'], [1, ''], [1e-3, 'm'], [1e-6, '\\u00b5'], [1e-9, 'n']]\\n    for (const el of SI_map) {\\n        if (tick >= el[0] || tick <= -el[0])\\n            return +(tick/el[0]).toFixed(5) + el[1]\\n    }\\n    return +(tick/SI_map[SI_map.length-1][0]).toFixed(5) + SI_map[SI_map.length-1][1]\\n    \"},\"id\":\"4446\",\"type\":\"FuncTickFormatter\"},{\"attributes\":{\"callback\":null,\"formatters\":{\"@imag\":{\"id\":\"4521\"}},\"mode\":\"vline\",\"renderers\":[{\"id\":\"4508\"}],\"tooltips\":[[\"imag\",\"@imag{custom}\"]]},\"id\":\"4524\",\"type\":\"HoverTool\"},{\"attributes\":{},\"id\":\"4465\",\"type\":\"BasicTicker\"},{\"attributes\":{\"coordinates\":null,\"group\":null,\"text\":\"Spectrum\"},\"id\":\"4450\",\"type\":\"Title\"},{\"attributes\":{},\"id\":\"4414\",\"type\":\"AllLabels\"},{\"attributes\":{\"callback\":null,\"formatters\":{\"@real\":{\"id\":\"4521\"}},\"mode\":\"vline\",\"renderers\":[{\"id\":\"4490\"}],\"tooltips\":[[\"real\",\"@real{custom}\"]]},\"id\":\"4522\",\"type\":\"HoverTool\"},{\"attributes\":{\"axis\":{\"id\":\"4464\"},\"coordinates\":null,\"dimension\":1,\"group\":null,\"ticker\":null},\"id\":\"4467\",\"type\":\"Grid\"},{\"attributes\":{\"below\":[{\"id\":\"4460\"}],\"center\":[{\"id\":\"4463\"},{\"id\":\"4467\"},{\"id\":\"4502\"}],\"left\":[{\"id\":\"4464\"}],\"renderers\":[{\"id\":\"4490\"},{\"id\":\"4508\"}],\"sizing_mode\":\"stretch_both\",\"title\":{\"id\":\"4450\"},\"toolbar\":{\"id\":\"4475\"},\"toolbar_location\":\"above\",\"x_range\":{\"id\":\"4452\"},\"x_scale\":{\"id\":\"4456\"},\"y_range\":{\"id\":\"4454\"},\"y_scale\":{\"id\":\"4458\"}},\"id\":\"4449\",\"subtype\":\"Figure\",\"type\":\"Plot\"},{\"attributes\":{\"code\":\"\\n    if (tick == 0) return +tick.toFixed(5)\\n    var SI_map = [[1e9, 'G'], [1e6, 'M'], [1e3, 'k'], [1, ''], [1e-3, 'm'], [1e-6, '\\u00b5'], [1e-9, 'n']]\\n    for (const el of SI_map) {\\n        if (tick >= el[0] || tick <= -el[0])\\n            return +(tick/el[0]).toFixed(5) + el[1]\\n    }\\n    return +(tick/SI_map[SI_map.length-1][0]).toFixed(5) + SI_map[SI_map.length-1][1]\\n    \"},\"id\":\"4527\",\"type\":\"FuncTickFormatter\"},{\"attributes\":{},\"id\":\"4458\",\"type\":\"LinearScale\"},{\"attributes\":{},\"id\":\"4452\",\"type\":\"DataRange1d\"},{\"attributes\":{},\"id\":\"4417\",\"type\":\"AllLabels\"},{\"attributes\":{},\"id\":\"4454\",\"type\":\"DataRange1d\"},{\"attributes\":{},\"id\":\"4461\",\"type\":\"BasicTicker\"},{\"attributes\":{\"axis\":{\"id\":\"4460\"},\"coordinates\":null,\"group\":null,\"ticker\":null},\"id\":\"4463\",\"type\":\"Grid\"},{\"attributes\":{},\"id\":\"4456\",\"type\":\"LinearScale\"},{\"attributes\":{\"axis_label\":\"relative frequency (Hz)\",\"coordinates\":null,\"formatter\":{\"id\":\"4527\"},\"group\":null,\"major_label_policy\":{\"id\":\"4498\"},\"ticker\":{\"id\":\"4461\"}},\"id\":\"4460\",\"type\":\"LinearAxis\"},{\"attributes\":{\"children\":[{\"id\":\"4565\"},{\"id\":\"4566\"},{\"id\":\"4567\"},{\"id\":\"4568\"}],\"margin\":[0,0,0,0],\"name\":\"Row00392\",\"sizing_mode\":\"stretch_width\"},\"id\":\"4564\",\"type\":\"Row\"},{\"attributes\":{},\"id\":\"4473\",\"type\":\"SaveTool\"},{\"attributes\":{},\"id\":\"4418\",\"type\":\"UnionRenderers\"},{\"attributes\":{\"bottom_units\":\"screen\",\"coordinates\":null,\"fill_alpha\":0.5,\"fill_color\":\"lightgrey\",\"group\":null,\"left_units\":\"screen\",\"level\":\"overlay\",\"line_alpha\":1.0,\"line_color\":\"black\",\"line_dash\":[4,4],\"line_width\":2,\"right_units\":\"screen\",\"syncable\":false,\"top_units\":\"screen\"},\"id\":\"4474\",\"type\":\"BoxAnnotation\"},{\"attributes\":{\"line_alpha\":0.1,\"line_color\":\"blue\",\"x\":{\"field\":\"x\"},\"y\":{\"field\":\"real\"}},\"id\":\"4488\",\"type\":\"Line\"},{\"attributes\":{},\"id\":\"4419\",\"type\":\"Selection\"},{\"attributes\":{\"children\":[{\"id\":\"4531\"},{\"id\":\"4564\"}],\"margin\":[0,0,0,0],\"name\":\"Column00400\",\"sizing_mode\":\"stretch_both\"},\"id\":\"4530\",\"type\":\"Column\"},{\"attributes\":{\"children\":[{\"id\":\"4368\"},{\"id\":\"4449\"}],\"margin\":[0,0,0,0],\"name\":\"Row00399\",\"sizing_mode\":\"stretch_both\"},\"id\":\"4531\",\"type\":\"Row\"},{\"attributes\":{\"align\":\"end\",\"button_type\":\"success\",\"icon\":null,\"label\":\"Run\",\"margin\":[5,10,5,10],\"sizing_mode\":\"stretch_width\",\"subscribed_events\":[\"button_click\"]},\"id\":\"4565\",\"type\":\"Button\"},{\"attributes\":{\"align\":\"end\",\"button_type\":\"danger\",\"icon\":null,\"label\":\"Abort\",\"margin\":[5,10,5,10],\"sizing_mode\":\"stretch_width\",\"subscribed_events\":[\"button_click\"]},\"id\":\"4566\",\"type\":\"Button\"},{\"attributes\":{\"bar_color\":\"success\",\"height\":31,\"margin\":[5,10,5,10],\"sizing_mode\":\"stretch_width\",\"value\":0},\"id\":\"4567\",\"type\":\"panel.models.widgets.Progress\"},{\"attributes\":{\"line_alpha\":0.2,\"line_color\":\"firebrick\",\"x\":{\"field\":\"x\"},\"y\":{\"field\":\"imag\"}},\"id\":\"4507\",\"type\":\"Line\"},{\"attributes\":{\"line_alpha\":0.1,\"line_color\":\"firebrick\",\"x\":{\"field\":\"x\"},\"y\":{\"field\":\"imag\"}},\"id\":\"4506\",\"type\":\"Line\"},{\"attributes\":{},\"id\":\"4468\",\"type\":\"PanTool\"},{\"attributes\":{\"coordinates\":null,\"data_source\":{\"id\":\"4485\"},\"glyph\":{\"id\":\"4487\"},\"group\":null,\"hover_glyph\":null,\"muted_glyph\":{\"id\":\"4489\"},\"name\":\"real\",\"nonselection_glyph\":{\"id\":\"4488\"},\"view\":{\"id\":\"4491\"}},\"id\":\"4490\",\"type\":\"GlyphRenderer\"},{\"attributes\":{},\"id\":\"4471\",\"type\":\"CrosshairTool\"},{\"attributes\":{\"line_color\":\"blue\",\"x\":{\"field\":\"x\"},\"y\":{\"field\":\"real\"}},\"id\":\"4487\",\"type\":\"Line\"},{\"attributes\":{\"active_drag\":{\"id\":\"4468\"},\"active_scroll\":null,\"logo\":null,\"tools\":[{\"id\":\"4468\"},{\"id\":\"4469\"},{\"id\":\"4470\"},{\"id\":\"4471\"},{\"id\":\"4472\"},{\"id\":\"4473\"},{\"id\":\"4522\"},{\"id\":\"4524\"}]},\"id\":\"4475\",\"type\":\"Toolbar\"},{\"attributes\":{\"data\":{\"imag\":{\"__ndarray__\":\"AAAAAA==\",\"dtype\":\"float32\",\"order\":\"little\",\"shape\":[1]},\"real\":{\"__ndarray__\":\"AAAAAA==\",\"dtype\":\"float32\",\"order\":\"little\",\"shape\":[1]},\"x\":{\"__ndarray__\":\"AAAAAAAAAAA=\",\"dtype\":\"float64\",\"order\":\"little\",\"shape\":[1]}},\"selected\":{\"id\":\"4500\"},\"selection_policy\":{\"id\":\"4499\"}},\"id\":\"4485\",\"type\":\"ColumnDataSource\"},{\"attributes\":{\"source\":{\"id\":\"4485\"}},\"id\":\"4509\",\"type\":\"CDSView\"},{\"attributes\":{},\"id\":\"4472\",\"type\":\"ResetTool\"},{\"attributes\":{\"line_color\":\"firebrick\",\"x\":{\"field\":\"x\"},\"y\":{\"field\":\"imag\"}},\"id\":\"4505\",\"type\":\"Line\"},{\"attributes\":{\"label\":{\"value\":\"Real\"},\"renderers\":[{\"id\":\"4490\"}]},\"id\":\"4503\",\"type\":\"LegendItem\"},{\"attributes\":{\"coordinates\":null,\"data_source\":{\"id\":\"4485\"},\"glyph\":{\"id\":\"4505\"},\"group\":null,\"hover_glyph\":null,\"muted_glyph\":{\"id\":\"4507\"},\"name\":\"imag\",\"nonselection_glyph\":{\"id\":\"4506\"},\"view\":{\"id\":\"4509\"}},\"id\":\"4508\",\"type\":\"GlyphRenderer\"},{\"attributes\":{\"line_alpha\":0.2,\"line_color\":\"blue\",\"x\":{\"field\":\"x\"},\"y\":{\"field\":\"real\"}},\"id\":\"4489\",\"type\":\"Line\"},{\"attributes\":{\"source\":{\"id\":\"4485\"}},\"id\":\"4491\",\"type\":\"CDSView\"},{\"attributes\":{\"below\":[{\"id\":\"4379\"}],\"center\":[{\"id\":\"4382\"},{\"id\":\"4386\"},{\"id\":\"4421\"}],\"left\":[{\"id\":\"4383\"}],\"renderers\":[{\"id\":\"4409\"},{\"id\":\"4427\"}],\"sizing_mode\":\"stretch_both\",\"title\":{\"id\":\"4369\"},\"toolbar\":{\"id\":\"4394\"},\"toolbar_location\":\"above\",\"x_range\":{\"id\":\"4371\"},\"x_scale\":{\"id\":\"4375\"},\"y_range\":{\"id\":\"4373\"},\"y_scale\":{\"id\":\"4377\"}},\"id\":\"4368\",\"subtype\":\"Figure\",\"type\":\"Plot\"},{\"attributes\":{\"coordinates\":null,\"group\":null,\"items\":[{\"id\":\"4503\"},{\"id\":\"4520\"}]},\"id\":\"4502\",\"type\":\"Legend\"},{\"attributes\":{\"data\":{\"imag\":{\"__ndarray__\":\"AAAAAA==\",\"dtype\":\"float32\",\"order\":\"little\",\"shape\":[1]},\"real\":{\"__ndarray__\":\"AAAAAA==\",\"dtype\":\"float32\",\"order\":\"little\",\"shape\":[1]},\"x\":{\"__ndarray__\":\"AAAAAAAAAAA=\",\"dtype\":\"float64\",\"order\":\"little\",\"shape\":[1]}},\"selected\":{\"id\":\"4419\"},\"selection_policy\":{\"id\":\"4418\"}},\"id\":\"4404\",\"type\":\"ColumnDataSource\"},{\"attributes\":{\"label\":{\"value\":\"Imag\"},\"renderers\":[{\"id\":\"4427\"}]},\"id\":\"4439\",\"type\":\"LegendItem\"},{\"attributes\":{\"coordinates\":null,\"group\":null,\"text\":\"Signal\"},\"id\":\"4369\",\"type\":\"Title\"},{\"attributes\":{\"align\":\"end\",\"disabled\":true,\"margin\":[5,10,5,10],\"max_length\":5000,\"sizing_mode\":\"stretch_width\",\"value\":\"Idle\"},\"id\":\"4568\",\"type\":\"TextInput\"},{\"attributes\":{},\"id\":\"4371\",\"type\":\"DataRange1d\"},{\"attributes\":{},\"id\":\"4373\",\"type\":\"DataRange1d\"},{\"attributes\":{},\"id\":\"4377\",\"type\":\"LinearScale\"},{\"attributes\":{},\"id\":\"4380\",\"type\":\"BasicTicker\"},{\"attributes\":{\"client_comm_id\":\"15c26bac1e0a467c81e8339fa208684d\",\"comm_id\":\"2f87e6c4f88f4f839809b270aff80ae5\",\"plot_id\":\"4530\"},\"id\":\"4617\",\"type\":\"panel.models.comm_manager.CommManager\"},{\"attributes\":{\"axis\":{\"id\":\"4379\"},\"coordinates\":null,\"group\":null,\"ticker\":null},\"id\":\"4382\",\"type\":\"Grid\"},{\"attributes\":{},\"id\":\"4375\",\"type\":\"LinearScale\"},{\"attributes\":{\"axis_label\":\"time (s)\",\"coordinates\":null,\"formatter\":{\"id\":\"4446\"},\"group\":null,\"major_label_policy\":{\"id\":\"4417\"},\"ticker\":{\"id\":\"4380\"}},\"id\":\"4379\",\"type\":\"LinearAxis\"},{\"attributes\":{},\"id\":\"4388\",\"type\":\"WheelZoomTool\"},{\"attributes\":{\"axis_label\":\"signal (V)\",\"coordinates\":null,\"formatter\":{\"id\":\"4446\"},\"group\":null,\"major_label_policy\":{\"id\":\"4414\"},\"ticker\":{\"id\":\"4384\"}},\"id\":\"4383\",\"type\":\"LinearAxis\"},{\"attributes\":{\"axis\":{\"id\":\"4383\"},\"coordinates\":null,\"dimension\":1,\"group\":null,\"ticker\":null},\"id\":\"4386\",\"type\":\"Grid\"},{\"attributes\":{},\"id\":\"4384\",\"type\":\"BasicTicker\"},{\"attributes\":{\"label\":{\"value\":\"Imag\"},\"renderers\":[{\"id\":\"4508\"}]},\"id\":\"4520\",\"type\":\"LegendItem\"},{\"attributes\":{},\"id\":\"4392\",\"type\":\"SaveTool\"},{\"attributes\":{},\"id\":\"4387\",\"type\":\"PanTool\"},{\"attributes\":{\"overlay\":{\"id\":\"4393\"}},\"id\":\"4389\",\"type\":\"BoxZoomTool\"},{\"attributes\":{},\"id\":\"4495\",\"type\":\"AllLabels\"},{\"attributes\":{},\"id\":\"4390\",\"type\":\"CrosshairTool\"},{\"attributes\":{},\"id\":\"4391\",\"type\":\"ResetTool\"},{\"attributes\":{},\"id\":\"4498\",\"type\":\"AllLabels\"},{\"attributes\":{\"bottom_units\":\"screen\",\"coordinates\":null,\"fill_alpha\":0.5,\"fill_color\":\"lightgrey\",\"group\":null,\"left_units\":\"screen\",\"level\":\"overlay\",\"line_alpha\":1.0,\"line_color\":\"black\",\"line_dash\":[4,4],\"line_width\":2,\"right_units\":\"screen\",\"syncable\":false,\"top_units\":\"screen\"},\"id\":\"4393\",\"type\":\"BoxAnnotation\"},{\"attributes\":{\"line_alpha\":0.1,\"line_color\":\"blue\",\"x\":{\"field\":\"x\"},\"y\":{\"field\":\"real\"}},\"id\":\"4407\",\"type\":\"Line\"},{\"attributes\":{},\"id\":\"4499\",\"type\":\"UnionRenderers\"},{\"attributes\":{},\"id\":\"4500\",\"type\":\"Selection\"},{\"attributes\":{\"coordinates\":null,\"data_source\":{\"id\":\"4404\"},\"glyph\":{\"id\":\"4406\"},\"group\":null,\"hover_glyph\":null,\"muted_glyph\":{\"id\":\"4408\"},\"name\":\"real\",\"nonselection_glyph\":{\"id\":\"4407\"},\"view\":{\"id\":\"4410\"}},\"id\":\"4409\",\"type\":\"GlyphRenderer\"},{\"attributes\":{\"line_color\":\"blue\",\"x\":{\"field\":\"x\"},\"y\":{\"field\":\"real\"}},\"id\":\"4406\",\"type\":\"Line\"},{\"attributes\":{\"axis_label\":\"spectral density (V/kHz)\",\"coordinates\":null,\"formatter\":{\"id\":\"4527\"},\"group\":null,\"major_label_policy\":{\"id\":\"4495\"},\"ticker\":{\"id\":\"4465\"}},\"id\":\"4464\",\"type\":\"LinearAxis\"},{\"attributes\":{\"active_drag\":{\"id\":\"4387\"},\"active_scroll\":null,\"logo\":null,\"tools\":[{\"id\":\"4387\"},{\"id\":\"4388\"},{\"id\":\"4389\"},{\"id\":\"4390\"},{\"id\":\"4391\"},{\"id\":\"4392\"},{\"id\":\"4441\"},{\"id\":\"4443\"}]},\"id\":\"4394\",\"type\":\"Toolbar\"},{\"attributes\":{\"line_alpha\":0.1,\"line_color\":\"firebrick\",\"x\":{\"field\":\"x\"},\"y\":{\"field\":\"imag\"}},\"id\":\"4425\",\"type\":\"Line\"},{\"attributes\":{\"coordinates\":null,\"data_source\":{\"id\":\"4404\"},\"glyph\":{\"id\":\"4424\"},\"group\":null,\"hover_glyph\":null,\"muted_glyph\":{\"id\":\"4426\"},\"name\":\"imag\",\"nonselection_glyph\":{\"id\":\"4425\"},\"view\":{\"id\":\"4428\"}},\"id\":\"4427\",\"type\":\"GlyphRenderer\"},{\"attributes\":{\"code\":\"\\n    if (value == 0) return +value.toFixed(3)\\n    var SI_map = [[1e9, 'G'], [1e6, 'M'], [1e3, 'k'], [1, ''], [1e-3, 'm'], [1e-6, '\\u00b5'], [1e-9, 'n']]\\n    for (const el of SI_map) {\\n        if (value >= el[0] || value <= -el[0])\\n            return +(value/el[0]).toFixed(3) + el[1]\\n    }\\n    return +(value/SI_map[SI_map.length-1][0]).toFixed(3) + SI_map[SI_map.length-1][1]\\n    \"},\"id\":\"4521\",\"type\":\"CustomJSHover\"},{\"attributes\":{\"overlay\":{\"id\":\"4474\"}},\"id\":\"4470\",\"type\":\"BoxZoomTool\"},{\"attributes\":{\"line_color\":\"firebrick\",\"x\":{\"field\":\"x\"},\"y\":{\"field\":\"imag\"}},\"id\":\"4424\",\"type\":\"Line\"},{\"attributes\":{\"line_alpha\":0.2,\"line_color\":\"firebrick\",\"x\":{\"field\":\"x\"},\"y\":{\"field\":\"imag\"}},\"id\":\"4426\",\"type\":\"Line\"},{\"attributes\":{\"label\":{\"value\":\"Real\"},\"renderers\":[{\"id\":\"4409\"}]},\"id\":\"4422\",\"type\":\"LegendItem\"},{\"attributes\":{\"line_alpha\":0.2,\"line_color\":\"blue\",\"x\":{\"field\":\"x\"},\"y\":{\"field\":\"real\"}},\"id\":\"4408\",\"type\":\"Line\"},{\"attributes\":{\"source\":{\"id\":\"4404\"}},\"id\":\"4428\",\"type\":\"CDSView\"},{\"attributes\":{},\"id\":\"4469\",\"type\":\"WheelZoomTool\"},{\"attributes\":{\"source\":{\"id\":\"4404\"}},\"id\":\"4410\",\"type\":\"CDSView\"},{\"attributes\":{\"code\":\"\\n    if (value == 0) return +value.toFixed(3)\\n    var SI_map = [[1e9, 'G'], [1e6, 'M'], [1e3, 'k'], [1, ''], [1e-3, 'm'], [1e-6, '\\u00b5'], [1e-9, 'n']]\\n    for (const el of SI_map) {\\n        if (value >= el[0] || value <= -el[0])\\n            return +(value/el[0]).toFixed(3) + el[1]\\n    }\\n    return +(value/SI_map[SI_map.length-1][0]).toFixed(3) + SI_map[SI_map.length-1][1]\\n    \"},\"id\":\"4440\",\"type\":\"CustomJSHover\"},{\"attributes\":{\"coordinates\":null,\"group\":null,\"items\":[{\"id\":\"4422\"},{\"id\":\"4439\"}]},\"id\":\"4421\",\"type\":\"Legend\"}],\"root_ids\":[\"4530\",\"4617\"]},\"title\":\"Bokeh Application\",\"version\":\"2.4.3\"}};\n",
       "    var render_items = [{\"docid\":\"927099e8-dca4-46e0-a634-2e0f623c1cd7\",\"root_ids\":[\"4530\"],\"roots\":{\"4530\":\"4f6c75fb-2e55-412a-95bc-3c1a496ab5d3\"}}];\n",
       "    root.Bokeh.embed.embed_items_notebook(docs_json, render_items);\n",
       "  }\n",
       "  if (root.Bokeh !== undefined && root.Bokeh.Panel !== undefined) {\n",
       "    embed_document(root);\n",
       "  } else {\n",
       "    var attempts = 0;\n",
       "    var timer = setInterval(function(root) {\n",
       "      if (root.Bokeh !== undefined && root.Bokeh.Panel !== undefined) {\n",
       "        clearInterval(timer);\n",
       "        embed_document(root);\n",
       "      } else if (document.readyState == \"complete\") {\n",
       "        attempts++;\n",
       "        if (attempts > 200) {\n",
       "          clearInterval(timer);\n",
       "          console.log(\"Bokeh: ERROR: Unable to run BokehJS code because BokehJS library is missing\");\n",
       "        }\n",
       "      }\n",
       "    }, 25, root)\n",
       "  }\n",
       "})(window);</script>"
      ],
      "text/plain": [
       "Column(sizing_mode='stretch_both')\n",
       "    [0] Row(sizing_mode='stretch_both')\n",
       "        [0] Bokeh(Figure)\n",
       "        [1] Bokeh(Figure)\n",
       "    [1] Row(sizing_mode='stretch_width')\n",
       "        [0] Button(align='end', button_type='success', name='Run', sizing_mode='stretch_width')\n",
       "        [1] Button(align='end', button_type='danger', name='Abort', sizing_mode='stretch_width')\n",
       "        [2] Progress(height=31, sizing_mode='stretch_width', value=0)\n",
       "        [3] TextInput(align='end', disabled=True, sizing_mode='stretch_width', value='Idle')"
      ]
     },
     "execution_count": 27,
     "metadata": {
      "application/vnd.holoviews_exec.v0+json": {
       "id": "4530"
      }
     },
     "output_type": "execute_result"
    }
   ],
   "source": [
    "# create FID experiment using user shims, frequency, and RF amplitude\n",
    "fid2 = FIDApp(\n",
    "    override_par_files=[\n",
    "        SHIM_FILE\n",
    "    ],\n",
    "    override_pars=dict(\n",
    "        f=frequency, # use value of frequency from the user input\n",
    "        a_90=rf_amp, # use rf amplitude from the user input\n",
    "        t_90=32e-6,\n",
    "        n_scans=1,\n",
    "        n_samples=10000,\n",
    "        t_dw=0.5e-6,\n",
    "        t_acqdelay=50e-6,\n",
    "        t_end=0.5\n",
    "    )\n",
    ")\n",
    "fid2.main()"
   ]
  },
  {
   "cell_type": "code",
   "execution_count": null,
   "id": "535fcf34-117a-480d-97a2-7233fdefac81",
   "metadata": {
    "tags": []
   },
   "outputs": [],
   "source": []
  }
 ],
 "metadata": {
  "kernelspec": {
   "display_name": "Python 3 (ipykernel)",
   "language": "python",
   "name": "python3"
  },
  "language_info": {
   "codemirror_mode": {
    "name": "ipython",
    "version": 3
   },
   "file_extension": ".py",
   "mimetype": "text/x-python",
   "name": "python",
   "nbconvert_exporter": "python",
   "pygments_lexer": "ipython3",
   "version": "3.10.7"
  },
  "widgets": {
   "application/vnd.jupyter.widget-state+json": {
    "state": {},
    "version_major": 2,
    "version_minor": 0
   }
  }
 },
 "nbformat": 4,
 "nbformat_minor": 5
}
