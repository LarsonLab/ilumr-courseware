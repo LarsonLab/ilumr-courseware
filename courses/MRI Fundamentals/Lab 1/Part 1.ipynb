{
 "cells": [
  {
   "cell_type": "markdown",
   "id": "d71971d6-d6ef-469e-912e-150e28645ac8",
   "metadata": {
    "tags": []
   },
   "source": [
    "# **LAB ONE: NMR SIGNAL**"
   ]
  },
  {
   "cell_type": "markdown",
   "id": "603d45be-d4a6-43bf-a453-11b7c2157d27",
   "metadata": {},
   "source": [
    "Brief description of lab"
   ]
  },
  {
   "cell_type": "markdown",
   "id": "588993ce-8c49-4f86-a33b-a1767e54eae6",
   "metadata": {},
   "source": [
    "#### Learning Objectives:\n",
    "- Learn about magnetic fields in NMR\n",
    "- Learn what NMR is\n",
    "- Learn how to excite an NMR signal in a sample\n",
    "- Learn how to measure the NMR signal\n",
    "- Learn what causes NMR signal decay\n",
    "- Learn how to optimise amplitude and duration\n",
    "- Learn what an NMR spin echo is\n",
    "\n",
    "#### Assumed Knowledge:\n",
    "- LC Resonance \n",
    "- Solenoid Coils\n",
    "- Fourier Transform\n",
    "- Angular Momentum \n",
    "- Complex Numbers\n"
   ]
  },
  {
   "cell_type": "markdown",
   "id": "cddb0019-74db-4e0b-828d-bc79417a2c01",
   "metadata": {
    "tags": []
   },
   "source": [
    "-------------------------------------------------------------------------------------------------------------------------------------------------------\n",
    "#### **Setup Task:**\n",
    "\n",
    "To initialise this notebook, edit the cell above to set `LAB_USER_NAME` to your name, then click **Run->Run All Cells** in the top menu bar  \n",
    "\n",
    "\n"
   ]
  },
  {
   "cell_type": "code",
   "execution_count": null,
   "id": "12fe24a6-7a3c-4981-bd40-2c7c7fd390bf",
   "metadata": {
    "tags": []
   },
   "outputs": [],
   "source": [
    "LAB_USER_NAME = 'REPLACE_ME'"
   ]
  },
  {
   "cell_type": "code",
   "execution_count": null,
   "id": "ec29cfe5-e2c8-4485-8877-f43bb0d496fa",
   "metadata": {
    "jupyter": {
     "source_hidden": true
    },
    "tags": []
   },
   "outputs": [],
   "source": [
    "import panel as pn\n",
    "pn.extension()\n",
    "import sys\n",
    "import os\n",
    "sys.path.append('../../../dashboards-inline')\n",
    "LAB_DIR = os.path.join('/home/data/', LAB_USER_NAME)\n",
    "os.makedirs(LAB_DIR, exist_ok=True)\n",
    "print('Data will be saved to', LAB_DIR)"
   ]
  },
  {
   "cell_type": "markdown",
   "id": "104123fb-dc17-45f6-8f1e-43b20170b12c",
   "metadata": {},
   "source": [
    "-------------------------------------------------------------------------------------------------------------------------------------------------------"
   ]
  },
  {
   "cell_type": "markdown",
   "id": "40b20454-32c9-4f3a-97e2-a08b18743457",
   "metadata": {
    "tags": []
   },
   "source": [
    "## 1. Introduction to Nuclear Magnetic Resonance\n",
    "### 1.1 Theory\n",
    "\n",
    "<figure style=\"float: right;\">\n",
    "<img src=\"Images/PrecessionDiagram.png\" width=\"200\">\n",
    "<figcaption style=\"width: 200px;\">Figure 1: Hydrogen nucleus precessing in a magnetic field</figcaption>\n",
    "</figure>\n",
    "\n",
    "Nuclear Magnetic Resonance occurs when a magnetic nucleus (e.g. hydrogen) is placed in an external magnetic field. Using a classical physics model, the nucleus can be thought of as a tiny bar magnet with an orientation and strength represented by its magnetic moment, written as $\\vec\\mu$. Nuclei with nonzero magnetic moment also have angular momentum, so it can also be thought of as a spinning top with the magnetic axis oriented in the same direction as the rotation axis (see the diagram on the right). When placed in an external magnetic field, which we will call $\\vec B_0$, the nucleus will experience a torque pulling it into alignment with $\\vec B_0$. However, because the nucleus also has angular momentum it will not rotate directly into alignment, but instead it will precess around $\\vec B_0$; behaving like a spinning top that is gradually falling over.\n",
    "\n",
    "The frequency of this precession is called the Larmor Frequency, given by:\n",
    "\n",
    "$$f = \\frac{\\gamma}{2\\pi} B_0 \\tag{1}$$\n",
    "\n",
    "$\\gamma$ is the gyromagnetic ratio, which is a property of the nucleus. We will be using hydrogen nuclei (the hydrogen in water), which has a gyromagnetic ratio of:\n",
    "\n",
    "$$\\gamma/2\\pi = 42.58 \\times 10^{6} \\ \\mathrm{Hz}/\\mathrm{T}$$"
   ]
  },
  {
   "cell_type": "markdown",
   "id": "b2d6d3cb-6fb6-4a81-8974-398cbc8c6252",
   "metadata": {
    "tags": []
   },
   "source": [
    "### 1.2 Hardware\n",
    "\n",
    "<figure style=\"float: right;\">\n",
    "<img src=\"Images/MagnetCore_ilumr.png\" width=\"600\" style=\"display: block;\">\n",
    "<center><figcaption style=\"width: 300px;\">Figure 2: Magnetic Field Directions </figcaption><center>\n",
    "<img src=\"Images/MagneticFieldDirection.png\" width=\"600\" style=\"display: block;\">\n",
    "<center><figcaption style=\"width: 300px;\">Figure 3: Conventional Orientation of Fields </figcaption><center>\n",
    "</figure>\n",
    "\n",
    "TODO: better image layout?    \n",
    "    \n",
    "The precession of the nuclei can be measured with a pickup coil; A current is induced in the coil by the rotating magnetic field of the nuclei in the sample. The plane that the nuclei precess in is perpendicular to the main magnetic field, $\\vec B_0$, so the coil should also be perpendicular to $\\vec B_0$ to maximise the signal.\n",
    "\n",
    "The coil measures the component of the net magnetization of the sample, $\\vec M$, along its axis.\n",
    "\n",
    "After waiting some time, $\\vec M$ will have completely realigned with $\\vec B_0$ and will not induce any signal in the coil. To bring the precession back, the coil is driven to create a magnetic field $\\vec B_1$ that oscillates at the Larmor frequency to re-excite the resonance.\n"
   ]
  },
  {
   "cell_type": "markdown",
   "id": "76e7837a-70cf-421a-9e2f-8b3714d202e1",
   "metadata": {},
   "source": [
    "> -------------------------------------------------------------------------------------------------------------------------------------------------------\n",
    "> #### **Task 1.1: Measure Magnetic Field Strength**\n",
    "> \n",
    "> - Use the Hall probe and compass to find the direction and strength of the magnetic field.\n",
    "    Make sure to orient the Hall probe in the direction of the field for an accurate reading.\n",
    "> - Record the field strength in your notebook\n",
    "> \n",
    "> -------------------------------------------------------------------------------------------------------------------------------------------------------"
   ]
  },
  {
   "cell_type": "markdown",
   "id": "3ecb73eb-0b8e-4f64-939b-febf8582ab55",
   "metadata": {
    "tags": []
   },
   "source": [
    ">--- \n",
    "> #### **Task 1.2: Calculate Larmor Frequency**\n",
    ">\n",
    "> - Using [equation 1](#mjx-eqn-1), calculate the desired frequency of the system and enter your calculated value in Hz below (scientific notation will work, e.g. \"5.5e6\"):\n",
    ">\n",
    ">--- "
   ]
  },
  {
   "cell_type": "code",
   "execution_count": null,
   "id": "926ae25d-a76a-4c77-ae72-b7f4310532ca",
   "metadata": {
    "jupyter": {
     "source_hidden": true
    },
    "tags": []
   },
   "outputs": [],
   "source": [
    "frequency = pn.widgets.FloatInput(name='Frequency (Hz)', start=0, step=1000, width=200)\n",
    "frequency"
   ]
  },
  {
   "cell_type": "markdown",
   "id": "ddb4d484-06bb-4662-b2c6-f823673c677e",
   "metadata": {
    "tags": []
   },
   "source": [
    "## 2. Tuning the RF Probe\n",
    "\n",
    "<figure style=\"float: right;\">\n",
    "<img src=\"Images/CapCircuit.png\" width=\"300\" style=\"display: block;\">\n",
    "<center><figcaption style=\"width: 300px;\">Figure 4: Resonant Circuit</figcaption><center>\n",
    "</figure>\n",
    "\n",
    "In order to efficiently generate the $\\vec B_1$ field and pickup the signal from the net magnetization $\\vec M$, the coil is combined with a capacitor to form a resonant circuit shown in the figure on the right. The resonant frequency of an LC circuit is:\n",
    "\n",
    "$$f = \\frac{1}{2\\pi\\sqrt{LC}} \\tag{2}$$\n",
    "\n",
    "This frequency needs to be close to the NMR resonant frequency to optimise the transmit and receive efficiency of the probe. Adjusting the *Tune* capacitor on the probe changes the value of $C$. The LC resonator circuit also needs to be impedance matched to the RF transmit amplifier and receive preamplifier, which have a characteristic impedance of 50 Ohms. This is accomplished with a *Match* capacitor.\n",
    "\n",
    "The *Match* capacitor actually also has some effect on the resonant frequency, and the *Tune* capacitor has some effect on the impedance, so in practice it is an iterative process to optimise these values.\n",
    "\n",
    "The Wobble tool sweeps through a range of frequencies and measures the amount of power reflected by the probe circuit. The probe will only absorb power close to its resonant frequency, so wobble plot will have a dip at that frequency. At the resonant frequency there will still be some power reflected if there is an impedance mismatch, so the level of the reflected power plot at the bottom of the dip indicates how well matched the probe is."
   ]
  },
  {
   "cell_type": "markdown",
   "id": "82a63a39-e2f9-4798-86ce-470dd3f554c5",
   "metadata": {
    "tags": []
   },
   "source": [
    "<figure style=\"float: right;\">\n",
    "<img src=\"Images/ilumr_tuning_caps.png\" width=\"250\" style=\"display: block;\">\n",
    "</figure>\n",
    "\n",
    "<figure style=\"float: right;\">\n",
    "<img src=\"Images/Animation tube.gif\" width=\"250\" style=\"display: block;\">\n",
    "</figure>\n",
    "\n",
    "      \n",
    "> -------------------------------------------------------------------------------------------------------------------------------------------------------\n",
    "> #### **Task 2.1: Tune the Probe**\n",
    "> - Remove the black plate on top of the ilumr by rotating it anticlockwise.\n",
    "> - Run the **Wobble** tool below in loop mode. \n",
    "> - While the **Wobble** tool is running, adjust the variable capacitors with the provided screwdriver to tune and match the RF coil to your calculated Larmor frequency (Note: the dotted line on the plot corresponds to the desired frequency). \n",
    "> - Include the dB measurement of your coil tune - this will require a simple calculation. *we need to reword this slightly*\n",
    "> - Load a sample into the ilumr and observe how \"loading\" a coil will affect both the tune and match of the coil.\n",
    "> -------------------------------------------------------------------------------------------------------------------------------------------------------"
   ]
  },
  {
   "cell_type": "code",
   "execution_count": null,
   "id": "89ad5e40-0db4-4dc2-a563-b1b5288e4dc8",
   "metadata": {
    "tags": []
   },
   "outputs": [],
   "source": [
    "from Wobble import WobbleApp # from dashboards-inline directory that was added to sys.path\n",
    "wobble = WobbleApp(\n",
    "    override_pars=dict(\n",
    "        f=frequency, # use value of fequency from the user input\n",
    "        f_bw=2e6 # fix bandwidth at 2 MHz\n",
    "    )\n",
    ")\n",
    "\n",
    "# TODO: make option in initialiser\n",
    "wobble.plot.figure.height=400\n",
    "\n",
    "pn.Column(\n",
    "    frequency,\n",
    "    wobble.main(),\n",
    "    sizing_mode='stretch_width'\n",
    ")"
   ]
  },
  {
   "cell_type": "markdown",
   "id": "f69b6e20-827d-42cb-b126-94431526e880",
   "metadata": {},
   "source": [
    "TO DO: ADD CHART TITLES"
   ]
  },
  {
   "cell_type": "markdown",
   "id": "f2bfbc1f-a4b4-4e87-9555-430806577055",
   "metadata": {
    "tags": []
   },
   "source": [
    "NOTE: If using **Run Loop**, click abort before continuing\n"
   ]
  },
  {
   "cell_type": "markdown",
   "id": "1cf8ee5a-d3b8-4059-95ff-498e4a47805d",
   "metadata": {},
   "source": [
    "## 3. Finding the NMR signal"
   ]
  },
  {
   "cell_type": "markdown",
   "id": "a359d137-5dc8-4b68-8fa8-8fa691634445",
   "metadata": {},
   "source": [
    "> ---\n",
    "> #### **Task 3.1: Pulse & Collect** \n",
    "> - Use the depth gauge to align the **shim sample** with the 10mm point.\n",
    "> - Load the **shim sample** into the ilumr.\n",
    "> - Input your calculated frequency and a starting RF amplitude guess of $0.5$ (half of maximum) into the boxes below.\n",
    "> - Run the **Pulse & Collect** tool below. The result should be a visible decaying sine wave in the signal plot, and a narrow spike in the spectrum plot.\n",
    "> - Zoom into the spike in the spectrum plot and read the relative frequency off the frequency axis (use the zoom tools at the top right of the plot).\n",
    "> - Add the frequency offset you measured to the frequency input and Rerun **Pulse & Collect**. The spike in the spectrum should now be centred at 0 on the relative frequency axis.\n",
    "> - Record the frequency you have measured in your notebook, and use [equation 1](#mjx-eqn-1) to calculate the field strength from this measured frequency. How does the field strength found this way compare to the field strength measured with the Hall probe in **Task 1.1**?\n",
    "> ---"
   ]
  },
  {
   "cell_type": "code",
   "execution_count": null,
   "id": "d129a2c7-a073-4f9f-989c-dae0d54a3817",
   "metadata": {
    "jupyter": {
     "source_hidden": true
    },
    "tags": []
   },
   "outputs": [],
   "source": [
    "rf_amp = pn.widgets.FloatInput(name='RF Amplitude (fraction of maximum)', start=0, end=1, step=0.1, value=0.5)\n",
    "\n",
    "from FID import FIDApp # from dashboards-inline directory that was added to sys.path\n",
    "\n",
    "# setup user shims file\n",
    "import yaml\n",
    "SHIM_FILE = os.path.join(LAB_DIR, 'shims.yaml')\n",
    "DEFAULT_SHIMS = dict(\n",
    "    shim_x=0,\n",
    "    shim_y=0,\n",
    "    shim_z=0,\n",
    "    shim_z2=0,\n",
    "    shim_zx=0,\n",
    "    shim_zy=0,\n",
    "    shim_xy=0,\n",
    "    shim_x2y2=0)\n",
    "if not os.path.isfile(SHIM_FILE):\n",
    "    with open(SHIM_FILE, 'w') as f:\n",
    "        yaml.dump(DEFAULT_SHIMS, f)\n",
    "\n",
    "# create FID experiment using user shims, frequency, and RF amplitude\n",
    "fid = FIDApp(\n",
    "    override_par_files=[\n",
    "        SHIM_FILE\n",
    "    ],\n",
    "    override_pars=dict(\n",
    "        f=frequency, # use value of frequency from the user input\n",
    "        a_90=rf_amp, # use rf amplitude from the user input\n",
    "        t_90=32e-6,\n",
    "        n_scans=1,\n",
    "        n_samples=2000,\n",
    "        t_dw=0.5e-6,\n",
    "        t_acqdelay=50e-6,\n",
    "        t_end=0.5\n",
    "    )\n",
    ")\n",
    "\n",
    "# TODO: make option in initialiser\n",
    "fid.plot1.figure.height=400\n",
    "fid.plot2.figure.height=400\n",
    "\n",
    "pn.Column(\n",
    "    pn.Row(frequency, rf_amp),\n",
    "    fid.main(),\n",
    "    sizing_mode='stretch_width'\n",
    ")"
   ]
  },
  {
   "cell_type": "markdown",
   "id": "8971bac0-8d39-484e-93ba-fb084f912cb6",
   "metadata": {
    "tags": []
   },
   "source": [
    "### Note: Quadrature Detection and Rotating Reference Frames\n",
    "\n",
    "At the NMR frequency you measured there would be thousands of cycles in the signal plot above if it were just a measurement of the magnetization along a fixed axis. Instead, to simplify processing and visualization, the signal from the probe is processed using a quadrature detector, which removes a carrier frequency from a signal; this technique is also used in AM radio.\n",
    "\n",
    "The result is a measurement of the signal in a rotating reference frame. Imagine a camera that is stationary (\"lab frame\") and one that is rotating at your chosen frequency around the sample (\"rotating frame\"); the lab frame camera will see the magnetization precessing rapidly at the NMR frequency, however the rotating frame camera will only see the difference between the movement of the magnetization and the movement of the camera. If the rotation frequency of the camera is perfectly set to the NMR frequency, then the measured signal does not oscillate at all!\n",
    "\n",
    "The real and imaginary parts of the signal are the components along the $y'$ and $x'$ axes in the rotating frame, respectively.\n",
    "\n",
    "<center><img src=\"Images/RotatingFrame.png\" width=\"700\"></center>\n",
    "<center><figcaption style=\"width: 300px;\">Figure 6: Rotating Frames </figcaption></center>\n"
   ]
  },
  {
   "cell_type": "markdown",
   "id": "2a72e704-0889-41b3-aefa-a825ab982dde",
   "metadata": {},
   "source": [
    "> ---\n",
    "> #### **Task 3.2: Retune the Probe**\n",
    "> - Now that the correct frequency has been measured, go back to **Task 2.1**, run wobble tool below, and retune the probe if it is poorly tuned to the new frequency. As a rule of thumb, the dip should be within 20kHz of the NMR frequency (dotted line).\n",
    "> ---\n"
   ]
  },
  {
   "cell_type": "code",
   "execution_count": null,
   "id": "63997cf7-e6c6-4812-a634-dab8d93e3b38",
   "metadata": {
    "tags": []
   },
   "outputs": [],
   "source": [
    "# Display wobble tool again\n",
    "wobble.main()"
   ]
  },
  {
   "cell_type": "markdown",
   "id": "2999cb79-929c-4d3c-b27a-7b0302b509dd",
   "metadata": {
    "tags": []
   },
   "source": [
    "## 4. Optimising the Flip Angle\n",
    "\n",
    "In the rotating frame, $\\vec B_1$ appears like a static field (because it is rotating in the lab frame at the same frequency as the rotating frame). In this case, $\\vec B_1$ is always aligned with the $x'$ axis, and exerts a torque on the nuclei. This torque causes the nuclei to precess around the $x'$ axis (while still also precessing around $\\vec B_0$). If the $\\vec B_1$ field is applied for a short time $t$, the final angle of rotation will be (in radians):\n",
    "\n",
    "$$\\alpha = \\gamma B_1 t$$\n",
    "\n",
    "in radians, where $\\gamma$ is the gyromagnetic ratio. As a result of this relationship, the flip angle $\\alpha$ is proportional to the area under the RF pulse in the pulse sequence.\n",
    "\n",
    "The RF pulse amplitude guess we used resulted in signal, but to maximise the signal it needs to be calibrated to cause a $90^\\circ$ rotation of the magnetization from the $z$ axis to the $xy$ plane. Remember that the signal we measure is proportional only to the component of $\\vec M$ that is in the $xy$ plane, called $\\vec M_{xy}$, and the component along the $z$ axis is invisible to the probe.\n",
    "\n",
    "The $B_1$ field strength depends on the RF pulse amplitude ($A_{1-3}$), but is also affected by the probe tuning and loading from the sample, so the correct RF pulse amplitude must be empirically determined each time the probe tuning or sample is changed. This will be done in **Task 4.1**.\n",
    "<center><img src=\"Images/SpinAngleDiagram.png\" width=\"700\"></center>\n",
    "<center><figcaption style=\"width: 300px;\">Figure 7: Relationship between pulse amplitude, flip angle and signal </figcaption></center>\n",
    "\n",
    "TODO:\n",
    "- make description and diagrams fit in on the screen all at once\n",
    "- Show $\\vec M_{xy}$?"
   ]
  },
  {
   "cell_type": "markdown",
   "id": "65042988-7896-4161-a15e-502e971ef107",
   "metadata": {},
   "source": [
    "> ---\n",
    "> #### **Task 4.1: Pulse Calibration** \n",
    "> - Run the Pulse Calibration tool below\n",
    "> - Find the amplitude value that maximises the signal sum of squares and record it in your notebook.\n",
    "> ---"
   ]
  },
  {
   "cell_type": "code",
   "execution_count": null,
   "id": "a45179ee-5dfd-4796-b7e6-e3e86400856f",
   "metadata": {},
   "outputs": [],
   "source": [
    "# TODO, simplified version of pulse calibration dashboard"
   ]
  },
  {
   "cell_type": "markdown",
   "id": "fab34929-b0fe-41df-a26e-f8d34b7ada77",
   "metadata": {},
   "source": [
    "> ---\n",
    "> #### **Task 4.2: Check Signal after Pulse Calibration** \n",
    "> - Enter the RF pulse amplitude value you determined in **Task 4.1** below.\n",
    "> - Run the Pulse & Collect experiment and compare the initial signal level to what you had in **Task 3.1**\n",
    "> ---"
   ]
  },
  {
   "cell_type": "code",
   "execution_count": null,
   "id": "62b7900d-b933-4bbd-b398-bc4b838dc7b4",
   "metadata": {
    "jupyter": {
     "source_hidden": true
    },
    "tags": []
   },
   "outputs": [],
   "source": [
    "pn.Column(\n",
    "    pn.Row(frequency, rf_amp),\n",
    "    fid.main(),\n",
    "    sizing_mode='stretch_width'\n",
    ")"
   ]
  },
  {
   "cell_type": "markdown",
   "id": "09234df8-daff-49c5-b5de-19a5fdf70cea",
   "metadata": {
    "tags": []
   },
   "source": [
    "## 5. Signal Decay & Shimming\n",
    "\n",
    "The NMR signal is short lived, after an excition the net magnetization $\\vec M$ gradually returns to the $B_0$ direction ($z$ axis). This relaxation is described by two processes:\n",
    "\n",
    "*Longitudinal relaxation* is the recovery of the *longitudinal* component $M_z$ with time constant $T_1$. In the simple case after a $90^\\circ$ pulse this is:\n",
    "\n",
    "$$M_z(t) = M_0 \\cdot (1-e^{-t/T_1})$$\n",
    "\n",
    "where $M_0$ is the equilibrium magnetization, obtained after waiting a long time.\n",
    "\n",
    "*Transverse relaxation*: The decay of the *transverse* component $M_{xy}$ with time constant $T_2$:\n",
    "\n",
    "$$M_{xy}(t) = M_{xy}(0) \\cdot e^{-t/T_2}$$\n",
    "\n",
    "<figure style=\"float: right;\">\n",
    "<img src=\"Images/T2StarDecay.png\" width=\"300\">\n",
    "<figcaption style=\"width: 300px\">Figure 8: The decay of the signal in a homogeneous field ($T_2$) vs inhomogeneous field ($T_2^*$)</figcaption>\n",
    "</figure>\n",
    "\n",
    "The transverse relaxation responsible for our signal decaying is partly caused by random processes in the sample itself that cause the individual magnetic moments of nuclei in the sample to dephase, but is also affected by inhomogeneity (variation at different locations) in the the main magnetic field $\\vec B_0$. The time constant due to inhomogeneity is called $T_2^*$, to distinguish it from the time constant that is a property only of the sample, called simply $T_2$.\n",
    "\n",
    "Improving the homogeneity of the magnetic field will lengthen $T_2^*$, making the signal last longer and improving the total amount of signal obtained from a single excitation. In practice this is accomplished with an array of coils and and drivers that can precisely control the current through them, which are called *electronic shims*.\n",
    "\n",
    "<center><figure>\n",
    "<img src=\"Images/T2StarPhaseDiagram.png\">\n",
    "<figcaption>Figure 9: Magnetic moments at different points in the sample (1,2,3,4) dephasing due to differences in local $B_0$ field strength, reducing the measureable net magnetic moment $M_{xy}$</figcaption>\n",
    "</figure></center>\n",
    "\n",
    "TODO:\n",
    "- Exploded render of shim coils would be cool"
   ]
  },
  {
   "cell_type": "markdown",
   "id": "60908ffa-647c-46b4-a7ce-04b48c25cfd8",
   "metadata": {},
   "source": [
    "> ---\n",
    "> #### **Task 5.1: Run Autoshim**\n",
    "> - Run the **Autoshim** tool below with the **Coarse** setting to shim the system.\n",
    "> - The shim values will be saved to `shims.yaml` in your `LAB_DIR`, to be used by the other experiments in this notebook.\n",
    "> ---\n",
    "\n",
    "TODO:\n",
    "- make coarse the only option?"
   ]
  },
  {
   "cell_type": "code",
   "execution_count": null,
   "id": "5163d76f-8603-4fad-b1c9-bdd2131085e7",
   "metadata": {
    "jupyter": {
     "source_hidden": true
    },
    "tags": []
   },
   "outputs": [],
   "source": [
    "# display frequency and rf_amp again as they are used by Autoshim\n",
    "pn.Row(frequency, rf_amp)"
   ]
  },
  {
   "cell_type": "code",
   "execution_count": null,
   "id": "2360b000-862a-405c-9248-73dafe7be62a",
   "metadata": {
    "jupyter": {
     "source_hidden": true
    },
    "tags": []
   },
   "outputs": [],
   "source": [
    "from Autoshim import AutoshimApp # from dashboards-inline directory that was added to sys.path\n",
    "\n",
    "autoshim = AutoshimApp(\n",
    "    output_dir=LAB_DIR,\n",
    "    override_pars=dict(\n",
    "        f=frequency, # use value of frequency from the user input\n",
    "        a_90=rf_amp, # use rf amplitude from the user input\n",
    "        t_90=32e-6,\n",
    "    )\n",
    ")\n",
    "autoshim.main()"
   ]
  },
  {
   "cell_type": "markdown",
   "id": "152bd432-cdd7-4028-8138-a23cdd62f79d",
   "metadata": {},
   "source": [
    "Explain graph"
   ]
  },
  {
   "cell_type": "markdown",
   "id": "ab2974f6-1e45-42a0-8675-c21fb2056f0e",
   "metadata": {
    "tags": []
   },
   "source": [
    "> ---\n",
    "> #### **Task 5.2: FID Check with Shim**\n",
    "> - Rerun the FID experiment using the tool below and make note of how the amplitude and decay of the signal has changed compared to without shims in **Step Three**. With a good shim there should still be significant signal at 5 ms. \n",
    "> ---\n",
    "\n",
    "TODO:\n",
    "- get them to estimate T2* before and after shimming."
   ]
  },
  {
   "cell_type": "code",
   "execution_count": null,
   "id": "e30931af-ccc1-4907-b8a7-bc80515861cc",
   "metadata": {
    "jupyter": {
     "source_hidden": true
    },
    "tags": []
   },
   "outputs": [],
   "source": [
    "# create FID experiment using user shims, frequency, and RF amplitude\n",
    "fid2 = FIDApp(\n",
    "    override_par_files=[\n",
    "        SHIM_FILE\n",
    "    ],\n",
    "    override_pars=dict(\n",
    "        f=frequency, # use value of frequency from the user input\n",
    "        a_90=rf_amp, # use rf amplitude from the user input\n",
    "        t_90=32e-6,\n",
    "        n_scans=1,\n",
    "        n_samples=2000,\n",
    "        t_dw=0.5e-6,\n",
    "        t_acqdelay=50e-6,\n",
    "        t_end=0.5\n",
    "    )\n",
    ")\n",
    "fid2.main()"
   ]
  },
  {
   "cell_type": "markdown",
   "id": "12bc84fd-5519-4c49-8ea0-c75603323d10",
   "metadata": {
    "tags": []
   },
   "source": [
    "## 6. Spin Echo \n",
    "\n",
    "Shimming the field will improve the duration of the NMR signal, but the signal can also be brought back after dephasing due to inhomogeneity using the *spin echo* technique.\n",
    "\n",
    "<figure style=\"float: right;\">\n",
    "<img src=\"Images/SpinEchoPulse.png\" width=\"400\">\n",
    "<center><figcaption style=\"width: 400px\">Figure 10: Spin Echo Pulse Sequence</figcaption><center>\n",
    "</figure>\n",
    "\n",
    "A spin echo can be formed by applying $90^\\circ$ flip angle RF pulse and a $180^\\circ$ flip angle pulse in succession as shown on the right.\n",
    "\n",
    "Imagine two small groups of nuclei at different locations in the magnetic field which experience slightly different field strengths and therefore precession frequencies. We will call these *isochromats*, the *iso* prefix means the nuclei within an *isochromat* all have the same precession frequency. If one isochromat with magnetic moment $M_1$ has a slightly higher precession frequency and the other, $M_2$, slightly lower, then they will begin to dephase after the initial pulse as shown in fig ? (A) below.\n",
    "\n",
    "When the $180^\\circ$ flip angle pulse is applied with the $\\vec B_1$ direction along the $y'$ axis, the isochromat magnetic moments $\\vec M_1$ and $\\vec M_2$ will individually be rotated by $180^\\circ$ around the $y'$ axis, as shown in fig ? (B). After the $180^\\circ$ pulse the $\\vec M_1$ isochromat will continue to precess faster and the $\\vec M_1$ isochromat slower, but they have been flipped and are now coming back into phase as shown in fig ? (C).\n",
    "\n",
    "<center><img src=\"Images/SpinEchoPhase.png\" width=\"1300\"></center>\n",
    "<center><figcaption style=\"width: 300px;\">Figure 11: Effect of 180 degree pulse on phase </figcaption></center>\n",
    "All of the isochromats in a sample will come back into perfect phase simultaneously at a single point in time called $T_E$, the echo time, which is where the echo signal is at maximum. The spin echo sequence can only refocus the dephasing caused by magnet inhomogeneity ($T_2^*$); the signal will still have decayed due to random dephasing in the sample ($T_2$), so longer echo times ($T_E$) will result in less echo signal.\n",
    "\n",
    "TODO:\n",
    "- label T2 and T2* on pulse/signal diagram\n",
    "- label 90 to 180 and 180 to echo centre as $T_E/2$\n",
    "- remove Acq gating from diagram"
   ]
  },
  {
   "cell_type": "markdown",
   "id": "458a2c54-2a1c-4751-bde0-955cc412301c",
   "metadata": {},
   "source": [
    "TODO: Task description"
   ]
  },
  {
   "cell_type": "code",
   "execution_count": null,
   "id": "23fe5bcb-b891-4aa5-a107-f4ddff4558eb",
   "metadata": {},
   "outputs": [],
   "source": [
    "# TODO: spin echo full acquisition experiment"
   ]
  },
  {
   "cell_type": "code",
   "execution_count": null,
   "id": "962ebd89-7884-40c4-907b-266f73be791e",
   "metadata": {},
   "outputs": [],
   "source": []
  }
 ],
 "metadata": {
  "kernelspec": {
   "display_name": "Python 3 (ipykernel)",
   "language": "python",
   "name": "python3"
  },
  "language_info": {
   "codemirror_mode": {
    "name": "ipython",
    "version": 3
   },
   "file_extension": ".py",
   "mimetype": "text/x-python",
   "name": "python",
   "nbconvert_exporter": "python",
   "pygments_lexer": "ipython3",
   "version": "3.10.7"
  },
  "widgets": {
   "application/vnd.jupyter.widget-state+json": {
    "state": {},
    "version_major": 2,
    "version_minor": 0
   }
  }
 },
 "nbformat": 4,
 "nbformat_minor": 5
}
