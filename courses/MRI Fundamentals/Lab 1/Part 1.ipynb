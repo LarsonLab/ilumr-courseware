{
 "cells": [
  {
   "cell_type": "markdown",
   "id": "d71971d6-d6ef-469e-912e-150e28645ac8",
   "metadata": {
    "tags": []
   },
   "source": [
    "# **LAB ONE: NMR SIGNAL**"
   ]
  },
  {
   "cell_type": "markdown",
   "id": "603d45be-d4a6-43bf-a453-11b7c2157d27",
   "metadata": {},
   "source": [
    "Brief description of lab"
   ]
  },
  {
   "cell_type": "markdown",
   "id": "588993ce-8c49-4f86-a33b-a1767e54eae6",
   "metadata": {},
   "source": [
    "#### Learning Objectives:\n",
    "- Learn about magnetic fields in NMR\n",
    "- Learn what NMR is\n",
    "- Learn how to excite an NMR signal in a sample\n",
    "- Learn how to measure the NMR signal\n",
    "- Learn what causes NMR signal decay\n",
    "- Learn how to optimise amplitude and duration\n",
    "- Learn what an NMR spin echo is\n",
    "\n",
    "#### Assumed Knowledge:\n",
    "- LC Resonance \n",
    "- Solenoid Coils\n",
    "- Fourier Transform\n",
    "- Angular Momentum \n",
    "- Complex Numbers\n"
   ]
  },
  {
   "cell_type": "markdown",
   "id": "cddb0019-74db-4e0b-828d-bc79417a2c01",
   "metadata": {
    "tags": []
   },
   "source": [
    "-------------------------------------------------------------------------------------------------------------------------------------------------------\n",
    "#### **Setup Task:**\n",
    "\n",
    "To initialise this notebook, edit the cell above to set `LAB_USER_NAME` to your name, then click **Run->Run All Cells** in the top menu bar  \n",
    "\n",
    "\n"
   ]
  },
  {
   "cell_type": "code",
   "execution_count": null,
   "id": "12fe24a6-7a3c-4981-bd40-2c7c7fd390bf",
   "metadata": {
    "tags": []
   },
   "outputs": [],
   "source": [
    "LAB_USER_NAME = 'REPLACE_ME'"
   ]
  },
  {
   "cell_type": "code",
   "execution_count": null,
   "id": "ec29cfe5-e2c8-4485-8877-f43bb0d496fa",
   "metadata": {
    "jupyter": {
     "source_hidden": true
    },
    "tags": []
   },
   "outputs": [],
   "source": [
    "import panel as pn\n",
    "pn.extension()\n",
    "import sys\n",
    "import os\n",
    "sys.path.append('../../../dashboards-inline')\n",
    "LAB_DIR = os.path.join('/home/data/', LAB_USER_NAME)\n",
    "os.makedirs(LAB_DIR, exist_ok=True)\n",
    "print('Data will be saved to', LAB_DIR)"
   ]
  },
  {
   "cell_type": "markdown",
   "id": "104123fb-dc17-45f6-8f1e-43b20170b12c",
   "metadata": {},
   "source": [
    "-------------------------------------------------------------------------------------------------------------------------------------------------------"
   ]
  },
  {
   "cell_type": "markdown",
   "id": "40b20454-32c9-4f3a-97e2-a08b18743457",
   "metadata": {
    "tags": []
   },
   "source": [
    "## 1. Introduction to Nuclear Magnetic Resonance\n",
    "### 1.1 Theory\n",
    "\n",
    "<figure style=\"float: right;\">\n",
    "<img src=\"Images/PrecessionDiagram.png\" width=\"200\">\n",
    "<figcaption style=\"width: 200px;\">Figure 1: Hydrogen nucleus precessing in a magnetic field</figcaption>\n",
    "</figure>\n",
    "\n",
    "Nuclear Magnetic Resonance occurs when a magnetic nucleus (e.g. hydrogen) is placed in an external magnetic field. Using a classical physics model, the nucleus can be thought of as a tiny bar magnet with an orientation and strength represented by its magnetic moment, written as $\\vec\\mu$. Nuclei with nonzero magnetic moment also have angular momentum, so it can also be thought of as a spinning top with the magnetic axis oriented in the same direction as the rotation axis (see the diagram on the right). When placed in an external magnetic field, which we will call $\\vec B_0$, the nucleus will experience a torque pulling it into alignment with $\\vec B_0$. However, because the nucleus also has angular momentum it will not rotate directly into alignment, but instead it will precess around $\\vec B_0$; behaving like a spinning top that is gradually falling over.\n",
    "\n",
    "The frequency of this precession is called the Larmor Frequency, given by:\n",
    "\n",
    "$$f = \\frac{\\gamma}{2\\pi} B_0 \\tag{1}$$\n",
    "\n",
    "$\\gamma$ is the gyromagnetic ratio, which is a property of the nucleus. We will be using hydrogen nuclei (the hydrogen in water), which has a gyromagnetic ratio of:\n",
    "\n",
    "$$\\gamma/2\\pi = 42.58 \\times 10^{6} \\ \\mathrm{Hz}/\\mathrm{T}$$"
   ]
  },
  {
   "cell_type": "markdown",
   "id": "b2d6d3cb-6fb6-4a81-8974-398cbc8c6252",
   "metadata": {
    "tags": []
   },
   "source": [
    "### 1.2 Hardware\n",
    "\n",
    "<figure style=\"float: right;\">\n",
    "<img src=\"Images/MagnetCore_ilumr.png\" width=\"600\" style=\"display: block;\">\n",
    "<center><figcaption style=\"width: 300px;\">Figure 2: Magnetic Field Directions </figcaption><center>\n",
    "<img src=\"Images/MagneticFieldDirection.png\" width=\"600\" style=\"display: block;\">\n",
    "<center><figcaption style=\"width: 300px;\">Figure 3: Conventional Orientation of Fields </figcaption><center>\n",
    "</figure>\n",
    "\n",
    "TODO: better image layout?    \n",
    "    \n",
    "The precession of the nuclei can be measured with a pickup coil; A current is induced in the coil by the rotating magnetic field of the nuclei in the sample. The plane that the nuclei precess in is perpendicular to the main magnetic field, $\\vec B_0$, so the coil should also be perpendicular to $\\vec B_0$ to maximise the signal.\n",
    "\n",
    "The coil measures the component of the net magnetization of the sample, $\\vec M$, along its axis.\n",
    "\n",
    "After waiting some time, $\\vec M$ will have completely realigned with $\\vec B_0$ and will not induce any signal in the coil. To bring the precession back, the coil is driven to create a magnetic field $\\vec B_1$ that oscillates at the Larmor frequency to re-excite the resonance.\n"
   ]
  },
  {
   "cell_type": "markdown",
   "id": "76e7837a-70cf-421a-9e2f-8b3714d202e1",
   "metadata": {},
   "source": [
    "> -------------------------------------------------------------------------------------------------------------------------------------------------------\n",
    "> #### **Task 1.1: Measure Magnetic Field Strength**\n",
    "> \n",
    "> - Use the Hall probe and compass to find the direction and strength of the magnetic field.\n",
    "    Make sure to orient the Hall probe in the direction of the field for an accurate reading.\n",
    "> - Record the field strength in your notebook\n",
    "> \n",
    "> -------------------------------------------------------------------------------------------------------------------------------------------------------"
   ]
  },
  {
   "cell_type": "markdown",
   "id": "3ecb73eb-0b8e-4f64-939b-febf8582ab55",
   "metadata": {
    "tags": []
   },
   "source": [
    ">--- \n",
    "> #### **Task 1.2: Calculate Larmor Frequency**\n",
    ">\n",
    "> - Using [equation 1](#mjx-eqn-1), calculate the desired frequency of the system and enter your calculated value in Hz below (scientific notation will work, e.g. \"5.5e6\"):\n",
    ">\n",
    ">--- "
   ]
  },
  {
   "cell_type": "code",
   "execution_count": null,
   "id": "926ae25d-a76a-4c77-ae72-b7f4310532ca",
   "metadata": {
    "jupyter": {
     "source_hidden": true
    },
    "tags": []
   },
   "outputs": [],
   "source": [
    "frequency = pn.widgets.FloatInput(name='Frequency (Hz)', start=0, step=1000, width=200)\n",
    "frequency"
   ]
  },
  {
   "cell_type": "markdown",
   "id": "ddb4d484-06bb-4662-b2c6-f823673c677e",
   "metadata": {
    "tags": []
   },
   "source": [
    "## 2. Tuning the RF Probe\n",
    "\n",
    "<figure style=\"float: right;\">\n",
    "<img src=\"Images/CapCircuit.png\" width=\"300\" style=\"display: block;\">\n",
    "<center><figcaption style=\"width: 300px;\">Figure 4: Resonant Circuit</figcaption><center>\n",
    "</figure>\n",
    "\n",
    "In order to efficiently generate the $\\vec B_1$ field and pickup the signal from the net magnetization $\\vec M$, the coil is combined with a capacitor to form a resonant circuit shown in the figure on the right. The resonant frequency of an LC circuit is:\n",
    "\n",
    "$$f = \\frac{1}{2\\pi\\sqrt{LC}} \\tag{2}$$\n",
    "\n",
    "This frequency needs to be close to the NMR resonant frequency to optimise the transmit and receive efficiency of the probe. Adjusting the *Tune* capacitor on the probe changes the value of $C$. The LC resonator circuit also needs to be impedance matched to the RF transmit amplifier and receive preamplifier, which have a characteristic impedance of 50 Ohms. This is accomplished with a *Match* capacitor.\n",
    "\n",
    "The *Match* capacitor actually also has some effect on the resonant frequency, and the *Tune* capacitor has some effect on the impedance, so in practice it is an iterative process to optimise these values.\n",
    "\n",
    "The Wobble tool sweeps through a range of frequencies and measures the amount of power reflected by the probe circuit. The probe will only absorb power close to its resonant frequency, so wobble plot will have a dip at that frequency. At the resonant frequency there will still be some power reflected if there is an impedance mismatch, so the level of the reflected power plot at the bottom of the dip indicates how well matched the probe is."
   ]
  },
  {
   "cell_type": "markdown",
   "id": "82a63a39-e2f9-4798-86ce-470dd3f554c5",
   "metadata": {
    "tags": []
   },
   "source": [
    "> -------------------------------------------------------------------------------------------------------------------------------------------------------\n",
    "> #### **Task 2.1: Tune the Probe**\n",
    "> - Remove the black plate on top of the ilumr by rotating it anticlockwise.\n",
    "> - Run the **Wobble** tool below in loop mode. \n",
    "> - While the **Wobble** tool is running, adjust the variable capacitors with the provided screwdriver to tune and match the RF coil to your calculated Larmor frequency (Note: the dotted line on the plot corresponds to the desired frequency). **TO DO: show picture of caps. add description of how to know when the probe is tuned enough**\n",
    "> - Include the dB measurement of your coil tune - this will require a simple calculation. *we need to reword this slightly*\n",
    "> - Load a sample into the ilumr and observe how \"loading\" a coil will affect both the tune and match of the coil.\n",
    "> -------------------------------------------------------------------------------------------------------------------------------------------------------"
   ]
  },
  {
   "cell_type": "code",
   "execution_count": null,
   "id": "89ad5e40-0db4-4dc2-a563-b1b5288e4dc8",
   "metadata": {
    "jupyter": {
     "source_hidden": true
    },
    "tags": []
   },
   "outputs": [],
   "source": [
    "from Wobble import WobbleApp # from dashboards-inline directory that was added to sys.path\n",
    "wobble = WobbleApp(\n",
    "    override_pars=dict(\n",
    "        f=frequency, # use value of fequency from the user input\n",
    "        f_bw=2e6 # fix bandwidth at 2 MHz\n",
    "    )\n",
    ")\n",
    "\n",
    "# TODO: make option in initialiser\n",
    "wobble.plot.figure.height=400\n",
    "\n",
    "pn.Column(\n",
    "    frequency,\n",
    "    wobble.main(),\n",
    "    sizing_mode='stretch_width'\n",
    ")"
   ]
  },
  {
   "cell_type": "markdown",
   "id": "f69b6e20-827d-42cb-b126-94431526e880",
   "metadata": {},
   "source": [
    "TO DO: ADD CHART TITLES"
   ]
  },
  {
   "cell_type": "markdown",
   "id": "f2bfbc1f-a4b4-4e87-9555-430806577055",
   "metadata": {
    "tags": []
   },
   "source": [
    "NOTE: If using **Run Loop**, click abort before continuing\n"
   ]
  },
  {
   "cell_type": "markdown",
   "id": "1cf8ee5a-d3b8-4059-95ff-498e4a47805d",
   "metadata": {},
   "source": [
    "## 3. Finding the NMR signal"
   ]
  },
  {
   "cell_type": "markdown",
   "id": "a359d137-5dc8-4b68-8fa8-8fa691634445",
   "metadata": {},
   "source": [
    "> ---\n",
    "> #### **Task 3.1: Pulse & Collect** \n",
    "> - Use the depth gauge to align the **shim sample** with the 10mm point.\n",
    "> - Load the **shim sample** into the ilumr.\n",
    "> - Input your calculated frequency and a starting RF amplitude guess of $0.5$ (half of maximum) into the boxes below.\n",
    "> - Run the **Pulse & Collect** tool below. The result should be a visible decaying sine wave in the signal plot, and a narrow spike in the spectrum plot.\n",
    "> - Zoom into the spike in the spectrum plot and read the relative frequency off the frequency axis (use the zoom tools at the top right of the plot).\n",
    "> - Add the frequency offset you measured to the frequency input and Rerun **Pulse & Collect**. The spike in the spectrum should now be centred at 0 on the relative frequency axis.\n",
    "> - Record the frequency you have measured in your notebook, and use [equation 1](#mjx-eqn-1) to calculate the field strength from this measured frequency. How does the field strength found this way compare to the field strength measured with the Hall probe in **Task 1.1**?\n",
    "> ---"
   ]
  },
  {
   "cell_type": "code",
   "execution_count": null,
   "id": "d129a2c7-a073-4f9f-989c-dae0d54a3817",
   "metadata": {
    "jupyter": {
     "source_hidden": true
    },
    "tags": []
   },
   "outputs": [],
   "source": [
    "rf_amp = pn.widgets.FloatInput(name='RF Amplitude (fraction of maximum)', start=0, end=1, step=0.1, value=0.5)\n",
    "\n",
    "from FID import FIDApp # from dashboards-inline directory that was added to sys.path\n",
    "\n",
    "# setup user shims file\n",
    "import yaml\n",
    "SHIM_FILE = os.path.join(LAB_DIR, 'shims.yaml')\n",
    "DEFAULT_SHIMS = dict(\n",
    "    shim_x=0,\n",
    "    shim_y=0,\n",
    "    shim_z=0,\n",
    "    shim_z2=0,\n",
    "    shim_zx=0,\n",
    "    shim_zy=0,\n",
    "    shim_xy=0,\n",
    "    shim_x2y2=0)\n",
    "if not os.path.isfile(SHIM_FILE):\n",
    "    with open(SHIM_FILE, 'w') as f:\n",
    "        yaml.dump(DEFAULT_SHIMS, f)\n",
    "\n",
    "# create FID experiment using user shims, frequency, and RF amplitude\n",
    "fid = FIDApp(\n",
    "    override_par_files=[\n",
    "        SHIM_FILE\n",
    "    ],\n",
    "    override_pars=dict(\n",
    "        f=frequency, # use value of frequency from the user input\n",
    "        a_90=rf_amp, # use rf amplitude from the user input\n",
    "        t_90=32e-6,\n",
    "        n_scans=1,\n",
    "        n_samples=2000,\n",
    "        t_dw=0.5e-6,\n",
    "        t_acqdelay=50e-6,\n",
    "        t_end=0.5\n",
    "    )\n",
    ")\n",
    "\n",
    "# TODO: make option in initialiser\n",
    "fid.plot1.figure.height=400\n",
    "fid.plot2.figure.height=400\n",
    "\n",
    "pn.Column(\n",
    "    pn.Row(frequency, rf_amp),\n",
    "    fid.main(),\n",
    "    sizing_mode='stretch_width'\n",
    ")"
   ]
  },
  {
   "cell_type": "markdown",
   "id": "8971bac0-8d39-484e-93ba-fb084f912cb6",
   "metadata": {
    "tags": []
   },
   "source": [
    "### Note: Quadrature Detection and Rotating Reference Frames\n",
    "\n",
    "At the NMR frequency you measured there would be thousands of cycles in the signal plot above if it were just a measurement of the magnetization along a fixed axis. Instead, to simplify processing and visualization, the signal from the probe is processed using a quadrature detector, which removes a carrier frequency from a signal; this technique is also used in AM radio.\n",
    "\n",
    "The result is a measurement of the signal in a rotating reference frame. Imagine a camera that is stationary (\"lab frame\") and one that is rotating at your chosen frequency around the sample (\"rotating frame\"); the lab frame camera will see the magnetization precessing rapidly at the NMR frequency, however the rotating frame camera will only see the difference between the movement of the magnetization and the movement of the camera. If the rotation frequency of the camera is perfectly set to the NMR frequency, then the measured signal does not oscillate at all!\n",
    "\n",
    "The real and imaginary parts of the signal are the components along the $y'$ and $x'$ axes in the rotating frame, respectively.\n",
    "\n",
    "<center><img src=\"Images/RotatingFrame.png\" width=\"700\"></center>\n",
    "<center><figcaption style=\"width: 300px;\">Figure 6: Rotating Frames </figcaption></center>\n"
   ]
  },
  {
   "cell_type": "markdown",
   "id": "2a72e704-0889-41b3-aefa-a825ab982dde",
   "metadata": {},
   "source": [
    "> ---\n",
    "> #### **Task 3.2: Retune the Probe**\n",
    "> - Now that the correct frequency has been measured, go back to **Task 2.1**, run wobble tool below, and retune the probe if it is poorly tuned to the new frequency. As a rule of thumb, the dip should be within 20kHz of the NMR frequency (dotted line).\n",
    "> ---\n"
   ]
  },
  {
   "cell_type": "code",
   "execution_count": null,
   "id": "63997cf7-e6c6-4812-a634-dab8d93e3b38",
   "metadata": {
    "jupyter": {
     "source_hidden": true
    },
    "tags": []
   },
   "outputs": [],
   "source": [
    "# Display wobble tool again\n",
    "wobble.main()"
   ]
  },
  {
   "cell_type": "markdown",
   "id": "2999cb79-929c-4d3c-b27a-7b0302b509dd",
   "metadata": {
    "tags": []
   },
   "source": [
    "## 4. Optimising the Flip Angle\n",
    "\n",
    "In the rotating frame, $\\vec B_1$ appears like a static field (because it is rotating in the lab frame at the same frequency as the rotating frame). In this case, $\\vec B_1$ is always aligned with the $x'$ axis, and exerts a torque on the nuclei. This torque causes the nuclei to precess around the $x'$ axis (while still also precessing around $\\vec B_0$). If the $\\vec B_1$ field is applied for a short time $t$, the final angle of rotation will be (in radians):\n",
    "\n",
    "$$\\alpha = \\gamma B_1 t$$\n",
    "\n",
    "in radians, where $\\gamma$ is the gyromagnetic ratio.\n",
    "\n",
    "The RF pulse amplitude guess we used resulted in signal, but to maximise the signal it needs to be calibrated to cause a $90^\\circ$ rotation of the magnetization from the $z$ axis to the $xy$ plane. Remember that the signal we measure is proportional only to the component of $\\vec M$ that is in the $xy$ plane, called $\\vec M_{xy}$, and the component along the $z$ axis is invisible to the probe. The correct RF pulse amplitude can be empirically determined by choosing a fixed pulse width and measuring the signal with a range of pulse amplitudes to find the maximum.\n",
    "\n",
    "<center><img src=\"Images/SpinAngleDiagram.png\" width=\"700\"></center>\n",
    "<center><figcaption style=\"width: 300px;\">Figure 7: Relationship between pulse amplitude, flip angle and signal </figcaption></center>\n",
    "\n",
    "\n",
    "TODO: \n",
    "- Explain this. Does this relate to the pulse calibration step? Only the component in the x,y plane is measurable by the probe coil\n",
    "- How flip angle relates to area under pulse\n",
    "- show spin angles - and the pulse amplitudes diagram\n",
    "- Add the pulse sequence diagram\n",
    "- Pulse calibration showing full rotation\n",
    "- Add signal equation show relationship to flip angle\n"
   ]
  },
  {
   "cell_type": "markdown",
   "id": "65042988-7896-4161-a15e-502e971ef107",
   "metadata": {},
   "source": [
    "> ---\n",
    "> #### **Task 4.1: Pulse Calibration** \n",
    "> - TODO\n",
    "> ---"
   ]
  },
  {
   "cell_type": "code",
   "execution_count": null,
   "id": "a45179ee-5dfd-4796-b7e6-e3e86400856f",
   "metadata": {},
   "outputs": [],
   "source": []
  },
  {
   "cell_type": "markdown",
   "id": "637b5f40-0db7-4689-99f9-981725a488ab",
   "metadata": {
    "tags": []
   },
   "source": [
    "#### **Step Four: Pulse Calibration**\n",
    "\n",
    "**TO DO: inline dashboard for pulse calibration. Find max by looking at the curve**\n",
    "\n",
    "BAD :(\n",
    "\n",
    "With the system tuned, it is time to determine the RF pulse amplitude necessary to achieve a $90^\\circ$ tip of the magnetization. Try changing the RF Amplitude above and observing the effect on the initial value of the real part of the **Signal** plot. Roughly what RF Amplitude maximises the signal?\n",
    "\n",
    "Open the **Pulse Calibration** dashboard from the **Dashboard Apps** sidebar and run it. With **Pulse Calibration** dashboard tool the pulse amplitude for a given pulse length is found to maximize signal - giving the pulse size for a $90^\\circ$ tip. Make sure *soft pulse* is **deselected** and the *pulse width* is $32\\mathrm{\\mu s}$. When the pulse calibration is finished, the results will be automatically saved to the system global variables, and the amplitude value can also be read off the $x$ axis at the position of the dashed line (Note: the axis tick labels use SI prefixes, so 100m means 0.1)."
   ]
  },
  {
   "cell_type": "markdown",
   "id": "09234df8-daff-49c5-b5de-19a5fdf70cea",
   "metadata": {
    "tags": []
   },
   "source": [
    "## 4. Decay - T1,T2,T2*\n",
    "Basic T1, T2. Diagram with these labelled \n",
    "\n",
    "Intro homogeneity - maybe hall probe again\n",
    "\n",
    "\n",
    "\n",
    "Run FID again with correct pulse amplitude. Maximised inital value. Want to maximis the area under the signal - T2*.\n",
    "Explain the different decays\n",
    "\n",
    "Diagrams:\n",
    "- Homogeneity diagram - arrows for different field strengths\n",
    "- T1 returning to vertical\n",
    "- T2 dephasing\n",
    "- Diagram with T2* decay \n",
    "\n",
    "\n"
   ]
  },
  {
   "cell_type": "markdown",
   "id": "e215fa76-c9d3-4196-a886-c9ce16b8ff35",
   "metadata": {},
   "source": [
    "TODO:\n",
    "Label net magnetization component in xy plane as $\\vec M_{xy}$"
   ]
  },
  {
   "cell_type": "markdown",
   "id": "0a65157c-045b-4098-a420-2ec906c8eca5",
   "metadata": {
    "tags": []
   },
   "source": [
    "<!--<center><img src=\"Images/T1Decay.png\" width=\"400\"></center>-->\n",
    "<center><img src=\"Images/T2StarPhaseDiagram.png\" width=\"1300\"></center>\n",
    "<center><figcaption style=\"width: 300px;\">Figure 8: Dephasing that causes T2 decay </figcaption></center>"
   ]
  },
  {
   "cell_type": "markdown",
   "id": "19c95edf-85b7-4396-9eeb-2b106644126a",
   "metadata": {},
   "source": [
    "<center><img src=\"Images/T2StarDecay.png\" width=\"600\"></center>\n",
    "<center><figcaption style=\"width: 300px;\">Figure 9: ADD CAPTION </figcaption></center>"
   ]
  },
  {
   "cell_type": "markdown",
   "id": "4e83ad68-ead4-41b4-adfe-dc9f3bb47c94",
   "metadata": {
    "tags": []
   },
   "source": [
    "## 5. Correcting B0 Field Homogeneity\n",
    "revisit title\n",
    "\n",
    "Once the centre frequency has been established and the system set-up to excite and receive signals of that frequency, the system must be shimmed in order to maximize the homogeneity of the magnetic field. Run the **Autoshim** tool below with the **Coarse** setting to shim the system. The *Coarse* setting will start by resetting all the shims to zero and uses a wide bandwidth, whereas the *Quick* setting loads the saved values and uses a narrow bandwidth; it is suitable for retuning the system once everything is set up. The shims will be saved to `shims.yaml` in your `LAB_DIR`, to be used by the FID experiment above.\n",
    "\n"
   ]
  },
  {
   "cell_type": "markdown",
   "id": "60908ffa-647c-46b4-a7ce-04b48c25cfd8",
   "metadata": {},
   "source": [
    "> ---\n",
    "> #### **Task 4.1: Run Autoshim**\n",
    "> - TO DO \n",
    "> ---\n"
   ]
  },
  {
   "cell_type": "code",
   "execution_count": null,
   "id": "5163d76f-8603-4fad-b1c9-bdd2131085e7",
   "metadata": {
    "tags": []
   },
   "outputs": [],
   "source": [
    "# display frequency and rf_amp again as they are used by Autoshim\n",
    "pn.Row(frequency, rf_amp)"
   ]
  },
  {
   "cell_type": "code",
   "execution_count": null,
   "id": "2360b000-862a-405c-9248-73dafe7be62a",
   "metadata": {
    "tags": []
   },
   "outputs": [],
   "source": [
    "from Autoshim import AutoshimApp # from dashboards-inline directory that was added to sys.path\n",
    "\n",
    "autoshim = AutoshimApp(\n",
    "    output_dir=LAB_DIR,\n",
    "    override_pars=dict(\n",
    "        f=frequency, # use value of frequency from the user input\n",
    "        a_90=rf_amp, # use rf amplitude from the user input\n",
    "        t_90=32e-6,\n",
    "    )\n",
    ")\n",
    "autoshim.main()"
   ]
  },
  {
   "cell_type": "markdown",
   "id": "152bd432-cdd7-4028-8138-a23cdd62f79d",
   "metadata": {},
   "source": [
    "Explain graph"
   ]
  },
  {
   "cell_type": "markdown",
   "id": "ab2974f6-1e45-42a0-8675-c21fb2056f0e",
   "metadata": {
    "tags": []
   },
   "source": [
    "> ---\n",
    "> #### **Task 4.2: FID Check with Shim**\n",
    "> - Rerun the FID experiment using the tool below and make note of how the amplitude and decay of the signal has changed compared to without shims in **Step Three**. With a good shim there should still be significant signal at 5 ms. \n",
    "> ---\n"
   ]
  },
  {
   "cell_type": "code",
   "execution_count": null,
   "id": "e30931af-ccc1-4907-b8a7-bc80515861cc",
   "metadata": {
    "jupyter": {
     "source_hidden": true
    },
    "tags": []
   },
   "outputs": [],
   "source": [
    "# create FID experiment using user shims, frequency, and RF amplitude\n",
    "fid2 = FIDApp(\n",
    "    override_par_files=[\n",
    "        SHIM_FILE\n",
    "    ],\n",
    "    override_pars=dict(\n",
    "        f=frequency, # use value of frequency from the user input\n",
    "        a_90=rf_amp, # use rf amplitude from the user input\n",
    "        t_90=32e-6,\n",
    "        n_scans=1,\n",
    "        n_samples=10000,\n",
    "        t_dw=0.5e-6,\n",
    "        t_acqdelay=50e-6,\n",
    "        t_end=0.5\n",
    "    )\n",
    ")\n",
    "fid2.main()"
   ]
  },
  {
   "cell_type": "markdown",
   "id": "12bc84fd-5519-4c49-8ea0-c75603323d10",
   "metadata": {
    "tags": []
   },
   "source": [
    "## 6. Spin Echo \n",
    "\n",
    "Diagrams:\n",
    "\n",
    "Spin echo pulse sequence \n",
    "\n",
    "Spin diagrams showing different phase and 180 degree pulse - show realigning\n",
    "\n"
   ]
  },
  {
   "cell_type": "markdown",
   "id": "df25db63-42d3-4f8f-8e59-b7283c31175a",
   "metadata": {},
   "source": [
    "<center><img src=\"Images/SpinEchoPulse.png\" width=\"800\"></center>\n",
    "<center><figcaption style=\"width: 300px;\">Figure 10: Spin echo pulse sequence </figcaption></center>"
   ]
  },
  {
   "cell_type": "markdown",
   "id": "a4e8cc46-18f6-4836-9fd4-486aecaf106b",
   "metadata": {},
   "source": [
    "<center><img src=\"Images/SpinEchoPhase.png\" width=\"1300\"></center>\n",
    "<center><figcaption style=\"width: 300px;\">Figure 11: Effect of 180 degree pulse on phase </figcaption></center>"
   ]
  },
  {
   "cell_type": "code",
   "execution_count": null,
   "id": "23fe5bcb-b891-4aa5-a107-f4ddff4558eb",
   "metadata": {},
   "outputs": [],
   "source": []
  }
 ],
 "metadata": {
  "kernelspec": {
   "display_name": "Python 3 (ipykernel)",
   "language": "python",
   "name": "python3"
  },
  "language_info": {
   "codemirror_mode": {
    "name": "ipython",
    "version": 3
   },
   "file_extension": ".py",
   "mimetype": "text/x-python",
   "name": "python",
   "nbconvert_exporter": "python",
   "pygments_lexer": "ipython3",
   "version": "3.10.7"
  },
  "widgets": {
   "application/vnd.jupyter.widget-state+json": {
    "state": {},
    "version_major": 2,
    "version_minor": 0
   }
  }
 },
 "nbformat": 4,
 "nbformat_minor": 5
}
