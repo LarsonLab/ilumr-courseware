{
 "cells": [
  {
   "cell_type": "markdown",
   "id": "d71971d6-d6ef-469e-912e-150e28645ac8",
   "metadata": {
    "tags": []
   },
   "source": [
    "# **LAB ONE: NMR SIGNAL**"
   ]
  },
  {
   "cell_type": "markdown",
   "id": "603d45be-d4a6-43bf-a453-11b7c2157d27",
   "metadata": {},
   "source": [
    "Brief description of lab"
   ]
  },
  {
   "cell_type": "markdown",
   "id": "588993ce-8c49-4f86-a33b-a1767e54eae6",
   "metadata": {},
   "source": [
    "#### Learning Objectives:\n",
    "- Learn about magnetic fields in NMR\n",
    "- Learn what NMR is\n",
    "- Learn how to excite an NMR signal in a sample\n",
    "- Learn how to measure the NMR signal\n",
    "- Learn what causes NMR signal decay\n",
    "- Learn how to optimise amplitude and duration\n",
    "- Learn what an NMR spin echo is\n",
    "\n",
    "#### Assumed Knowledge:\n",
    "- LC Resonance \n",
    "- Solenoid Coils\n",
    "- Fourier Transform\n",
    "- Angular Momentum \n",
    "- Complex Numbers\n"
   ]
  },
  {
   "cell_type": "markdown",
   "id": "cddb0019-74db-4e0b-828d-bc79417a2c01",
   "metadata": {
    "tags": []
   },
   "source": [
    "-------------------------------------------------------------------------------------------------------------------------------------------------------\n",
    "#### **Setup Task:**\n",
    "\n",
    "To initialise this notebook, edit the cell above to set `LAB_USER_NAME` to your name, then click **Run->Run All Cells** in the top menu bar  \n",
    "\n",
    "\n"
   ]
  },
  {
   "cell_type": "code",
   "execution_count": null,
   "id": "12fe24a6-7a3c-4981-bd40-2c7c7fd390bf",
   "metadata": {
    "tags": []
   },
   "outputs": [],
   "source": [
    "LAB_USER_NAME = 'Spider'"
   ]
  },
  {
   "cell_type": "code",
   "execution_count": null,
   "id": "ec29cfe5-e2c8-4485-8877-f43bb0d496fa",
   "metadata": {
    "jupyter": {
     "source_hidden": true
    },
    "tags": []
   },
   "outputs": [],
   "source": [
    "import panel as pn\n",
    "pn.extension()\n",
    "import sys\n",
    "import os\n",
    "sys.path.append('/home/notebooks/dashboards-inline')\n",
    "LAB_DIR = os.path.join('/home/data/', LAB_USER_NAME)\n",
    "os.makedirs(LAB_DIR, exist_ok=True)\n",
    "print('Data will be saved to', LAB_DIR)"
   ]
  },
  {
   "cell_type": "markdown",
   "id": "104123fb-dc17-45f6-8f1e-43b20170b12c",
   "metadata": {},
   "source": [
    "-------------------------------------------------------------------------------------------------------------------------------------------------------"
   ]
  },
  {
   "cell_type": "markdown",
   "id": "40b20454-32c9-4f3a-97e2-a08b18743457",
   "metadata": {
    "tags": []
   },
   "source": [
    "## 1. Theory\n",
    "\n",
    "Nuclear Magnetic Resonance occurs when a nucleus that is magnetic is placed in an external magnetic field. Using a classical physics model, the nucleus can be thought of as a tiny bar magnet with an orientation and strength represented by its magnetic moment, written as $\\vec\\mu$. Nuclei with nonzero magnetic moment also have angular momentum, so it can also be thought of as a spinning top with the magnetic axis oriented in the same direction as the rotation axis (see the diagram below). When placed in an external magnetic field, which we will call $\\vec B_0$, the nucleus will experience a torque pulling it into alignment with $\\vec B_0$. However, because the nucleus also has angular momentum it will not rotate directly into alignment, but instead it will precess around $\\vec B_0$; behaving like a spinning top that is slowly falling over.\n",
    "\n",
    "The frequency of this precession is called the Larmor Frequency, given by:\n",
    "\n",
    "$$f = \\frac{\\gamma}{2\\pi} B_0$$\n",
    "\n",
    "$\\gamma$ is the gyromagnetic ratio, which is a property of the nucleus. We will be using hydrogen nuclei (the hydrogen in water), which has a gyromagnetic ratio of:\n",
    "\n",
    "$$\\gamma/2\\pi = 42.58 \\times 10^{6} \\ \\mathrm{Hz}/\\mathrm{T}$$"
   ]
  },
  {
   "cell_type": "markdown",
   "id": "6cf3f838-151f-4749-940f-52bcfd5ddea9",
   "metadata": {},
   "source": [
    "TODO:\n",
    "- label H+ magnetic moment in diagram as $\\vec\\mu$"
   ]
  },
  {
   "cell_type": "markdown",
   "id": "0d18fdb6-0bda-4e99-898b-a1ebd1667f84",
   "metadata": {},
   "source": [
    "<center><img src=\"Images/PrecessionDiagram.png\" width=\"200\"></center>"
   ]
  },
  {
   "cell_type": "markdown",
   "id": "169224ce-9f63-4f36-ad27-26e3166ea3dd",
   "metadata": {},
   "source": [
    "- B0 show the parts of the machine that controls this field and discuss the direction of field (compare to standard MRI?)\n",
    "- \n",
    "-\n",
    "-\n",
    "-\n",
    "- Do we want to discuss the location of the tuning capacitors and stuff here or later on when we get them to tune things?????"
   ]
  },
  {
   "cell_type": "markdown",
   "id": "b2d6d3cb-6fb6-4a81-8974-398cbc8c6252",
   "metadata": {},
   "source": [
    "## 1. Hardware\n",
    "\n",
    "In order to measure the precession of the nuclei, we use a pickup coil oriented perpendicular to the main field, as shown in the diagram below.\n",
    "\n",
    "TBC\n",
    "\n",
    "Diagrams:\n",
    "- render of the magnet: show b0 and b1 - perpendicular"
   ]
  },
  {
   "cell_type": "markdown",
   "id": "13c1c76d-72fc-4cde-b0b5-0e67d3dd1de7",
   "metadata": {},
   "source": [
    "<center><img src=\"Images/MagnetCore.png\" width=\"200\"><img src=\"Images/MagneticFieldDirection.png\" width=\"500\"></center>"
   ]
  },
  {
   "cell_type": "markdown",
   "id": "ddb4d484-06bb-4662-b2c6-f823673c677e",
   "metadata": {
    "tags": []
   },
   "source": [
    "The $B_1$ field is generated by an RF coil in parallel with a capacitor which functions as a simple RLC resonator circuit. The resonant frequency of an RLC circuit is as follows:\n",
    "\n",
    "$$f_0 = \\frac{1}{2\\pi\\sqrt{LC}}$$\n",
    "\n",
    "Adjusting the *Tune* capacitor on the probe changes the value of $C$. The RLC resonator circuit also needs to be impedance matched to the RF transmit amplifier and receive preamplifier, which have a characteristic impedance of 50 Ohms. This is accomplished with a *Match* capacitor.\n",
    "\n",
    "The Wobble tool plots the $S_{11}$ curve of the RF coil, which indicates the tune and match of the RF coil. An $S_{11}$ plots the reflected signal of the the coil as a function of frequency. The position of the dip in the $S_{11}$ curve is mostly controlled by the *Tune* capacitor, while the depth of the dip is mostly controlled by the *Match* capacitor, though there is some overlap in effect. Power will be transfered to the coil most efficiently when the amount of reflected power measured by $S_{11}$ is minimised. \n",
    "\n",
    "**NO S11 - Explain!**"
   ]
  },
  {
   "cell_type": "markdown",
   "id": "be992e2a-a967-4ef1-a26c-d6b533c07feb",
   "metadata": {},
   "source": [
    "<center><img src=\"Images/CapCircuit.png\" width=\"500\"></center>"
   ]
  },
  {
   "cell_type": "markdown",
   "id": "76e7837a-70cf-421a-9e2f-8b3714d202e1",
   "metadata": {},
   "source": [
    "> -------------------------------------------------------------------------------------------------------------------------------------------------------\n",
    "> #### **Task 1.1: Measure Magnetic Field Strength**\n",
    "> \n",
    "> - Hall probe and compass to find the direction and strength of the magnetic field\n",
    "> - Record the field strength\n",
    "> \n",
    "> -------------------------------------------------------------------------------------------------------------------------------------------------------"
   ]
  },
  {
   "cell_type": "markdown",
   "id": "15c5b3d2-c346-4c8e-8b44-2508f147cebc",
   "metadata": {
    "tags": []
   },
   "source": [
    "## 2. Precession and Tuning to Larmor Frequency\n",
    "\n",
    "Some explaination of precession and NMR\n",
    "\n",
    "Equation for the Larmor frequency\n",
    "\n",
    "Diagram: add angular momentum\n"
   ]
  },
  {
   "cell_type": "markdown",
   "id": "3ecb73eb-0b8e-4f64-939b-febf8582ab55",
   "metadata": {
    "tags": []
   },
   "source": [
    ">--- \n",
    "> #### **Task 2.1: Calculate Larmor Frequency**\n",
    ">\n",
    "> The $^1\\mathrm{H}$ nucleus has a gyromagnetic ratio of 42.576 MHz/T and a system field strength of about 0.3425 T.  \n",
    ">\n",
    "> Calculate the desired frequency of the system and enter your calculated value in Hz below (scientific notation will work, e.g. \"5.5e6\"):\n",
    ">\n",
    ">--- "
   ]
  },
  {
   "cell_type": "code",
   "execution_count": null,
   "id": "926ae25d-a76a-4c77-ae72-b7f4310532ca",
   "metadata": {
    "jupyter": {
     "source_hidden": true
    },
    "tags": []
   },
   "outputs": [],
   "source": [
    "frequency = pn.widgets.FloatInput(name='Frequency (Hz)', start=0, step=1000)\n",
    "frequency"
   ]
  },
  {
   "cell_type": "markdown",
   "id": "7af3324e-7f80-4ae7-bb6a-2c5f76514e99",
   "metadata": {},
   "source": [
    "\n",
    "\n",
    "**TO DO: Reintroduce the wobble tool and what it does.** \n"
   ]
  },
  {
   "cell_type": "markdown",
   "id": "82a63a39-e2f9-4798-86ce-470dd3f554c5",
   "metadata": {
    "tags": []
   },
   "source": [
    "> -------------------------------------------------------------------------------------------------------------------------------------------------------\n",
    "> #### **Task 2.2: Tune the Probe**\n",
    "> - Remove the black plate on top of the ilumr by rotating it anticlockwise.\n",
    "> - Run the **Wobble** tool below in loop mode. \n",
    "> - While the **Wobble** tool is running, adjust the variable capacitors with the provided screwdriver to tune and match the RF coil to your calculated Larmor frequency (Note: the dotted line on the plot corresponds to the desired frequency). **TO DO: show picture of caps. add description of how to know when the probe is tuned enough**\n",
    "> - Include the dB measurement of your coil tune - this will require a simple calculation. *we need to reword this slightly*\n",
    "> - Load a sample into the ilumr and observe how \"loading\" a coil will affect both the tune and match of the coil.\n",
    "> -------------------------------------------------------------------------------------------------------------------------------------------------------"
   ]
  },
  {
   "cell_type": "code",
   "execution_count": null,
   "id": "89ad5e40-0db4-4dc2-a563-b1b5288e4dc8",
   "metadata": {
    "tags": []
   },
   "outputs": [],
   "source": [
    "from Wobble import WobbleApp # from dashboards-inline directory that was added to sys.path\n",
    "wobble = WobbleApp(\n",
    "    override_pars=dict(\n",
    "        f=frequency, # use value of fequency from the user input\n",
    "        f_bw=2e6 # fix bandwidth at 2 MHz\n",
    "    )\n",
    ")\n",
    "wobble.main()"
   ]
  },
  {
   "cell_type": "markdown",
   "id": "f69b6e20-827d-42cb-b126-94431526e880",
   "metadata": {},
   "source": [
    "TO DO: ADD CHART TITLES"
   ]
  },
  {
   "cell_type": "markdown",
   "id": "f2bfbc1f-a4b4-4e87-9555-430806577055",
   "metadata": {
    "tags": []
   },
   "source": [
    "NOTE: If using **Run Loop**, click abort before continuing\n"
   ]
  },
  {
   "cell_type": "markdown",
   "id": "a359d137-5dc8-4b68-8fa8-8fa691634445",
   "metadata": {},
   "source": [
    "> ---\n",
    "> #### **Task 2.3: Find NMR Signal** \n",
    "> - Use the depth gauge to align the **shim sample** with the 10mm point.\n",
    "> - Load the **shim sample** into the ilumr.\n",
    "> - Input your calculated frequency and a starting RF amplitude guess of $0.5$ (half of maximum) into the boxes below.\n",
    "> - Run the **FID** tool below. \n",
    "> ---\n"
   ]
  },
  {
   "cell_type": "markdown",
   "id": "ce38180d-290b-498d-9cf2-92ebef8c9575",
   "metadata": {},
   "source": []
  },
  {
   "cell_type": "code",
   "execution_count": null,
   "id": "c7f84e31-16a9-4d62-b6e9-5e44f80a251d",
   "metadata": {
    "tags": []
   },
   "outputs": [],
   "source": [
    "rf_amp = pn.widgets.FloatInput(name='RF Amplitude (fraction of maximum)', start=0, end=1, step=0.1, value=0.5)\n",
    "# Also display frequency again, as FID uses it\n",
    "pn.Row(frequency, rf_amp)"
   ]
  },
  {
   "cell_type": "code",
   "execution_count": null,
   "id": "d129a2c7-a073-4f9f-989c-dae0d54a3817",
   "metadata": {
    "tags": []
   },
   "outputs": [],
   "source": [
    "from FID import FIDApp # from dashboards-inline directory that was added to sys.path\n",
    "\n",
    "# setup user shims file\n",
    "import yaml\n",
    "SHIM_FILE = os.path.join(LAB_DIR, 'shims.yaml')\n",
    "DEFAULT_SHIMS = dict(\n",
    "    shim_x=0,\n",
    "    shim_y=0,\n",
    "    shim_z=0,\n",
    "    shim_z2=0,\n",
    "    shim_zx=0,\n",
    "    shim_zy=0,\n",
    "    shim_xy=0,\n",
    "    shim_x2y2=0)\n",
    "if not os.path.isfile(SHIM_FILE):\n",
    "    with open(SHIM_FILE, 'w') as f:\n",
    "        yaml.dump(DEFAULT_SHIMS, f)\n",
    "\n",
    "# create FID experiment using user shims, frequency, and RF amplitude\n",
    "fid = FIDApp(\n",
    "    override_par_files=[\n",
    "        SHIM_FILE\n",
    "    ],\n",
    "    override_pars=dict(\n",
    "        f=frequency, # use value of frequency from the user input\n",
    "        a_90=rf_amp, # use rf amplitude from the user input\n",
    "        t_90=32e-6,\n",
    "        n_scans=1,\n",
    "        n_samples=10000,\n",
    "        t_dw=0.5e-6,\n",
    "        t_acqdelay=50e-6,\n",
    "        t_end=0.5\n",
    "    )\n",
    ")\n",
    "fid.main()"
   ]
  },
  {
   "cell_type": "markdown",
   "id": "29cb1e85-767d-440e-9fcc-bc34ef5a960e",
   "metadata": {},
   "source": [
    "**TO DO: Explain how to identify the NMR signal**"
   ]
  },
  {
   "cell_type": "markdown",
   "id": "8971bac0-8d39-484e-93ba-fb084f912cb6",
   "metadata": {},
   "source": [
    "**TO DO: Explain: Rotating reference frames**\n",
    "\n",
    "Diagrams in here\n",
    "\n",
    "Tell them what to look for (noise etc) maybe example?"
   ]
  },
  {
   "cell_type": "markdown",
   "id": "b346f249-fa51-4058-bb6d-3a7efcf7545e",
   "metadata": {},
   "source": [
    "<center><img src=\"Images/RotatingFrame.png\" width=\"800\"></center>"
   ]
  },
  {
   "cell_type": "markdown",
   "id": "0f0b7ee2-7645-4dd0-b6fe-3fa0efd38f0f",
   "metadata": {},
   "source": [
    "> ---\n",
    "> #### **Task 2.4: Measure the Offset**\n",
    "> The spectrum plot on the right side displays the FFT for the FID signal. The x-axis displays the relative frequency of the signal - where 0 Hz is the $f_0$ of the RF pulse. Does your acquired signal peak correspond to your calculated Larmor frequency - why or why not? *we need to reword this explaination i find it confusing*\n",
    ">\n",
    "> - Measure the relative frequency offset of the **Spectrum** peak (try the zoom tools at the top right of the plot) and add it to your calculated frequency, then enter the new value into the frequency input and rerun the **FID** tool to check the spectrum peak is now centered. Record this value for your report. *also reword*\n",
    "> - Open the **Find Frequency** dashboard from the **Dashboard Apps** sidebar and run it. How does the frequency you found compare?\n",
    "> ---"
   ]
  },
  {
   "cell_type": "markdown",
   "id": "2a72e704-0889-41b3-aefa-a825ab982dde",
   "metadata": {},
   "source": [
    "> ---\n",
    "> #### **Task 2.5: Retune the Probe**\n",
    "> - Now that the correct frequency has been measured, go back to **Step Two**, rerun wobble, and retune the probe if necessary.   \n",
    "> ---\n"
   ]
  },
  {
   "cell_type": "markdown",
   "id": "58c8eeda-46c4-44ca-8dd1-1a823e72cf78",
   "metadata": {},
   "source": [
    "**TO DO: Add new dashboard for this**"
   ]
  },
  {
   "cell_type": "markdown",
   "id": "2999cb79-929c-4d3c-b27a-7b0302b509dd",
   "metadata": {},
   "source": [
    "## 3. Flip angle\n",
    "\n",
    "Explain this. Does this relate to the pulse calibration step?\n",
    "Only the component in the x,y plane is measurable by the probe coil\n",
    "\n",
    "How flip angle relates to area under pulse\n",
    "\n",
    "Diagram: \n",
    "show spin angles - and the pulse amplitudes diagram\n",
    "\n",
    "Add the pulse sequence diagram\n",
    "\n",
    "Pulse calibration showing full rotation\n"
   ]
  },
  {
   "cell_type": "markdown",
   "id": "5ec37a59-3e40-42a6-a73b-48300e9c13ca",
   "metadata": {},
   "source": [
    "TODO: \n",
    "- Add signal equation show relationship to flip angle\n",
    "- Seperate A1-3 and S1-3 on time axis, in order of amplitude"
   ]
  },
  {
   "cell_type": "markdown",
   "id": "6165b0c1-2bef-4b2d-a15e-bfb2fb1af68d",
   "metadata": {},
   "source": [
    "<center><img src=\"Images/SpinAngleDiagram_2.0.png\" width=\"300\"></center>"
   ]
  },
  {
   "cell_type": "markdown",
   "id": "89cc373d-0634-40f3-99c5-95b6fb2e0ea2",
   "metadata": {},
   "source": [
    "<center><img src=\"Images/SpinAngleSignal.png\" width=\"700\"></center>"
   ]
  },
  {
   "cell_type": "markdown",
   "id": "637b5f40-0db7-4689-99f9-981725a488ab",
   "metadata": {
    "tags": []
   },
   "source": [
    "#### **Step Four: Pulse Calibration**\n",
    "\n",
    "**TO DO: inline dashboard for pulse calibration. Find max by looking at the curve**\n",
    "\n",
    "BAD :(\n",
    "\n",
    "With the system tuned, it is time to determine the RF pulse amplitude necessary to achieve a $90^\\circ$ tip of the magnetization. Try changing the RF Amplitude above and observing the effect on the initial value of the real part of the **Signal** plot. Roughly what RF Amplitude maximises the signal?\n",
    "\n",
    "Open the **Pulse Calibration** dashboard from the **Dashboard Apps** sidebar and run it. With **Pulse Calibration** dashboard tool the pulse amplitude for a given pulse length is found to maximize signal - giving the pulse size for a $90^\\circ$ tip. Make sure *soft pulse* is **deselected** and the *pulse width* is $32\\mathrm{\\mu s}$. When the pulse calibration is finished, the results will be automatically saved to the system global variables, and the amplitude value can also be read off the $x$ axis at the position of the dashed line (Note: the axis tick labels use SI prefixes, so 100m means 0.1)."
   ]
  },
  {
   "cell_type": "markdown",
   "id": "09234df8-daff-49c5-b5de-19a5fdf70cea",
   "metadata": {
    "tags": []
   },
   "source": [
    "## 4. Decay - T1,T2,T2*\n",
    "Basic T1, T2. Diagram with these labelled \n",
    "\n",
    "Intro homogeneity - maybe hall probe again\n",
    "\n",
    "\n",
    "\n",
    "Run FID again with correct pulse amplitude. Maximised inital value. Want to maximis the area under the signal - T2*.\n",
    "Explain the different decays\n",
    "\n",
    "Diagrams:\n",
    "- Homogeneity diagram - arrows for different field strengths\n",
    "- T1 returning to vertical\n",
    "- T2 dephasing\n",
    "- Diagram with T2* decay \n",
    "\n",
    "\n"
   ]
  },
  {
   "cell_type": "markdown",
   "id": "e667dada-3288-4ce4-a040-fd55a8bea947",
   "metadata": {},
   "source": [
    "<center><img src=\"Images/T1Decay.png\" width=\"400\"></center>"
   ]
  },
  {
   "cell_type": "markdown",
   "id": "0a65157c-045b-4098-a420-2ec906c8eca5",
   "metadata": {},
   "source": [
    "<center><img src=\"Images/T2StarPhaseDiagram.png\" width=\"1300\"></center>"
   ]
  },
  {
   "cell_type": "markdown",
   "id": "19c95edf-85b7-4396-9eeb-2b106644126a",
   "metadata": {},
   "source": [
    "<center><img src=\"Images/T2StarDecay.png\" width=\"600\"></center>"
   ]
  },
  {
   "cell_type": "markdown",
   "id": "4e83ad68-ead4-41b4-adfe-dc9f3bb47c94",
   "metadata": {
    "tags": []
   },
   "source": [
    "## 5. Correcting B0 Field Homogeneity\n",
    "revisit title\n",
    "\n",
    "Once the centre frequency has been established and the system set-up to excite and receive signals of that frequency, the system must be shimmed in order to maximize the homogeneity of the magnetic field. Run the **Autoshim** tool below with the **Coarse** setting to shim the system. The *Coarse* setting will start by resetting all the shims to zero and uses a wide bandwidth, whereas the *Quick* setting loads the saved values and uses a narrow bandwidth; it is suitable for retuning the system once everything is set up. The shims will be saved to `shims.yaml` in your `LAB_DIR`, to be used by the FID experiment above.\n",
    "\n"
   ]
  },
  {
   "cell_type": "markdown",
   "id": "60908ffa-647c-46b4-a7ce-04b48c25cfd8",
   "metadata": {},
   "source": [
    "> ---\n",
    "> #### **Task 4.1: Run Autoshim**\n",
    "> - TO DO \n",
    "> ---\n"
   ]
  },
  {
   "cell_type": "code",
   "execution_count": null,
   "id": "5163d76f-8603-4fad-b1c9-bdd2131085e7",
   "metadata": {
    "tags": []
   },
   "outputs": [],
   "source": [
    "# display frequency and rf_amp again as they are used by Autoshim\n",
    "pn.Row(frequency, rf_amp)"
   ]
  },
  {
   "cell_type": "code",
   "execution_count": null,
   "id": "2360b000-862a-405c-9248-73dafe7be62a",
   "metadata": {
    "tags": []
   },
   "outputs": [],
   "source": [
    "from Autoshim import AutoshimApp # from dashboards-inline directory that was added to sys.path\n",
    "\n",
    "autoshim = AutoshimApp(\n",
    "    output_dir=LAB_DIR,\n",
    "    override_pars=dict(\n",
    "        f=frequency, # use value of frequency from the user input\n",
    "        a_90=rf_amp, # use rf amplitude from the user input\n",
    "        t_90=32e-6,\n",
    "    )\n",
    ")\n",
    "autoshim.main()"
   ]
  },
  {
   "cell_type": "markdown",
   "id": "152bd432-cdd7-4028-8138-a23cdd62f79d",
   "metadata": {},
   "source": [
    "Explain graph"
   ]
  },
  {
   "cell_type": "markdown",
   "id": "ab2974f6-1e45-42a0-8675-c21fb2056f0e",
   "metadata": {
    "tags": []
   },
   "source": [
    "> ---\n",
    "> #### **Task 4.2: FID Check with Shim**\n",
    "> - Rerun the FID experiment using the tool below and make note of how the amplitude and decay of the signal has changed compared to without shims in **Step Three**. With a good shim there should still be significant signal at 5 ms. \n",
    "> ---\n"
   ]
  },
  {
   "cell_type": "code",
   "execution_count": null,
   "id": "e30931af-ccc1-4907-b8a7-bc80515861cc",
   "metadata": {
    "jupyter": {
     "source_hidden": true
    },
    "tags": []
   },
   "outputs": [],
   "source": [
    "# create FID experiment using user shims, frequency, and RF amplitude\n",
    "fid2 = FIDApp(\n",
    "    override_par_files=[\n",
    "        SHIM_FILE\n",
    "    ],\n",
    "    override_pars=dict(\n",
    "        f=frequency, # use value of frequency from the user input\n",
    "        a_90=rf_amp, # use rf amplitude from the user input\n",
    "        t_90=32e-6,\n",
    "        n_scans=1,\n",
    "        n_samples=10000,\n",
    "        t_dw=0.5e-6,\n",
    "        t_acqdelay=50e-6,\n",
    "        t_end=0.5\n",
    "    )\n",
    ")\n",
    "fid2.main()"
   ]
  },
  {
   "cell_type": "markdown",
   "id": "12bc84fd-5519-4c49-8ea0-c75603323d10",
   "metadata": {
    "tags": []
   },
   "source": [
    "## 6. Spin Echo \n",
    "\n",
    "Diagrams:\n",
    "\n",
    "Spin echo pulse sequence \n",
    "\n",
    "Spin diagrams showing different phase and 180 degree pulse - show realigning\n",
    "\n"
   ]
  },
  {
   "cell_type": "markdown",
   "id": "df25db63-42d3-4f8f-8e59-b7283c31175a",
   "metadata": {},
   "source": [
    "<center><img src=\"Images/SpinEchoPulse.png\" width=\"800\"></center>"
   ]
  },
  {
   "cell_type": "markdown",
   "id": "a4e8cc46-18f6-4836-9fd4-486aecaf106b",
   "metadata": {},
   "source": [
    "<center><img src=\"Images/SpinEchoPhase.png\" width=\"1300\"></center>"
   ]
  },
  {
   "cell_type": "markdown",
   "id": "0627a3c8-4c3e-48f6-9800-ac6550518ffe",
   "metadata": {},
   "source": [
    "## T1 Repetition Time"
   ]
  },
  {
   "cell_type": "code",
   "execution_count": null,
   "id": "23fe5bcb-b891-4aa5-a107-f4ddff4558eb",
   "metadata": {},
   "outputs": [],
   "source": []
  }
 ],
 "metadata": {
  "kernelspec": {
   "display_name": "Python 3 (ipykernel)",
   "language": "python",
   "name": "python3"
  },
  "language_info": {
   "codemirror_mode": {
    "name": "ipython",
    "version": 3
   },
   "file_extension": ".py",
   "mimetype": "text/x-python",
   "name": "python",
   "nbconvert_exporter": "python",
   "pygments_lexer": "ipython3",
   "version": "3.10.7"
  },
  "widgets": {
   "application/vnd.jupyter.widget-state+json": {
    "state": {},
    "version_major": 2,
    "version_minor": 0
   }
  }
 },
 "nbformat": 4,
 "nbformat_minor": 5
}
