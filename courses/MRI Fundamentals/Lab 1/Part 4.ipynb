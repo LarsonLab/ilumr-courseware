{
 "cells": [
  {
   "cell_type": "code",
   "execution_count": null,
   "id": "16f05f60-40d9-4bec-8261-c48c94802a07",
   "metadata": {},
   "outputs": [],
   "source": [
    "LAB_USER_NAME = 'DEMO'"
   ]
  },
  {
   "cell_type": "markdown",
   "id": "70b86f3b-239d-4b41-9233-498dbbc9f362",
   "metadata": {},
   "source": [
    "**Important**: To initialise this notebook, edit the cell above to set `LAB_USER_NAME` to your name, then click **Run->Run All Cells** in the top menu bar. This needs to be the same as the name used in **Part 1** for the files from that part to be loaded."
   ]
  },
  {
   "cell_type": "code",
   "execution_count": null,
   "id": "179ea1b4-60c9-4514-8c4c-e78271824085",
   "metadata": {
    "tags": []
   },
   "outputs": [],
   "source": [
    "import panel as pn\n",
    "pn.extension()\n",
    "import sys\n",
    "import os\n",
    "\n",
    "# add inline dashboard libraries to path so they can be imported later\n",
    "sys.path.append('../../../dashboards-inline')\n",
    "\n",
    "LAB_DIR = os.path.join('/home/data/', LAB_USER_NAME)\n",
    "os.makedirs(LAB_DIR, exist_ok=True)\n",
    "print('User data directory:', LAB_DIR)"
   ]
  },
  {
   "cell_type": "markdown",
   "id": "a21e17c7-ac01-4245-bd54-8228d9b527cf",
   "metadata": {},
   "source": [
    "## Part Four: Single Shot T2 Measurement"
   ]
  },
  {
   "cell_type": "markdown",
   "id": "09ae3ac9-3ac0-409d-b183-e69035804c5f",
   "metadata": {},
   "source": [
    "### 1. Overview\n",
    "\n"
   ]
  },
  {
   "cell_type": "markdown",
   "id": "3961c2c6-df15-4d31-90de-dafc8ff5b284",
   "metadata": {},
   "source": [
    "### 2. Theory\n",
    "\n",
    "Spin-spin relaxation causes the NMR signal to decay exponentially via dephasing with a time constant called $T_2$, described by the following equation:\n",
    "\n",
    "$$\\large M(t) = M(0) \\cdot \\mathrm{e}^{-t/T_2}$$"
   ]
  },
  {
   "cell_type": "markdown",
   "id": "059b573a-4ae0-4d62-9503-bbc842c59714",
   "metadata": {
    "tags": []
   },
   "source": [
    "### 3. The Carr-Purcell Meiboom-Gill Sequence\n",
    "The dashboard below allows you to modify the echo time and echo count and see the NMR signal resulting from a CPMG (Carr-Purcell Meiboom-Gill) pulse train. For this pulse sequence the signal is acquired the entire time from the first RF pulse, so you will be able to see the FID signal and glitches caused by the RF  pulse train, as well as the signal from echoes. Usually the acquisition would be gated on for a short time around the center of each echo.\n",
    "\n",
    "#### **Phase Cycling**\n",
    "This tool allows for multiple scans to be acquired. When using multiple scans the phases of the 90 and 180 pulses will be cycled according to the following scheme:\n",
    "| Scan | 90 | 180 |\n",
    "| -: | -: | -: |\n",
    "| 1 | 0 | 90 |\n",
    "| 2 | 180 | 90 |\n",
    "| 3 | 0 | 270 |\n",
    "| 4 | 180 | 270 |\n",
    "\n",
    "#### **Plot Tool Notes**\n",
    "The $y$ value can be easily read off a plot line by hovering over it with the mouse, as long as the hover tool is enabled.\n",
    "\n",
    "#### **Step One**\n",
    "Run the CPMG experiment. You should be able to see the $T_2$ relaxation in the heights of the echos"
   ]
  },
  {
   "cell_type": "code",
   "execution_count": null,
   "id": "a6ba3073-97e5-436a-91fa-46aff37eb172",
   "metadata": {
    "tags": []
   },
   "outputs": [],
   "source": [
    "# inputs\n",
    "s3_echo_time = pn.widgets.FloatInput(name='Echo Time (seconds)', start=0.005, end=0.1, step=0.001, value=0.02, width=200)\n",
    "s3_echo_count = pn.widgets.IntInput(name='Echo Count', start=1, end=64, step=1, value=16, width=200)\n",
    "s3_scan_count = pn.widgets.IntInput(name='Scans (phase cycled)', start=1, end=4, step=1, value=1, width=200)\n",
    "    \n",
    "from full_acq_CPMG import FullAcqCPMGApp # from dashboards-inline directory that was added to sys.path\n",
    "# set some parameters directly\n",
    "override_pars = dict(\n",
    "    t_echo=s3_echo_time,\n",
    "    n_echo=s3_echo_count,\n",
    "    n_scans=s3_scan_count,\n",
    "    n_samples=25000,\n",
    "    t_dw=20e-6,\n",
    "    t_end=0.5\n",
    ")\n",
    "\n",
    "# create dashboard app\n",
    "section3_app = FullAcqCPMGApp(\n",
    "    override_pars=override_pars,\n",
    "    show_magnitude=True,\n",
    "    show_complex=True\n",
    ")\n",
    "\n",
    "# display layout\n",
    "pn.Column(\n",
    "    pn.Row(s3_echo_time, s3_echo_count, s3_scan_count),\n",
    "    section3_app.main(),\n",
    "    sizing_mode='stretch_width'\n",
    ")"
   ]
  },
  {
   "cell_type": "markdown",
   "id": "8e79612b-1045-49b7-adf6-83deec765341",
   "metadata": {
    "tags": []
   },
   "source": [
    "### 4. CPMG with short echo time and many echos\n",
    "\n",
    "This experiment only acquires signal in a series of short windows centered on the echos, then the signal from each echo is averaged into a single data point.\n",
    "With the data processed in this way the result is a direct plot of the decay curve of the heights of the echos.\n",
    "\n",
    "**Note:** The echo time, echo count, and scan count inputs here are not syncronized to the ones above."
   ]
  },
  {
   "cell_type": "code",
   "execution_count": null,
   "id": "aef469c1-5297-4705-add1-db2e8600402a",
   "metadata": {
    "tags": []
   },
   "outputs": [],
   "source": [
    "from CPMG import CPMGApp # from dashboards-inline directory that was added to sys.path\n",
    "\n",
    "s4_echo_time = pn.widgets.FloatInput(name='Echo Time (seconds)', start=0.0002, step=0.0001, end=0.01, value=0.001, width=200)\n",
    "s4_echo_count = pn.widgets.IntInput(name='Echo Count', start=1, end=10000, step=1, value=2000, width=200)\n",
    "s4_scan_count = pn.widgets.IntInput(name='Scans (phase cycled)', start=1, end=4, step=1, value=1, width=200)\n",
    "\n",
    "# set some parameters directly\n",
    "override_pars = dict(\n",
    "    t_echo=s4_echo_time,\n",
    "    n_echo=s4_echo_count,\n",
    "    n_scans=s4_scan_count,\n",
    "    n_samples=64,\n",
    "    t_dw=1e-6, # using a long dwell time for narrow bandwith to more easily see the spectrum shape\n",
    "    t_end=0.5\n",
    ")\n",
    "\n",
    "# create dashboard app\n",
    "section4_app = CPMGApp(\n",
    "    override_pars=override_pars,\n",
    "    enable_run_loop=True,\n",
    "    show_magnitude=True\n",
    ")\n",
    "\n",
    "# display layout\n",
    "pn.Column(\n",
    "    pn.Row(s4_echo_time, s4_echo_count, s4_scan_count),\n",
    "    section4_app.main(),\n",
    "    sizing_mode='stretch_width'\n",
    ")"
   ]
  },
  {
   "cell_type": "code",
   "execution_count": null,
   "id": "23cc7e0f-52e8-4303-b209-61953cd52187",
   "metadata": {},
   "outputs": [],
   "source": []
  }
 ],
 "metadata": {
  "kernelspec": {
   "display_name": "Python 3 (ipykernel)",
   "language": "python",
   "name": "python3"
  },
  "language_info": {
   "codemirror_mode": {
    "name": "ipython",
    "version": 3
   },
   "file_extension": ".py",
   "mimetype": "text/x-python",
   "name": "python",
   "nbconvert_exporter": "python",
   "pygments_lexer": "ipython3",
   "version": "3.10.7"
  },
  "widgets": {
   "application/vnd.jupyter.widget-state+json": {
    "state": {},
    "version_major": 2,
    "version_minor": 0
   }
  }
 },
 "nbformat": 4,
 "nbformat_minor": 5
}
