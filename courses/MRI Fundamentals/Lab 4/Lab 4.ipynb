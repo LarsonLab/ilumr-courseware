{
 "cells": [
  {
   "cell_type": "markdown",
   "id": "3f82a4d9-36ac-4355-9dec-5fdccf60211c",
   "metadata": {},
   "source": [
    "# **LAB FOUR: RELAXATION AND CONTRAST**\n",
    "\n",
    "This lab covers..."
   ]
  },
  {
   "cell_type": "markdown",
   "id": "373eb6d3-5017-4373-88a4-15faedd68241",
   "metadata": {},
   "source": [
    "Background\n",
    "\n",
    "- Reintroduction of net magnetization vector\n",
    "- T1 relaxation\n",
    "- T2 relaxation\n",
    "- intro to contrast imaging \n",
    "\n",
    "TR\n",
    "\n",
    "- Background: introduce TR\n",
    "- Phantoms: Phantom with three segments - two different T1 value components and an empty segment\n",
    "- Exp: 2D RARE exp that measures the signal in three regions and plots the signal from these regions on the dot plot as TR is changed. This will show the noise and relaxation curves for the two materials and empty space. \n",
    "- Questions: What TR value maximises CNR? How are SNR and experiment time affected?\n",
    "\n",
    "TE\n",
    "\n",
    "- Background: introduce TE\n",
    "- Phantoms: Phantom with three segments - two different T2 value components and an empty segment\n",
    "- Exp: 2D RARE exp that measures the signal in three regions and plots the signal from these regions on the dot plot as TE is changed. This will show the noise and relaxation curves for the two materials and empty space. \n",
    "- Questions: What TE value maximises CNR? How are SNR and experiment time affected? \n",
    "\n",
    "Contrast Imaging\n",
    "\n",
    "- Background: How imaging is used to highlight specific regions based on known T1 and T2 values. Introduce the concept of proton, T1 and T2 weighted images and have table for TR and TE selection based on T1, T2 values. \n",
    "- Phantoms: Contrast image with shapes that only show up on either T1 or T2 weighted images \n",
    "- Exp: 2D RARE experiment with adjustable TR and TE. Different image weighting based on table of T1,T2 values. \n",
    "- Questions: optimise parameters to maximise contrast of each hidden shape and record TR/TE values and resulting images.\n",
    "\n",
    "References:\n",
    "- https://mriquestions.com/image-contrast-trte.html\n",
    "- https://mriquestions.com/fse-parameters.html"
   ]
  },
  {
   "cell_type": "markdown",
   "id": "5c032817-f3ee-471a-ac42-fa95b2bf896a",
   "metadata": {},
   "source": [
    ">-------------------------------------------------------------------------------------------------------------------------------------------------------\n",
    "> #### **Setup Task: Run the Notebook**\n",
    "> \n",
    "> 1. Edit the cell below to set the `LAB_USER_NAME` variable to your name\n",
    "> 2. Click **Run->Run All Cells** in the in top menu bar of jupyterlab\n",
    "> 3. Open the Table of Contents side-bar on the left edge of jupyterlab to aid in navigation\n",
    "> \n",
    "> -------------------------------------------------------------------------------------------------------------------------------------------------------"
   ]
  },
  {
   "cell_type": "code",
   "execution_count": null,
   "id": "16f05f60-40d9-4bec-8261-c48c94802a07",
   "metadata": {},
   "outputs": [],
   "source": [
    "LAB_USER_NAME = 'REPLACE_ME'"
   ]
  },
  {
   "cell_type": "markdown",
   "id": "70b86f3b-239d-4b41-9233-498dbbc9f362",
   "metadata": {},
   "source": [
    "**Important**: To initialise this notebook, edit the cell above to set `LAB_USER_NAME` to your name, then click **Run->Run All Cells** in the top menu bar."
   ]
  },
  {
   "cell_type": "code",
   "execution_count": null,
   "id": "179ea1b4-60c9-4514-8c4c-e78271824085",
   "metadata": {
    "tags": []
   },
   "outputs": [],
   "source": [
    "import panel as pn\n",
    "import sys\n",
    "import os\n",
    "import yaml\n",
    "import numpy as np\n",
    "\n",
    "from matipo import Sequence, SEQUENCE_DIR, GLOBALS_DIR, DATA_DIR\n",
    "from matipo.experiment import BaseExperiment # load before pn.extension() for stylesheet changes on panel < 1.0\n",
    "from matipo.experiment.plot import SignalPlot, SpectrumPlot\n",
    "\n",
    "pn.extension()\n",
    "\n",
    "LAB_DIR = os.path.join(DATA_DIR, LAB_USER_NAME)\n",
    "os.makedirs(LAB_DIR, exist_ok=True)\n",
    "print('Data will be saved to', LAB_DIR)"
   ]
  },
  {
   "cell_type": "markdown",
   "id": "246017a5-e44f-4b07-a54c-fc014bbf2633",
   "metadata": {
    "tags": []
   },
   "source": [
    "## 1. Background\n",
    "Since the mechanisms of relaxation occur on the quantum level, it is important to recap how individual spins contribute to the net magnetization vector. \n",
    "\n",
    "Taking an averaged sum of all the quantum spins' magnetic moments ( $\\vec\\mu$) results in a vector that describes the net direction and magnitude of these spins - this is called the Net Magnetization Vector ($\\vec M$). When placed in the magnetic field ($\\vec B_0$), not all the spins will align with the field, but at thermal equilibrium their net value ($\\vec M$) will align. This causes a precession around $\\vec B_0$ as described in Lab One. When we add energy to the system, using the oscillating magnetic field $\\vec B_1$, the tip angle of $\\vec M$ can be changed. \n",
    "\n",
    "IMAGE: Directly after a 90 pulse Mz is close to 0 and Mxy is at its maximum. \n",
    "\n",
    "**Relaxation** is the process of $\\vec M$ returning back to its thermal equilibrium state in alignment with $\\vec B_0$.\n",
    "\n",
    "In order to better express the different types of relaxation, $\\vec M$ is split into two components: the longitudinal component ($\\vec M_z$) and the transverse component ($\\vec M_{xy}$). Each of these components undergo relaxation at different rates and through different mechanisms.\n",
    "\n",
    "### 1.1. Longitudinal (T1) Relaxation\n",
    "Longitudinal relaxation is caused by a transfer of energy from the spin system to the external environment. Directly after a 90 degree pulse, energy has been transferred into the spin system and the longitudinal component ($\\vec M_z$) is close to zero  As the spin system loses this energy and returns to thermal equilibrium, the longitudinal component ($\\vec M_z$) regrows (Fig.x). This energy transfer is not spontaneous, however. To add energy to the spin system, $\\vec B_1$ must oscillate at the Larmor frequency. Similarly, energy emissions must be stimulated by a transverse magnetic field fluctuating near the Larmour frequency. These feild fluctuations occur due to molecular motion of nearby nuclei or electrons. The rate at which spins encounter fields fluctuating at the frequency needed for energy transfer is highly dependendent on the molecular structure of the material or tissue being measured, resulting in a wide range of longitudinal relaxation times across different materials. The time constant that describes the longitudinal relaxation time is T1. Fig.x shows this relaxation after a 90 pulse. \n",
    "\n",
    "$$M_z(t) = M_0 \\cdot (1-e^{-t/T_1})$$\n",
    "\n",
    "\n",
    "TODO: Something about T1 relaxation being field dependent. Higher fields require higher frequency motion to stimulate emission. Less likely to occur so relaxation time is usually longer at higher field. \n",
    "\n",
    "TODO: more complex nature of T1 relaxation when a 90 pulse occurs before equilibrium has been reached. \n",
    "\n",
    "### 1.2. Transverse (T2) Relaxation\n",
    "Transverse relaxation is caused by the dephasing of the individual magnetic moments. As phase coherence is lost, the transverse component ($\\vec M_{xy}$) returns to zero (Fig.x). Transverse relaxation occurs more rapidly than longitudinal relaxation. The energy emissions that cause longitudinal relaxation randomly change the direction and phase of a magnetic moment resulting in dephasing in the transverse plane. However, dephasing can occur without energy transfer into the environment. \n",
    "\n",
    "TODO: List the main ways that this can occur so students can research them later. Introduce T2* and talk about which dephasing affects are reversable and which are not. Introduce T2 time constant. Talk about how T2 is largely field independent.  \n",
    "\n",
    "$$M_{xy}(t) = M_{xy}(0) \\cdot e^{-t/T_2}$$\n",
    "\n",
    "### 1.3. Contrast Imaging \n",
    "The relaxation properties can be used to create contrast between different components in an image. This contrast can be controlled by looking at how the relaxation properties interact with the adjustable parameters of the pulse sequences. What are the main types of pulse sequences that will be explored in this lab? Some sort of overview of what we are working with. "
   ]
  },
  {
   "cell_type": "markdown",
   "id": "854d9b83-bba0-4a7d-9f52-4c095e2ba2e8",
   "metadata": {},
   "source": [
    "## 2. TR"
   ]
  },
  {
   "cell_type": "markdown",
   "id": "bc3214c8-49e0-4fb6-8b87-28611c93f75b",
   "metadata": {},
   "source": [
    "> -------------------------------------------------------------------------------------------------------------------------------------------------------\n",
    "> #### **Task 2:**\n",
    "> 1. Step one\n",
    "> -------------------------------------------------------------------------------------------------------------------------------------------------------"
   ]
  },
  {
   "cell_type": "code",
   "execution_count": null,
   "id": "e3dbb847-9173-4406-a522-87f25bd4c203",
   "metadata": {
    "tags": []
   },
   "outputs": [],
   "source": [
    "# import importlib\n",
    "# import multi_dot_plot\n",
    "# importlib.reload(multi_dot_plot)\n",
    "\n",
    "from bokeh.palettes import Viridis\n",
    "from ROI_stats_image_plot import ROIStatsImagePlot\n",
    "from multi_dot_plot import MultiDotPlot\n",
    "from matipo.util.plots import PLOT_COLORS\n",
    "\n",
    "from matipo.util.decimation import decimate\n",
    "from matipo.util.fft import fft_reconstruction\n",
    "from matipo.util.etl import deinterlace\n",
    "\n",
    "class VariableTRImageExperiment(BaseExperiment):\n",
    "    seq = Sequence('TR_TE_RARE.py')\n",
    "    enable_runloop=True\n",
    "    enable_partialplot=True\n",
    "    plots = {\n",
    "        'image': ROIStatsImagePlot(figure_opts=dict(\n",
    "            title=\"Spiders\"),color_palette=PLOT_COLORS),\n",
    "        'roi_history': MultiDotPlot(figure_opts=dict(\n",
    "            title=\"Amplitude vs TR History\",\n",
    "            x_axis_label='Rep. Time (s)',\n",
    "            y_axis_label='Amplitude')\n",
    "            ,color_palette=PLOT_COLORS)\n",
    "    }\n",
    "\n",
    "    data_history = {\n",
    "        'TR': [],\n",
    "        'Amp_1': [],\n",
    "        'Amp_2': [],\n",
    "        'Amp_3': [],\n",
    "        #'Amp_4': []\n",
    "    }\n",
    "    \n",
    "    roi=dict(\n",
    "        center_x=[0,2,5],\n",
    "        center_y=[0,2,4],\n",
    "        radius=[1,0.5,2]\n",
    "    )\n",
    "    \n",
    "    DECIMATION = 4\n",
    "    FOV = 15\n",
    "\n",
    "    def update_par(self):\n",
    "        #TODO calculate parameters for correct FOV\n",
    "        self.seq.loadpar(os.path.join(GLOBALS_DIR, 'frequency.yaml'))\n",
    "        self.seq.loadpar(os.path.join(GLOBALS_DIR, 'hardpulse_90.yaml'))\n",
    "        self.seq.loadpar(os.path.join(GLOBALS_DIR, 'hardpulse_180.yaml'))\n",
    "        self.seq.setpar(\n",
    "            t_rep = t_rep.value,\n",
    "            n_scans=2,\n",
    "\n",
    "            n_ETL=16,\n",
    "\n",
    "            # for 2D, just use phase_2 and set n_phase_1 to 1 with no gradient\n",
    "            n_phase_1=1,\n",
    "            g_phase_1=(0,0,0),\n",
    "\n",
    "            # 64 phase steps\n",
    "            n_phase_2=64,\n",
    "            g_phase_2=(0, 1.0, 0),\n",
    "\n",
    "            t_dw=4e-6,\n",
    "            n_samples=64*self.DECIMATION,\n",
    "            g_read=(0.6, 0, 0),\n",
    "            \n",
    "            enable_dummy_run=True\n",
    "        )\n",
    "        # set calculated read gradient pulse duration\n",
    "        self.seq.setpar(t_read=self.seq.par.t_dw*self.seq.par.n_samples)\n",
    "        # set phase  pulse duration so that the area is half the read pulse area\n",
    "        self.seq.setpar(t_phase=np.abs(np.linalg.norm(self.seq.par.g_read)/np.linalg.norm(self.seq.par.g_phase_2))*self.seq.par.t_read/2)\n",
    "        # set minimum t_echo\n",
    "        self.seq.setpar(t_echo=self.seq.par.t_180 + 4*self.seq.par.t_grad_ramp + 2*self.seq.par.t_phase + self.seq.par.t_read + 2*1e-7)\n",
    "        \n",
    "    async def update_plots(self):\n",
    "        data = await self.seq.fetch_data()\n",
    "        kdata = decimate(\n",
    "            deinterlace(data, self.seq.par.n_ETL, self.seq.par.n_phase_1, self.seq.par.n_phase_2, self.seq.par.n_samples), \n",
    "            self.DECIMATION, axis=1)\n",
    "        self.plots['image'].update(kdata, self.FOV, self.roi['center_x'], self.roi['center_y'], self.roi['radius'])\n",
    "        if self.progress.value == self.progress.max:\n",
    "            self.data_history['TR'].append(self.seq.par.t_rep)\n",
    "            self.data_history['Amp_1'].append(self.plots['image'].roi_mean[0])\n",
    "            self.data_history['Amp_2'].append(self.plots['image'].roi_mean[1])\n",
    "            self.data_history['Amp_3'].append(self.plots['image'].roi_mean[2])\n",
    "            #self.data_history['Amp_4'].append(self.plots['image'].roi_mean[3])\n",
    "            self.plots['roi_history'].update(dict(\n",
    "                Amp_1 = dict(x=self.data_history['TR'],y= self.data_history['Amp_1']),\n",
    "                Amp_2 = dict(x=self.data_history['TR'],y= self.data_history['Amp_2']),\n",
    "                Amp_3 = dict(x=self.data_history['TR'],y= self.data_history['Amp_3']),\n",
    "                #Amp_4 = dict(x=self.data_history['TR'],y= self.data_history['Amp_4'])\n",
    "            ))\n",
    "            \n",
    "t_rep = pn.widgets.FloatInput(name='Rep. Time (s)', value=0.5, start=0.01, step=0.01, width=200)\n",
    "exp = VariableTRImageExperiment()\n",
    "pn.Column(t_rep,exp(), sizing_mode=\"stretch_both\").servable()"
   ]
  },
  {
   "cell_type": "markdown",
   "id": "9a1e2b85-9bb6-4040-949a-f6b7b9091a31",
   "metadata": {},
   "source": [
    "## 3. TE"
   ]
  },
  {
   "cell_type": "code",
   "execution_count": null,
   "id": "3130972f-c26d-4cd8-a649-81653e6d4bb9",
   "metadata": {},
   "outputs": [],
   "source": []
  }
 ],
 "metadata": {
  "kernelspec": {
   "display_name": "Python 3 (ipykernel)",
   "language": "python",
   "name": "python3"
  },
  "language_info": {
   "codemirror_mode": {
    "name": "ipython",
    "version": 3
   },
   "file_extension": ".py",
   "mimetype": "text/x-python",
   "name": "python",
   "nbconvert_exporter": "python",
   "pygments_lexer": "ipython3",
   "version": "3.10.7"
  }
 },
 "nbformat": 4,
 "nbformat_minor": 5
}
