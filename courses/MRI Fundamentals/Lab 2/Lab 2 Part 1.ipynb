{
 "cells": [
  {
   "cell_type": "code",
   "execution_count": null,
   "id": "16f05f60-40d9-4bec-8261-c48c94802a07",
   "metadata": {},
   "outputs": [],
   "source": [
    "LAB_USER_NAME = 'DEMO'"
   ]
  },
  {
   "cell_type": "markdown",
   "id": "70b86f3b-239d-4b41-9233-498dbbc9f362",
   "metadata": {},
   "source": [
    "**Important**: To initialise this notebook, edit the cell above to set `LAB_USER_NAME` to your name, then click **Run->Run All Cells** in the top menu bar."
   ]
  },
  {
   "cell_type": "code",
   "execution_count": null,
   "id": "179ea1b4-60c9-4514-8c4c-e78271824085",
   "metadata": {
    "tags": []
   },
   "outputs": [],
   "source": [
    "import panel as pn\n",
    "pn.extension()\n",
    "import sys\n",
    "import os\n",
    "\n",
    "# add inline dashboard libraries to path so they can be imported later\n",
    "sys.path.append('../../../dashboards-inline')\n",
    "\n",
    "LAB_DIR = os.path.join('/home/data/', LAB_USER_NAME)\n",
    "os.makedirs(LAB_DIR, exist_ok=True)\n",
    "print('User data directory:', LAB_DIR)"
   ]
  },
  {
   "cell_type": "markdown",
   "id": "f3709752-65bf-4721-99de-4fced7aa1ee6",
   "metadata": {
    "tags": []
   },
   "source": [
    "### Lab 2 structure:\n",
    "\n",
    "#### After this lab, the student should have learned (optimistically):\n",
    "- How the precession frequency at different locations is affected during a magnetic field gradient\n",
    "<details><summary>Explanation</summary>\n",
    "    The precession frequency will have an offset proportional to the coordinate along the gradient axis\n",
    "</details>\n",
    "- How the precession phase at different locations is affected after a gradient pulse\n",
    "<details><summary>Explanation</summary>\n",
    "    The precession phase will be shifted by an amount proportional to the area under the gradient pulse and the coordinate along the gradient axis\n",
    "</details>\n",
    "- How frequency encoding allows position to be measured\n",
    "<details><summary>Explanation</summary>\n",
    "    By taking the fourier transform of the signal acquired with a gradient active, the coordinate along gradient axis can be calculated from the frequency offset and gradient amplitude\n",
    "</details>\n",
    "- How phase encoding allows position to be measured\n",
    "<details><summary>Explanation</summary>\n",
    "    Applying a gradient pulse before acquisition allows measuring a single spatial frequency.\n",
    "    Doing this multiple times with different gradient areas allows measuring a range of spatial frequencies, which can be used to reconstruct the image with a fourier transform.\n",
    "</details>\n",
    "- How the k-space spectrum relates to the image\n",
    "<details><summary>Explanation</summary>\n",
    "    K-space is the fourier transform of cartesian coordinate space. Coordinates in k-space are spatial frequencies, and the value at a coordinate tells you how well the image matches a sinewave with that wavelength (inverse of spatial frequency) and direction.\n",
    "</details>\n",
    "- How the k-space coordinate of a discrete signal sample is determined from the gradient pulse sequence\n",
    "<details><summary>Explanation</summary>\n",
    "    Each k-space coordinate of a sample is proportional to the area under the gradient applied along that coordinate axis between the excitation (RF 90 pulse) and the acquisition of that sample.\n",
    "</details>\n",
    "- What (in k-space, and in the pulse sequence) determines the field of view/zoom of the image\n",
    "<details><summary>Explanation</summary>\n",
    "    Field of View is determined by the spacing between samples in k-space, which is determined by the difference in area under the gradient pulses of two successive samples.\n",
    "    A larger spacing results in a smaller field of view.\n",
    "    For frequency encoding the k-space spacing is the gradient amplitude multiplied by the dwell time, and for phase encoding it is the gradient step size multiplied by the phase gradient duration.\n",
    "</details>\n",
    "- What (in k-space, and in the pulse sequence) determines the spatial resolution of the image\n",
    "<details><summary>Explanation</summary>\n",
    "    Spatial resolution is determined by the extent of the k-space spectrum. \n",
    "    Sampling a larger region of k-space results in a smaller (in meters, i.e. better) spatial resolution. \n",
    "    For frequency encoding the size of k-space is the gradient amplitude multiplied by the total acquisition time, and for phase encoding it is the area under the maximum gradient pulse.\n",
    "</details>\n",
    "\n",
    "#### Diagrams:\n",
    "1. SE with constant shim gradient\n",
    "2. SE with frequency encode gradient\n",
    "3. SE with phase and frequency encode gradients\n",
    "4. SE with RF soft pulse and constant shim gradient\n",
    "5. Full slice 2D SE\n",
    "\n",
    "#### Samples:\n",
    "1. Uniform sample (shim sample)\n",
    "2. Single thin layer sample\n",
    "3. 1D Z phantom with multiple alternating layers of plastic and water (e.g. 5 plastic, 4 water, height: 20mm plenty of plastic padding above and below to exclude surrounding water)\n",
    "4. XY phantom with two vertical water cylinders in plastic\n",
    "5. 2D projection XY phantom with some shape\n",
    "6. Slice phantom?\n",
    "\n",
    "#### Experiments\n",
    "1. Full acquisition spin echo with adjustable x,y,z shims.\n",
    "2. 1D Z SE with frequency encode. Allow altering the gradient strength and observing the resulting signal and spectrum.\n",
    "3. 2D XY SE with X frequency encode, Y phase encode. Allow adjusting X and Y gradient strengths. \n",
    "4. Full acquisition spin echo with adjustable width soft pulse and adjustable x,y,z shims.\n",
    "5. 2D SE with slicing\n",
    "\n",
    "#### Steps:\n",
    "1. See how X, Y, Z shims alter the spin echo signal and spectrum, with uniform sample and 1D Z phantom\n",
    "2. Run 1D SE experiment\n",
    "3. Run a 2D XY SE with X frequency encode, Y phase encode.\n",
    "    - Allow adjusting X and Y gradient strengths and number of samples/steps. Display Y gradient step size.\n",
    "    - Display k-space and the image, updating after every acquisition so they can see how the image looks as k-space is built up.\n",
    "    - Fix the kx,ky,x,y axes so they can see the size of the k-space sampling area and the image FOV changing\n",
    "4. \n"
   ]
  },
  {
   "cell_type": "code",
   "execution_count": null,
   "id": "8ea0043a-338f-4236-8af5-75113fa57e13",
   "metadata": {},
   "outputs": [],
   "source": [
    "# Experiment 1: Full acquisition SE with constant shim\n",
    "# load global shims file\n",
    "import yaml\n",
    "from matipo import GLOBALS_DIR\n",
    "SHIM_ORDER = ['shim_x', 'shim_y', 'shim_z']\n",
    "SHIM_FILE = os.path.join(GLOBALS_DIR, 'shims.yaml')\n",
    "\n",
    "with open(SHIM_FILE, 'r') as f:\n",
    "    SHIM_INIT = yaml.safe_load(f)\n",
    "\n",
    "# create shim inputs, using saved user shims as initial values\n",
    "shim_inputs = {}\n",
    "for shim_key in SHIM_ORDER:\n",
    "    shim_name = shim_key.split('_')[-1].upper()\n",
    "    shim_inputs[shim_key] = pn.widgets.FloatInput(name=shim_name+' shim', start=-1, end=1, step=0.01, value=round(SHIM_INIT[shim_key], 2), width=80)\n",
    "\n",
    "# button to reset shim inputs to the saved values\n",
    "reset_btn = pn.widgets.Button(name='Reset', button_type='primary', align='end', width=100)\n",
    "\n",
    "def reset_shim_inputs(e):\n",
    "    for shim_key in SHIM_ORDER:\n",
    "        shim_inputs[shim_key].value = round(SHIM_INIT[shim_key], 2)\n",
    "\n",
    "reset_btn.on_click(reset_shim_inputs)\n",
    "    \n",
    "from full_acq_SE import FullAcqSEApp # from dashboards-inline directory that was added to sys.path\n",
    "# set some parameters directly\n",
    "override_pars = dict(\n",
    "    t_echo=0.01,\n",
    "    n_scans=1,\n",
    "    n_samples=1500,\n",
    "    t_dw=10e-6, # using a long dwell time for narrow bandwith to more easily see the spectrum shape\n",
    "    t_end=0.2\n",
    ")\n",
    "\n",
    "# add shim inputs\n",
    "override_pars.update(shim_inputs)\n",
    "\n",
    "# create dashboard app\n",
    "exp1_app = FullAcqSEApp(\n",
    "    override_pars=override_pars,\n",
    "    show_magnitude=True,\n",
    "    show_complex=True,\n",
    "    enable_run_loop=True\n",
    ")\n",
    "\n",
    "# display layout\n",
    "pn.Column(\n",
    "    # echo_time,\n",
    "    pn.Row(*([shim_inputs[shim_key] for shim_key in SHIM_ORDER]+[reset_btn])), # take shim inputs in order and concatenate reset button\n",
    "    exp1_app.main(),\n",
    "    sizing_mode='stretch_width'\n",
    ")"
   ]
  },
  {
   "cell_type": "markdown",
   "id": "bb53d816-6046-4ad8-a592-ce304e365667",
   "metadata": {},
   "source": [
    "**NOTE**: Check phase stability on old system, new system it's jittery, maybe issue with new gradient DAC/amps"
   ]
  },
  {
   "cell_type": "markdown",
   "id": "b73adaa5-4d14-4a2f-ac49-24dcaf498447",
   "metadata": {},
   "source": [
    "1. Insert the thin layer sample\n",
    "2. Reset shims and start experiment with \"Run Loop\"\n",
    "3. Zoom in on the echo signal (from 6us to 14us)\n",
    "4. Move the sample up and down. Q: What happens to the signal when it is moved too far from the centre?\n",
    "5. Return the sample to roughly the centre (where the signal returns to full amplitude)\n",
    "6. Increase the Z shim to its limit (1.0, or -1.0). Q: How does the signal shape change when the shim is offset?\n",
    "7. Move the sample up and down a small amount, so that the magnitude is not significantly affected. Q: What happens to the signal frequency?\n",
    "8. Click abort to stop the experiment before moving on"
   ]
  },
  {
   "cell_type": "code",
   "execution_count": null,
   "id": "a6ba3073-97e5-436a-91fa-46aff37eb172",
   "metadata": {
    "tags": []
   },
   "outputs": [],
   "source": [
    "# Experiment 2: SE with adjustable Z read gradient showing signal and spectrum of echo\n",
    "# read gradient input\n",
    "read_z_grad = pn.widgets.FloatInput(name='Read Z Gradient', start=-1, end=1, step=0.01, value=0, width=200)\n",
    "\n",
    "# TODO: oversample and use decimation before taking the FFT for flat filter profile\n",
    "from SE import SEApp # from dashboards-inline directory that was added to sys.path\n",
    "# set some parameters directly\n",
    "override_pars = dict(\n",
    "    g_read=lambda: (0, 0, read_z_grad.value),\n",
    "    t_echo=0.012,\n",
    "    n_scans=1,\n",
    "    n_samples=1000,\n",
    "    t_dw=10e-6, # using a long dwell time for narrow bandwith to more easily see the spectrum shape\n",
    "    t_end=0.2\n",
    ")\n",
    "\n",
    "# create dashboard app\n",
    "exp2_app = SEApp(\n",
    "    override_pars=override_pars,\n",
    "    show_magnitude=True,\n",
    "    show_complex=False,\n",
    "    enable_run_loop=True\n",
    ")\n",
    "\n",
    "# display layout\n",
    "pn.Column(\n",
    "    read_z_grad,\n",
    "    exp2_app.main(),\n",
    "    sizing_mode='stretch_width'\n",
    ")"
   ]
  },
  {
   "cell_type": "markdown",
   "id": "9419da1f-eb19-4996-8b4b-e66f603e333b",
   "metadata": {},
   "source": [
    "1. With the thin layer sample still inserted, start the experiment with \"Run Loop\"\n",
    "2. Increase the gradient to 0.25 (TODO: calibrate and use mT/m).\n",
    "3. Move the sample up and down again, and see how the spectrum changes. Q: Does this match your observations in the previous experiment?\n",
    "4. Inspect the 1D Z phantom and, based on your observations with the thin layer sample, draw a rough plot of the spectrum you would expect to see when it is inserted.\n",
    "5. Insert the 1D Z phantom (centred with the depth guage). Q: Does the spectrum look as you expected?\n",
    "6. Adjust the gradient strength down to 0 and up to 0.5, how the spectrum image change? Q: Comparing the image with 0.25 gradient and 0.5 gradient: Which has a larger field of view (FOV)? Which has better signal-to-noise ratio (SNR)? Which has better spatial resolution?\n",
    "\n",
    "TODO: Maybe have a box with quick explanations of FOV/SNR/spatial resolution (not pixel resolution)"
   ]
  },
  {
   "cell_type": "code",
   "execution_count": null,
   "id": "df137828-34e1-4ae3-8ad7-552c64606077",
   "metadata": {},
   "outputs": [],
   "source": [
    "# # Experiment 3: 2D SE with adjustable X read gradient and Y phase gradient showing kspace and image\n",
    "# read_x_grad = pn.widgets.FloatInput(name='Read X Gradient', start=-1, end=1, step=0.01, value=0, width=200)\n",
    "# samples = pn.widgets.IntInput(name='Read Samples', start=1, end=200, step=1, value=32, width=200)\n",
    "# dwell_time = pn.widgets.IntInput(name='Dwell Time (us)', start=1, end=80, step=1, value=10, width=200)\n",
    "# phase_y_grad = pn.widgets.FloatInput(name='Phase Y Gradient', start=-1, end=1, step=0.01, value=0, width=200)\n",
    "# phase_steps = pn.widgets.IntInput(name='Phase Steps', start=1, end=200, step=1, value=32, width=200)\n",
    "\n",
    "# # TODO: oversample and use decimation before taking the FFT for flat filter profile\n",
    "# from SE2D import SE2DApp # from dashboards-inline directory that was added to sys.path\n",
    "# # set some parameters directly\n",
    "# override_pars = dict(\n",
    "#     g_read=lambda: (read_x_grad.value, 0, 0),\n",
    "#     g_phase=lambda: (0, phase_y_grad.value, 0),\n",
    "#     t_echo=0.012,\n",
    "#     n_scans=1,\n",
    "#     n_samples=samples,\n",
    "#     t_dw=lambda: 1e-6*dwelltime.value,\n",
    "#     t_end=0.5\n",
    "# )\n",
    "\n",
    "# # display layout\n",
    "# pn.Column(\n",
    "#     pn.Row(read_x_grad, samples, dwell_time),\n",
    "#     pn.Row(phase_y_grad, phase_steps),\n",
    "#     # exp2_app.main(),\n",
    "#     sizing_mode='stretch_width'\n",
    "# )"
   ]
  },
  {
   "cell_type": "code",
   "execution_count": null,
   "id": "2210c00f-35a8-4598-82da-6bee6466b077",
   "metadata": {},
   "outputs": [],
   "source": [
    "# Experiment ?: Full acquisition SE with sinc RF pulses and adjustable X/Y/Z shims"
   ]
  },
  {
   "cell_type": "code",
   "execution_count": null,
   "id": "a893a6a0-a482-4c89-a069-d6d92f83e848",
   "metadata": {},
   "outputs": [],
   "source": [
    "# Experiment ?: 2D SE with slicing"
   ]
  },
  {
   "cell_type": "markdown",
   "id": "c54a9b01-2745-49d5-b1be-fbd7ee6d6328",
   "metadata": {},
   "source": []
  },
  {
   "cell_type": "code",
   "execution_count": null,
   "id": "f4a77073-c10d-491b-9de3-980119b98ac5",
   "metadata": {},
   "outputs": [],
   "source": []
  }
 ],
 "metadata": {
  "kernelspec": {
   "display_name": "Python 3 (ipykernel)",
   "language": "python",
   "name": "python3"
  },
  "language_info": {
   "codemirror_mode": {
    "name": "ipython",
    "version": 3
   },
   "file_extension": ".py",
   "mimetype": "text/x-python",
   "name": "python",
   "nbconvert_exporter": "python",
   "pygments_lexer": "ipython3",
   "version": "3.10.7"
  },
  "widgets": {
   "application/vnd.jupyter.widget-state+json": {
    "state": {},
    "version_major": 2,
    "version_minor": 0
   }
  }
 },
 "nbformat": 4,
 "nbformat_minor": 5
}
